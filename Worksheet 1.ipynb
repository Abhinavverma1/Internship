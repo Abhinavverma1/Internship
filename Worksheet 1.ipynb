{
 "cells": [
  {
   "cell_type": "markdown",
   "id": "a2140382",
   "metadata": {},
   "source": [
    "# Python worksheet 1 answer\n"
   ]
  },
  {
   "cell_type": "code",
   "execution_count": 1,
   "id": "f15b96c2",
   "metadata": {},
   "outputs": [],
   "source": [
    "#Answer 11-\n",
    "import math"
   ]
  },
  {
   "cell_type": "code",
   "execution_count": null,
   "id": "2360260f",
   "metadata": {},
   "outputs": [],
   "source": [
    "\n",
    "num =int(input(\"Enter any number:\"))\n",
    "\n",
    "fact= math.factorial(num)\n",
    "print(\"the factorial of %d = %d\"%(num,fact))"
   ]
  },
  {
   "cell_type": "markdown",
   "id": "4fed5b2a",
   "metadata": {},
   "source": [
    "# answer 12"
   ]
  },
  {
   "cell_type": "code",
   "execution_count": 2,
   "id": "ee232e00",
   "metadata": {},
   "outputs": [
    {
     "name": "stdout",
     "output_type": "stream",
     "text": [
      "12 is a composite number\n"
     ]
    }
   ],
   "source": [
    "number = 12;\n",
    "count = 0;\n",
    "\n",
    "for i in range(1, number+1):\n",
    "    if(number % i == 0):\n",
    "        count += 1;\n",
    "\n",
    "if(count > 2):\n",
    "   print(\"%d is a composite number\" % number)\n",
    "else:\n",
    "   print(\"%d is not a composite number\" % number)"
   ]
  },
  {
   "cell_type": "markdown",
   "id": "fd773588",
   "metadata": {},
   "source": [
    "# answer 13"
   ]
  },
  {
   "cell_type": "code",
   "execution_count": null,
   "id": "4fff92f0",
   "metadata": {},
   "outputs": [],
   "source": [
    "string = input(\"Please enter your own String : \")\n",
    "\n",
    "if(string == string[:: - 1]):\n",
    "   print(\"This is a Palindrome String\")\n",
    "else:\n",
    "   print(\"This is Not a Palindrome String\")"
   ]
  },
  {
   "cell_type": "markdown",
   "id": "64ae4de3",
   "metadata": {},
   "source": [
    "# answer 14"
   ]
  },
  {
   "cell_type": "code",
   "execution_count": 2,
   "id": "297f67b2",
   "metadata": {},
   "outputs": [
    {
     "name": "stdout",
     "output_type": "stream",
     "text": [
      "Hypotenuse = 5.0\n",
      "Adjacent = 4.0\n",
      "Opposite = 3.0\n",
      "You know the answer!\n"
     ]
    }
   ],
   "source": [
    "def pythagoras(opposite_side,adjacent_side,hypotenuse):\n",
    "        if opposite_side == str(\"x\"):\n",
    "            return (\"Opposite = \" + str(((hypotenuse**2) - (adjacent_side**2))**0.5))\n",
    "        elif adjacent_side == str(\"x\"):\n",
    "            return (\"Adjacent = \" + str(((hypotenuse**2) - (opposite_side**2))**0.5))\n",
    "        elif hypotenuse == str(\"x\"):\n",
    "            return (\"Hypotenuse = \" + str(((opposite_side**2) + (adjacent_side**2))**0.5))\n",
    "        else:\n",
    "            return \"You know the answer!\"\n",
    "    \n",
    "print(pythagoras(3,4,'x'))\n",
    "print(pythagoras(3,'x',5))\n",
    "print(pythagoras('x',4,5))\n",
    "print(pythagoras(3,4,5))"
   ]
  },
  {
   "cell_type": "markdown",
   "id": "acc0bb5a",
   "metadata": {},
   "source": [
    "# answer 15"
   ]
  },
  {
   "cell_type": "code",
   "execution_count": 13,
   "id": "7b87e9c6",
   "metadata": {},
   "outputs": [
    {
     "ename": "SyntaxError",
     "evalue": "invalid syntax (<ipython-input-13-099f02132cc7>, line 7)",
     "output_type": "error",
     "traceback": [
      "\u001b[1;36m  File \u001b[1;32m\"<ipython-input-13-099f02132cc7>\"\u001b[1;36m, line \u001b[1;32m7\u001b[0m\n\u001b[1;33m    else:\u001b[0m\n\u001b[1;37m    ^\u001b[0m\n\u001b[1;31mSyntaxError\u001b[0m\u001b[1;31m:\u001b[0m invalid syntax\n"
     ]
    }
   ],
   "source": [
    "string =\"ilovedelhi\"\n",
    "all_freq = {}\n",
    "\n",
    "for i in string:\n",
    "    if i in all_freq:\n",
    "        all_freq[i] += 1\n",
    "        else:\n",
    "            all_freq[i] = 1\n",
    "        print(\"count of all character in i love delhi is :/n \" + str(all_freq))"
   ]
  },
  {
   "cell_type": "code",
   "execution_count": null,
   "id": "be03c0af",
   "metadata": {},
   "outputs": [],
   "source": []
  },
  {
   "cell_type": "code",
   "execution_count": null,
   "id": "bbc911f6",
   "metadata": {},
   "outputs": [],
   "source": []
  },
  {
   "cell_type": "code",
   "execution_count": null,
   "id": "5794bec9",
   "metadata": {},
   "outputs": [],
   "source": []
  },
  {
   "cell_type": "code",
   "execution_count": null,
   "id": "eebf532b",
   "metadata": {},
   "outputs": [],
   "source": []
  },
  {
   "cell_type": "code",
   "execution_count": null,
   "id": "4501235b",
   "metadata": {},
   "outputs": [],
   "source": []
  },
  {
   "cell_type": "code",
   "execution_count": null,
   "id": "10232ec3",
   "metadata": {},
   "outputs": [],
   "source": []
  },
  {
   "cell_type": "code",
   "execution_count": null,
   "id": "5b0dc29d",
   "metadata": {},
   "outputs": [],
   "source": []
  },
  {
   "cell_type": "code",
   "execution_count": null,
   "id": "161deff6",
   "metadata": {},
   "outputs": [],
   "source": []
  },
  {
   "cell_type": "code",
   "execution_count": null,
   "id": "c9b5c4d9",
   "metadata": {},
   "outputs": [],
   "source": []
  },
  {
   "cell_type": "code",
   "execution_count": null,
   "id": "2e9d2270",
   "metadata": {},
   "outputs": [],
   "source": []
  },
  {
   "cell_type": "code",
   "execution_count": null,
   "id": "7f1e1791",
   "metadata": {},
   "outputs": [],
   "source": []
  }
 ],
 "metadata": {
  "kernelspec": {
   "display_name": "Python 3",
   "language": "python",
   "name": "python3"
  },
  "language_info": {
   "codemirror_mode": {
    "name": "ipython",
    "version": 3
   },
   "file_extension": ".py",
   "mimetype": "text/x-python",
   "name": "python",
   "nbconvert_exporter": "python",
   "pygments_lexer": "ipython3",
   "version": "3.8.8"
  }
 },
 "nbformat": 4,
 "nbformat_minor": 5
}
