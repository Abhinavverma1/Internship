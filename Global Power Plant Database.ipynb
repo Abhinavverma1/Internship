{
 "cells": [
  {
   "cell_type": "code",
   "execution_count": 59,
   "id": "fdf50220",
   "metadata": {},
   "outputs": [],
   "source": [
    "import pandas as pd\n",
    "import numpy as np\n",
    "import matplotlib.pyplot as plt\n",
    "%matplotlib inline\n",
    "import seaborn as sns\n",
    "from sklearn.preprocessing import LabelEncoder\n",
    "from sklearn.model_selection import train_test_split\n",
    "from sklearn.preprocessing import StandardScaler\n",
    "from sklearn.linear_model import LogisticRegression\n",
    "from sklearn.neighbors import KNeighborsClassifier\n",
    "from sklearn.tree import DecisionTreeClassifier\n",
    "from sklearn.ensemble import RandomForestClassifier\n",
    "from sklearn.ensemble import AdaBoostClassifier\n",
    "from sklearn.svm import SVC\n",
    "from sklearn.ensemble import GradientBoostingClassifier\n",
    "from sklearn.metrics import accuracy_score,confusion_matrix,classification_report\n",
    "import warnings \n",
    "warnings.filterwarnings('ignore')\n",
    "from sklearn.naive_bayes import GaussianNB\n",
    "import statsmodels.api as sma\n",
    "from statsmodels.stats.outliers_influence import variance_inflation_factor\n",
    "from sklearn.model_selection import cross_val_score\n",
    "from sklearn.ensemble import RandomForestRegressor\n",
    "from sklearn.metrics import r2_score\n",
    "from sklearn.metrics import mean_squared_error\n",
    "from sklearn.metrics import mean_absolute_error\n",
    "from sklearn.model_selection import GridSearchCV"
   ]
  },
  {
   "cell_type": "code",
   "execution_count": 2,
   "id": "81a7fcd4",
   "metadata": {},
   "outputs": [],
   "source": [
    "#Importing the data set\n",
    "df = pd.read_csv(\"https://raw.githubusercontent.com/wri/global-power-plant-database/master/source_databases_csv/database_IND.csv\")"
   ]
  },
  {
   "cell_type": "code",
   "execution_count": 3,
   "id": "5c896c40",
   "metadata": {},
   "outputs": [
    {
     "data": {
      "text/html": [
       "<div>\n",
       "<style scoped>\n",
       "    .dataframe tbody tr th:only-of-type {\n",
       "        vertical-align: middle;\n",
       "    }\n",
       "\n",
       "    .dataframe tbody tr th {\n",
       "        vertical-align: top;\n",
       "    }\n",
       "\n",
       "    .dataframe thead th {\n",
       "        text-align: right;\n",
       "    }\n",
       "</style>\n",
       "<table border=\"1\" class=\"dataframe\">\n",
       "  <thead>\n",
       "    <tr style=\"text-align: right;\">\n",
       "      <th></th>\n",
       "      <th>country</th>\n",
       "      <th>country_long</th>\n",
       "      <th>name</th>\n",
       "      <th>gppd_idnr</th>\n",
       "      <th>capacity_mw</th>\n",
       "      <th>latitude</th>\n",
       "      <th>longitude</th>\n",
       "      <th>primary_fuel</th>\n",
       "      <th>other_fuel1</th>\n",
       "      <th>other_fuel2</th>\n",
       "      <th>...</th>\n",
       "      <th>year_of_capacity_data</th>\n",
       "      <th>generation_gwh_2013</th>\n",
       "      <th>generation_gwh_2014</th>\n",
       "      <th>generation_gwh_2015</th>\n",
       "      <th>generation_gwh_2016</th>\n",
       "      <th>generation_gwh_2017</th>\n",
       "      <th>generation_gwh_2018</th>\n",
       "      <th>generation_gwh_2019</th>\n",
       "      <th>generation_data_source</th>\n",
       "      <th>estimated_generation_gwh</th>\n",
       "    </tr>\n",
       "  </thead>\n",
       "  <tbody>\n",
       "    <tr>\n",
       "      <th>0</th>\n",
       "      <td>IND</td>\n",
       "      <td>India</td>\n",
       "      <td>ACME Solar Tower</td>\n",
       "      <td>WRI1020239</td>\n",
       "      <td>2.5</td>\n",
       "      <td>28.1839</td>\n",
       "      <td>73.2407</td>\n",
       "      <td>Solar</td>\n",
       "      <td>NaN</td>\n",
       "      <td>NaN</td>\n",
       "      <td>...</td>\n",
       "      <td>NaN</td>\n",
       "      <td>NaN</td>\n",
       "      <td>NaN</td>\n",
       "      <td>NaN</td>\n",
       "      <td>NaN</td>\n",
       "      <td>NaN</td>\n",
       "      <td>NaN</td>\n",
       "      <td>NaN</td>\n",
       "      <td>NaN</td>\n",
       "      <td>NaN</td>\n",
       "    </tr>\n",
       "    <tr>\n",
       "      <th>1</th>\n",
       "      <td>IND</td>\n",
       "      <td>India</td>\n",
       "      <td>ADITYA CEMENT WORKS</td>\n",
       "      <td>WRI1019881</td>\n",
       "      <td>98.0</td>\n",
       "      <td>24.7663</td>\n",
       "      <td>74.6090</td>\n",
       "      <td>Coal</td>\n",
       "      <td>NaN</td>\n",
       "      <td>NaN</td>\n",
       "      <td>...</td>\n",
       "      <td>NaN</td>\n",
       "      <td>NaN</td>\n",
       "      <td>NaN</td>\n",
       "      <td>NaN</td>\n",
       "      <td>NaN</td>\n",
       "      <td>NaN</td>\n",
       "      <td>NaN</td>\n",
       "      <td>NaN</td>\n",
       "      <td>NaN</td>\n",
       "      <td>NaN</td>\n",
       "    </tr>\n",
       "    <tr>\n",
       "      <th>2</th>\n",
       "      <td>IND</td>\n",
       "      <td>India</td>\n",
       "      <td>AES Saurashtra Windfarms</td>\n",
       "      <td>WRI1026669</td>\n",
       "      <td>39.2</td>\n",
       "      <td>21.9038</td>\n",
       "      <td>69.3732</td>\n",
       "      <td>Wind</td>\n",
       "      <td>NaN</td>\n",
       "      <td>NaN</td>\n",
       "      <td>...</td>\n",
       "      <td>NaN</td>\n",
       "      <td>NaN</td>\n",
       "      <td>NaN</td>\n",
       "      <td>NaN</td>\n",
       "      <td>NaN</td>\n",
       "      <td>NaN</td>\n",
       "      <td>NaN</td>\n",
       "      <td>NaN</td>\n",
       "      <td>NaN</td>\n",
       "      <td>NaN</td>\n",
       "    </tr>\n",
       "    <tr>\n",
       "      <th>3</th>\n",
       "      <td>IND</td>\n",
       "      <td>India</td>\n",
       "      <td>AGARTALA GT</td>\n",
       "      <td>IND0000001</td>\n",
       "      <td>135.0</td>\n",
       "      <td>23.8712</td>\n",
       "      <td>91.3602</td>\n",
       "      <td>Gas</td>\n",
       "      <td>NaN</td>\n",
       "      <td>NaN</td>\n",
       "      <td>...</td>\n",
       "      <td>2019.0</td>\n",
       "      <td>NaN</td>\n",
       "      <td>617.789264</td>\n",
       "      <td>843.7470</td>\n",
       "      <td>886.004428</td>\n",
       "      <td>663.774500</td>\n",
       "      <td>626.239128</td>\n",
       "      <td>NaN</td>\n",
       "      <td>Central Electricity Authority</td>\n",
       "      <td>NaN</td>\n",
       "    </tr>\n",
       "    <tr>\n",
       "      <th>4</th>\n",
       "      <td>IND</td>\n",
       "      <td>India</td>\n",
       "      <td>AKALTARA TPP</td>\n",
       "      <td>IND0000002</td>\n",
       "      <td>1800.0</td>\n",
       "      <td>21.9603</td>\n",
       "      <td>82.4091</td>\n",
       "      <td>Coal</td>\n",
       "      <td>Oil</td>\n",
       "      <td>NaN</td>\n",
       "      <td>...</td>\n",
       "      <td>2019.0</td>\n",
       "      <td>NaN</td>\n",
       "      <td>3035.550000</td>\n",
       "      <td>5916.3700</td>\n",
       "      <td>6243.000000</td>\n",
       "      <td>5385.579736</td>\n",
       "      <td>7279.000000</td>\n",
       "      <td>NaN</td>\n",
       "      <td>Central Electricity Authority</td>\n",
       "      <td>NaN</td>\n",
       "    </tr>\n",
       "    <tr>\n",
       "      <th>5</th>\n",
       "      <td>IND</td>\n",
       "      <td>India</td>\n",
       "      <td>AKRIMOTA LIG</td>\n",
       "      <td>IND0000003</td>\n",
       "      <td>250.0</td>\n",
       "      <td>23.7689</td>\n",
       "      <td>68.6447</td>\n",
       "      <td>Coal</td>\n",
       "      <td>Oil</td>\n",
       "      <td>NaN</td>\n",
       "      <td>...</td>\n",
       "      <td>2019.0</td>\n",
       "      <td>NaN</td>\n",
       "      <td>1153.421000</td>\n",
       "      <td>1208.8520</td>\n",
       "      <td>1175.765000</td>\n",
       "      <td>1147.913000</td>\n",
       "      <td>976.655000</td>\n",
       "      <td>NaN</td>\n",
       "      <td>Central Electricity Authority</td>\n",
       "      <td>NaN</td>\n",
       "    </tr>\n",
       "    <tr>\n",
       "      <th>6</th>\n",
       "      <td>IND</td>\n",
       "      <td>India</td>\n",
       "      <td>ALIYAR</td>\n",
       "      <td>IND0000004</td>\n",
       "      <td>60.0</td>\n",
       "      <td>10.4547</td>\n",
       "      <td>77.0078</td>\n",
       "      <td>Hydro</td>\n",
       "      <td>NaN</td>\n",
       "      <td>NaN</td>\n",
       "      <td>...</td>\n",
       "      <td>2019.0</td>\n",
       "      <td>NaN</td>\n",
       "      <td>157.558250</td>\n",
       "      <td>152.1952</td>\n",
       "      <td>61.421350</td>\n",
       "      <td>89.629600</td>\n",
       "      <td>48.327150</td>\n",
       "      <td>NaN</td>\n",
       "      <td>Central Electricity Authority</td>\n",
       "      <td>NaN</td>\n",
       "    </tr>\n",
       "    <tr>\n",
       "      <th>7</th>\n",
       "      <td>IND</td>\n",
       "      <td>India</td>\n",
       "      <td>ALLAIN DUHANGAN</td>\n",
       "      <td>IND0000005</td>\n",
       "      <td>192.0</td>\n",
       "      <td>32.2258</td>\n",
       "      <td>77.2070</td>\n",
       "      <td>Hydro</td>\n",
       "      <td>NaN</td>\n",
       "      <td>NaN</td>\n",
       "      <td>...</td>\n",
       "      <td>2019.0</td>\n",
       "      <td>NaN</td>\n",
       "      <td>674.391100</td>\n",
       "      <td>721.3352</td>\n",
       "      <td>675.724400</td>\n",
       "      <td>679.594950</td>\n",
       "      <td>579.318850</td>\n",
       "      <td>NaN</td>\n",
       "      <td>Central Electricity Authority</td>\n",
       "      <td>NaN</td>\n",
       "    </tr>\n",
       "    <tr>\n",
       "      <th>8</th>\n",
       "      <td>IND</td>\n",
       "      <td>India</td>\n",
       "      <td>ALMATTI DAM</td>\n",
       "      <td>IND0000006</td>\n",
       "      <td>290.0</td>\n",
       "      <td>16.3300</td>\n",
       "      <td>75.8863</td>\n",
       "      <td>Hydro</td>\n",
       "      <td>NaN</td>\n",
       "      <td>NaN</td>\n",
       "      <td>...</td>\n",
       "      <td>2019.0</td>\n",
       "      <td>NaN</td>\n",
       "      <td>480.594950</td>\n",
       "      <td>144.4342</td>\n",
       "      <td>402.029750</td>\n",
       "      <td>439.372100</td>\n",
       "      <td>406.377900</td>\n",
       "      <td>NaN</td>\n",
       "      <td>Central Electricity Authority</td>\n",
       "      <td>NaN</td>\n",
       "    </tr>\n",
       "    <tr>\n",
       "      <th>9</th>\n",
       "      <td>IND</td>\n",
       "      <td>India</td>\n",
       "      <td>AMAR KANTAK</td>\n",
       "      <td>IND0000007</td>\n",
       "      <td>210.0</td>\n",
       "      <td>23.1642</td>\n",
       "      <td>81.6373</td>\n",
       "      <td>Coal</td>\n",
       "      <td>Oil</td>\n",
       "      <td>NaN</td>\n",
       "      <td>...</td>\n",
       "      <td>2019.0</td>\n",
       "      <td>NaN</td>\n",
       "      <td>1887.904000</td>\n",
       "      <td>1643.0460</td>\n",
       "      <td>1338.093000</td>\n",
       "      <td>1563.457000</td>\n",
       "      <td>1487.880000</td>\n",
       "      <td>NaN</td>\n",
       "      <td>Central Electricity Authority</td>\n",
       "      <td>NaN</td>\n",
       "    </tr>\n",
       "  </tbody>\n",
       "</table>\n",
       "<p>10 rows × 27 columns</p>\n",
       "</div>"
      ],
      "text/plain": [
       "  country country_long                      name   gppd_idnr  capacity_mw  \\\n",
       "0     IND        India          ACME Solar Tower  WRI1020239          2.5   \n",
       "1     IND        India       ADITYA CEMENT WORKS  WRI1019881         98.0   \n",
       "2     IND        India  AES Saurashtra Windfarms  WRI1026669         39.2   \n",
       "3     IND        India               AGARTALA GT  IND0000001        135.0   \n",
       "4     IND        India              AKALTARA TPP  IND0000002       1800.0   \n",
       "5     IND        India              AKRIMOTA LIG  IND0000003        250.0   \n",
       "6     IND        India                    ALIYAR  IND0000004         60.0   \n",
       "7     IND        India           ALLAIN DUHANGAN  IND0000005        192.0   \n",
       "8     IND        India               ALMATTI DAM  IND0000006        290.0   \n",
       "9     IND        India               AMAR KANTAK  IND0000007        210.0   \n",
       "\n",
       "   latitude  longitude primary_fuel other_fuel1 other_fuel2  ...  \\\n",
       "0   28.1839    73.2407        Solar         NaN         NaN  ...   \n",
       "1   24.7663    74.6090         Coal         NaN         NaN  ...   \n",
       "2   21.9038    69.3732         Wind         NaN         NaN  ...   \n",
       "3   23.8712    91.3602          Gas         NaN         NaN  ...   \n",
       "4   21.9603    82.4091         Coal         Oil         NaN  ...   \n",
       "5   23.7689    68.6447         Coal         Oil         NaN  ...   \n",
       "6   10.4547    77.0078        Hydro         NaN         NaN  ...   \n",
       "7   32.2258    77.2070        Hydro         NaN         NaN  ...   \n",
       "8   16.3300    75.8863        Hydro         NaN         NaN  ...   \n",
       "9   23.1642    81.6373         Coal         Oil         NaN  ...   \n",
       "\n",
       "   year_of_capacity_data  generation_gwh_2013 generation_gwh_2014  \\\n",
       "0                    NaN                  NaN                 NaN   \n",
       "1                    NaN                  NaN                 NaN   \n",
       "2                    NaN                  NaN                 NaN   \n",
       "3                 2019.0                  NaN          617.789264   \n",
       "4                 2019.0                  NaN         3035.550000   \n",
       "5                 2019.0                  NaN         1153.421000   \n",
       "6                 2019.0                  NaN          157.558250   \n",
       "7                 2019.0                  NaN          674.391100   \n",
       "8                 2019.0                  NaN          480.594950   \n",
       "9                 2019.0                  NaN         1887.904000   \n",
       "\n",
       "  generation_gwh_2015 generation_gwh_2016 generation_gwh_2017  \\\n",
       "0                 NaN                 NaN                 NaN   \n",
       "1                 NaN                 NaN                 NaN   \n",
       "2                 NaN                 NaN                 NaN   \n",
       "3            843.7470          886.004428          663.774500   \n",
       "4           5916.3700         6243.000000         5385.579736   \n",
       "5           1208.8520         1175.765000         1147.913000   \n",
       "6            152.1952           61.421350           89.629600   \n",
       "7            721.3352          675.724400          679.594950   \n",
       "8            144.4342          402.029750          439.372100   \n",
       "9           1643.0460         1338.093000         1563.457000   \n",
       "\n",
       "   generation_gwh_2018  generation_gwh_2019         generation_data_source  \\\n",
       "0                  NaN                  NaN                            NaN   \n",
       "1                  NaN                  NaN                            NaN   \n",
       "2                  NaN                  NaN                            NaN   \n",
       "3           626.239128                  NaN  Central Electricity Authority   \n",
       "4          7279.000000                  NaN  Central Electricity Authority   \n",
       "5           976.655000                  NaN  Central Electricity Authority   \n",
       "6            48.327150                  NaN  Central Electricity Authority   \n",
       "7           579.318850                  NaN  Central Electricity Authority   \n",
       "8           406.377900                  NaN  Central Electricity Authority   \n",
       "9          1487.880000                  NaN  Central Electricity Authority   \n",
       "\n",
       "   estimated_generation_gwh  \n",
       "0                       NaN  \n",
       "1                       NaN  \n",
       "2                       NaN  \n",
       "3                       NaN  \n",
       "4                       NaN  \n",
       "5                       NaN  \n",
       "6                       NaN  \n",
       "7                       NaN  \n",
       "8                       NaN  \n",
       "9                       NaN  \n",
       "\n",
       "[10 rows x 27 columns]"
      ]
     },
     "execution_count": 3,
     "metadata": {},
     "output_type": "execute_result"
    }
   ],
   "source": [
    "df.head(10)"
   ]
  },
  {
   "cell_type": "code",
   "execution_count": null,
   "id": "caf12c94",
   "metadata": {},
   "outputs": [],
   "source": []
  },
  {
   "cell_type": "code",
   "execution_count": 4,
   "id": "95e65fe0",
   "metadata": {},
   "outputs": [
    {
     "data": {
      "text/plain": [
       "(907, 27)"
      ]
     },
     "execution_count": 4,
     "metadata": {},
     "output_type": "execute_result"
    }
   ],
   "source": [
    "df.shape"
   ]
  },
  {
   "cell_type": "code",
   "execution_count": 5,
   "id": "220e431f",
   "metadata": {},
   "outputs": [
    {
     "data": {
      "text/plain": [
       "country                       0\n",
       "country_long                  0\n",
       "name                          0\n",
       "gppd_idnr                     0\n",
       "capacity_mw                   0\n",
       "latitude                     46\n",
       "longitude                    46\n",
       "primary_fuel                  0\n",
       "other_fuel1                 709\n",
       "other_fuel2                 906\n",
       "other_fuel3                 907\n",
       "commissioning_year          380\n",
       "owner                       565\n",
       "source                        0\n",
       "url                           0\n",
       "geolocation_source           19\n",
       "wepp_id                     907\n",
       "year_of_capacity_data       388\n",
       "generation_gwh_2013         907\n",
       "generation_gwh_2014         509\n",
       "generation_gwh_2015         485\n",
       "generation_gwh_2016         473\n",
       "generation_gwh_2017         467\n",
       "generation_gwh_2018         459\n",
       "generation_gwh_2019         907\n",
       "generation_data_source      458\n",
       "estimated_generation_gwh    907\n",
       "dtype: int64"
      ]
     },
     "execution_count": 5,
     "metadata": {},
     "output_type": "execute_result"
    }
   ],
   "source": [
    "# Checking the null values\n",
    "df.isnull().sum()"
   ]
  },
  {
   "cell_type": "markdown",
   "id": "e0185508",
   "metadata": {},
   "source": [
    "We have many null values in the dataset, which we need to fill before proceeding."
   ]
  },
  {
   "cell_type": "code",
   "execution_count": 7,
   "id": "35427a1a",
   "metadata": {},
   "outputs": [],
   "source": [
    "# filling the null values\n",
    "df['geolocation_source'].fillna(df['geolocation_source'].mode()[0], inplace=True)"
   ]
  },
  {
   "cell_type": "code",
   "execution_count": 8,
   "id": "fb2c1b16",
   "metadata": {},
   "outputs": [],
   "source": [
    "# filling null values with median in numerical columns\n",
    "df.fillna(df.median()[0], inplace=True)"
   ]
  },
  {
   "cell_type": "code",
   "execution_count": 9,
   "id": "f0d30c8e",
   "metadata": {},
   "outputs": [
    {
     "data": {
      "text/plain": [
       "country                     0\n",
       "country_long                0\n",
       "name                        0\n",
       "gppd_idnr                   0\n",
       "capacity_mw                 0\n",
       "latitude                    0\n",
       "longitude                   0\n",
       "primary_fuel                0\n",
       "other_fuel1                 0\n",
       "other_fuel2                 0\n",
       "other_fuel3                 0\n",
       "commissioning_year          0\n",
       "owner                       0\n",
       "source                      0\n",
       "url                         0\n",
       "geolocation_source          0\n",
       "wepp_id                     0\n",
       "year_of_capacity_data       0\n",
       "generation_gwh_2013         0\n",
       "generation_gwh_2014         0\n",
       "generation_gwh_2015         0\n",
       "generation_gwh_2016         0\n",
       "generation_gwh_2017         0\n",
       "generation_gwh_2018         0\n",
       "generation_gwh_2019         0\n",
       "generation_data_source      0\n",
       "estimated_generation_gwh    0\n",
       "dtype: int64"
      ]
     },
     "execution_count": 9,
     "metadata": {},
     "output_type": "execute_result"
    }
   ],
   "source": [
    "# Rechecking the null values\n",
    "df.isnull().sum()"
   ]
  },
  {
   "cell_type": "code",
   "execution_count": 10,
   "id": "7d1eed64",
   "metadata": {},
   "outputs": [
    {
     "data": {
      "text/plain": [
       "country                       1\n",
       "country_long                  1\n",
       "name                        907\n",
       "gppd_idnr                   907\n",
       "capacity_mw                 361\n",
       "latitude                    837\n",
       "longitude                   828\n",
       "primary_fuel                  8\n",
       "other_fuel1                   4\n",
       "other_fuel2                   2\n",
       "other_fuel3                   1\n",
       "commissioning_year           74\n",
       "owner                       281\n",
       "source                      191\n",
       "url                         304\n",
       "geolocation_source            3\n",
       "wepp_id                       1\n",
       "year_of_capacity_data         2\n",
       "generation_gwh_2013           1\n",
       "generation_gwh_2014         372\n",
       "generation_gwh_2015         397\n",
       "generation_gwh_2016         404\n",
       "generation_gwh_2017         409\n",
       "generation_gwh_2018         411\n",
       "generation_gwh_2019           1\n",
       "generation_data_source        2\n",
       "estimated_generation_gwh      1\n",
       "dtype: int64"
      ]
     },
     "execution_count": 10,
     "metadata": {},
     "output_type": "execute_result"
    }
   ],
   "source": [
    "# Checking the unique values\n",
    "df.nunique()"
   ]
  },
  {
   "cell_type": "code",
   "execution_count": 11,
   "id": "f1924def",
   "metadata": {},
   "outputs": [
    {
     "data": {
      "text/html": [
       "<div>\n",
       "<style scoped>\n",
       "    .dataframe tbody tr th:only-of-type {\n",
       "        vertical-align: middle;\n",
       "    }\n",
       "\n",
       "    .dataframe tbody tr th {\n",
       "        vertical-align: top;\n",
       "    }\n",
       "\n",
       "    .dataframe thead th {\n",
       "        text-align: right;\n",
       "    }\n",
       "</style>\n",
       "<table border=\"1\" class=\"dataframe\">\n",
       "  <thead>\n",
       "    <tr style=\"text-align: right;\">\n",
       "      <th></th>\n",
       "      <th>capacity_mw</th>\n",
       "      <th>latitude</th>\n",
       "      <th>longitude</th>\n",
       "      <th>other_fuel3</th>\n",
       "      <th>commissioning_year</th>\n",
       "      <th>wepp_id</th>\n",
       "      <th>year_of_capacity_data</th>\n",
       "      <th>generation_gwh_2013</th>\n",
       "      <th>generation_gwh_2014</th>\n",
       "      <th>generation_gwh_2015</th>\n",
       "      <th>generation_gwh_2016</th>\n",
       "      <th>generation_gwh_2017</th>\n",
       "      <th>generation_gwh_2018</th>\n",
       "      <th>generation_gwh_2019</th>\n",
       "      <th>estimated_generation_gwh</th>\n",
       "    </tr>\n",
       "  </thead>\n",
       "  <tbody>\n",
       "    <tr>\n",
       "      <th>count</th>\n",
       "      <td>907.000000</td>\n",
       "      <td>907.000000</td>\n",
       "      <td>907.000000</td>\n",
       "      <td>9.070000e+02</td>\n",
       "      <td>907.000000</td>\n",
       "      <td>9.070000e+02</td>\n",
       "      <td>907.000000</td>\n",
       "      <td>9.070000e+02</td>\n",
       "      <td>907.000000</td>\n",
       "      <td>907.000000</td>\n",
       "      <td>907.000000</td>\n",
       "      <td>907.000000</td>\n",
       "      <td>907.000000</td>\n",
       "      <td>9.070000e+02</td>\n",
       "      <td>9.070000e+02</td>\n",
       "    </tr>\n",
       "    <tr>\n",
       "      <th>mean</th>\n",
       "      <td>326.223755</td>\n",
       "      <td>23.125256</td>\n",
       "      <td>76.538572</td>\n",
       "      <td>5.920000e+01</td>\n",
       "      <td>1185.185226</td>\n",
       "      <td>5.920000e+01</td>\n",
       "      <td>1180.629107</td>\n",
       "      <td>5.920000e+01</td>\n",
       "      <td>1100.329205</td>\n",
       "      <td>1161.437454</td>\n",
       "      <td>1211.781915</td>\n",
       "      <td>1266.439354</td>\n",
       "      <td>1314.589897</td>\n",
       "      <td>5.920000e+01</td>\n",
       "      <td>5.920000e+01</td>\n",
       "    </tr>\n",
       "    <tr>\n",
       "      <th>std</th>\n",
       "      <td>590.085456</td>\n",
       "      <td>10.322840</td>\n",
       "      <td>6.263960</td>\n",
       "      <td>8.246843e-13</td>\n",
       "      <td>956.750996</td>\n",
       "      <td>8.246843e-13</td>\n",
       "      <td>970.160420</td>\n",
       "      <td>8.246843e-13</td>\n",
       "      <td>2914.072352</td>\n",
       "      <td>3094.143089</td>\n",
       "      <td>3119.562531</td>\n",
       "      <td>3175.490873</td>\n",
       "      <td>3286.682207</td>\n",
       "      <td>8.246843e-13</td>\n",
       "      <td>8.246843e-13</td>\n",
       "    </tr>\n",
       "    <tr>\n",
       "      <th>min</th>\n",
       "      <td>0.000000</td>\n",
       "      <td>8.168900</td>\n",
       "      <td>59.200000</td>\n",
       "      <td>5.920000e+01</td>\n",
       "      <td>59.200000</td>\n",
       "      <td>5.920000e+01</td>\n",
       "      <td>59.200000</td>\n",
       "      <td>5.920000e+01</td>\n",
       "      <td>0.000000</td>\n",
       "      <td>0.000000</td>\n",
       "      <td>0.000000</td>\n",
       "      <td>0.000000</td>\n",
       "      <td>0.000000</td>\n",
       "      <td>5.920000e+01</td>\n",
       "      <td>5.920000e+01</td>\n",
       "    </tr>\n",
       "    <tr>\n",
       "      <th>25%</th>\n",
       "      <td>16.725000</td>\n",
       "      <td>17.072000</td>\n",
       "      <td>73.811550</td>\n",
       "      <td>5.920000e+01</td>\n",
       "      <td>59.200000</td>\n",
       "      <td>5.920000e+01</td>\n",
       "      <td>59.200000</td>\n",
       "      <td>5.920000e+01</td>\n",
       "      <td>59.200000</td>\n",
       "      <td>59.200000</td>\n",
       "      <td>59.200000</td>\n",
       "      <td>59.200000</td>\n",
       "      <td>59.200000</td>\n",
       "      <td>5.920000e+01</td>\n",
       "      <td>5.920000e+01</td>\n",
       "    </tr>\n",
       "    <tr>\n",
       "      <th>50%</th>\n",
       "      <td>59.200000</td>\n",
       "      <td>22.142100</td>\n",
       "      <td>76.493800</td>\n",
       "      <td>5.920000e+01</td>\n",
       "      <td>1978.000000</td>\n",
       "      <td>5.920000e+01</td>\n",
       "      <td>2019.000000</td>\n",
       "      <td>5.920000e+01</td>\n",
       "      <td>59.200000</td>\n",
       "      <td>59.200000</td>\n",
       "      <td>59.200000</td>\n",
       "      <td>59.200000</td>\n",
       "      <td>59.200000</td>\n",
       "      <td>5.920000e+01</td>\n",
       "      <td>5.920000e+01</td>\n",
       "    </tr>\n",
       "    <tr>\n",
       "      <th>75%</th>\n",
       "      <td>385.250000</td>\n",
       "      <td>26.753750</td>\n",
       "      <td>79.206100</td>\n",
       "      <td>5.920000e+01</td>\n",
       "      <td>2003.000000</td>\n",
       "      <td>5.920000e+01</td>\n",
       "      <td>2019.000000</td>\n",
       "      <td>5.920000e+01</td>\n",
       "      <td>556.562750</td>\n",
       "      <td>598.926350</td>\n",
       "      <td>670.039394</td>\n",
       "      <td>709.290725</td>\n",
       "      <td>687.754000</td>\n",
       "      <td>5.920000e+01</td>\n",
       "      <td>5.920000e+01</td>\n",
       "    </tr>\n",
       "    <tr>\n",
       "      <th>max</th>\n",
       "      <td>4760.000000</td>\n",
       "      <td>59.200000</td>\n",
       "      <td>95.408000</td>\n",
       "      <td>5.920000e+01</td>\n",
       "      <td>2018.000000</td>\n",
       "      <td>5.920000e+01</td>\n",
       "      <td>2019.000000</td>\n",
       "      <td>5.920000e+01</td>\n",
       "      <td>28127.000000</td>\n",
       "      <td>30539.000000</td>\n",
       "      <td>30015.000000</td>\n",
       "      <td>35116.000000</td>\n",
       "      <td>35136.000000</td>\n",
       "      <td>5.920000e+01</td>\n",
       "      <td>5.920000e+01</td>\n",
       "    </tr>\n",
       "  </tbody>\n",
       "</table>\n",
       "</div>"
      ],
      "text/plain": [
       "       capacity_mw    latitude   longitude   other_fuel3  commissioning_year  \\\n",
       "count   907.000000  907.000000  907.000000  9.070000e+02          907.000000   \n",
       "mean    326.223755   23.125256   76.538572  5.920000e+01         1185.185226   \n",
       "std     590.085456   10.322840    6.263960  8.246843e-13          956.750996   \n",
       "min       0.000000    8.168900   59.200000  5.920000e+01           59.200000   \n",
       "25%      16.725000   17.072000   73.811550  5.920000e+01           59.200000   \n",
       "50%      59.200000   22.142100   76.493800  5.920000e+01         1978.000000   \n",
       "75%     385.250000   26.753750   79.206100  5.920000e+01         2003.000000   \n",
       "max    4760.000000   59.200000   95.408000  5.920000e+01         2018.000000   \n",
       "\n",
       "            wepp_id  year_of_capacity_data  generation_gwh_2013  \\\n",
       "count  9.070000e+02             907.000000         9.070000e+02   \n",
       "mean   5.920000e+01            1180.629107         5.920000e+01   \n",
       "std    8.246843e-13             970.160420         8.246843e-13   \n",
       "min    5.920000e+01              59.200000         5.920000e+01   \n",
       "25%    5.920000e+01              59.200000         5.920000e+01   \n",
       "50%    5.920000e+01            2019.000000         5.920000e+01   \n",
       "75%    5.920000e+01            2019.000000         5.920000e+01   \n",
       "max    5.920000e+01            2019.000000         5.920000e+01   \n",
       "\n",
       "       generation_gwh_2014  generation_gwh_2015  generation_gwh_2016  \\\n",
       "count           907.000000           907.000000           907.000000   \n",
       "mean           1100.329205          1161.437454          1211.781915   \n",
       "std            2914.072352          3094.143089          3119.562531   \n",
       "min               0.000000             0.000000             0.000000   \n",
       "25%              59.200000            59.200000            59.200000   \n",
       "50%              59.200000            59.200000            59.200000   \n",
       "75%             556.562750           598.926350           670.039394   \n",
       "max           28127.000000         30539.000000         30015.000000   \n",
       "\n",
       "       generation_gwh_2017  generation_gwh_2018  generation_gwh_2019  \\\n",
       "count           907.000000           907.000000         9.070000e+02   \n",
       "mean           1266.439354          1314.589897         5.920000e+01   \n",
       "std            3175.490873          3286.682207         8.246843e-13   \n",
       "min               0.000000             0.000000         5.920000e+01   \n",
       "25%              59.200000            59.200000         5.920000e+01   \n",
       "50%              59.200000            59.200000         5.920000e+01   \n",
       "75%             709.290725           687.754000         5.920000e+01   \n",
       "max           35116.000000         35136.000000         5.920000e+01   \n",
       "\n",
       "       estimated_generation_gwh  \n",
       "count              9.070000e+02  \n",
       "mean               5.920000e+01  \n",
       "std                8.246843e-13  \n",
       "min                5.920000e+01  \n",
       "25%                5.920000e+01  \n",
       "50%                5.920000e+01  \n",
       "75%                5.920000e+01  \n",
       "max                5.920000e+01  "
      ]
     },
     "execution_count": 11,
     "metadata": {},
     "output_type": "execute_result"
    }
   ],
   "source": [
    "# Statistical Summary\n",
    "df.describe()"
   ]
  },
  {
   "cell_type": "code",
   "execution_count": 12,
   "id": "84f62722",
   "metadata": {},
   "outputs": [],
   "source": [
    "# Dropping unrequired columns\n",
    "df.drop(['name','url','year_of_capacity_data', 'country','country_long','gppd_idnr','owner','generation_data_source'],axis=1,inplace=True)"
   ]
  },
  {
   "cell_type": "code",
   "execution_count": 13,
   "id": "a19a63d1",
   "metadata": {},
   "outputs": [],
   "source": [
    "from sklearn.preprocessing import LabelEncoder\n",
    "le = LabelEncoder()\n",
    "df['primary_fuel'] = le.fit_transform(df['primary_fuel'])\n",
    "df['geolocation_source'] = le.fit_transform(df['geolocation_source'])\n",
    "df['source'] = le.fit_transform(df['source'])"
   ]
  },
  {
   "cell_type": "code",
   "execution_count": 14,
   "id": "17309d95",
   "metadata": {},
   "outputs": [
    {
     "data": {
      "text/html": [
       "<div>\n",
       "<style scoped>\n",
       "    .dataframe tbody tr th:only-of-type {\n",
       "        vertical-align: middle;\n",
       "    }\n",
       "\n",
       "    .dataframe tbody tr th {\n",
       "        vertical-align: top;\n",
       "    }\n",
       "\n",
       "    .dataframe thead th {\n",
       "        text-align: right;\n",
       "    }\n",
       "</style>\n",
       "<table border=\"1\" class=\"dataframe\">\n",
       "  <thead>\n",
       "    <tr style=\"text-align: right;\">\n",
       "      <th></th>\n",
       "      <th>capacity_mw</th>\n",
       "      <th>latitude</th>\n",
       "      <th>longitude</th>\n",
       "      <th>primary_fuel</th>\n",
       "      <th>other_fuel1</th>\n",
       "      <th>other_fuel2</th>\n",
       "      <th>other_fuel3</th>\n",
       "      <th>commissioning_year</th>\n",
       "      <th>source</th>\n",
       "      <th>geolocation_source</th>\n",
       "      <th>wepp_id</th>\n",
       "      <th>generation_gwh_2013</th>\n",
       "      <th>generation_gwh_2014</th>\n",
       "      <th>generation_gwh_2015</th>\n",
       "      <th>generation_gwh_2016</th>\n",
       "      <th>generation_gwh_2017</th>\n",
       "      <th>generation_gwh_2018</th>\n",
       "      <th>generation_gwh_2019</th>\n",
       "      <th>estimated_generation_gwh</th>\n",
       "    </tr>\n",
       "  </thead>\n",
       "  <tbody>\n",
       "    <tr>\n",
       "      <th>0</th>\n",
       "      <td>2.5</td>\n",
       "      <td>28.1839</td>\n",
       "      <td>73.2407</td>\n",
       "      <td>6</td>\n",
       "      <td>59.2</td>\n",
       "      <td>59.2</td>\n",
       "      <td>59.2</td>\n",
       "      <td>2011.0</td>\n",
       "      <td>109</td>\n",
       "      <td>1</td>\n",
       "      <td>59.2</td>\n",
       "      <td>59.2</td>\n",
       "      <td>59.200000</td>\n",
       "      <td>59.200000</td>\n",
       "      <td>59.200000</td>\n",
       "      <td>59.200000</td>\n",
       "      <td>59.200000</td>\n",
       "      <td>59.2</td>\n",
       "      <td>59.2</td>\n",
       "    </tr>\n",
       "    <tr>\n",
       "      <th>1</th>\n",
       "      <td>98.0</td>\n",
       "      <td>24.7663</td>\n",
       "      <td>74.6090</td>\n",
       "      <td>1</td>\n",
       "      <td>59.2</td>\n",
       "      <td>59.2</td>\n",
       "      <td>59.2</td>\n",
       "      <td>59.2</td>\n",
       "      <td>174</td>\n",
       "      <td>2</td>\n",
       "      <td>59.2</td>\n",
       "      <td>59.2</td>\n",
       "      <td>59.200000</td>\n",
       "      <td>59.200000</td>\n",
       "      <td>59.200000</td>\n",
       "      <td>59.200000</td>\n",
       "      <td>59.200000</td>\n",
       "      <td>59.2</td>\n",
       "      <td>59.2</td>\n",
       "    </tr>\n",
       "    <tr>\n",
       "      <th>2</th>\n",
       "      <td>39.2</td>\n",
       "      <td>21.9038</td>\n",
       "      <td>69.3732</td>\n",
       "      <td>7</td>\n",
       "      <td>59.2</td>\n",
       "      <td>59.2</td>\n",
       "      <td>59.2</td>\n",
       "      <td>59.2</td>\n",
       "      <td>21</td>\n",
       "      <td>2</td>\n",
       "      <td>59.2</td>\n",
       "      <td>59.2</td>\n",
       "      <td>59.200000</td>\n",
       "      <td>59.200000</td>\n",
       "      <td>59.200000</td>\n",
       "      <td>59.200000</td>\n",
       "      <td>59.200000</td>\n",
       "      <td>59.2</td>\n",
       "      <td>59.2</td>\n",
       "    </tr>\n",
       "    <tr>\n",
       "      <th>3</th>\n",
       "      <td>135.0</td>\n",
       "      <td>23.8712</td>\n",
       "      <td>91.3602</td>\n",
       "      <td>2</td>\n",
       "      <td>59.2</td>\n",
       "      <td>59.2</td>\n",
       "      <td>59.2</td>\n",
       "      <td>2004.0</td>\n",
       "      <td>22</td>\n",
       "      <td>2</td>\n",
       "      <td>59.2</td>\n",
       "      <td>59.2</td>\n",
       "      <td>617.789264</td>\n",
       "      <td>843.747000</td>\n",
       "      <td>886.004428</td>\n",
       "      <td>663.774500</td>\n",
       "      <td>626.239128</td>\n",
       "      <td>59.2</td>\n",
       "      <td>59.2</td>\n",
       "    </tr>\n",
       "    <tr>\n",
       "      <th>4</th>\n",
       "      <td>1800.0</td>\n",
       "      <td>21.9603</td>\n",
       "      <td>82.4091</td>\n",
       "      <td>1</td>\n",
       "      <td>Oil</td>\n",
       "      <td>59.2</td>\n",
       "      <td>59.2</td>\n",
       "      <td>2015.0</td>\n",
       "      <td>22</td>\n",
       "      <td>2</td>\n",
       "      <td>59.2</td>\n",
       "      <td>59.2</td>\n",
       "      <td>3035.550000</td>\n",
       "      <td>5916.370000</td>\n",
       "      <td>6243.000000</td>\n",
       "      <td>5385.579736</td>\n",
       "      <td>7279.000000</td>\n",
       "      <td>59.2</td>\n",
       "      <td>59.2</td>\n",
       "    </tr>\n",
       "    <tr>\n",
       "      <th>...</th>\n",
       "      <td>...</td>\n",
       "      <td>...</td>\n",
       "      <td>...</td>\n",
       "      <td>...</td>\n",
       "      <td>...</td>\n",
       "      <td>...</td>\n",
       "      <td>...</td>\n",
       "      <td>...</td>\n",
       "      <td>...</td>\n",
       "      <td>...</td>\n",
       "      <td>...</td>\n",
       "      <td>...</td>\n",
       "      <td>...</td>\n",
       "      <td>...</td>\n",
       "      <td>...</td>\n",
       "      <td>...</td>\n",
       "      <td>...</td>\n",
       "      <td>...</td>\n",
       "      <td>...</td>\n",
       "    </tr>\n",
       "    <tr>\n",
       "      <th>902</th>\n",
       "      <td>1600.0</td>\n",
       "      <td>16.2949</td>\n",
       "      <td>77.3568</td>\n",
       "      <td>1</td>\n",
       "      <td>Oil</td>\n",
       "      <td>59.2</td>\n",
       "      <td>59.2</td>\n",
       "      <td>2016.0</td>\n",
       "      <td>22</td>\n",
       "      <td>2</td>\n",
       "      <td>59.2</td>\n",
       "      <td>59.2</td>\n",
       "      <td>59.200000</td>\n",
       "      <td>0.994875</td>\n",
       "      <td>233.596650</td>\n",
       "      <td>865.400000</td>\n",
       "      <td>686.500000</td>\n",
       "      <td>59.2</td>\n",
       "      <td>59.2</td>\n",
       "    </tr>\n",
       "    <tr>\n",
       "      <th>903</th>\n",
       "      <td>3.0</td>\n",
       "      <td>12.8932</td>\n",
       "      <td>78.1654</td>\n",
       "      <td>6</td>\n",
       "      <td>59.2</td>\n",
       "      <td>59.2</td>\n",
       "      <td>59.2</td>\n",
       "      <td>59.2</td>\n",
       "      <td>77</td>\n",
       "      <td>0</td>\n",
       "      <td>59.2</td>\n",
       "      <td>59.2</td>\n",
       "      <td>59.200000</td>\n",
       "      <td>59.200000</td>\n",
       "      <td>59.200000</td>\n",
       "      <td>59.200000</td>\n",
       "      <td>59.200000</td>\n",
       "      <td>59.2</td>\n",
       "      <td>59.2</td>\n",
       "    </tr>\n",
       "    <tr>\n",
       "      <th>904</th>\n",
       "      <td>25.5</td>\n",
       "      <td>15.2758</td>\n",
       "      <td>75.5811</td>\n",
       "      <td>7</td>\n",
       "      <td>59.2</td>\n",
       "      <td>59.2</td>\n",
       "      <td>59.2</td>\n",
       "      <td>59.2</td>\n",
       "      <td>21</td>\n",
       "      <td>2</td>\n",
       "      <td>59.2</td>\n",
       "      <td>59.2</td>\n",
       "      <td>59.200000</td>\n",
       "      <td>59.200000</td>\n",
       "      <td>59.200000</td>\n",
       "      <td>59.200000</td>\n",
       "      <td>59.200000</td>\n",
       "      <td>59.2</td>\n",
       "      <td>59.2</td>\n",
       "    </tr>\n",
       "    <tr>\n",
       "      <th>905</th>\n",
       "      <td>80.0</td>\n",
       "      <td>24.3500</td>\n",
       "      <td>73.7477</td>\n",
       "      <td>1</td>\n",
       "      <td>59.2</td>\n",
       "      <td>59.2</td>\n",
       "      <td>59.2</td>\n",
       "      <td>59.2</td>\n",
       "      <td>59</td>\n",
       "      <td>2</td>\n",
       "      <td>59.2</td>\n",
       "      <td>59.2</td>\n",
       "      <td>59.200000</td>\n",
       "      <td>59.200000</td>\n",
       "      <td>59.200000</td>\n",
       "      <td>59.200000</td>\n",
       "      <td>59.200000</td>\n",
       "      <td>59.2</td>\n",
       "      <td>59.2</td>\n",
       "    </tr>\n",
       "    <tr>\n",
       "      <th>906</th>\n",
       "      <td>16.5</td>\n",
       "      <td>9.9344</td>\n",
       "      <td>77.4768</td>\n",
       "      <td>7</td>\n",
       "      <td>59.2</td>\n",
       "      <td>59.2</td>\n",
       "      <td>59.2</td>\n",
       "      <td>59.2</td>\n",
       "      <td>21</td>\n",
       "      <td>2</td>\n",
       "      <td>59.2</td>\n",
       "      <td>59.2</td>\n",
       "      <td>59.200000</td>\n",
       "      <td>59.200000</td>\n",
       "      <td>59.200000</td>\n",
       "      <td>59.200000</td>\n",
       "      <td>59.200000</td>\n",
       "      <td>59.2</td>\n",
       "      <td>59.2</td>\n",
       "    </tr>\n",
       "  </tbody>\n",
       "</table>\n",
       "<p>907 rows × 19 columns</p>\n",
       "</div>"
      ],
      "text/plain": [
       "     capacity_mw  latitude  longitude  primary_fuel other_fuel1 other_fuel2  \\\n",
       "0            2.5   28.1839    73.2407             6        59.2        59.2   \n",
       "1           98.0   24.7663    74.6090             1        59.2        59.2   \n",
       "2           39.2   21.9038    69.3732             7        59.2        59.2   \n",
       "3          135.0   23.8712    91.3602             2        59.2        59.2   \n",
       "4         1800.0   21.9603    82.4091             1         Oil        59.2   \n",
       "..           ...       ...        ...           ...         ...         ...   \n",
       "902       1600.0   16.2949    77.3568             1         Oil        59.2   \n",
       "903          3.0   12.8932    78.1654             6        59.2        59.2   \n",
       "904         25.5   15.2758    75.5811             7        59.2        59.2   \n",
       "905         80.0   24.3500    73.7477             1        59.2        59.2   \n",
       "906         16.5    9.9344    77.4768             7        59.2        59.2   \n",
       "\n",
       "     other_fuel3  commissioning_year  source  geolocation_source  wepp_id  \\\n",
       "0           59.2              2011.0     109                   1     59.2   \n",
       "1           59.2                59.2     174                   2     59.2   \n",
       "2           59.2                59.2      21                   2     59.2   \n",
       "3           59.2              2004.0      22                   2     59.2   \n",
       "4           59.2              2015.0      22                   2     59.2   \n",
       "..           ...                 ...     ...                 ...      ...   \n",
       "902         59.2              2016.0      22                   2     59.2   \n",
       "903         59.2                59.2      77                   0     59.2   \n",
       "904         59.2                59.2      21                   2     59.2   \n",
       "905         59.2                59.2      59                   2     59.2   \n",
       "906         59.2                59.2      21                   2     59.2   \n",
       "\n",
       "     generation_gwh_2013  generation_gwh_2014  generation_gwh_2015  \\\n",
       "0                   59.2            59.200000            59.200000   \n",
       "1                   59.2            59.200000            59.200000   \n",
       "2                   59.2            59.200000            59.200000   \n",
       "3                   59.2           617.789264           843.747000   \n",
       "4                   59.2          3035.550000          5916.370000   \n",
       "..                   ...                  ...                  ...   \n",
       "902                 59.2            59.200000             0.994875   \n",
       "903                 59.2            59.200000            59.200000   \n",
       "904                 59.2            59.200000            59.200000   \n",
       "905                 59.2            59.200000            59.200000   \n",
       "906                 59.2            59.200000            59.200000   \n",
       "\n",
       "     generation_gwh_2016  generation_gwh_2017  generation_gwh_2018  \\\n",
       "0              59.200000            59.200000            59.200000   \n",
       "1              59.200000            59.200000            59.200000   \n",
       "2              59.200000            59.200000            59.200000   \n",
       "3             886.004428           663.774500           626.239128   \n",
       "4            6243.000000          5385.579736          7279.000000   \n",
       "..                   ...                  ...                  ...   \n",
       "902           233.596650           865.400000           686.500000   \n",
       "903            59.200000            59.200000            59.200000   \n",
       "904            59.200000            59.200000            59.200000   \n",
       "905            59.200000            59.200000            59.200000   \n",
       "906            59.200000            59.200000            59.200000   \n",
       "\n",
       "     generation_gwh_2019  estimated_generation_gwh  \n",
       "0                   59.2                      59.2  \n",
       "1                   59.2                      59.2  \n",
       "2                   59.2                      59.2  \n",
       "3                   59.2                      59.2  \n",
       "4                   59.2                      59.2  \n",
       "..                   ...                       ...  \n",
       "902                 59.2                      59.2  \n",
       "903                 59.2                      59.2  \n",
       "904                 59.2                      59.2  \n",
       "905                 59.2                      59.2  \n",
       "906                 59.2                      59.2  \n",
       "\n",
       "[907 rows x 19 columns]"
      ]
     },
     "execution_count": 14,
     "metadata": {},
     "output_type": "execute_result"
    }
   ],
   "source": [
    "df"
   ]
  },
  {
   "cell_type": "code",
   "execution_count": 15,
   "id": "c9abd9f2",
   "metadata": {},
   "outputs": [],
   "source": [
    "# Dropping unnecessary columns and even the columns which are not correlated\n",
    "df.drop(['estimated_generation_gwh','wepp_id','other_fuel3','other_fuel1','other_fuel2','source','generation_gwh_2013','generation_gwh_2019'],axis=1,inplace=True)"
   ]
  },
  {
   "cell_type": "code",
   "execution_count": 16,
   "id": "9b732053",
   "metadata": {},
   "outputs": [
    {
     "data": {
      "text/html": [
       "<div>\n",
       "<style scoped>\n",
       "    .dataframe tbody tr th:only-of-type {\n",
       "        vertical-align: middle;\n",
       "    }\n",
       "\n",
       "    .dataframe tbody tr th {\n",
       "        vertical-align: top;\n",
       "    }\n",
       "\n",
       "    .dataframe thead th {\n",
       "        text-align: right;\n",
       "    }\n",
       "</style>\n",
       "<table border=\"1\" class=\"dataframe\">\n",
       "  <thead>\n",
       "    <tr style=\"text-align: right;\">\n",
       "      <th></th>\n",
       "      <th>capacity_mw</th>\n",
       "      <th>latitude</th>\n",
       "      <th>longitude</th>\n",
       "      <th>primary_fuel</th>\n",
       "      <th>commissioning_year</th>\n",
       "      <th>geolocation_source</th>\n",
       "      <th>generation_gwh_2014</th>\n",
       "      <th>generation_gwh_2015</th>\n",
       "      <th>generation_gwh_2016</th>\n",
       "      <th>generation_gwh_2017</th>\n",
       "      <th>generation_gwh_2018</th>\n",
       "    </tr>\n",
       "  </thead>\n",
       "  <tbody>\n",
       "    <tr>\n",
       "      <th>capacity_mw</th>\n",
       "      <td>1.000000</td>\n",
       "      <td>-0.053917</td>\n",
       "      <td>0.216974</td>\n",
       "      <td>-0.380395</td>\n",
       "      <td>0.414775</td>\n",
       "      <td>0.204865</td>\n",
       "      <td>0.814674</td>\n",
       "      <td>0.841468</td>\n",
       "      <td>0.875369</td>\n",
       "      <td>0.892899</td>\n",
       "      <td>0.905488</td>\n",
       "    </tr>\n",
       "    <tr>\n",
       "      <th>latitude</th>\n",
       "      <td>-0.053917</td>\n",
       "      <td>1.000000</td>\n",
       "      <td>-0.500920</td>\n",
       "      <td>0.096464</td>\n",
       "      <td>0.088458</td>\n",
       "      <td>-0.034872</td>\n",
       "      <td>-0.029067</td>\n",
       "      <td>-0.030007</td>\n",
       "      <td>-0.031473</td>\n",
       "      <td>-0.024888</td>\n",
       "      <td>-0.028212</td>\n",
       "    </tr>\n",
       "    <tr>\n",
       "      <th>longitude</th>\n",
       "      <td>0.216974</td>\n",
       "      <td>-0.500920</td>\n",
       "      <td>1.000000</td>\n",
       "      <td>-0.348476</td>\n",
       "      <td>0.294825</td>\n",
       "      <td>0.135529</td>\n",
       "      <td>0.160584</td>\n",
       "      <td>0.170438</td>\n",
       "      <td>0.186348</td>\n",
       "      <td>0.199703</td>\n",
       "      <td>0.199273</td>\n",
       "    </tr>\n",
       "    <tr>\n",
       "      <th>primary_fuel</th>\n",
       "      <td>-0.380395</td>\n",
       "      <td>0.096464</td>\n",
       "      <td>-0.348476</td>\n",
       "      <td>1.000000</td>\n",
       "      <td>-0.481713</td>\n",
       "      <td>-0.483217</td>\n",
       "      <td>-0.282791</td>\n",
       "      <td>-0.288032</td>\n",
       "      <td>-0.300822</td>\n",
       "      <td>-0.310594</td>\n",
       "      <td>-0.312084</td>\n",
       "    </tr>\n",
       "    <tr>\n",
       "      <th>commissioning_year</th>\n",
       "      <td>0.414775</td>\n",
       "      <td>0.088458</td>\n",
       "      <td>0.294825</td>\n",
       "      <td>-0.481713</td>\n",
       "      <td>1.000000</td>\n",
       "      <td>0.450920</td>\n",
       "      <td>0.304853</td>\n",
       "      <td>0.304534</td>\n",
       "      <td>0.316274</td>\n",
       "      <td>0.325603</td>\n",
       "      <td>0.327190</td>\n",
       "    </tr>\n",
       "    <tr>\n",
       "      <th>geolocation_source</th>\n",
       "      <td>0.204865</td>\n",
       "      <td>-0.034872</td>\n",
       "      <td>0.135529</td>\n",
       "      <td>-0.483217</td>\n",
       "      <td>0.450920</td>\n",
       "      <td>1.000000</td>\n",
       "      <td>0.140931</td>\n",
       "      <td>0.140519</td>\n",
       "      <td>0.145740</td>\n",
       "      <td>0.149963</td>\n",
       "      <td>0.150669</td>\n",
       "    </tr>\n",
       "    <tr>\n",
       "      <th>generation_gwh_2014</th>\n",
       "      <td>0.814674</td>\n",
       "      <td>-0.029067</td>\n",
       "      <td>0.160584</td>\n",
       "      <td>-0.282791</td>\n",
       "      <td>0.304853</td>\n",
       "      <td>0.140931</td>\n",
       "      <td>1.000000</td>\n",
       "      <td>0.966673</td>\n",
       "      <td>0.937892</td>\n",
       "      <td>0.907541</td>\n",
       "      <td>0.898658</td>\n",
       "    </tr>\n",
       "    <tr>\n",
       "      <th>generation_gwh_2015</th>\n",
       "      <td>0.841468</td>\n",
       "      <td>-0.030007</td>\n",
       "      <td>0.170438</td>\n",
       "      <td>-0.288032</td>\n",
       "      <td>0.304534</td>\n",
       "      <td>0.140519</td>\n",
       "      <td>0.966673</td>\n",
       "      <td>1.000000</td>\n",
       "      <td>0.974653</td>\n",
       "      <td>0.943781</td>\n",
       "      <td>0.936566</td>\n",
       "    </tr>\n",
       "    <tr>\n",
       "      <th>generation_gwh_2016</th>\n",
       "      <td>0.875369</td>\n",
       "      <td>-0.031473</td>\n",
       "      <td>0.186348</td>\n",
       "      <td>-0.300822</td>\n",
       "      <td>0.316274</td>\n",
       "      <td>0.145740</td>\n",
       "      <td>0.937892</td>\n",
       "      <td>0.974653</td>\n",
       "      <td>1.000000</td>\n",
       "      <td>0.976306</td>\n",
       "      <td>0.967607</td>\n",
       "    </tr>\n",
       "    <tr>\n",
       "      <th>generation_gwh_2017</th>\n",
       "      <td>0.892899</td>\n",
       "      <td>-0.024888</td>\n",
       "      <td>0.199703</td>\n",
       "      <td>-0.310594</td>\n",
       "      <td>0.325603</td>\n",
       "      <td>0.149963</td>\n",
       "      <td>0.907541</td>\n",
       "      <td>0.943781</td>\n",
       "      <td>0.976306</td>\n",
       "      <td>1.000000</td>\n",
       "      <td>0.988031</td>\n",
       "    </tr>\n",
       "    <tr>\n",
       "      <th>generation_gwh_2018</th>\n",
       "      <td>0.905488</td>\n",
       "      <td>-0.028212</td>\n",
       "      <td>0.199273</td>\n",
       "      <td>-0.312084</td>\n",
       "      <td>0.327190</td>\n",
       "      <td>0.150669</td>\n",
       "      <td>0.898658</td>\n",
       "      <td>0.936566</td>\n",
       "      <td>0.967607</td>\n",
       "      <td>0.988031</td>\n",
       "      <td>1.000000</td>\n",
       "    </tr>\n",
       "  </tbody>\n",
       "</table>\n",
       "</div>"
      ],
      "text/plain": [
       "                     capacity_mw  latitude  longitude  primary_fuel  \\\n",
       "capacity_mw             1.000000 -0.053917   0.216974     -0.380395   \n",
       "latitude               -0.053917  1.000000  -0.500920      0.096464   \n",
       "longitude               0.216974 -0.500920   1.000000     -0.348476   \n",
       "primary_fuel           -0.380395  0.096464  -0.348476      1.000000   \n",
       "commissioning_year      0.414775  0.088458   0.294825     -0.481713   \n",
       "geolocation_source      0.204865 -0.034872   0.135529     -0.483217   \n",
       "generation_gwh_2014     0.814674 -0.029067   0.160584     -0.282791   \n",
       "generation_gwh_2015     0.841468 -0.030007   0.170438     -0.288032   \n",
       "generation_gwh_2016     0.875369 -0.031473   0.186348     -0.300822   \n",
       "generation_gwh_2017     0.892899 -0.024888   0.199703     -0.310594   \n",
       "generation_gwh_2018     0.905488 -0.028212   0.199273     -0.312084   \n",
       "\n",
       "                     commissioning_year  geolocation_source  \\\n",
       "capacity_mw                    0.414775            0.204865   \n",
       "latitude                       0.088458           -0.034872   \n",
       "longitude                      0.294825            0.135529   \n",
       "primary_fuel                  -0.481713           -0.483217   \n",
       "commissioning_year             1.000000            0.450920   \n",
       "geolocation_source             0.450920            1.000000   \n",
       "generation_gwh_2014            0.304853            0.140931   \n",
       "generation_gwh_2015            0.304534            0.140519   \n",
       "generation_gwh_2016            0.316274            0.145740   \n",
       "generation_gwh_2017            0.325603            0.149963   \n",
       "generation_gwh_2018            0.327190            0.150669   \n",
       "\n",
       "                     generation_gwh_2014  generation_gwh_2015  \\\n",
       "capacity_mw                     0.814674             0.841468   \n",
       "latitude                       -0.029067            -0.030007   \n",
       "longitude                       0.160584             0.170438   \n",
       "primary_fuel                   -0.282791            -0.288032   \n",
       "commissioning_year              0.304853             0.304534   \n",
       "geolocation_source              0.140931             0.140519   \n",
       "generation_gwh_2014             1.000000             0.966673   \n",
       "generation_gwh_2015             0.966673             1.000000   \n",
       "generation_gwh_2016             0.937892             0.974653   \n",
       "generation_gwh_2017             0.907541             0.943781   \n",
       "generation_gwh_2018             0.898658             0.936566   \n",
       "\n",
       "                     generation_gwh_2016  generation_gwh_2017  \\\n",
       "capacity_mw                     0.875369             0.892899   \n",
       "latitude                       -0.031473            -0.024888   \n",
       "longitude                       0.186348             0.199703   \n",
       "primary_fuel                   -0.300822            -0.310594   \n",
       "commissioning_year              0.316274             0.325603   \n",
       "geolocation_source              0.145740             0.149963   \n",
       "generation_gwh_2014             0.937892             0.907541   \n",
       "generation_gwh_2015             0.974653             0.943781   \n",
       "generation_gwh_2016             1.000000             0.976306   \n",
       "generation_gwh_2017             0.976306             1.000000   \n",
       "generation_gwh_2018             0.967607             0.988031   \n",
       "\n",
       "                     generation_gwh_2018  \n",
       "capacity_mw                     0.905488  \n",
       "latitude                       -0.028212  \n",
       "longitude                       0.199273  \n",
       "primary_fuel                   -0.312084  \n",
       "commissioning_year              0.327190  \n",
       "geolocation_source              0.150669  \n",
       "generation_gwh_2014             0.898658  \n",
       "generation_gwh_2015             0.936566  \n",
       "generation_gwh_2016             0.967607  \n",
       "generation_gwh_2017             0.988031  \n",
       "generation_gwh_2018             1.000000  "
      ]
     },
     "execution_count": 16,
     "metadata": {},
     "output_type": "execute_result"
    }
   ],
   "source": [
    "# Checking Correlation\n",
    "df.corr()"
   ]
  },
  {
   "cell_type": "code",
   "execution_count": 18,
   "id": "808f5e24",
   "metadata": {},
   "outputs": [
    {
     "data": {
      "text/plain": [
       "<AxesSubplot:>"
      ]
     },
     "execution_count": 18,
     "metadata": {},
     "output_type": "execute_result"
    },
    {
     "data": {
      "image/png": "[encoded data removed]",
      "text/plain": [
       "<Figure size 1368x720 with 2 Axes>"
      ]
     },
     "metadata": {},
     "output_type": "display_data"
    }
   ],
   "source": [
    "# Plotting correlation heatmap\n",
    "plt.figure(figsize=[19,10],facecolor='red')\n",
    "sns.heatmap(df.corr(),annot=True)"
   ]
  },
  {
   "cell_type": "markdown",
   "id": "0527a35a",
   "metadata": {},
   "source": [
    "Here, we can see generation_growth_2014, 2015, 2016, 2017, 2018 are highly correlated."
   ]
  },
  {
   "cell_type": "code",
   "execution_count": 19,
   "id": "fb8b7f4c",
   "metadata": {},
   "outputs": [
    {
     "data": {
      "image/png": "[encoded data removed]",
      "text/plain": [
       "<Figure size 864x504 with 15 Axes>"
      ]
     },
     "metadata": {
      "needs_background": "light"
     },
     "output_type": "display_data"
    }
   ],
   "source": [
    "# Checking Outliers\n",
    "fig, ax = plt.subplots(ncols=15, nrows=1, figsize=(12,7))\n",
    "index = 0\n",
    "ax = ax.flatten()\n",
    "for col, value in df.items():\n",
    "    sns.boxplot(y=col, data=df, ax=ax[index], palette=\"plasma\")\n",
    "    index += 1\n",
    "plt.tight_layout(pad=0.2, w_pad=0.9, h_pad=5.0)\n",
    "plt.show()"
   ]
  },
  {
   "cell_type": "markdown",
   "id": "6bb53d15",
   "metadata": {},
   "source": [
    "Many columns are having the outliers, which we need to handle properly."
   ]
  },
  {
   "cell_type": "code",
   "execution_count": 20,
   "id": "f74c75ae",
   "metadata": {},
   "outputs": [
    {
     "data": {
      "text/plain": [
       "array([[0.54890755, 0.49031418, 0.52677407, ..., 0.36967293, 0.38038384,\n",
       "        0.3821734 ],\n",
       "       [0.38697729, 0.15905982, 0.30821347, ..., 0.36967293, 0.38038384,\n",
       "        0.3821734 ],\n",
       "       [0.48667885, 0.1183909 , 1.14453562, ..., 0.36967293, 0.38038384,\n",
       "        0.3821734 ],\n",
       "       ...,\n",
       "       [0.50990864, 0.76081653, 0.15293848, ..., 0.36967293, 0.38038384,\n",
       "        0.3821734 ],\n",
       "       [0.41749818, 0.11870952, 0.4457902 , ..., 0.36967293, 0.38038384,\n",
       "        0.3821734 ],\n",
       "       [0.52516908, 1.27853715, 0.14986451, ..., 0.36967293, 0.38038384,\n",
       "        0.3821734 ]])"
      ]
     },
     "execution_count": 20,
     "metadata": {},
     "output_type": "execute_result"
    }
   ],
   "source": [
    "# Removing outliers\n",
    "from scipy.stats import zscore\n",
    "zs=np.abs(zscore(df))\n",
    "zs"
   ]
  },
  {
   "cell_type": "code",
   "execution_count": 22,
   "id": "fd8078f8",
   "metadata": {},
   "outputs": [
    {
     "name": "stdout",
     "output_type": "stream",
     "text": [
      "(array([ 14,  15,  15,  15,  15,  15,  25,  42,  45,  67,  72, 143, 143,\n",
      "       143, 143, 143, 143, 147, 158, 178, 192, 201, 208, 209, 209, 209,\n",
      "       209, 209, 209, 250, 308, 308, 308, 308, 308, 308, 329, 330, 332,\n",
      "       333, 363, 364, 364, 364, 364, 364, 364, 375, 386, 420, 422, 430,\n",
      "       435, 440, 466, 478, 479, 482, 482, 483, 493, 493, 493, 493, 493,\n",
      "       493, 494, 494, 494, 494, 494, 494, 502, 519, 532, 538, 540, 545,\n",
      "       623, 648, 648, 648, 648, 648, 648, 655, 657, 657, 657, 657, 657,\n",
      "       657, 674, 680, 695, 695, 695, 695, 695, 695, 705, 711, 712, 721,\n",
      "       721, 721, 721, 721, 724, 724, 724, 724, 724, 726, 726, 726, 726,\n",
      "       726, 726, 731, 732, 741, 767, 770, 773, 774, 775, 776, 784, 786,\n",
      "       786, 786, 786, 786, 786, 788, 808, 808, 808, 808, 808, 808, 828,\n",
      "       880, 880, 880, 880, 880, 880, 884, 886], dtype=int64), array([ 1,  0,  7,  8,  9, 10,  1,  1,  1,  1,  1,  0,  6,  7,  8,  9, 10,\n",
      "        0,  6,  1,  1,  1,  1,  0,  6,  7,  8,  9, 10,  1,  0,  6,  7,  8,\n",
      "        9, 10,  1,  1,  1,  2,  0,  0,  6,  7,  8,  9, 10,  0,  1,  1,  1,\n",
      "        1,  1,  1,  1,  1,  1,  0, 10,  1,  0,  6,  7,  8,  9, 10,  0,  6,\n",
      "        7,  8,  9, 10,  1,  2,  6,  1,  1,  1,  6,  0,  6,  7,  8,  9, 10,\n",
      "        1,  0,  6,  7,  8,  9, 10,  1,  1,  0,  6,  7,  8,  9, 10,  1,  1,\n",
      "        1,  6,  7,  8,  9, 10,  6,  7,  8,  9, 10,  0,  6,  7,  8,  9, 10,\n",
      "        1,  1,  1,  0,  1,  1,  1,  1,  1,  1,  0,  6,  7,  8,  9, 10,  0,\n",
      "        0,  6,  7,  8,  9, 10,  1,  0,  6,  7,  8,  9, 10,  1,  1],\n",
      "      dtype=int64))\n"
     ]
    }
   ],
   "source": [
    "threshold=3\n",
    "print(np.where(zs>3))"
   ]
  },
  {
   "cell_type": "code",
   "execution_count": 25,
   "id": "0bd770b7",
   "metadata": {},
   "outputs": [
    {
     "data": {
      "text/plain": [
       "0.3689604664398681"
      ]
     },
     "execution_count": 25,
     "metadata": {},
     "output_type": "execute_result"
    }
   ],
   "source": [
    "zs[6][8]"
   ]
  },
  {
   "cell_type": "code",
   "execution_count": 27,
   "id": "977c316c",
   "metadata": {},
   "outputs": [
    {
     "data": {
      "text/html": [
       "<div>\n",
       "<style scoped>\n",
       "    .dataframe tbody tr th:only-of-type {\n",
       "        vertical-align: middle;\n",
       "    }\n",
       "\n",
       "    .dataframe tbody tr th {\n",
       "        vertical-align: top;\n",
       "    }\n",
       "\n",
       "    .dataframe thead th {\n",
       "        text-align: right;\n",
       "    }\n",
       "</style>\n",
       "<table border=\"1\" class=\"dataframe\">\n",
       "  <thead>\n",
       "    <tr style=\"text-align: right;\">\n",
       "      <th></th>\n",
       "      <th>capacity_mw</th>\n",
       "      <th>latitude</th>\n",
       "      <th>longitude</th>\n",
       "      <th>primary_fuel</th>\n",
       "      <th>commissioning_year</th>\n",
       "      <th>geolocation_source</th>\n",
       "      <th>generation_gwh_2014</th>\n",
       "      <th>generation_gwh_2015</th>\n",
       "      <th>generation_gwh_2016</th>\n",
       "      <th>generation_gwh_2017</th>\n",
       "      <th>generation_gwh_2018</th>\n",
       "    </tr>\n",
       "  </thead>\n",
       "  <tbody>\n",
       "    <tr>\n",
       "      <th>0</th>\n",
       "      <td>2.5</td>\n",
       "      <td>28.1839</td>\n",
       "      <td>73.2407</td>\n",
       "      <td>6</td>\n",
       "      <td>2011.0</td>\n",
       "      <td>1</td>\n",
       "      <td>59.200000</td>\n",
       "      <td>59.200000</td>\n",
       "      <td>59.200000</td>\n",
       "      <td>59.200000</td>\n",
       "      <td>59.200000</td>\n",
       "    </tr>\n",
       "    <tr>\n",
       "      <th>1</th>\n",
       "      <td>98.0</td>\n",
       "      <td>24.7663</td>\n",
       "      <td>74.6090</td>\n",
       "      <td>1</td>\n",
       "      <td>59.2</td>\n",
       "      <td>2</td>\n",
       "      <td>59.200000</td>\n",
       "      <td>59.200000</td>\n",
       "      <td>59.200000</td>\n",
       "      <td>59.200000</td>\n",
       "      <td>59.200000</td>\n",
       "    </tr>\n",
       "    <tr>\n",
       "      <th>2</th>\n",
       "      <td>39.2</td>\n",
       "      <td>21.9038</td>\n",
       "      <td>69.3732</td>\n",
       "      <td>7</td>\n",
       "      <td>59.2</td>\n",
       "      <td>2</td>\n",
       "      <td>59.200000</td>\n",
       "      <td>59.200000</td>\n",
       "      <td>59.200000</td>\n",
       "      <td>59.200000</td>\n",
       "      <td>59.200000</td>\n",
       "    </tr>\n",
       "    <tr>\n",
       "      <th>3</th>\n",
       "      <td>135.0</td>\n",
       "      <td>23.8712</td>\n",
       "      <td>91.3602</td>\n",
       "      <td>2</td>\n",
       "      <td>2004.0</td>\n",
       "      <td>2</td>\n",
       "      <td>617.789264</td>\n",
       "      <td>843.747000</td>\n",
       "      <td>886.004428</td>\n",
       "      <td>663.774500</td>\n",
       "      <td>626.239128</td>\n",
       "    </tr>\n",
       "    <tr>\n",
       "      <th>4</th>\n",
       "      <td>1800.0</td>\n",
       "      <td>21.9603</td>\n",
       "      <td>82.4091</td>\n",
       "      <td>1</td>\n",
       "      <td>2015.0</td>\n",
       "      <td>2</td>\n",
       "      <td>3035.550000</td>\n",
       "      <td>5916.370000</td>\n",
       "      <td>6243.000000</td>\n",
       "      <td>5385.579736</td>\n",
       "      <td>7279.000000</td>\n",
       "    </tr>\n",
       "    <tr>\n",
       "      <th>...</th>\n",
       "      <td>...</td>\n",
       "      <td>...</td>\n",
       "      <td>...</td>\n",
       "      <td>...</td>\n",
       "      <td>...</td>\n",
       "      <td>...</td>\n",
       "      <td>...</td>\n",
       "      <td>...</td>\n",
       "      <td>...</td>\n",
       "      <td>...</td>\n",
       "      <td>...</td>\n",
       "    </tr>\n",
       "    <tr>\n",
       "      <th>902</th>\n",
       "      <td>1600.0</td>\n",
       "      <td>16.2949</td>\n",
       "      <td>77.3568</td>\n",
       "      <td>1</td>\n",
       "      <td>2016.0</td>\n",
       "      <td>2</td>\n",
       "      <td>59.200000</td>\n",
       "      <td>0.994875</td>\n",
       "      <td>233.596650</td>\n",
       "      <td>865.400000</td>\n",
       "      <td>686.500000</td>\n",
       "    </tr>\n",
       "    <tr>\n",
       "      <th>903</th>\n",
       "      <td>3.0</td>\n",
       "      <td>12.8932</td>\n",
       "      <td>78.1654</td>\n",
       "      <td>6</td>\n",
       "      <td>59.2</td>\n",
       "      <td>0</td>\n",
       "      <td>59.200000</td>\n",
       "      <td>59.200000</td>\n",
       "      <td>59.200000</td>\n",
       "      <td>59.200000</td>\n",
       "      <td>59.200000</td>\n",
       "    </tr>\n",
       "    <tr>\n",
       "      <th>904</th>\n",
       "      <td>25.5</td>\n",
       "      <td>15.2758</td>\n",
       "      <td>75.5811</td>\n",
       "      <td>7</td>\n",
       "      <td>59.2</td>\n",
       "      <td>2</td>\n",
       "      <td>59.200000</td>\n",
       "      <td>59.200000</td>\n",
       "      <td>59.200000</td>\n",
       "      <td>59.200000</td>\n",
       "      <td>59.200000</td>\n",
       "    </tr>\n",
       "    <tr>\n",
       "      <th>905</th>\n",
       "      <td>80.0</td>\n",
       "      <td>24.3500</td>\n",
       "      <td>73.7477</td>\n",
       "      <td>1</td>\n",
       "      <td>59.2</td>\n",
       "      <td>2</td>\n",
       "      <td>59.200000</td>\n",
       "      <td>59.200000</td>\n",
       "      <td>59.200000</td>\n",
       "      <td>59.200000</td>\n",
       "      <td>59.200000</td>\n",
       "    </tr>\n",
       "    <tr>\n",
       "      <th>906</th>\n",
       "      <td>16.5</td>\n",
       "      <td>9.9344</td>\n",
       "      <td>77.4768</td>\n",
       "      <td>7</td>\n",
       "      <td>59.2</td>\n",
       "      <td>2</td>\n",
       "      <td>59.200000</td>\n",
       "      <td>59.200000</td>\n",
       "      <td>59.200000</td>\n",
       "      <td>59.200000</td>\n",
       "      <td>59.200000</td>\n",
       "    </tr>\n",
       "  </tbody>\n",
       "</table>\n",
       "<p>834 rows × 11 columns</p>\n",
       "</div>"
      ],
      "text/plain": [
       "     capacity_mw  latitude  longitude  primary_fuel  commissioning_year  \\\n",
       "0            2.5   28.1839    73.2407             6              2011.0   \n",
       "1           98.0   24.7663    74.6090             1                59.2   \n",
       "2           39.2   21.9038    69.3732             7                59.2   \n",
       "3          135.0   23.8712    91.3602             2              2004.0   \n",
       "4         1800.0   21.9603    82.4091             1              2015.0   \n",
       "..           ...       ...        ...           ...                 ...   \n",
       "902       1600.0   16.2949    77.3568             1              2016.0   \n",
       "903          3.0   12.8932    78.1654             6                59.2   \n",
       "904         25.5   15.2758    75.5811             7                59.2   \n",
       "905         80.0   24.3500    73.7477             1                59.2   \n",
       "906         16.5    9.9344    77.4768             7                59.2   \n",
       "\n",
       "     geolocation_source  generation_gwh_2014  generation_gwh_2015  \\\n",
       "0                     1            59.200000            59.200000   \n",
       "1                     2            59.200000            59.200000   \n",
       "2                     2            59.200000            59.200000   \n",
       "3                     2           617.789264           843.747000   \n",
       "4                     2          3035.550000          5916.370000   \n",
       "..                  ...                  ...                  ...   \n",
       "902                   2            59.200000             0.994875   \n",
       "903                   0            59.200000            59.200000   \n",
       "904                   2            59.200000            59.200000   \n",
       "905                   2            59.200000            59.200000   \n",
       "906                   2            59.200000            59.200000   \n",
       "\n",
       "     generation_gwh_2016  generation_gwh_2017  generation_gwh_2018  \n",
       "0              59.200000            59.200000            59.200000  \n",
       "1              59.200000            59.200000            59.200000  \n",
       "2              59.200000            59.200000            59.200000  \n",
       "3             886.004428           663.774500           626.239128  \n",
       "4            6243.000000          5385.579736          7279.000000  \n",
       "..                   ...                  ...                  ...  \n",
       "902           233.596650           865.400000           686.500000  \n",
       "903            59.200000            59.200000            59.200000  \n",
       "904            59.200000            59.200000            59.200000  \n",
       "905            59.200000            59.200000            59.200000  \n",
       "906            59.200000            59.200000            59.200000  \n",
       "\n",
       "[834 rows x 11 columns]"
      ]
     },
     "execution_count": 27,
     "metadata": {},
     "output_type": "execute_result"
    }
   ],
   "source": [
    "df_new=df[(zs<3).all(axis=1)]\n",
    "df_new"
   ]
  },
  {
   "cell_type": "code",
   "execution_count": 28,
   "id": "e4fb2962",
   "metadata": {},
   "outputs": [
    {
     "data": {
      "text/plain": [
       "(834, 11)"
      ]
     },
     "execution_count": 28,
     "metadata": {},
     "output_type": "execute_result"
    }
   ],
   "source": [
    "df_new.shape"
   ]
  },
  {
   "cell_type": "code",
   "execution_count": 29,
   "id": "f5666ee6",
   "metadata": {},
   "outputs": [
    {
     "name": "stdout",
     "output_type": "stream",
     "text": [
      "8.04851157662624\n"
     ]
    }
   ],
   "source": [
    "# Checking the percentage of loss data\n",
    "loss_percent =(907-834)/907*100\n",
    "print(loss_percent)"
   ]
  },
  {
   "cell_type": "code",
   "execution_count": 30,
   "id": "e5784a06",
   "metadata": {},
   "outputs": [
    {
     "data": {
      "text/plain": [
       "capacity_mw            3.123576\n",
       "latitude               1.940249\n",
       "longitude             -0.295883\n",
       "primary_fuel           0.472251\n",
       "commissioning_year    -0.328473\n",
       "geolocation_source    -2.159841\n",
       "generation_gwh_2014    5.018549\n",
       "generation_gwh_2015    5.292321\n",
       "generation_gwh_2016    5.014692\n",
       "generation_gwh_2017    5.010509\n",
       "generation_gwh_2018    4.874039\n",
       "dtype: float64"
      ]
     },
     "execution_count": 30,
     "metadata": {},
     "output_type": "execute_result"
    }
   ],
   "source": [
    "# Checking the skewness\n",
    "df.skew()"
   ]
  },
  {
   "cell_type": "markdown",
   "id": "78b24fe7",
   "metadata": {},
   "source": [
    "we can see skewness in generation_growth_2014, 2015,2016,2017,2018. will remove the skewness now."
   ]
  },
  {
   "cell_type": "code",
   "execution_count": 32,
   "id": "9545d574",
   "metadata": {},
   "outputs": [
    {
     "data": {
      "text/plain": [
       "<AxesSubplot:xlabel='capacity_mw', ylabel='Density'>"
      ]
     },
     "execution_count": 32,
     "metadata": {},
     "output_type": "execute_result"
    },
    {
     "data": {
      "image/png": "[encoded data removed]",
      "text/plain": [
       "<Figure size 432x288 with 1 Axes>"
      ]
     },
     "metadata": {
      "needs_background": "light"
     },
     "output_type": "display_data"
    }
   ],
   "source": [
    "sns.distplot(df['capacity_mw'])"
   ]
  },
  {
   "cell_type": "code",
   "execution_count": 33,
   "id": "d6194bf7",
   "metadata": {},
   "outputs": [
    {
     "data": {
      "text/plain": [
       "<AxesSubplot:xlabel='latitude', ylabel='Density'>"
      ]
     },
     "execution_count": 33,
     "metadata": {},
     "output_type": "execute_result"
    },
    {
     "data": {
      "image/png": "[encoded data removed]",
      "text/plain": [
       "<Figure size 432x288 with 1 Axes>"
      ]
     },
     "metadata": {
      "needs_background": "light"
     },
     "output_type": "display_data"
    }
   ],
   "source": [
    "sns.distplot(df['latitude'])"
   ]
  },
  {
   "cell_type": "code",
   "execution_count": 34,
   "id": "4384c2ab",
   "metadata": {},
   "outputs": [
    {
     "data": {
      "text/plain": [
       "<AxesSubplot:xlabel='longitude', ylabel='Density'>"
      ]
     },
     "execution_count": 34,
     "metadata": {},
     "output_type": "execute_result"
    },
    {
     "data": {
      "image/png": "[encoded data removed]",
      "text/plain": [
       "<Figure size 432x288 with 1 Axes>"
      ]
     },
     "metadata": {
      "needs_background": "light"
     },
     "output_type": "display_data"
    }
   ],
   "source": [
    "sns.distplot(df['longitude'])"
   ]
  },
  {
   "cell_type": "code",
   "execution_count": 35,
   "id": "563bf756",
   "metadata": {},
   "outputs": [
    {
     "data": {
      "text/plain": [
       "<AxesSubplot:xlabel='primary_fuel', ylabel='Density'>"
      ]
     },
     "execution_count": 35,
     "metadata": {},
     "output_type": "execute_result"
    },
    {
     "data": {
      "image/png": "[encoded data removed]",
      "text/plain": [
       "<Figure size 432x288 with 1 Axes>"
      ]
     },
     "metadata": {
      "needs_background": "light"
     },
     "output_type": "display_data"
    }
   ],
   "source": [
    "sns.distplot(df['primary_fuel'])"
   ]
  },
  {
   "cell_type": "code",
   "execution_count": 36,
   "id": "69941bd6",
   "metadata": {},
   "outputs": [
    {
     "data": {
      "text/plain": [
       "<AxesSubplot:xlabel='commissioning_year', ylabel='Density'>"
      ]
     },
     "execution_count": 36,
     "metadata": {},
     "output_type": "execute_result"
    },
    {
     "data": {
      "image/png": "[encoded data removed]",
      "text/plain": [
       "<Figure size 432x288 with 1 Axes>"
      ]
     },
     "metadata": {
      "needs_background": "light"
     },
     "output_type": "display_data"
    }
   ],
   "source": [
    "sns.distplot(df['commissioning_year'])"
   ]
  },
  {
   "cell_type": "code",
   "execution_count": 37,
   "id": "243e0048",
   "metadata": {},
   "outputs": [
    {
     "data": {
      "text/plain": [
       "<AxesSubplot:xlabel='geolocation_source', ylabel='Density'>"
      ]
     },
     "execution_count": 37,
     "metadata": {},
     "output_type": "execute_result"
    },
    {
     "data": {
      "image/png": "[encoded data removed]",
      "text/plain": [
       "<Figure size 432x288 with 1 Axes>"
      ]
     },
     "metadata": {
      "needs_background": "light"
     },
     "output_type": "display_data"
    }
   ],
   "source": [
    "sns.distplot(df['geolocation_source'])"
   ]
  },
  {
   "cell_type": "code",
   "execution_count": 38,
   "id": "c7a6468a",
   "metadata": {},
   "outputs": [
    {
     "data": {
      "text/plain": [
       "<AxesSubplot:xlabel='generation_gwh_2014', ylabel='Density'>"
      ]
     },
     "execution_count": 38,
     "metadata": {},
     "output_type": "execute_result"
    },
    {
     "data": {
      "image/png": "[encoded data removed]",
      "text/plain": [
       "<Figure size 432x288 with 1 Axes>"
      ]
     },
     "metadata": {
      "needs_background": "light"
     },
     "output_type": "display_data"
    }
   ],
   "source": [
    "sns.distplot(df['generation_gwh_2014'])"
   ]
  },
  {
   "cell_type": "code",
   "execution_count": 39,
   "id": "07cc7ea2",
   "metadata": {},
   "outputs": [
    {
     "data": {
      "text/plain": [
       "<AxesSubplot:xlabel='generation_gwh_2015', ylabel='Density'>"
      ]
     },
     "execution_count": 39,
     "metadata": {},
     "output_type": "execute_result"
    },
    {
     "data": {
      "image/png": "[encoded data removed]",
      "text/plain": [
       "<Figure size 432x288 with 1 Axes>"
      ]
     },
     "metadata": {
      "needs_background": "light"
     },
     "output_type": "display_data"
    }
   ],
   "source": [
    "sns.distplot(df['generation_gwh_2015'])"
   ]
  },
  {
   "cell_type": "code",
   "execution_count": 40,
   "id": "f9d9055a",
   "metadata": {},
   "outputs": [
    {
     "data": {
      "text/plain": [
       "<AxesSubplot:xlabel='generation_gwh_2016', ylabel='Density'>"
      ]
     },
     "execution_count": 40,
     "metadata": {},
     "output_type": "execute_result"
    },
    {
     "data": {
      "image/png": "[encoded data removed]",
      "text/plain": [
       "<Figure size 432x288 with 1 Axes>"
      ]
     },
     "metadata": {
      "needs_background": "light"
     },
     "output_type": "display_data"
    }
   ],
   "source": [
    "sns.distplot(df['generation_gwh_2016'])"
   ]
  },
  {
   "cell_type": "code",
   "execution_count": 41,
   "id": "06cfed62",
   "metadata": {},
   "outputs": [
    {
     "data": {
      "text/plain": [
       "<AxesSubplot:xlabel='generation_gwh_2017', ylabel='Density'>"
      ]
     },
     "execution_count": 41,
     "metadata": {},
     "output_type": "execute_result"
    },
    {
     "data": {
      "image/png": "[encoded data removed]",
      "text/plain": [
       "<Figure size 432x288 with 1 Axes>"
      ]
     },
     "metadata": {
      "needs_background": "light"
     },
     "output_type": "display_data"
    }
   ],
   "source": [
    "sns.distplot(df['generation_gwh_2017'])"
   ]
  },
  {
   "cell_type": "code",
   "execution_count": 42,
   "id": "2bbdbdd3",
   "metadata": {},
   "outputs": [
    {
     "data": {
      "text/plain": [
       "<AxesSubplot:xlabel='generation_gwh_2018', ylabel='Density'>"
      ]
     },
     "execution_count": 42,
     "metadata": {},
     "output_type": "execute_result"
    },
    {
     "data": {
      "image/png": "[encoded data removed]",
      "text/plain": [
       "<Figure size 432x288 with 1 Axes>"
      ]
     },
     "metadata": {
      "needs_background": "light"
     },
     "output_type": "display_data"
    }
   ],
   "source": [
    "sns.distplot(df['generation_gwh_2018'])"
   ]
  },
  {
   "cell_type": "markdown",
   "id": "735e1958",
   "metadata": {},
   "source": [
    "Here, we can see from the above graphs that most of the graphs are bimodal and also having the skewness."
   ]
  },
  {
   "cell_type": "code",
   "execution_count": 44,
   "id": "15ac56ac",
   "metadata": {},
   "outputs": [],
   "source": [
    "# Removing skewness\n",
    "from sklearn.preprocessing import PowerTransformer\n",
    "scaler = PowerTransformer(method='yeo-johnson')\n",
    "df[['generation_gwh_2014','generation_gwh_2015','generation_gwh_2016','generation_gwh_2017','generation_gwh_2018']] = scaler.fit_transform(df[['generation_gwh_2014','generation_gwh_2015','generation_gwh_2016','generation_gwh_2017','generation_gwh_2018']].values)"
   ]
  },
  {
   "cell_type": "code",
   "execution_count": 45,
   "id": "8242be70",
   "metadata": {},
   "outputs": [
    {
     "data": {
      "text/plain": [
       "capacity_mw            3.123576\n",
       "latitude               1.940249\n",
       "longitude             -0.295883\n",
       "primary_fuel           0.472251\n",
       "commissioning_year    -0.328473\n",
       "geolocation_source    -2.159841\n",
       "generation_gwh_2014   -0.025038\n",
       "generation_gwh_2015   -0.021906\n",
       "generation_gwh_2016   -0.017326\n",
       "generation_gwh_2017   -0.010751\n",
       "generation_gwh_2018   -0.005868\n",
       "dtype: float64"
      ]
     },
     "execution_count": 45,
     "metadata": {},
     "output_type": "execute_result"
    }
   ],
   "source": [
    "# Rechecking the skewness\n",
    "df.skew()"
   ]
  },
  {
   "cell_type": "code",
   "execution_count": 46,
   "id": "71432c6c",
   "metadata": {},
   "outputs": [],
   "source": [
    "scaler = PowerTransformer(method='yeo-johnson')\n",
    "df[['capacity_mw','latitude']] = scaler.fit_transform(df[['capacity_mw','latitude']].values)"
   ]
  },
  {
   "cell_type": "code",
   "execution_count": 47,
   "id": "555c0554",
   "metadata": {},
   "outputs": [
    {
     "data": {
      "text/plain": [
       "capacity_mw            0.022164\n",
       "latitude              -0.012773\n",
       "longitude             -0.295883\n",
       "primary_fuel           0.472251\n",
       "commissioning_year    -0.328473\n",
       "geolocation_source    -2.159841\n",
       "generation_gwh_2014   -0.025038\n",
       "generation_gwh_2015   -0.021906\n",
       "generation_gwh_2016   -0.017326\n",
       "generation_gwh_2017   -0.010751\n",
       "generation_gwh_2018   -0.005868\n",
       "dtype: float64"
      ]
     },
     "execution_count": 47,
     "metadata": {},
     "output_type": "execute_result"
    }
   ],
   "source": [
    "df.skew()"
   ]
  },
  {
   "cell_type": "markdown",
   "id": "2d480ae1",
   "metadata": {},
   "source": [
    "now there is no skewness in the data."
   ]
  },
  {
   "cell_type": "markdown",
   "id": "5868ca81",
   "metadata": {},
   "source": [
    "# Model 1 :\n",
    "\n",
    "Taeget Variable - capacity_mw"
   ]
  },
  {
   "cell_type": "code",
   "execution_count": 49,
   "id": "3bc8679e",
   "metadata": {},
   "outputs": [],
   "source": [
    "# Splitting the dataset\n",
    "y = df_new['capacity_mw']\n",
    "x = df_new.drop(columns=['capacity_mw'], axis=1)"
   ]
  },
  {
   "cell_type": "code",
   "execution_count": 50,
   "id": "31acae79",
   "metadata": {},
   "outputs": [
    {
     "data": {
      "text/html": [
       "<div>\n",
       "<style scoped>\n",
       "    .dataframe tbody tr th:only-of-type {\n",
       "        vertical-align: middle;\n",
       "    }\n",
       "\n",
       "    .dataframe tbody tr th {\n",
       "        vertical-align: top;\n",
       "    }\n",
       "\n",
       "    .dataframe thead th {\n",
       "        text-align: right;\n",
       "    }\n",
       "</style>\n",
       "<table border=\"1\" class=\"dataframe\">\n",
       "  <thead>\n",
       "    <tr style=\"text-align: right;\">\n",
       "      <th></th>\n",
       "      <th>latitude</th>\n",
       "      <th>longitude</th>\n",
       "      <th>primary_fuel</th>\n",
       "      <th>commissioning_year</th>\n",
       "      <th>geolocation_source</th>\n",
       "      <th>generation_gwh_2014</th>\n",
       "      <th>generation_gwh_2015</th>\n",
       "      <th>generation_gwh_2016</th>\n",
       "      <th>generation_gwh_2017</th>\n",
       "      <th>generation_gwh_2018</th>\n",
       "    </tr>\n",
       "  </thead>\n",
       "  <tbody>\n",
       "    <tr>\n",
       "      <th>0</th>\n",
       "      <td>1.113793</td>\n",
       "      <td>-0.844329</td>\n",
       "      <td>1.229731</td>\n",
       "      <td>0.897032</td>\n",
       "      <td>-1.012660</td>\n",
       "      <td>-0.444704</td>\n",
       "      <td>-0.458054</td>\n",
       "      <td>-0.465659</td>\n",
       "      <td>-0.474040</td>\n",
       "      <td>-0.473770</td>\n",
       "    </tr>\n",
       "    <tr>\n",
       "      <th>1</th>\n",
       "      <td>0.571325</td>\n",
       "      <td>-0.562462</td>\n",
       "      <td>-0.971118</td>\n",
       "      <td>-1.133446</td>\n",
       "      <td>0.413959</td>\n",
       "      <td>-0.444704</td>\n",
       "      <td>-0.458054</td>\n",
       "      <td>-0.465659</td>\n",
       "      <td>-0.474040</td>\n",
       "      <td>-0.473770</td>\n",
       "    </tr>\n",
       "    <tr>\n",
       "      <th>2</th>\n",
       "      <td>0.116967</td>\n",
       "      <td>-1.641027</td>\n",
       "      <td>1.669901</td>\n",
       "      <td>-1.133446</td>\n",
       "      <td>0.413959</td>\n",
       "      <td>-0.444704</td>\n",
       "      <td>-0.458054</td>\n",
       "      <td>-0.465659</td>\n",
       "      <td>-0.474040</td>\n",
       "      <td>-0.473770</td>\n",
       "    </tr>\n",
       "    <tr>\n",
       "      <th>3</th>\n",
       "      <td>0.429248</td>\n",
       "      <td>2.888254</td>\n",
       "      <td>-0.530948</td>\n",
       "      <td>0.889750</td>\n",
       "      <td>0.413959</td>\n",
       "      <td>-0.106459</td>\n",
       "      <td>0.008590</td>\n",
       "      <td>0.007741</td>\n",
       "      <td>-0.139850</td>\n",
       "      <td>-0.168949</td>\n",
       "    </tr>\n",
       "    <tr>\n",
       "      <th>4</th>\n",
       "      <td>0.125935</td>\n",
       "      <td>1.044344</td>\n",
       "      <td>-0.971118</td>\n",
       "      <td>0.901194</td>\n",
       "      <td>0.413959</td>\n",
       "      <td>1.357578</td>\n",
       "      <td>3.025757</td>\n",
       "      <td>3.074972</td>\n",
       "      <td>2.470218</td>\n",
       "      <td>3.407351</td>\n",
       "    </tr>\n",
       "    <tr>\n",
       "      <th>...</th>\n",
       "      <td>...</td>\n",
       "      <td>...</td>\n",
       "      <td>...</td>\n",
       "      <td>...</td>\n",
       "      <td>...</td>\n",
       "      <td>...</td>\n",
       "      <td>...</td>\n",
       "      <td>...</td>\n",
       "      <td>...</td>\n",
       "      <td>...</td>\n",
       "    </tr>\n",
       "    <tr>\n",
       "      <th>829</th>\n",
       "      <td>-0.773321</td>\n",
       "      <td>0.003580</td>\n",
       "      <td>-0.971118</td>\n",
       "      <td>0.902234</td>\n",
       "      <td>0.413959</td>\n",
       "      <td>-0.444704</td>\n",
       "      <td>-0.492674</td>\n",
       "      <td>-0.365806</td>\n",
       "      <td>-0.028398</td>\n",
       "      <td>-0.136555</td>\n",
       "    </tr>\n",
       "    <tr>\n",
       "      <th>830</th>\n",
       "      <td>-1.313266</td>\n",
       "      <td>0.170150</td>\n",
       "      <td>1.229731</td>\n",
       "      <td>-1.133446</td>\n",
       "      <td>-2.439279</td>\n",
       "      <td>-0.444704</td>\n",
       "      <td>-0.458054</td>\n",
       "      <td>-0.465659</td>\n",
       "      <td>-0.474040</td>\n",
       "      <td>-0.473770</td>\n",
       "    </tr>\n",
       "    <tr>\n",
       "      <th>831</th>\n",
       "      <td>-0.935081</td>\n",
       "      <td>-0.362211</td>\n",
       "      <td>1.669901</td>\n",
       "      <td>-1.133446</td>\n",
       "      <td>0.413959</td>\n",
       "      <td>-0.444704</td>\n",
       "      <td>-0.458054</td>\n",
       "      <td>-0.465659</td>\n",
       "      <td>-0.474040</td>\n",
       "      <td>-0.473770</td>\n",
       "    </tr>\n",
       "    <tr>\n",
       "      <th>832</th>\n",
       "      <td>0.505247</td>\n",
       "      <td>-0.739888</td>\n",
       "      <td>-0.971118</td>\n",
       "      <td>-1.133446</td>\n",
       "      <td>0.413959</td>\n",
       "      <td>-0.444704</td>\n",
       "      <td>-0.458054</td>\n",
       "      <td>-0.465659</td>\n",
       "      <td>-0.474040</td>\n",
       "      <td>-0.473770</td>\n",
       "    </tr>\n",
       "    <tr>\n",
       "      <th>833</th>\n",
       "      <td>-1.782909</td>\n",
       "      <td>0.028299</td>\n",
       "      <td>1.669901</td>\n",
       "      <td>-1.133446</td>\n",
       "      <td>0.413959</td>\n",
       "      <td>-0.444704</td>\n",
       "      <td>-0.458054</td>\n",
       "      <td>-0.465659</td>\n",
       "      <td>-0.474040</td>\n",
       "      <td>-0.473770</td>\n",
       "    </tr>\n",
       "  </tbody>\n",
       "</table>\n",
       "<p>834 rows × 10 columns</p>\n",
       "</div>"
      ],
      "text/plain": [
       "     latitude  longitude  primary_fuel  commissioning_year  \\\n",
       "0    1.113793  -0.844329      1.229731            0.897032   \n",
       "1    0.571325  -0.562462     -0.971118           -1.133446   \n",
       "2    0.116967  -1.641027      1.669901           -1.133446   \n",
       "3    0.429248   2.888254     -0.530948            0.889750   \n",
       "4    0.125935   1.044344     -0.971118            0.901194   \n",
       "..        ...        ...           ...                 ...   \n",
       "829 -0.773321   0.003580     -0.971118            0.902234   \n",
       "830 -1.313266   0.170150      1.229731           -1.133446   \n",
       "831 -0.935081  -0.362211      1.669901           -1.133446   \n",
       "832  0.505247  -0.739888     -0.971118           -1.133446   \n",
       "833 -1.782909   0.028299      1.669901           -1.133446   \n",
       "\n",
       "     geolocation_source  generation_gwh_2014  generation_gwh_2015  \\\n",
       "0             -1.012660            -0.444704            -0.458054   \n",
       "1              0.413959            -0.444704            -0.458054   \n",
       "2              0.413959            -0.444704            -0.458054   \n",
       "3              0.413959            -0.106459             0.008590   \n",
       "4              0.413959             1.357578             3.025757   \n",
       "..                  ...                  ...                  ...   \n",
       "829            0.413959            -0.444704            -0.492674   \n",
       "830           -2.439279            -0.444704            -0.458054   \n",
       "831            0.413959            -0.444704            -0.458054   \n",
       "832            0.413959            -0.444704            -0.458054   \n",
       "833            0.413959            -0.444704            -0.458054   \n",
       "\n",
       "     generation_gwh_2016  generation_gwh_2017  generation_gwh_2018  \n",
       "0              -0.465659            -0.474040            -0.473770  \n",
       "1              -0.465659            -0.474040            -0.473770  \n",
       "2              -0.465659            -0.474040            -0.473770  \n",
       "3               0.007741            -0.139850            -0.168949  \n",
       "4               3.074972             2.470218             3.407351  \n",
       "..                   ...                  ...                  ...  \n",
       "829            -0.365806            -0.028398            -0.136555  \n",
       "830            -0.465659            -0.474040            -0.473770  \n",
       "831            -0.465659            -0.474040            -0.473770  \n",
       "832            -0.465659            -0.474040            -0.473770  \n",
       "833            -0.465659            -0.474040            -0.473770  \n",
       "\n",
       "[834 rows x 10 columns]"
      ]
     },
     "execution_count": 50,
     "metadata": {},
     "output_type": "execute_result"
    }
   ],
   "source": [
    "# Scaling the data\n",
    "scaler = StandardScaler()\n",
    "x = pd.DataFrame(scaler.fit_transform(x), columns=x.columns)\n",
    "x"
   ]
  },
  {
   "cell_type": "code",
   "execution_count": 52,
   "id": "1218e2d7",
   "metadata": {},
   "outputs": [],
   "source": [
    "x_train,x_test,y_train,y_test = train_test_split(x, y, test_size = 0.30, random_state =45)"
   ]
  },
  {
   "cell_type": "code",
   "execution_count": 53,
   "id": "f607d0bf",
   "metadata": {},
   "outputs": [
    {
     "name": "stdout",
     "output_type": "stream",
     "text": [
      "0.7877349009439729\n"
     ]
    }
   ],
   "source": [
    "from sklearn.linear_model import LinearRegression\n",
    "\n",
    "lr = LinearRegression()\n",
    "lr.fit(x_train,y_train)\n",
    "print(lr.score(x_train,y_train))\n",
    "lr_pred = lr.predict(x_test)"
   ]
  },
  {
   "cell_type": "code",
   "execution_count": 55,
   "id": "28b96fae",
   "metadata": {},
   "outputs": [
    {
     "name": "stdout",
     "output_type": "stream",
     "text": [
      "MSE: 72410.78478211354\n",
      "MAE: 153.25812548683487\n",
      "r2_score: 0.5386436052137442\n"
     ]
    }
   ],
   "source": [
    "from sklearn.metrics import mean_absolute_error\n",
    "print('MSE:',mean_squared_error(lr_pred,y_test))\n",
    "print('MAE:',mean_absolute_error(lr_pred,y_test))\n",
    "print('r2_score:',r2_score(lr_pred,y_test))"
   ]
  },
  {
   "cell_type": "code",
   "execution_count": 56,
   "id": "ec2a4d09",
   "metadata": {},
   "outputs": [
    {
     "name": "stdout",
     "output_type": "stream",
     "text": [
      "R2_score: 0.6592310700065932\n",
      "MSE: 71213.01265541068\n",
      "MAE: 152.39503787385988\n",
      "RMSE: 266.8576636625051\n"
     ]
    }
   ],
   "source": [
    "# Using SGD regressor\n",
    "from sklearn.linear_model import SGDRegressor\n",
    "from sklearn import metrics\n",
    "sgd=SGDRegressor()\n",
    "sgd.fit(x_train,y_train)\n",
    "pred=sgd.predict(x_test)\n",
    "print('R2_score:',r2_score(y_test,pred))\n",
    "print('MSE:',metrics.mean_squared_error(y_test,pred))\n",
    "print('MAE:',metrics.mean_absolute_error(y_test,pred))\n",
    "print('RMSE:',np.sqrt(metrics.mean_squared_error(y_test,pred)))"
   ]
  },
  {
   "cell_type": "code",
   "execution_count": 60,
   "id": "ed307800",
   "metadata": {},
   "outputs": [
    {
     "name": "stdout",
     "output_type": "stream",
     "text": [
      "{'alpha': 1, 'random_state': 0}\n"
     ]
    }
   ],
   "source": [
    "# Using LASSO\n",
    "from sklearn.linear_model import Lasso,Ridge\n",
    "parameters={'alpha':[0.0001,0.001,0.01,0.1,1,10],'random_state':list(range(0,100))}\n",
    "ls=Lasso()\n",
    "Z=GridSearchCV(ls,parameters)\n",
    "Z.fit(x_train,y_train)\n",
    "print(Z.best_params_)"
   ]
  },
  {
   "cell_type": "code",
   "execution_count": 61,
   "id": "d99bc98f",
   "metadata": {},
   "outputs": [
    {
     "name": "stdout",
     "output_type": "stream",
     "text": [
      "0.7876258451499726\n"
     ]
    }
   ],
   "source": [
    "ls=Lasso()\n",
    "ls.fit(x_train,y_train)\n",
    "print(ls.score(x_train,y_train))\n",
    "ls_predict=ls.predict(x_test)"
   ]
  },
  {
   "cell_type": "code",
   "execution_count": 62,
   "id": "3c27f9e3",
   "metadata": {},
   "outputs": [
    {
     "name": "stdout",
     "output_type": "stream",
     "text": [
      "R2_score: 0.6528838603290408\n",
      "MSE: 72539.43617384243\n",
      "MAE: 152.66276826002652\n",
      "RMSE: 269.33146153734515\n"
     ]
    }
   ],
   "source": [
    "ls=Lasso(alpha=1,random_state=0)\n",
    "ls.fit(x_train,y_train)\n",
    "pred=ls.predict(x_test)\n",
    "print('R2_score:',r2_score(y_test,pred))\n",
    "print('MSE:',metrics.mean_squared_error(y_test,pred))\n",
    "print('MAE:',metrics.mean_absolute_error(y_test,pred))\n",
    "print('RMSE:',np.sqrt(metrics.mean_squared_error(y_test,pred)))"
   ]
  },
  {
   "cell_type": "code",
   "execution_count": 63,
   "id": "15fc0bef",
   "metadata": {},
   "outputs": [
    {
     "name": "stdout",
     "output_type": "stream",
     "text": [
      "{'alpha': 10, 'solver': 'saga'}\n"
     ]
    }
   ],
   "source": [
    "# Using RIDGE\n",
    "parameters={'alpha':[0.001,0.01,0.1,1,10],'solver':['auto','svd','cholesky','lsqr','sparse_cg','sag','saga']}\n",
    "rd=Ridge()\n",
    "Z1=GridSearchCV(rd,parameters)\n",
    "Z1.fit(x_train,y_train)\n",
    "print(Z1.best_params_)"
   ]
  },
  {
   "cell_type": "code",
   "execution_count": 64,
   "id": "04fc189c",
   "metadata": {},
   "outputs": [
    {
     "name": "stdout",
     "output_type": "stream",
     "text": [
      "0.7877107133956428\n"
     ]
    }
   ],
   "source": [
    "from sklearn.linear_model import Ridge\n",
    "\n",
    "rd=Ridge()\n",
    "rd.fit(x_train,y_train)\n",
    "print(rd.score(x_train,y_train))\n",
    "rd_predict=rd.predict(x_test)"
   ]
  },
  {
   "cell_type": "code",
   "execution_count": 65,
   "id": "92b5ab7c",
   "metadata": {},
   "outputs": [
    {
     "name": "stdout",
     "output_type": "stream",
     "text": [
      "R2_score: 0.6588726164574186\n",
      "MSE: 71287.92135420036\n",
      "MAE: 151.81444335686294\n",
      "RMSE: 266.99798005640486\n"
     ]
    }
   ],
   "source": [
    "rd=Ridge(alpha=10,solver='lsqr')\n",
    "rd.fit(x_train,y_train)\n",
    "pred=rd.predict(x_test)\n",
    "print('R2_score:',r2_score(y_test,pred))\n",
    "print('MSE:',metrics.mean_squared_error(y_test,pred))\n",
    "print('MAE:',metrics.mean_absolute_error(y_test,pred))\n",
    "print('RMSE:',np.sqrt(metrics.mean_squared_error(y_test,pred)))"
   ]
  },
  {
   "cell_type": "code",
   "execution_count": 66,
   "id": "34311ff1",
   "metadata": {},
   "outputs": [
    {
     "name": "stdout",
     "output_type": "stream",
     "text": [
      "0.9762278849572157\n"
     ]
    }
   ],
   "source": [
    "# Using Random forest \n",
    "from sklearn.ensemble import RandomForestRegressor\n",
    "\n",
    "rf=RandomForestRegressor()\n",
    "rf.fit(x_train,y_train)\n",
    "print(rf.score(x_train,y_train))\n",
    "rf_pred=rf.predict(x_test)"
   ]
  },
  {
   "cell_type": "code",
   "execution_count": 67,
   "id": "b2874a68",
   "metadata": {},
   "outputs": [
    {
     "name": "stdout",
     "output_type": "stream",
     "text": [
      "MSE: 60791.74054074838\n",
      "MAE: 116.1767076494024\n",
      "r2_score: 0.6261853557566974\n"
     ]
    }
   ],
   "source": [
    "print('MSE:',mean_squared_error(rf_pred,y_test))\n",
    "print('MAE:',mean_absolute_error(rf_pred,y_test))\n",
    "print('r2_score:',r2_score(rf_pred,y_test))"
   ]
  },
  {
   "cell_type": "code",
   "execution_count": 68,
   "id": "e1882e79",
   "metadata": {},
   "outputs": [
    {
     "name": "stdout",
     "output_type": "stream",
     "text": [
      "LR    : 48878.230320, 26357.211632\n",
      "L    : 48696.477468, 26614.982062\n",
      "R    : 48766.497320, 26336.147121\n",
      "RF    : 39788.340359, 25092.261911\n"
     ]
    }
   ],
   "source": [
    "from sklearn.model_selection import cross_val_score\n",
    "\n",
    "np.random.seed(10)\n",
    "def rmse_cv(model, x,y):\n",
    "    rmse =- (cross_val_score(model, x,y, scoring='neg_mean_squared_error', cv=10))\n",
    "    return(rmse)\n",
    "\n",
    "\n",
    "models = [LinearRegression(),\n",
    "             Lasso(),\n",
    "             Ridge(),\n",
    "             RandomForestRegressor(),]\n",
    "             \n",
    "             \n",
    "\n",
    "names = ['LR','L','R','RF',]\n",
    "\n",
    "for model,name in zip(models,names):\n",
    "    score = rmse_cv(model,x,y)\n",
    "    print(\"{}    : {:.6f}, {:4f}\".format(name,score.mean(),score.std()))"
   ]
  },
  {
   "cell_type": "code",
   "execution_count": 69,
   "id": "6346e246",
   "metadata": {},
   "outputs": [
    {
     "name": "stdout",
     "output_type": "stream",
     "text": [
      "{'n_estimators': [200, 288, 377, 466, 555, 644, 733, 822, 911, 1000], 'max_features': ['auto', 'sqrt'], 'max_depth': [10, 20, 30, 40, 50, 60, 70, 80, 90, 100, 110, None], 'min_samples_split': [2, 5, 10], 'min_samples_leaf': [1, 2, 4], 'bootstrap': [True, False]}\n"
     ]
    }
   ],
   "source": [
    "# Hypertuning\n",
    "from sklearn.model_selection import RandomizedSearchCV\n",
    "\n",
    "\n",
    "n_estimators = [int(x) for x in np.linspace(start = 200, stop = 1000, num = 10)]\n",
    "\n",
    "max_features = ['auto', 'sqrt']\n",
    "\n",
    "max_depth = [int(x) for x in np.linspace(10, 110, num = 11)]\n",
    "max_depth.append(None)\n",
    "\n",
    "min_samples_split = [2, 5, 10]\n",
    "\n",
    "min_samples_leaf = [1, 2, 4]\n",
    "\n",
    "bootstrap = [True, False]\n",
    "\n",
    "random_grid = {'n_estimators': n_estimators,\n",
    "               'max_features': max_features,\n",
    "               'max_depth': max_depth,\n",
    "               'min_samples_split': min_samples_split,\n",
    "               'min_samples_leaf': min_samples_leaf,\n",
    "               'bootstrap': bootstrap}\n",
    "print(random_grid)"
   ]
  },
  {
   "cell_type": "code",
   "execution_count": 70,
   "id": "85f1f5b5",
   "metadata": {},
   "outputs": [],
   "source": [
    "rf1=RandomForestRegressor()\n",
    "rf_randomized=RandomizedSearchCV(estimator=rf1,param_distributions=random_grid,n_iter=100,cv=3,verbose=2,\n",
    "                               random_state=100,n_jobs=-1)"
   ]
  },
  {
   "cell_type": "code",
   "execution_count": 71,
   "id": "0a5ed34e",
   "metadata": {},
   "outputs": [
    {
     "name": "stdout",
     "output_type": "stream",
     "text": [
      "Fitting 3 folds for each of 100 candidates, totalling 300 fits\n"
     ]
    },
    {
     "data": {
      "text/plain": [
       "RandomizedSearchCV(cv=3, estimator=RandomForestRegressor(), n_iter=100,\n",
       "                   n_jobs=-1,\n",
       "                   param_distributions={'bootstrap': [True, False],\n",
       "                                        'max_depth': [10, 20, 30, 40, 50, 60,\n",
       "                                                      70, 80, 90, 100, 110,\n",
       "                                                      None],\n",
       "                                        'max_features': ['auto', 'sqrt'],\n",
       "                                        'min_samples_leaf': [1, 2, 4],\n",
       "                                        'min_samples_split': [2, 5, 10],\n",
       "                                        'n_estimators': [200, 288, 377, 466,\n",
       "                                                         555, 644, 733, 822,\n",
       "                                                         911, 1000]},\n",
       "                   random_state=100, verbose=2)"
      ]
     },
     "execution_count": 71,
     "metadata": {},
     "output_type": "execute_result"
    }
   ],
   "source": [
    "rf_randomized.fit(x_train,y_train)"
   ]
  },
  {
   "cell_type": "code",
   "execution_count": 72,
   "id": "628db863",
   "metadata": {},
   "outputs": [
    {
     "data": {
      "text/plain": [
       "{'n_estimators': 822,\n",
       " 'min_samples_split': 5,\n",
       " 'min_samples_leaf': 1,\n",
       " 'max_features': 'sqrt',\n",
       " 'max_depth': 110,\n",
       " 'bootstrap': True}"
      ]
     },
     "execution_count": 72,
     "metadata": {},
     "output_type": "execute_result"
    }
   ],
   "source": [
    "rf_randomized.best_params_"
   ]
  },
  {
   "cell_type": "code",
   "execution_count": 74,
   "id": "5eccc8ff",
   "metadata": {},
   "outputs": [],
   "source": [
    "rf_final=rf_randomized.best_estimator_"
   ]
  },
  {
   "cell_type": "code",
   "execution_count": 75,
   "id": "74d87e57",
   "metadata": {},
   "outputs": [],
   "source": [
    "y_pred_random=rf_final.predict(x_test)"
   ]
  },
  {
   "cell_type": "markdown",
   "id": "bd1a9c0e",
   "metadata": {},
   "source": [
    "Hence, we can see that Random Forest gives us the best accuracy score of 97 %"
   ]
  },
  {
   "cell_type": "code",
   "execution_count": 78,
   "id": "2c1dca18",
   "metadata": {},
   "outputs": [],
   "source": [
    "# Saving the model\n",
    "import pickle\n",
    "file = 'GLOBAL POWER PLANT CAPACITY_MW.pkl'\n",
    "#save file\n",
    "save = pickle.dump(RandomForestRegressor,open(file,'wb'))"
   ]
  },
  {
   "cell_type": "code",
   "execution_count": 79,
   "id": "81d5d05d",
   "metadata": {},
   "outputs": [
    {
     "data": {
      "text/html": [
       "<div>\n",
       "<style scoped>\n",
       "    .dataframe tbody tr th:only-of-type {\n",
       "        vertical-align: middle;\n",
       "    }\n",
       "\n",
       "    .dataframe tbody tr th {\n",
       "        vertical-align: top;\n",
       "    }\n",
       "\n",
       "    .dataframe thead th {\n",
       "        text-align: right;\n",
       "    }\n",
       "</style>\n",
       "<table border=\"1\" class=\"dataframe\">\n",
       "  <thead>\n",
       "    <tr style=\"text-align: right;\">\n",
       "      <th></th>\n",
       "      <th>original</th>\n",
       "      <th>predicted</th>\n",
       "    </tr>\n",
       "  </thead>\n",
       "  <tbody>\n",
       "    <tr>\n",
       "      <th>0</th>\n",
       "      <td>49.00</td>\n",
       "      <td>5.286287</td>\n",
       "    </tr>\n",
       "    <tr>\n",
       "      <th>1</th>\n",
       "      <td>6.25</td>\n",
       "      <td>-8.806058</td>\n",
       "    </tr>\n",
       "    <tr>\n",
       "      <th>2</th>\n",
       "      <td>610.00</td>\n",
       "      <td>516.626226</td>\n",
       "    </tr>\n",
       "    <tr>\n",
       "      <th>3</th>\n",
       "      <td>500.00</td>\n",
       "      <td>734.301696</td>\n",
       "    </tr>\n",
       "    <tr>\n",
       "      <th>4</th>\n",
       "      <td>1000.00</td>\n",
       "      <td>1162.457591</td>\n",
       "    </tr>\n",
       "    <tr>\n",
       "      <th>...</th>\n",
       "      <td>...</td>\n",
       "      <td>...</td>\n",
       "    </tr>\n",
       "    <tr>\n",
       "      <th>246</th>\n",
       "      <td>27.30</td>\n",
       "      <td>17.787332</td>\n",
       "    </tr>\n",
       "    <tr>\n",
       "      <th>247</th>\n",
       "      <td>400.00</td>\n",
       "      <td>491.726152</td>\n",
       "    </tr>\n",
       "    <tr>\n",
       "      <th>248</th>\n",
       "      <td>25.00</td>\n",
       "      <td>147.976554</td>\n",
       "    </tr>\n",
       "    <tr>\n",
       "      <th>249</th>\n",
       "      <td>11.20</td>\n",
       "      <td>30.994465</td>\n",
       "    </tr>\n",
       "    <tr>\n",
       "      <th>250</th>\n",
       "      <td>9.90</td>\n",
       "      <td>2.274556</td>\n",
       "    </tr>\n",
       "  </tbody>\n",
       "</table>\n",
       "<p>251 rows × 2 columns</p>\n",
       "</div>"
      ],
      "text/plain": [
       "     original    predicted\n",
       "0       49.00     5.286287\n",
       "1        6.25    -8.806058\n",
       "2      610.00   516.626226\n",
       "3      500.00   734.301696\n",
       "4     1000.00  1162.457591\n",
       "..        ...          ...\n",
       "246     27.30    17.787332\n",
       "247    400.00   491.726152\n",
       "248     25.00   147.976554\n",
       "249     11.20    30.994465\n",
       "250      9.90     2.274556\n",
       "\n",
       "[251 rows x 2 columns]"
      ]
     },
     "execution_count": 79,
     "metadata": {},
     "output_type": "execute_result"
    }
   ],
   "source": [
    "# Conclusion\n",
    "a=np.array(y_test)\n",
    "predicted=np.array(lr.predict(x_test))\n",
    "df_com=pd.DataFrame({\"original\":a, \"predicted\":predicted}, index=range(len(a)))\n",
    "df_com"
   ]
  },
  {
   "cell_type": "markdown",
   "id": "2b8b3564",
   "metadata": {},
   "source": [
    "# Model 2 - \n",
    "\n",
    "Target Variable - Primary_fuel\n"
   ]
  },
  {
   "cell_type": "code",
   "execution_count": 80,
   "id": "31ac5a26",
   "metadata": {},
   "outputs": [],
   "source": [
    "y = df_new['primary_fuel']\n",
    "x = df_new.drop(columns=['primary_fuel'], axis=1)"
   ]
  },
  {
   "cell_type": "code",
   "execution_count": 81,
   "id": "11e52d93",
   "metadata": {},
   "outputs": [
    {
     "name": "stdout",
     "output_type": "stream",
     "text": [
      "Max Accuracy is 0.6414342629482072 on Random State 296\n"
     ]
    }
   ],
   "source": [
    "maxaccu = 0\n",
    "maxRS = 0\n",
    "\n",
    "for i in range (1, 500):\n",
    "    x_train, x_test, y_train, y_test = train_test_split(x, y, test_size = 0.30, random_state = i)\n",
    "    LR = LogisticRegression()\n",
    "    LR.fit(x_train, y_train)\n",
    "    pred = LR.predict(x_test)\n",
    "    acc = accuracy_score(y_test, pred)\n",
    "    if acc > maxaccu:\n",
    "        maxaccu = acc\n",
    "        maxRS = i\n",
    "print ('Max Accuracy is', maxaccu, 'on Random State', maxRS)"
   ]
  },
  {
   "cell_type": "code",
   "execution_count": 82,
   "id": "1c8f05e1",
   "metadata": {},
   "outputs": [],
   "source": [
    "#Splitting data into train test split.\n",
    "x_train, x_test, y_train, y_test = train_test_split(x, y, test_size = 0.30, random_state = 296)"
   ]
  },
  {
   "cell_type": "code",
   "execution_count": 83,
   "id": "5d2f8c94",
   "metadata": {},
   "outputs": [
    {
     "name": "stdout",
     "output_type": "stream",
     "text": [
      "Training accuracy : 0.5951972555746141\n",
      "Testing accuracy : 0.6414342629482072\n",
      "              precision    recall  f1-score   support\n",
      "\n",
      "           0       0.00      0.00      0.00        12\n",
      "           1       0.80      0.52      0.63        71\n",
      "           2       0.00      0.00      0.00        20\n",
      "           3       0.77      0.92      0.84        78\n",
      "           4       0.00      0.00      0.00         3\n",
      "           5       0.00      0.00      0.00         2\n",
      "           6       0.68      0.76      0.71        33\n",
      "           7       0.42      0.84      0.56        32\n",
      "\n",
      "    accuracy                           0.64       251\n",
      "   macro avg       0.33      0.38      0.34       251\n",
      "weighted avg       0.61      0.64      0.61       251\n",
      "\n",
      "[[ 0  0  0  0  0  0  3  9]\n",
      " [ 0 37  5 10  0  2  4 13]\n",
      " [ 0  2  0 10  0  1  0  7]\n",
      " [ 0  6  0 72  0  0  0  0]\n",
      " [ 0  1  1  0  0  1  0  0]\n",
      " [ 0  0  0  0  0  0  0  2]\n",
      " [ 0  0  0  1  0  0 25  7]\n",
      " [ 0  0  0  0  0  0  5 27]]\n"
     ]
    }
   ],
   "source": [
    "from sklearn.metrics import classification_report, confusion_matrix\n",
    "LR = LogisticRegression()\n",
    "\n",
    "# feeding the training set into the model\n",
    "LR.fit(x_train, y_train)\n",
    "\n",
    "# predicting the results for the test set\n",
    "y_pred = LR.predict(x_test)\n",
    "\n",
    "# calculating the training and testing accuracies\n",
    "print(\"Training accuracy :\", LR.score(x_train, y_train))\n",
    "print(\"Testing accuracy :\", LR.score(x_test, y_test))\n",
    "\n",
    "# classification report\n",
    "print(classification_report(y_test, y_pred))\n",
    "\n",
    "# confusion matrix\n",
    "print(confusion_matrix(y_test, y_pred))"
   ]
  },
  {
   "cell_type": "code",
   "execution_count": 84,
   "id": "c75a17a0",
   "metadata": {},
   "outputs": [
    {
     "name": "stdout",
     "output_type": "stream",
     "text": [
      "Training accuracy : 1.0\n",
      "Testing accuracy : 0.796812749003984\n"
     ]
    }
   ],
   "source": [
    "# USING DECISION TREE\n",
    "from sklearn.tree import DecisionTreeClassifier\n",
    "\n",
    "\n",
    "model = DecisionTreeClassifier()\n",
    "model.fit(x_train, y_train)\n",
    "y_pred = model.predict(x_test)\n",
    "\n",
    "# calculating the training and testing accuracies\n",
    "print(\"Training accuracy :\", model.score(x_train, y_train))\n",
    "print(\"Testing accuracy :\", model.score(x_test, y_test))"
   ]
  },
  {
   "cell_type": "code",
   "execution_count": 85,
   "id": "9d7ee7b5",
   "metadata": {},
   "outputs": [
    {
     "name": "stdout",
     "output_type": "stream",
     "text": [
      "              precision    recall  f1-score   support\n",
      "\n",
      "           0       0.88      0.58      0.70        12\n",
      "           1       0.73      0.79      0.76        71\n",
      "           2       0.35      0.30      0.32        20\n",
      "           3       0.93      0.86      0.89        78\n",
      "           4       0.00      0.00      0.00         3\n",
      "           5       0.14      0.50      0.22         2\n",
      "           6       1.00      1.00      1.00        33\n",
      "           7       0.88      0.94      0.91        32\n",
      "\n",
      "    accuracy                           0.80       251\n",
      "   macro avg       0.61      0.62      0.60       251\n",
      "weighted avg       0.81      0.80      0.80       251\n",
      "\n",
      "[[ 7  4  0  0  0  0  0  1]\n",
      " [ 1 56  7  3  3  1  0  0]\n",
      " [ 0  7  6  2  0  3  0  2]\n",
      " [ 0  7  3 67  0  1  0  0]\n",
      " [ 0  1  0  0  0  1  0  1]\n",
      " [ 0  0  1  0  0  1  0  0]\n",
      " [ 0  0  0  0  0  0 33  0]\n",
      " [ 0  2  0  0  0  0  0 30]]\n"
     ]
    }
   ],
   "source": [
    "# classification report\n",
    "print(classification_report(y_test, y_pred))\n",
    "\n",
    "# confusion matrix\n",
    "print(confusion_matrix(y_test, y_pred))"
   ]
  },
  {
   "cell_type": "code",
   "execution_count": 86,
   "id": "a7c6ac9c",
   "metadata": {},
   "outputs": [
    {
     "name": "stdout",
     "output_type": "stream",
     "text": [
      "LR   : 3.295060, 0.388567\n",
      "RF   : 1.454919, 0.422454\n",
      "DTR   : 3.307243, 0.945829\n"
     ]
    }
   ],
   "source": [
    "# Cross Validation\n",
    "from sklearn.model_selection import cross_val_score\n",
    "from sklearn.svm import SVR\n",
    "from sklearn.tree import DecisionTreeRegressor\n",
    "from sklearn.linear_model import SGDRegressor\n",
    "from sklearn.ensemble import GradientBoostingRegressor\n",
    "from sklearn.linear_model import Lasso,Ridge\n",
    "\n",
    "np.random.seed(10)\n",
    "def rmse_cv(model,x,y):\n",
    "    rmse =-(cross_val_score(model,x,y, scoring='neg_mean_squared_error', cv=10))\n",
    "    return(rmse)\n",
    "\n",
    "models = [LinearRegression(),\n",
    "         RandomForestRegressor(),\n",
    "         DecisionTreeRegressor(),]\n",
    "\n",
    "names = ['LR','RF','DTR']\n",
    "\n",
    "for model,name in zip(models,names):\n",
    "    score = rmse_cv(model,x,y)\n",
    "    print(\"{}   : {:.6f}, {:4f}\".format(name,score.mean(),score.std()))"
   ]
  },
  {
   "cell_type": "code",
   "execution_count": 87,
   "id": "0ec6cb5d",
   "metadata": {},
   "outputs": [
    {
     "name": "stdout",
     "output_type": "stream",
     "text": [
      "{'n_estimators': [200, 288, 377, 466, 555, 644, 733, 822, 911, 1000], 'max_features': ['auto', 'sqrt'], 'max_depth': [10, 20, 30, 40, 50, 60, 70, 80, 90, 100, 110, None], 'min_samples_split': [2, 5, 10], 'min_samples_leaf': [1, 2, 4], 'bootstrap': [True, False]}\n"
     ]
    }
   ],
   "source": [
    "# Hypertuning\n",
    "from sklearn.model_selection import RandomizedSearchCV\n",
    "\n",
    "\n",
    "n_estimators = [int(x) for x in np.linspace(start = 200, stop = 1000, num = 10)]\n",
    "\n",
    "max_features = ['auto', 'sqrt']\n",
    "\n",
    "max_depth = [int(x) for x in np.linspace(10, 110, num = 11)]\n",
    "max_depth.append(None)\n",
    "\n",
    "min_samples_split = [2, 5, 10]\n",
    "\n",
    "min_samples_leaf = [1, 2, 4]\n",
    "\n",
    "bootstrap = [True, False]\n",
    "\n",
    "random_grid = {'n_estimators': n_estimators,\n",
    "               'max_features': max_features,\n",
    "               'max_depth': max_depth,\n",
    "               'min_samples_split': min_samples_split,\n",
    "               'min_samples_leaf': min_samples_leaf,\n",
    "               'bootstrap': bootstrap}\n",
    "print(random_grid)"
   ]
  },
  {
   "cell_type": "code",
   "execution_count": 88,
   "id": "810817c3",
   "metadata": {},
   "outputs": [],
   "source": [
    "rf1=RandomForestRegressor()\n",
    "rf_randomized=RandomizedSearchCV(estimator=rf1,param_distributions=random_grid,n_iter=100,cv=3,verbose=2,\n",
    "                               random_state=100,n_jobs=-1)"
   ]
  },
  {
   "cell_type": "code",
   "execution_count": 89,
   "id": "6769e6cc",
   "metadata": {},
   "outputs": [
    {
     "name": "stdout",
     "output_type": "stream",
     "text": [
      "Fitting 3 folds for each of 100 candidates, totalling 300 fits\n"
     ]
    },
    {
     "data": {
      "text/plain": [
       "RandomizedSearchCV(cv=3, estimator=RandomForestRegressor(), n_iter=100,\n",
       "                   n_jobs=-1,\n",
       "                   param_distributions={'bootstrap': [True, False],\n",
       "                                        'max_depth': [10, 20, 30, 40, 50, 60,\n",
       "                                                      70, 80, 90, 100, 110,\n",
       "                                                      None],\n",
       "                                        'max_features': ['auto', 'sqrt'],\n",
       "                                        'min_samples_leaf': [1, 2, 4],\n",
       "                                        'min_samples_split': [2, 5, 10],\n",
       "                                        'n_estimators': [200, 288, 377, 466,\n",
       "                                                         555, 644, 733, 822,\n",
       "                                                         911, 1000]},\n",
       "                   random_state=100, verbose=2)"
      ]
     },
     "execution_count": 89,
     "metadata": {},
     "output_type": "execute_result"
    }
   ],
   "source": [
    "rf_randomized.fit(x_train,y_train)"
   ]
  },
  {
   "cell_type": "code",
   "execution_count": 90,
   "id": "c893b4ad",
   "metadata": {},
   "outputs": [
    {
     "data": {
      "text/plain": [
       "{'n_estimators': 822,\n",
       " 'min_samples_split': 10,\n",
       " 'min_samples_leaf': 1,\n",
       " 'max_features': 'sqrt',\n",
       " 'max_depth': 40,\n",
       " 'bootstrap': False}"
      ]
     },
     "execution_count": 90,
     "metadata": {},
     "output_type": "execute_result"
    }
   ],
   "source": [
    "rf_randomized.best_params_"
   ]
  },
  {
   "cell_type": "code",
   "execution_count": 91,
   "id": "59e8eb53",
   "metadata": {},
   "outputs": [],
   "source": [
    "rf_final=rf_randomized.best_estimator_"
   ]
  },
  {
   "cell_type": "code",
   "execution_count": 92,
   "id": "701456a2",
   "metadata": {},
   "outputs": [],
   "source": [
    "y_pred_random=rf_final.predict(x_test)"
   ]
  },
  {
   "cell_type": "markdown",
   "id": "215c0371",
   "metadata": {},
   "source": [
    "Hence, we can see that Random Forest gives us the best accuracy score of 88 %"
   ]
  },
  {
   "cell_type": "code",
   "execution_count": 93,
   "id": "9edbd8bd",
   "metadata": {},
   "outputs": [],
   "source": [
    "# Saving The model\n",
    "import pickle\n",
    "file = 'GLOBAL POWER PLANT PRIMARY_FUEL.pkl'\n",
    "#save file\n",
    "save = pickle.dump(RandomForestRegressor,open(file,'wb'))"
   ]
  },
  {
   "cell_type": "code",
   "execution_count": 94,
   "id": "0ab46d5f",
   "metadata": {},
   "outputs": [
    {
     "data": {
      "text/html": [
       "<div>\n",
       "<style scoped>\n",
       "    .dataframe tbody tr th:only-of-type {\n",
       "        vertical-align: middle;\n",
       "    }\n",
       "\n",
       "    .dataframe tbody tr th {\n",
       "        vertical-align: top;\n",
       "    }\n",
       "\n",
       "    .dataframe thead th {\n",
       "        text-align: right;\n",
       "    }\n",
       "</style>\n",
       "<table border=\"1\" class=\"dataframe\">\n",
       "  <thead>\n",
       "    <tr style=\"text-align: right;\">\n",
       "      <th></th>\n",
       "      <th>original</th>\n",
       "      <th>predicted</th>\n",
       "    </tr>\n",
       "  </thead>\n",
       "  <tbody>\n",
       "    <tr>\n",
       "      <th>0</th>\n",
       "      <td>3</td>\n",
       "      <td>331291.843123</td>\n",
       "    </tr>\n",
       "    <tr>\n",
       "      <th>1</th>\n",
       "      <td>6</td>\n",
       "      <td>21421.552133</td>\n",
       "    </tr>\n",
       "    <tr>\n",
       "      <th>2</th>\n",
       "      <td>3</td>\n",
       "      <td>267378.389955</td>\n",
       "    </tr>\n",
       "    <tr>\n",
       "      <th>3</th>\n",
       "      <td>1</td>\n",
       "      <td>633165.623206</td>\n",
       "    </tr>\n",
       "    <tr>\n",
       "      <th>4</th>\n",
       "      <td>1</td>\n",
       "      <td>138941.168048</td>\n",
       "    </tr>\n",
       "    <tr>\n",
       "      <th>...</th>\n",
       "      <td>...</td>\n",
       "      <td>...</td>\n",
       "    </tr>\n",
       "    <tr>\n",
       "      <th>246</th>\n",
       "      <td>3</td>\n",
       "      <td>144914.444313</td>\n",
       "    </tr>\n",
       "    <tr>\n",
       "      <th>247</th>\n",
       "      <td>3</td>\n",
       "      <td>127099.758072</td>\n",
       "    </tr>\n",
       "    <tr>\n",
       "      <th>248</th>\n",
       "      <td>3</td>\n",
       "      <td>203479.612668</td>\n",
       "    </tr>\n",
       "    <tr>\n",
       "      <th>249</th>\n",
       "      <td>2</td>\n",
       "      <td>124117.120055</td>\n",
       "    </tr>\n",
       "    <tr>\n",
       "      <th>250</th>\n",
       "      <td>3</td>\n",
       "      <td>150503.611233</td>\n",
       "    </tr>\n",
       "  </tbody>\n",
       "</table>\n",
       "<p>251 rows × 2 columns</p>\n",
       "</div>"
      ],
      "text/plain": [
       "     original      predicted\n",
       "0           3  331291.843123\n",
       "1           6   21421.552133\n",
       "2           3  267378.389955\n",
       "3           1  633165.623206\n",
       "4           1  138941.168048\n",
       "..        ...            ...\n",
       "246         3  144914.444313\n",
       "247         3  127099.758072\n",
       "248         3  203479.612668\n",
       "249         2  124117.120055\n",
       "250         3  150503.611233\n",
       "\n",
       "[251 rows x 2 columns]"
      ]
     },
     "execution_count": 94,
     "metadata": {},
     "output_type": "execute_result"
    }
   ],
   "source": [
    "# Conclusion\n",
    "a=np.array(y_test)\n",
    "predicted=np.array(lr.predict(x_test))\n",
    "df_com=pd.DataFrame({\"original\":a, \"predicted\":predicted}, index=range(len(a)))\n",
    "df_com"
   ]
  },
  {
   "cell_type": "code",
   "execution_count": null,
   "id": "686b53de",
   "metadata": {},
   "outputs": [],
   "source": []
  }
 ],
 "metadata": {
  "kernelspec": {
   "display_name": "Python 3",
   "language": "python",
   "name": "python3"
  },
  "language_info": {
   "codemirror_mode": {
    "name": "ipython",
    "version": 3
   },
   "file_extension": ".py",
   "mimetype": "text/x-python",
   "name": "python",
   "nbconvert_exporter": "python",
   "pygments_lexer": "ipython3",
   "version": "3.8.8"
  }
 },
 "nbformat": 4,
 "nbformat_minor": 5
}
