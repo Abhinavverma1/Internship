{
 "cells": [
  {
   "cell_type": "code",
   "execution_count": 2,
   "id": "5b293181",
   "metadata": {
    "scrolled": true
   },
   "outputs": [
    {
     "name": "stdout",
     "output_type": "stream",
     "text": [
      "Requirement already satisfied: selenium in c:\\programdata\\anaconda3\\lib\\site-packages (4.1.0)\n",
      "Requirement already satisfied: trio-websocket~=0.9 in c:\\programdata\\anaconda3\\lib\\site-packages (from selenium) (0.9.2)\n",
      "Requirement already satisfied: trio~=0.17 in c:\\programdata\\anaconda3\\lib\\site-packages (from selenium) (0.19.0)\n",
      "Requirement already satisfied: urllib3[secure]~=1.26 in c:\\programdata\\anaconda3\\lib\\site-packages (from selenium) (1.26.4)\n",
      "Requirement already satisfied: sortedcontainers in c:\\programdata\\anaconda3\\lib\\site-packages (from trio~=0.17->selenium) (2.3.0)\n",
      "Requirement already satisfied: idna in c:\\programdata\\anaconda3\\lib\\site-packages (from trio~=0.17->selenium) (2.10)\n",
      "Requirement already satisfied: sniffio in c:\\programdata\\anaconda3\\lib\\site-packages (from trio~=0.17->selenium) (1.2.0)\n",
      "Requirement already satisfied: cffi>=1.14 in c:\\programdata\\anaconda3\\lib\\site-packages (from trio~=0.17->selenium) (1.14.5)\n",
      "Requirement already satisfied: async-generator>=1.9 in c:\\programdata\\anaconda3\\lib\\site-packages (from trio~=0.17->selenium) (1.10)\n",
      "Requirement already satisfied: outcome in c:\\programdata\\anaconda3\\lib\\site-packages (from trio~=0.17->selenium) (1.1.0)\n",
      "Requirement already satisfied: attrs>=19.2.0 in c:\\programdata\\anaconda3\\lib\\site-packages (from trio~=0.17->selenium) (20.3.0)\n",
      "Requirement already satisfied: pycparser in c:\\programdata\\anaconda3\\lib\\site-packages (from cffi>=1.14->trio~=0.17->selenium) (2.20)\n",
      "Requirement already satisfied: wsproto>=0.14 in c:\\programdata\\anaconda3\\lib\\site-packages (from trio-websocket~=0.9->selenium) (1.0.0)\n",
      "Requirement already satisfied: cryptography>=1.3.4 in c:\\programdata\\anaconda3\\lib\\site-packages (from urllib3[secure]~=1.26->selenium) (3.4.7)\n",
      "Requirement already satisfied: pyOpenSSL>=0.14 in c:\\programdata\\anaconda3\\lib\\site-packages (from urllib3[secure]~=1.26->selenium) (20.0.1)\n",
      "Requirement already satisfied: certifi in c:\\programdata\\anaconda3\\lib\\site-packages (from urllib3[secure]~=1.26->selenium) (2020.12.5)\n",
      "Requirement already satisfied: six>=1.5.2 in c:\\programdata\\anaconda3\\lib\\site-packages (from pyOpenSSL>=0.14->urllib3[secure]~=1.26->selenium) (1.15.0)\n",
      "Requirement already satisfied: h11<1,>=0.9.0 in c:\\programdata\\anaconda3\\lib\\site-packages (from wsproto>=0.14->trio-websocket~=0.9->selenium) (0.12.0)\n"
     ]
    }
   ],
   "source": [
    "!pip install selenium"
   ]
  },
  {
   "cell_type": "code",
   "execution_count": 2,
   "id": "6b241a9c",
   "metadata": {},
   "outputs": [],
   "source": [
    "import selenium\n",
    "from selenium import webdriver\n",
    "import pandas as pd\n",
    "import warnings\n",
    "warnings.filterwarnings(\"ignore\")"
   ]
  },
  {
   "cell_type": "code",
   "execution_count": 112,
   "id": "dc0c97ef",
   "metadata": {},
   "outputs": [],
   "source": [
    "driver =webdriver.Chrome(r'C:\\Users\\abhic\\Downloads\\chromedriver_win32\\chromedriver.exe')"
   ]
  },
  {
   "cell_type": "markdown",
   "id": "ae8eafdd",
   "metadata": {},
   "source": [
    "# Answer no. 1"
   ]
  },
  {
   "cell_type": "code",
   "execution_count": 4,
   "id": "359010dc",
   "metadata": {},
   "outputs": [],
   "source": [
    "url = 'https://www.naukri.com/'\n",
    "driver.get(url)"
   ]
  },
  {
   "cell_type": "code",
   "execution_count": 5,
   "id": "2cd566cf",
   "metadata": {},
   "outputs": [
    {
     "data": {
      "text/plain": [
       "<selenium.webdriver.remote.webelement.WebElement (session=\"43240c74762e0587609aa20f4c3cea98\", element=\"8106d4c5-1c4a-493f-baeb-3eb2d5f0684f\")>"
      ]
     },
     "execution_count": 5,
     "metadata": {},
     "output_type": "execute_result"
    }
   ],
   "source": [
    "#finding web element for search job bar using Xpath\n",
    "search_job = driver.find_element_by_xpath('/html/body/div/div[2]/div[3]/div/div/div[1]/div/div/div/input')\n",
    "search_job"
   ]
  },
  {
   "cell_type": "code",
   "execution_count": 6,
   "id": "5bbcbff7",
   "metadata": {},
   "outputs": [],
   "source": [
    "#write on the search bar\n",
    "search_job.send_keys(\"Data Analyst\")"
   ]
  },
  {
   "cell_type": "code",
   "execution_count": 7,
   "id": "4d0c7bc6",
   "metadata": {},
   "outputs": [
    {
     "data": {
      "text/plain": [
       "<selenium.webdriver.remote.webelement.WebElement (session=\"43240c74762e0587609aa20f4c3cea98\", element=\"166f7df3-efc9-4080-96c6-f1cb26b95c82\")>"
      ]
     },
     "execution_count": 7,
     "metadata": {},
     "output_type": "execute_result"
    }
   ],
   "source": [
    "#finding web element for search job bar using Xpath\n",
    "search_loc = driver.find_element_by_xpath('/html/body/div/div[2]/div[3]/div/div/div[3]/div/div/div/input')\n",
    "search_loc"
   ]
  },
  {
   "cell_type": "code",
   "execution_count": 8,
   "id": "3fba88da",
   "metadata": {},
   "outputs": [],
   "source": [
    "search_loc.send_keys('Bangalore')"
   ]
  },
  {
   "cell_type": "code",
   "execution_count": 9,
   "id": "65449833",
   "metadata": {},
   "outputs": [
    {
     "data": {
      "text/plain": [
       "<selenium.webdriver.remote.webelement.WebElement (session=\"43240c74762e0587609aa20f4c3cea98\", element=\"216eae21-b773-4cc8-a5d6-d287eccf73eb\")>"
      ]
     },
     "execution_count": 9,
     "metadata": {},
     "output_type": "execute_result"
    }
   ],
   "source": [
    "#finding element for clicking the search button.\n",
    "search_btn = driver.find_element_by_xpath('/html/body/div/div[2]/div[3]/div/div/div[6]')\n",
    "search_btn"
   ]
  },
  {
   "cell_type": "code",
   "execution_count": 10,
   "id": "186efeb5",
   "metadata": {},
   "outputs": [],
   "source": [
    "search_btn.click()"
   ]
  },
  {
   "cell_type": "markdown",
   "id": "c64aa422",
   "metadata": {},
   "source": [
    "# Extracting job titles"
   ]
  },
  {
   "cell_type": "code",
   "execution_count": 13,
   "id": "78b3aa36",
   "metadata": {},
   "outputs": [
    {
     "data": {
      "text/plain": [
       "20"
      ]
     },
     "execution_count": 13,
     "metadata": {},
     "output_type": "execute_result"
    }
   ],
   "source": [
    "tags = driver.find_elements_by_xpath('//a[@class=\"title fw500 ellipsis\"]')\n",
    "len(tags)"
   ]
  },
  {
   "cell_type": "code",
   "execution_count": 14,
   "id": "22047373",
   "metadata": {},
   "outputs": [
    {
     "data": {
      "text/plain": [
       "20"
      ]
     },
     "execution_count": 14,
     "metadata": {},
     "output_type": "execute_result"
    }
   ],
   "source": [
    "job_title = []\n",
    "\n",
    "for i in tags:\n",
    "    job_title.append(i.text)\n",
    "    \n",
    "len(job_title)"
   ]
  },
  {
   "cell_type": "code",
   "execution_count": 35,
   "id": "baa9b030",
   "metadata": {},
   "outputs": [],
   "source": [
    "Jobs =job_title[0:10]"
   ]
  },
  {
   "cell_type": "code",
   "execution_count": 36,
   "id": "3edb133e",
   "metadata": {},
   "outputs": [
    {
     "data": {
      "text/plain": [
       "['Junior Data Analyst/ Scientist- Fresher Position',\n",
       " 'Assistant Clinical Data Analyst',\n",
       " 'Senior Data Analyst - CRM',\n",
       " 'Lead - Data Analyst / Scientist',\n",
       " 'Hiring For Data Analyst',\n",
       " 'Senior Data Analyst',\n",
       " 'Senior Data Analyst',\n",
       " 'Senior Data Analyst - CRM',\n",
       " 'Data Analyst',\n",
       " 'Global Data Analyst']"
      ]
     },
     "execution_count": 36,
     "metadata": {},
     "output_type": "execute_result"
    }
   ],
   "source": [
    "Jobs"
   ]
  },
  {
   "cell_type": "code",
   "execution_count": 28,
   "id": "7003c96e",
   "metadata": {},
   "outputs": [
    {
     "data": {
      "text/plain": [
       "20"
      ]
     },
     "execution_count": 28,
     "metadata": {},
     "output_type": "execute_result"
    }
   ],
   "source": [
    "com_tags = driver.find_elements_by_xpath('//a[@class=\"subTitle ellipsis fleft\"]')\n",
    "len(com_tags)"
   ]
  },
  {
   "cell_type": "code",
   "execution_count": 17,
   "id": "8208aba3",
   "metadata": {},
   "outputs": [
    {
     "data": {
      "text/plain": [
       "20"
      ]
     },
     "execution_count": 17,
     "metadata": {},
     "output_type": "execute_result"
    }
   ],
   "source": [
    "company_names = []\n",
    "\n",
    "for i in com_tags:\n",
    "    company_names.append(i.text)\n",
    "    \n",
    "len(company_names)"
   ]
  },
  {
   "cell_type": "code",
   "execution_count": 33,
   "id": "c19c3151",
   "metadata": {
    "scrolled": true
   },
   "outputs": [],
   "source": [
    "Company =company_names[0:10]"
   ]
  },
  {
   "cell_type": "code",
   "execution_count": 34,
   "id": "76c94b04",
   "metadata": {},
   "outputs": [
    {
     "data": {
      "text/plain": [
       "['Sejal Consulting Hub',\n",
       " 'Labcorp Drug Development India Private Limited',\n",
       " 'Gojek Tech',\n",
       " 'Axim Technologies',\n",
       " 'Flipkart',\n",
       " 'Walmart',\n",
       " 'SMEDC SERVICES PRIVATE LIMITED',\n",
       " 'GO-JEK India',\n",
       " 'Verizon',\n",
       " 'ExecBoardinAsia']"
      ]
     },
     "execution_count": 34,
     "metadata": {},
     "output_type": "execute_result"
    }
   ],
   "source": [
    "Company"
   ]
  },
  {
   "cell_type": "code",
   "execution_count": 20,
   "id": "433b8fe3",
   "metadata": {},
   "outputs": [
    {
     "data": {
      "text/plain": [
       "19"
      ]
     },
     "execution_count": 20,
     "metadata": {},
     "output_type": "execute_result"
    }
   ],
   "source": [
    "exp = driver.find_elements_by_xpath('//li[@class=\"fleft grey-text br2 placeHolderLi experience\"]')\n",
    "len(exp)"
   ]
  },
  {
   "cell_type": "code",
   "execution_count": 21,
   "id": "f3196d77",
   "metadata": {},
   "outputs": [
    {
     "data": {
      "text/plain": [
       "19"
      ]
     },
     "execution_count": 21,
     "metadata": {},
     "output_type": "execute_result"
    }
   ],
   "source": [
    "experience = []\n",
    "\n",
    "for i in exp:\n",
    "    experience.append(i.text)\n",
    "    \n",
    "len(experience)"
   ]
  },
  {
   "cell_type": "code",
   "execution_count": 22,
   "id": "ed1c62ac",
   "metadata": {},
   "outputs": [
    {
     "data": {
      "text/plain": [
       "['0-3 Yrs',\n",
       " '0-2 Yrs',\n",
       " '2-5 Yrs',\n",
       " '12-14 Yrs',\n",
       " '4-8 Yrs',\n",
       " '4-7 Yrs',\n",
       " '4-8 Yrs',\n",
       " '4-8 Yrs',\n",
       " '4-9 Yrs',\n",
       " '5-10 Yrs']"
      ]
     },
     "execution_count": 22,
     "metadata": {},
     "output_type": "execute_result"
    }
   ],
   "source": [
    "experience[0:10]"
   ]
  },
  {
   "cell_type": "code",
   "execution_count": 39,
   "id": "384c9bc2",
   "metadata": {},
   "outputs": [],
   "source": [
    "Experience = experience[0:10]"
   ]
  },
  {
   "cell_type": "code",
   "execution_count": 40,
   "id": "8050d681",
   "metadata": {},
   "outputs": [
    {
     "data": {
      "text/plain": [
       "['0-3 Yrs',\n",
       " '0-2 Yrs',\n",
       " '2-5 Yrs',\n",
       " '12-14 Yrs',\n",
       " '4-8 Yrs',\n",
       " '4-7 Yrs',\n",
       " '4-8 Yrs',\n",
       " '4-8 Yrs',\n",
       " '4-9 Yrs',\n",
       " '5-10 Yrs']"
      ]
     },
     "execution_count": 40,
     "metadata": {},
     "output_type": "execute_result"
    }
   ],
   "source": [
    "Experience"
   ]
  },
  {
   "cell_type": "code",
   "execution_count": 23,
   "id": "d3febf1a",
   "metadata": {},
   "outputs": [
    {
     "data": {
      "text/plain": [
       "20"
      ]
     },
     "execution_count": 23,
     "metadata": {},
     "output_type": "execute_result"
    }
   ],
   "source": [
    "loc = driver.find_elements_by_xpath('//li[@class=\"fleft grey-text br2 placeHolderLi location\"]')\n",
    "len(loc)"
   ]
  },
  {
   "cell_type": "code",
   "execution_count": 24,
   "id": "e954c96e",
   "metadata": {},
   "outputs": [
    {
     "data": {
      "text/plain": [
       "20"
      ]
     },
     "execution_count": 24,
     "metadata": {},
     "output_type": "execute_result"
    }
   ],
   "source": [
    "location = []\n",
    "\n",
    "for i in loc:\n",
    "    location.append(i.text)\n",
    "    \n",
    "len(location)"
   ]
  },
  {
   "cell_type": "code",
   "execution_count": 37,
   "id": "d9ac13ca",
   "metadata": {},
   "outputs": [],
   "source": [
    "Location = location[0:10]"
   ]
  },
  {
   "cell_type": "code",
   "execution_count": 38,
   "id": "2073118f",
   "metadata": {},
   "outputs": [
    {
     "data": {
      "text/plain": [
       "['Kolkata, Gurgaon/Gurugram, Bangalore/Bengaluru\\n(WFH during Covid)',\n",
       " 'Bangalore/Bengaluru',\n",
       " 'Bangalore/Bengaluru',\n",
       " 'Bangalore/Bengaluru',\n",
       " 'Bangalore/Bengaluru',\n",
       " 'Bangalore/Bengaluru',\n",
       " 'Bangalore/Bengaluru\\n(WFH during Covid)',\n",
       " 'Bangalore/Bengaluru',\n",
       " 'Hyderabad/Secunderabad, Chennai, Bangalore/Bengaluru',\n",
       " 'Bangalore/Bengaluru']"
      ]
     },
     "execution_count": 38,
     "metadata": {},
     "output_type": "execute_result"
    }
   ],
   "source": [
    "Location"
   ]
  },
  {
   "cell_type": "code",
   "execution_count": 41,
   "id": "fca64f37",
   "metadata": {},
   "outputs": [
    {
     "data": {
      "text/plain": [
       "(10, 10, 10, 10)"
      ]
     },
     "execution_count": 41,
     "metadata": {},
     "output_type": "execute_result"
    }
   ],
   "source": [
    "len(Jobs),len(Company),len(Experience),len(Location)"
   ]
  },
  {
   "cell_type": "code",
   "execution_count": 43,
   "id": "e9118387",
   "metadata": {},
   "outputs": [
    {
     "data": {
      "text/html": [
       "<div>\n",
       "<style scoped>\n",
       "    .dataframe tbody tr th:only-of-type {\n",
       "        vertical-align: middle;\n",
       "    }\n",
       "\n",
       "    .dataframe tbody tr th {\n",
       "        vertical-align: top;\n",
       "    }\n",
       "\n",
       "    .dataframe thead th {\n",
       "        text-align: right;\n",
       "    }\n",
       "</style>\n",
       "<table border=\"1\" class=\"dataframe\">\n",
       "  <thead>\n",
       "    <tr style=\"text-align: right;\">\n",
       "      <th></th>\n",
       "      <th>JOBS</th>\n",
       "      <th>COMPANY</th>\n",
       "      <th>EXPERIENCE</th>\n",
       "      <th>LOCATION</th>\n",
       "    </tr>\n",
       "  </thead>\n",
       "  <tbody>\n",
       "    <tr>\n",
       "      <th>0</th>\n",
       "      <td>Junior Data Analyst/ Scientist- Fresher Position</td>\n",
       "      <td>Sejal Consulting Hub</td>\n",
       "      <td>0-3 Yrs</td>\n",
       "      <td>Kolkata, Gurgaon/Gurugram, Bangalore/Bengaluru...</td>\n",
       "    </tr>\n",
       "    <tr>\n",
       "      <th>1</th>\n",
       "      <td>Assistant Clinical Data Analyst</td>\n",
       "      <td>Labcorp Drug Development India Private Limited</td>\n",
       "      <td>0-2 Yrs</td>\n",
       "      <td>Bangalore/Bengaluru</td>\n",
       "    </tr>\n",
       "    <tr>\n",
       "      <th>2</th>\n",
       "      <td>Senior Data Analyst - CRM</td>\n",
       "      <td>Gojek Tech</td>\n",
       "      <td>2-5 Yrs</td>\n",
       "      <td>Bangalore/Bengaluru</td>\n",
       "    </tr>\n",
       "    <tr>\n",
       "      <th>3</th>\n",
       "      <td>Lead - Data Analyst / Scientist</td>\n",
       "      <td>Axim Technologies</td>\n",
       "      <td>12-14 Yrs</td>\n",
       "      <td>Bangalore/Bengaluru</td>\n",
       "    </tr>\n",
       "    <tr>\n",
       "      <th>4</th>\n",
       "      <td>Hiring For Data Analyst</td>\n",
       "      <td>Flipkart</td>\n",
       "      <td>4-8 Yrs</td>\n",
       "      <td>Bangalore/Bengaluru</td>\n",
       "    </tr>\n",
       "    <tr>\n",
       "      <th>5</th>\n",
       "      <td>Senior Data Analyst</td>\n",
       "      <td>Walmart</td>\n",
       "      <td>4-7 Yrs</td>\n",
       "      <td>Bangalore/Bengaluru</td>\n",
       "    </tr>\n",
       "    <tr>\n",
       "      <th>6</th>\n",
       "      <td>Senior Data Analyst</td>\n",
       "      <td>SMEDC SERVICES PRIVATE LIMITED</td>\n",
       "      <td>4-8 Yrs</td>\n",
       "      <td>Bangalore/Bengaluru\\n(WFH during Covid)</td>\n",
       "    </tr>\n",
       "    <tr>\n",
       "      <th>7</th>\n",
       "      <td>Senior Data Analyst - CRM</td>\n",
       "      <td>GO-JEK India</td>\n",
       "      <td>4-8 Yrs</td>\n",
       "      <td>Bangalore/Bengaluru</td>\n",
       "    </tr>\n",
       "    <tr>\n",
       "      <th>8</th>\n",
       "      <td>Data Analyst</td>\n",
       "      <td>Verizon</td>\n",
       "      <td>4-9 Yrs</td>\n",
       "      <td>Hyderabad/Secunderabad, Chennai, Bangalore/Ben...</td>\n",
       "    </tr>\n",
       "    <tr>\n",
       "      <th>9</th>\n",
       "      <td>Global Data Analyst</td>\n",
       "      <td>ExecBoardinAsia</td>\n",
       "      <td>5-10 Yrs</td>\n",
       "      <td>Bangalore/Bengaluru</td>\n",
       "    </tr>\n",
       "  </tbody>\n",
       "</table>\n",
       "</div>"
      ],
      "text/plain": [
       "                                               JOBS  \\\n",
       "0  Junior Data Analyst/ Scientist- Fresher Position   \n",
       "1                   Assistant Clinical Data Analyst   \n",
       "2                         Senior Data Analyst - CRM   \n",
       "3                   Lead - Data Analyst / Scientist   \n",
       "4                           Hiring For Data Analyst   \n",
       "5                               Senior Data Analyst   \n",
       "6                               Senior Data Analyst   \n",
       "7                         Senior Data Analyst - CRM   \n",
       "8                                      Data Analyst   \n",
       "9                               Global Data Analyst   \n",
       "\n",
       "                                          COMPANY EXPERIENCE  \\\n",
       "0                            Sejal Consulting Hub    0-3 Yrs   \n",
       "1  Labcorp Drug Development India Private Limited    0-2 Yrs   \n",
       "2                                      Gojek Tech    2-5 Yrs   \n",
       "3                               Axim Technologies  12-14 Yrs   \n",
       "4                                        Flipkart    4-8 Yrs   \n",
       "5                                         Walmart    4-7 Yrs   \n",
       "6                  SMEDC SERVICES PRIVATE LIMITED    4-8 Yrs   \n",
       "7                                    GO-JEK India    4-8 Yrs   \n",
       "8                                         Verizon    4-9 Yrs   \n",
       "9                                 ExecBoardinAsia   5-10 Yrs   \n",
       "\n",
       "                                            LOCATION  \n",
       "0  Kolkata, Gurgaon/Gurugram, Bangalore/Bengaluru...  \n",
       "1                                Bangalore/Bengaluru  \n",
       "2                                Bangalore/Bengaluru  \n",
       "3                                Bangalore/Bengaluru  \n",
       "4                                Bangalore/Bengaluru  \n",
       "5                                Bangalore/Bengaluru  \n",
       "6            Bangalore/Bengaluru\\n(WFH during Covid)  \n",
       "7                                Bangalore/Bengaluru  \n",
       "8  Hyderabad/Secunderabad, Chennai, Bangalore/Ben...  \n",
       "9                                Bangalore/Bengaluru  "
      ]
     },
     "execution_count": 43,
     "metadata": {},
     "output_type": "execute_result"
    }
   ],
   "source": [
    "Data = pd.DataFrame()\n",
    "Data['JOBS']= Jobs\n",
    "Data['COMPANY'] = Company\n",
    "Data['EXPERIENCE'] = Experience\n",
    "Data['LOCATION'] = Location\n",
    "\n",
    "Data"
   ]
  },
  {
   "cell_type": "markdown",
   "id": "c4c48793",
   "metadata": {},
   "source": [
    "# Answer no 2"
   ]
  },
  {
   "cell_type": "code",
   "execution_count": 44,
   "id": "06ec6841",
   "metadata": {},
   "outputs": [],
   "source": [
    "url = 'https://www.naukri.com/'\n",
    "driver.get(url)"
   ]
  },
  {
   "cell_type": "code",
   "execution_count": 45,
   "id": "5fa9dffc",
   "metadata": {},
   "outputs": [
    {
     "data": {
      "text/plain": [
       "<selenium.webdriver.remote.webelement.WebElement (session=\"43240c74762e0587609aa20f4c3cea98\", element=\"5dee1167-28f4-4dab-8f29-4e5281bf681e\")>"
      ]
     },
     "execution_count": 45,
     "metadata": {},
     "output_type": "execute_result"
    }
   ],
   "source": [
    "search_job = driver.find_element_by_xpath('/html/body/div/div[2]/div[3]/div/div/div[1]/div/div/div/input')\n",
    "search_job"
   ]
  },
  {
   "cell_type": "code",
   "execution_count": 46,
   "id": "9081fe99",
   "metadata": {},
   "outputs": [],
   "source": [
    "#write on the search bar\n",
    "search_job.send_keys(\"Data Scientist\")"
   ]
  },
  {
   "cell_type": "code",
   "execution_count": 47,
   "id": "27ab15af",
   "metadata": {},
   "outputs": [
    {
     "data": {
      "text/plain": [
       "<selenium.webdriver.remote.webelement.WebElement (session=\"43240c74762e0587609aa20f4c3cea98\", element=\"d73e98bf-34e2-4dc5-8f52-fae0afdfb0ff\")>"
      ]
     },
     "execution_count": 47,
     "metadata": {},
     "output_type": "execute_result"
    }
   ],
   "source": [
    "#finding web element for search job bar using Xpath\n",
    "search_loc = driver.find_element_by_xpath('/html/body/div/div[2]/div[3]/div/div/div[3]/div/div/div/input')\n",
    "search_loc"
   ]
  },
  {
   "cell_type": "code",
   "execution_count": 48,
   "id": "dcddfc83",
   "metadata": {},
   "outputs": [],
   "source": [
    "search_loc.send_keys('Bangalore')"
   ]
  },
  {
   "cell_type": "code",
   "execution_count": 49,
   "id": "421f8b58",
   "metadata": {},
   "outputs": [
    {
     "data": {
      "text/plain": [
       "<selenium.webdriver.remote.webelement.WebElement (session=\"43240c74762e0587609aa20f4c3cea98\", element=\"13ffc117-b586-4ac9-b923-cfc1eebf6e62\")>"
      ]
     },
     "execution_count": 49,
     "metadata": {},
     "output_type": "execute_result"
    }
   ],
   "source": [
    "#finding element for clicking the search button.\n",
    "search_btn = driver.find_element_by_xpath('/html/body/div/div[2]/div[3]/div/div/div[6]')\n",
    "search_btn"
   ]
  },
  {
   "cell_type": "code",
   "execution_count": 50,
   "id": "e0175d3d",
   "metadata": {},
   "outputs": [],
   "source": [
    "search_btn.click()"
   ]
  },
  {
   "cell_type": "markdown",
   "id": "e43999d1",
   "metadata": {},
   "source": [
    "# Extracting job titles\n"
   ]
  },
  {
   "cell_type": "code",
   "execution_count": 51,
   "id": "d5302ffc",
   "metadata": {},
   "outputs": [
    {
     "data": {
      "text/plain": [
       "20"
      ]
     },
     "execution_count": 51,
     "metadata": {},
     "output_type": "execute_result"
    }
   ],
   "source": [
    "tag = driver.find_elements_by_xpath('//a[@class=\"title fw500 ellipsis\"]')\n",
    "len(tag)"
   ]
  },
  {
   "cell_type": "code",
   "execution_count": 52,
   "id": "6a8b4da8",
   "metadata": {},
   "outputs": [
    {
     "data": {
      "text/plain": [
       "20"
      ]
     },
     "execution_count": 52,
     "metadata": {},
     "output_type": "execute_result"
    }
   ],
   "source": [
    "job_title = []\n",
    "\n",
    "for i in tag:\n",
    "    job_title.append(i.text)\n",
    "    \n",
    "len(job_title)"
   ]
  },
  {
   "cell_type": "code",
   "execution_count": 53,
   "id": "9d43563c",
   "metadata": {},
   "outputs": [],
   "source": [
    "Jobs =job_title[0:10]"
   ]
  },
  {
   "cell_type": "code",
   "execution_count": 54,
   "id": "98b5c0f9",
   "metadata": {},
   "outputs": [
    {
     "data": {
      "text/plain": [
       "['Sr Data Scientist',\n",
       " 'Senior/Lead Data Scientist - (Revenue Management)',\n",
       " 'Senior/Lead - Data Scientist (Supply Chain)',\n",
       " 'Senior Manager - Lead Data Scientist',\n",
       " 'Associate Data Scientist',\n",
       " 'Junior Programmer - Data Scientist',\n",
       " 'Lead/Senior Data Scientist (NLP)',\n",
       " 'Sr . Data Scientist',\n",
       " 'Sr. Data Scientist',\n",
       " 'Senior Data Scientist, Data Sciences']"
      ]
     },
     "execution_count": 54,
     "metadata": {},
     "output_type": "execute_result"
    }
   ],
   "source": [
    "Jobs"
   ]
  },
  {
   "cell_type": "code",
   "execution_count": 55,
   "id": "e7306561",
   "metadata": {},
   "outputs": [
    {
     "data": {
      "text/plain": [
       "20"
      ]
     },
     "execution_count": 55,
     "metadata": {},
     "output_type": "execute_result"
    }
   ],
   "source": [
    "#Extracting the company names\n",
    "com_name = driver.find_elements_by_xpath('//a[@class=\"subTitle ellipsis fleft\"]')\n",
    "len(com_name)"
   ]
  },
  {
   "cell_type": "code",
   "execution_count": 58,
   "id": "86c6875f",
   "metadata": {},
   "outputs": [
    {
     "data": {
      "text/plain": [
       "20"
      ]
     },
     "execution_count": 58,
     "metadata": {},
     "output_type": "execute_result"
    }
   ],
   "source": [
    "company = []\n",
    "\n",
    "for i in com_name:\n",
    "    company.append(i.text)\n",
    "    \n",
    "len(company)\n"
   ]
  },
  {
   "cell_type": "code",
   "execution_count": 59,
   "id": "93e18070",
   "metadata": {},
   "outputs": [
    {
     "data": {
      "text/plain": [
       "['Siemens',\n",
       " 'o9 Solutions Management India Private Limited',\n",
       " 'o9 Solutions Management India Private Limited',\n",
       " 'ExecBoardinAsia',\n",
       " 'Shell',\n",
       " 'GSK India',\n",
       " 'Samya.AI A FRACTAL Entity',\n",
       " 'RKSV',\n",
       " 'NutaNXT Technologies',\n",
       " 'Vmware']"
      ]
     },
     "execution_count": 59,
     "metadata": {},
     "output_type": "execute_result"
    }
   ],
   "source": [
    "Company_name = company[0:10] \n",
    "\n",
    "Company_name"
   ]
  },
  {
   "cell_type": "code",
   "execution_count": 60,
   "id": "0dc6a0f0",
   "metadata": {},
   "outputs": [
    {
     "data": {
      "text/plain": [
       "20"
      ]
     },
     "execution_count": 60,
     "metadata": {},
     "output_type": "execute_result"
    }
   ],
   "source": [
    "exp = driver.find_elements_by_xpath('//li[@class=\"fleft grey-text br2 placeHolderLi experience\"]')\n",
    "len(exp)"
   ]
  },
  {
   "cell_type": "code",
   "execution_count": 61,
   "id": "3b761baa",
   "metadata": {},
   "outputs": [
    {
     "data": {
      "text/plain": [
       "20"
      ]
     },
     "execution_count": 61,
     "metadata": {},
     "output_type": "execute_result"
    }
   ],
   "source": [
    "experience = []\n",
    "\n",
    "for i in exp:\n",
    "    experience.append(i.text)\n",
    "    \n",
    "len(experience)"
   ]
  },
  {
   "cell_type": "code",
   "execution_count": 63,
   "id": "5d3b5dd7",
   "metadata": {},
   "outputs": [
    {
     "data": {
      "text/plain": [
       "['0-6 Yrs',\n",
       " '4-9 Yrs',\n",
       " '4-9 Yrs',\n",
       " '11-15 Yrs',\n",
       " '2-7 Yrs',\n",
       " '2-5 Yrs',\n",
       " '3-8 Yrs',\n",
       " '7-9 Yrs',\n",
       " '5-8 Yrs',\n",
       " '5-10 Yrs']"
      ]
     },
     "execution_count": 63,
     "metadata": {},
     "output_type": "execute_result"
    }
   ],
   "source": [
    "Experience = experience[0:10]\n",
    "Experience"
   ]
  },
  {
   "cell_type": "code",
   "execution_count": 64,
   "id": "c602f68b",
   "metadata": {},
   "outputs": [
    {
     "data": {
      "text/plain": [
       "20"
      ]
     },
     "execution_count": 64,
     "metadata": {},
     "output_type": "execute_result"
    }
   ],
   "source": [
    "loc = driver.find_elements_by_xpath('//li[@class=\"fleft grey-text br2 placeHolderLi location\"]')\n",
    "len(loc)"
   ]
  },
  {
   "cell_type": "code",
   "execution_count": 65,
   "id": "37424b91",
   "metadata": {},
   "outputs": [
    {
     "data": {
      "text/plain": [
       "20"
      ]
     },
     "execution_count": 65,
     "metadata": {},
     "output_type": "execute_result"
    }
   ],
   "source": [
    "location = []\n",
    "\n",
    "for i in loc:\n",
    "    location.append(i.text)\n",
    "    \n",
    "len(location)"
   ]
  },
  {
   "cell_type": "code",
   "execution_count": 66,
   "id": "5146180a",
   "metadata": {},
   "outputs": [
    {
     "data": {
      "text/plain": [
       "['Bangalore/Bengaluru',\n",
       " 'Bangalore/Bengaluru',\n",
       " 'Bangalore/Bengaluru',\n",
       " 'Bangalore/Bengaluru',\n",
       " 'Chennai, Bangalore/Bengaluru',\n",
       " 'Bangalore/Bengaluru',\n",
       " 'Bangalore/Bengaluru\\n(WFH during Covid)',\n",
       " 'Mumbai, Bangalore/Bengaluru',\n",
       " 'Pune, Bangalore/Bengaluru, Mumbai (All Areas)\\n(WFH during Covid)',\n",
       " 'Bangalore/Bengaluru']"
      ]
     },
     "execution_count": 66,
     "metadata": {},
     "output_type": "execute_result"
    }
   ],
   "source": [
    "Location = location[0:10]\n",
    "Location "
   ]
  },
  {
   "cell_type": "code",
   "execution_count": 67,
   "id": "23949c2b",
   "metadata": {},
   "outputs": [
    {
     "data": {
      "text/plain": [
       "(10, 10, 10, 10)"
      ]
     },
     "execution_count": 67,
     "metadata": {},
     "output_type": "execute_result"
    }
   ],
   "source": [
    "len(Jobs),len(Company),len(Experience),len(Location)"
   ]
  },
  {
   "cell_type": "code",
   "execution_count": 68,
   "id": "2c9741a6",
   "metadata": {},
   "outputs": [
    {
     "data": {
      "text/html": [
       "<div>\n",
       "<style scoped>\n",
       "    .dataframe tbody tr th:only-of-type {\n",
       "        vertical-align: middle;\n",
       "    }\n",
       "\n",
       "    .dataframe tbody tr th {\n",
       "        vertical-align: top;\n",
       "    }\n",
       "\n",
       "    .dataframe thead th {\n",
       "        text-align: right;\n",
       "    }\n",
       "</style>\n",
       "<table border=\"1\" class=\"dataframe\">\n",
       "  <thead>\n",
       "    <tr style=\"text-align: right;\">\n",
       "      <th></th>\n",
       "      <th>JOBS</th>\n",
       "      <th>COMPANY</th>\n",
       "      <th>EXPERIENCE</th>\n",
       "      <th>LOCATION</th>\n",
       "    </tr>\n",
       "  </thead>\n",
       "  <tbody>\n",
       "    <tr>\n",
       "      <th>0</th>\n",
       "      <td>Sr Data Scientist</td>\n",
       "      <td>Sejal Consulting Hub</td>\n",
       "      <td>0-6 Yrs</td>\n",
       "      <td>Bangalore/Bengaluru</td>\n",
       "    </tr>\n",
       "    <tr>\n",
       "      <th>1</th>\n",
       "      <td>Senior/Lead Data Scientist - (Revenue Management)</td>\n",
       "      <td>Labcorp Drug Development India Private Limited</td>\n",
       "      <td>4-9 Yrs</td>\n",
       "      <td>Bangalore/Bengaluru</td>\n",
       "    </tr>\n",
       "    <tr>\n",
       "      <th>2</th>\n",
       "      <td>Senior/Lead - Data Scientist (Supply Chain)</td>\n",
       "      <td>Gojek Tech</td>\n",
       "      <td>4-9 Yrs</td>\n",
       "      <td>Bangalore/Bengaluru</td>\n",
       "    </tr>\n",
       "    <tr>\n",
       "      <th>3</th>\n",
       "      <td>Senior Manager - Lead Data Scientist</td>\n",
       "      <td>Axim Technologies</td>\n",
       "      <td>11-15 Yrs</td>\n",
       "      <td>Bangalore/Bengaluru</td>\n",
       "    </tr>\n",
       "    <tr>\n",
       "      <th>4</th>\n",
       "      <td>Associate Data Scientist</td>\n",
       "      <td>Flipkart</td>\n",
       "      <td>2-7 Yrs</td>\n",
       "      <td>Chennai, Bangalore/Bengaluru</td>\n",
       "    </tr>\n",
       "    <tr>\n",
       "      <th>5</th>\n",
       "      <td>Junior Programmer - Data Scientist</td>\n",
       "      <td>Walmart</td>\n",
       "      <td>2-5 Yrs</td>\n",
       "      <td>Bangalore/Bengaluru</td>\n",
       "    </tr>\n",
       "    <tr>\n",
       "      <th>6</th>\n",
       "      <td>Lead/Senior Data Scientist (NLP)</td>\n",
       "      <td>SMEDC SERVICES PRIVATE LIMITED</td>\n",
       "      <td>3-8 Yrs</td>\n",
       "      <td>Bangalore/Bengaluru\\n(WFH during Covid)</td>\n",
       "    </tr>\n",
       "    <tr>\n",
       "      <th>7</th>\n",
       "      <td>Sr . Data Scientist</td>\n",
       "      <td>GO-JEK India</td>\n",
       "      <td>7-9 Yrs</td>\n",
       "      <td>Mumbai, Bangalore/Bengaluru</td>\n",
       "    </tr>\n",
       "    <tr>\n",
       "      <th>8</th>\n",
       "      <td>Sr. Data Scientist</td>\n",
       "      <td>Verizon</td>\n",
       "      <td>5-8 Yrs</td>\n",
       "      <td>Pune, Bangalore/Bengaluru, Mumbai (All Areas)\\...</td>\n",
       "    </tr>\n",
       "    <tr>\n",
       "      <th>9</th>\n",
       "      <td>Senior Data Scientist, Data Sciences</td>\n",
       "      <td>ExecBoardinAsia</td>\n",
       "      <td>5-10 Yrs</td>\n",
       "      <td>Bangalore/Bengaluru</td>\n",
       "    </tr>\n",
       "  </tbody>\n",
       "</table>\n",
       "</div>"
      ],
      "text/plain": [
       "                                                JOBS  \\\n",
       "0                                  Sr Data Scientist   \n",
       "1  Senior/Lead Data Scientist - (Revenue Management)   \n",
       "2        Senior/Lead - Data Scientist (Supply Chain)   \n",
       "3               Senior Manager - Lead Data Scientist   \n",
       "4                           Associate Data Scientist   \n",
       "5                 Junior Programmer - Data Scientist   \n",
       "6                   Lead/Senior Data Scientist (NLP)   \n",
       "7                                Sr . Data Scientist   \n",
       "8                                 Sr. Data Scientist   \n",
       "9               Senior Data Scientist, Data Sciences   \n",
       "\n",
       "                                          COMPANY EXPERIENCE  \\\n",
       "0                            Sejal Consulting Hub    0-6 Yrs   \n",
       "1  Labcorp Drug Development India Private Limited    4-9 Yrs   \n",
       "2                                      Gojek Tech    4-9 Yrs   \n",
       "3                               Axim Technologies  11-15 Yrs   \n",
       "4                                        Flipkart    2-7 Yrs   \n",
       "5                                         Walmart    2-5 Yrs   \n",
       "6                  SMEDC SERVICES PRIVATE LIMITED    3-8 Yrs   \n",
       "7                                    GO-JEK India    7-9 Yrs   \n",
       "8                                         Verizon    5-8 Yrs   \n",
       "9                                 ExecBoardinAsia   5-10 Yrs   \n",
       "\n",
       "                                            LOCATION  \n",
       "0                                Bangalore/Bengaluru  \n",
       "1                                Bangalore/Bengaluru  \n",
       "2                                Bangalore/Bengaluru  \n",
       "3                                Bangalore/Bengaluru  \n",
       "4                       Chennai, Bangalore/Bengaluru  \n",
       "5                                Bangalore/Bengaluru  \n",
       "6            Bangalore/Bengaluru\\n(WFH during Covid)  \n",
       "7                        Mumbai, Bangalore/Bengaluru  \n",
       "8  Pune, Bangalore/Bengaluru, Mumbai (All Areas)\\...  \n",
       "9                                Bangalore/Bengaluru  "
      ]
     },
     "execution_count": 68,
     "metadata": {},
     "output_type": "execute_result"
    }
   ],
   "source": [
    "Dataframe = pd.DataFrame()\n",
    "Dataframe['JOBS']= Jobs\n",
    "Dataframe['COMPANY'] = Company\n",
    "Dataframe['EXPERIENCE'] = Experience\n",
    "Dataframe['LOCATION'] = Location\n",
    "\n",
    "Dataframe"
   ]
  },
  {
   "cell_type": "markdown",
   "id": "32125709",
   "metadata": {},
   "source": [
    "# Answer no. 3"
   ]
  },
  {
   "cell_type": "code",
   "execution_count": 100,
   "id": "c67fedbe",
   "metadata": {},
   "outputs": [],
   "source": [
    "link = 'https://www.naukri.com/'\n",
    "driver.get(link)"
   ]
  },
  {
   "cell_type": "code",
   "execution_count": 76,
   "id": "c78cf656",
   "metadata": {},
   "outputs": [
    {
     "data": {
      "text/plain": [
       "<selenium.webdriver.remote.webelement.WebElement (session=\"2bcad2be9581da98a37b2c5c4d49a41d\", element=\"bcab677b-eaa8-4e68-bc93-d5bff2fa12d1\")>"
      ]
     },
     "execution_count": 76,
     "metadata": {},
     "output_type": "execute_result"
    }
   ],
   "source": [
    "search_job = driver.find_element_by_xpath('/html/body/div/div[2]/div[3]/div/div/div[1]/div/div/div/input')\n",
    "search_job"
   ]
  },
  {
   "cell_type": "code",
   "execution_count": 77,
   "id": "735e09f0",
   "metadata": {},
   "outputs": [],
   "source": [
    "#write on the search bar\n",
    "search_job.send_keys(\"Data Scientist\")"
   ]
  },
  {
   "cell_type": "code",
   "execution_count": 78,
   "id": "ad4d3ee1",
   "metadata": {},
   "outputs": [
    {
     "data": {
      "text/plain": [
       "<selenium.webdriver.remote.webelement.WebElement (session=\"2bcad2be9581da98a37b2c5c4d49a41d\", element=\"811c515d-c103-4402-9d67-0b26add1b7a7\")>"
      ]
     },
     "execution_count": 78,
     "metadata": {},
     "output_type": "execute_result"
    }
   ],
   "source": [
    "#finding web element for search job bar using Xpath\n",
    "search_loc = driver.find_element_by_xpath('/html/body/div/div[2]/div[3]/div/div/div[3]/div/div/div/input')\n",
    "search_loc"
   ]
  },
  {
   "cell_type": "code",
   "execution_count": 79,
   "id": "7d3f6b24",
   "metadata": {},
   "outputs": [],
   "source": [
    "search_loc.send_keys('Delhi/NCR')"
   ]
  },
  {
   "cell_type": "code",
   "execution_count": 80,
   "id": "11970833",
   "metadata": {},
   "outputs": [
    {
     "data": {
      "text/plain": [
       "<selenium.webdriver.remote.webelement.WebElement (session=\"2bcad2be9581da98a37b2c5c4d49a41d\", element=\"72ef8f49-60cc-49e3-a3cb-caf105c1d0e5\")>"
      ]
     },
     "execution_count": 80,
     "metadata": {},
     "output_type": "execute_result"
    }
   ],
   "source": [
    "#finding element for clicking the search button.\n",
    "search_btn = driver.find_element_by_xpath('/html/body/div/div[2]/div[3]/div/div/div[6]')\n",
    "search_btn"
   ]
  },
  {
   "cell_type": "code",
   "execution_count": 81,
   "id": "b5f7349c",
   "metadata": {},
   "outputs": [],
   "source": [
    "search_btn.click()"
   ]
  },
  {
   "cell_type": "code",
   "execution_count": 84,
   "id": "74dd75ca",
   "metadata": {},
   "outputs": [],
   "source": [
    "salary_chk = driver.find_element_by_xpath('/html/body/div[1]/div[3]/div[2]/section[1]/div[2]/div[4]/div[2]/div[2]/label/p/span[1]')\n",
    "salary_chk.click()"
   ]
  },
  {
   "cell_type": "code",
   "execution_count": 85,
   "id": "2ad49570",
   "metadata": {},
   "outputs": [],
   "source": [
    "#Extrecting the relevant data \n"
   ]
  },
  {
   "cell_type": "code",
   "execution_count": 86,
   "id": "24289d2e",
   "metadata": {},
   "outputs": [
    {
     "data": {
      "text/plain": [
       "20"
      ]
     },
     "execution_count": 86,
     "metadata": {},
     "output_type": "execute_result"
    }
   ],
   "source": [
    "tag = driver.find_elements_by_xpath('//a[@class=\"title fw500 ellipsis\"]')\n",
    "len(tag)"
   ]
  },
  {
   "cell_type": "code",
   "execution_count": 87,
   "id": "327b6e36",
   "metadata": {},
   "outputs": [
    {
     "data": {
      "text/plain": [
       "20"
      ]
     },
     "execution_count": 87,
     "metadata": {},
     "output_type": "execute_result"
    }
   ],
   "source": [
    "job_title = []\n",
    "\n",
    "for i in tag:\n",
    "    job_title.append(i.text)\n",
    "    \n",
    "len(job_title)"
   ]
  },
  {
   "cell_type": "code",
   "execution_count": 88,
   "id": "b788153d",
   "metadata": {},
   "outputs": [
    {
     "data": {
      "text/plain": [
       "['Job Opportunity || Data Scientist || HCL Technologies',\n",
       " 'Data Scientist',\n",
       " 'Data Scientist | Python | Machine Learning | Deep Learning- Fresher',\n",
       " 'Senior Data Scientist I',\n",
       " 'Openings For Jr/mid/Sr level data Scientists',\n",
       " 'Data Scientist role',\n",
       " 'Urgent Hiring For Data Scientist',\n",
       " 'Urgent Hiring For Data Scientist',\n",
       " 'Data Scientist role',\n",
       " 'Data Scientist role']"
      ]
     },
     "execution_count": 88,
     "metadata": {},
     "output_type": "execute_result"
    }
   ],
   "source": [
    "Jobs =job_title[0:10]\n",
    "Jobs"
   ]
  },
  {
   "cell_type": "code",
   "execution_count": 89,
   "id": "787beb7f",
   "metadata": {},
   "outputs": [
    {
     "data": {
      "text/plain": [
       "20"
      ]
     },
     "execution_count": 89,
     "metadata": {},
     "output_type": "execute_result"
    }
   ],
   "source": [
    "com_name = driver.find_elements_by_xpath('//a[@class=\"subTitle ellipsis fleft\"]')\n",
    "len(com_name)"
   ]
  },
  {
   "cell_type": "code",
   "execution_count": 90,
   "id": "b53fcccd",
   "metadata": {},
   "outputs": [
    {
     "data": {
      "text/plain": [
       "20"
      ]
     },
     "execution_count": 90,
     "metadata": {},
     "output_type": "execute_result"
    }
   ],
   "source": [
    "company = []\n",
    "\n",
    "for i in com_name:\n",
    "    company.append(i.text)\n",
    "    \n",
    "len(company)\n"
   ]
  },
  {
   "cell_type": "code",
   "execution_count": 91,
   "id": "d3918971",
   "metadata": {},
   "outputs": [
    {
     "data": {
      "text/plain": [
       "['HCL',\n",
       " 'T & A Solutions',\n",
       " 'Schlesinger Group',\n",
       " 'Delhivery',\n",
       " 'Pluto seven business solutions (p) limited',\n",
       " 'Mount Talent Consulting Private Limited',\n",
       " 'Mount Talent Consulting Private Limited',\n",
       " 'Mount Talent Consulting Private Limited',\n",
       " 'Mount Talent Consulting Private Limited',\n",
       " 'Mount Talent Consulting Private Limited']"
      ]
     },
     "execution_count": 91,
     "metadata": {},
     "output_type": "execute_result"
    }
   ],
   "source": [
    "Company_name = company[0:10] \n",
    "\n",
    "Company_name"
   ]
  },
  {
   "cell_type": "code",
   "execution_count": 92,
   "id": "393c3ca5",
   "metadata": {},
   "outputs": [
    {
     "data": {
      "text/plain": [
       "20"
      ]
     },
     "execution_count": 92,
     "metadata": {},
     "output_type": "execute_result"
    }
   ],
   "source": [
    "exp = driver.find_elements_by_xpath('//li[@class=\"fleft grey-text br2 placeHolderLi experience\"]')\n",
    "len(exp)"
   ]
  },
  {
   "cell_type": "code",
   "execution_count": 93,
   "id": "e174598e",
   "metadata": {},
   "outputs": [
    {
     "data": {
      "text/plain": [
       "20"
      ]
     },
     "execution_count": 93,
     "metadata": {},
     "output_type": "execute_result"
    }
   ],
   "source": [
    "experience = []\n",
    "\n",
    "for i in exp:\n",
    "    experience.append(i.text)\n",
    "    \n",
    "len(experience)"
   ]
  },
  {
   "cell_type": "code",
   "execution_count": 94,
   "id": "d318ff97",
   "metadata": {},
   "outputs": [
    {
     "data": {
      "text/plain": [
       "['2-6 Yrs',\n",
       " '2-6 Yrs',\n",
       " '0-3 Yrs',\n",
       " '3-7 Yrs',\n",
       " '2-6 Yrs',\n",
       " '1-4 Yrs',\n",
       " '1-6 Yrs',\n",
       " '1-6 Yrs',\n",
       " '1-3 Yrs',\n",
       " '1-3 Yrs']"
      ]
     },
     "execution_count": 94,
     "metadata": {},
     "output_type": "execute_result"
    }
   ],
   "source": [
    "Experience = experience[0:10]\n",
    "Experience"
   ]
  },
  {
   "cell_type": "code",
   "execution_count": 95,
   "id": "7bd8d700",
   "metadata": {},
   "outputs": [
    {
     "data": {
      "text/plain": [
       "20"
      ]
     },
     "execution_count": 95,
     "metadata": {},
     "output_type": "execute_result"
    }
   ],
   "source": [
    "loc = driver.find_elements_by_xpath('//li[@class=\"fleft grey-text br2 placeHolderLi location\"]')\n",
    "len(loc)"
   ]
  },
  {
   "cell_type": "code",
   "execution_count": 96,
   "id": "9cf5cc9a",
   "metadata": {},
   "outputs": [
    {
     "data": {
      "text/plain": [
       "20"
      ]
     },
     "execution_count": 96,
     "metadata": {},
     "output_type": "execute_result"
    }
   ],
   "source": [
    "location = []\n",
    "\n",
    "for i in loc:\n",
    "    location.append(i.text)\n",
    "    \n",
    "len(location)"
   ]
  },
  {
   "cell_type": "code",
   "execution_count": 97,
   "id": "b3a2c58e",
   "metadata": {},
   "outputs": [
    {
     "data": {
      "text/plain": [
       "['Delhi / NCR',\n",
       " 'Gurgaon/Gurugram',\n",
       " 'Noida, Gurgaon/Gurugram, Delhi / NCR',\n",
       " 'Gurgaon/Gurugram',\n",
       " 'Kolkata, Hyderabad/Secunderabad, Pune, Ahmedabad, Chennai, Bangalore/Bengaluru, Delhi / NCR, Mumbai (All Areas)\\n(WFH during Covid)',\n",
       " 'Noida, Hyderabad/Secunderabad, Pune, Gurgaon/Gurugram, Bangalore/Bengaluru, Delhi / NCR\\n(WFH during Covid)',\n",
       " 'Gurgaon/Gurugram, Bangalore/Bengaluru',\n",
       " 'Gurgaon/Gurugram, Bangalore/Bengaluru',\n",
       " 'Noida, Hyderabad/Secunderabad, Pune, Gurgaon/Gurugram, Bangalore/Bengaluru, Delhi / NCR\\n(WFH during Covid)',\n",
       " 'Noida, Hyderabad/Secunderabad, Pune, Gurgaon/Gurugram, Bangalore/Bengaluru, Delhi / NCR\\n(WFH during Covid)']"
      ]
     },
     "execution_count": 97,
     "metadata": {},
     "output_type": "execute_result"
    }
   ],
   "source": [
    "Location = location[0:10]\n",
    "Location "
   ]
  },
  {
   "cell_type": "code",
   "execution_count": 98,
   "id": "d51725ce",
   "metadata": {},
   "outputs": [
    {
     "data": {
      "text/plain": [
       "(10, 10, 10, 10)"
      ]
     },
     "execution_count": 98,
     "metadata": {},
     "output_type": "execute_result"
    }
   ],
   "source": [
    "len(Jobs),len(Company),len(Experience),len(Location)"
   ]
  },
  {
   "cell_type": "code",
   "execution_count": 99,
   "id": "5763e47a",
   "metadata": {},
   "outputs": [
    {
     "data": {
      "text/html": [
       "<div>\n",
       "<style scoped>\n",
       "    .dataframe tbody tr th:only-of-type {\n",
       "        vertical-align: middle;\n",
       "    }\n",
       "\n",
       "    .dataframe tbody tr th {\n",
       "        vertical-align: top;\n",
       "    }\n",
       "\n",
       "    .dataframe thead th {\n",
       "        text-align: right;\n",
       "    }\n",
       "</style>\n",
       "<table border=\"1\" class=\"dataframe\">\n",
       "  <thead>\n",
       "    <tr style=\"text-align: right;\">\n",
       "      <th></th>\n",
       "      <th>JOBS</th>\n",
       "      <th>COMPANY</th>\n",
       "      <th>EXPERIENCE</th>\n",
       "      <th>LOCATION</th>\n",
       "    </tr>\n",
       "  </thead>\n",
       "  <tbody>\n",
       "    <tr>\n",
       "      <th>0</th>\n",
       "      <td>Job Opportunity || Data Scientist || HCL Techn...</td>\n",
       "      <td>Sejal Consulting Hub</td>\n",
       "      <td>2-6 Yrs</td>\n",
       "      <td>Delhi / NCR</td>\n",
       "    </tr>\n",
       "    <tr>\n",
       "      <th>1</th>\n",
       "      <td>Data Scientist</td>\n",
       "      <td>Labcorp Drug Development India Private Limited</td>\n",
       "      <td>2-6 Yrs</td>\n",
       "      <td>Gurgaon/Gurugram</td>\n",
       "    </tr>\n",
       "    <tr>\n",
       "      <th>2</th>\n",
       "      <td>Data Scientist | Python | Machine Learning | D...</td>\n",
       "      <td>Gojek Tech</td>\n",
       "      <td>0-3 Yrs</td>\n",
       "      <td>Noida, Gurgaon/Gurugram, Delhi / NCR</td>\n",
       "    </tr>\n",
       "    <tr>\n",
       "      <th>3</th>\n",
       "      <td>Senior Data Scientist I</td>\n",
       "      <td>Axim Technologies</td>\n",
       "      <td>3-7 Yrs</td>\n",
       "      <td>Gurgaon/Gurugram</td>\n",
       "    </tr>\n",
       "    <tr>\n",
       "      <th>4</th>\n",
       "      <td>Openings For Jr/mid/Sr level data Scientists</td>\n",
       "      <td>Flipkart</td>\n",
       "      <td>2-6 Yrs</td>\n",
       "      <td>Kolkata, Hyderabad/Secunderabad, Pune, Ahmedab...</td>\n",
       "    </tr>\n",
       "    <tr>\n",
       "      <th>5</th>\n",
       "      <td>Data Scientist role</td>\n",
       "      <td>Walmart</td>\n",
       "      <td>1-4 Yrs</td>\n",
       "      <td>Noida, Hyderabad/Secunderabad, Pune, Gurgaon/G...</td>\n",
       "    </tr>\n",
       "    <tr>\n",
       "      <th>6</th>\n",
       "      <td>Urgent Hiring For Data Scientist</td>\n",
       "      <td>SMEDC SERVICES PRIVATE LIMITED</td>\n",
       "      <td>1-6 Yrs</td>\n",
       "      <td>Gurgaon/Gurugram, Bangalore/Bengaluru</td>\n",
       "    </tr>\n",
       "    <tr>\n",
       "      <th>7</th>\n",
       "      <td>Urgent Hiring For Data Scientist</td>\n",
       "      <td>GO-JEK India</td>\n",
       "      <td>1-6 Yrs</td>\n",
       "      <td>Gurgaon/Gurugram, Bangalore/Bengaluru</td>\n",
       "    </tr>\n",
       "    <tr>\n",
       "      <th>8</th>\n",
       "      <td>Data Scientist role</td>\n",
       "      <td>Verizon</td>\n",
       "      <td>1-3 Yrs</td>\n",
       "      <td>Noida, Hyderabad/Secunderabad, Pune, Gurgaon/G...</td>\n",
       "    </tr>\n",
       "    <tr>\n",
       "      <th>9</th>\n",
       "      <td>Data Scientist role</td>\n",
       "      <td>ExecBoardinAsia</td>\n",
       "      <td>1-3 Yrs</td>\n",
       "      <td>Noida, Hyderabad/Secunderabad, Pune, Gurgaon/G...</td>\n",
       "    </tr>\n",
       "  </tbody>\n",
       "</table>\n",
       "</div>"
      ],
      "text/plain": [
       "                                                JOBS  \\\n",
       "0  Job Opportunity || Data Scientist || HCL Techn...   \n",
       "1                                     Data Scientist   \n",
       "2  Data Scientist | Python | Machine Learning | D...   \n",
       "3                            Senior Data Scientist I   \n",
       "4       Openings For Jr/mid/Sr level data Scientists   \n",
       "5                                Data Scientist role   \n",
       "6                   Urgent Hiring For Data Scientist   \n",
       "7                   Urgent Hiring For Data Scientist   \n",
       "8                                Data Scientist role   \n",
       "9                                Data Scientist role   \n",
       "\n",
       "                                          COMPANY EXPERIENCE  \\\n",
       "0                            Sejal Consulting Hub    2-6 Yrs   \n",
       "1  Labcorp Drug Development India Private Limited    2-6 Yrs   \n",
       "2                                      Gojek Tech    0-3 Yrs   \n",
       "3                               Axim Technologies    3-7 Yrs   \n",
       "4                                        Flipkart    2-6 Yrs   \n",
       "5                                         Walmart    1-4 Yrs   \n",
       "6                  SMEDC SERVICES PRIVATE LIMITED    1-6 Yrs   \n",
       "7                                    GO-JEK India    1-6 Yrs   \n",
       "8                                         Verizon    1-3 Yrs   \n",
       "9                                 ExecBoardinAsia    1-3 Yrs   \n",
       "\n",
       "                                            LOCATION  \n",
       "0                                        Delhi / NCR  \n",
       "1                                   Gurgaon/Gurugram  \n",
       "2               Noida, Gurgaon/Gurugram, Delhi / NCR  \n",
       "3                                   Gurgaon/Gurugram  \n",
       "4  Kolkata, Hyderabad/Secunderabad, Pune, Ahmedab...  \n",
       "5  Noida, Hyderabad/Secunderabad, Pune, Gurgaon/G...  \n",
       "6              Gurgaon/Gurugram, Bangalore/Bengaluru  \n",
       "7              Gurgaon/Gurugram, Bangalore/Bengaluru  \n",
       "8  Noida, Hyderabad/Secunderabad, Pune, Gurgaon/G...  \n",
       "9  Noida, Hyderabad/Secunderabad, Pune, Gurgaon/G...  "
      ]
     },
     "execution_count": 99,
     "metadata": {},
     "output_type": "execute_result"
    }
   ],
   "source": [
    "Dataframe = pd.DataFrame()\n",
    "Dataframe['JOBS']= Jobs\n",
    "Dataframe['COMPANY'] = Company\n",
    "Dataframe['EXPERIENCE'] = Experience\n",
    "Dataframe['LOCATION'] = Location\n",
    "\n",
    "Dataframe"
   ]
  },
  {
   "cell_type": "markdown",
   "id": "bcd8a631",
   "metadata": {},
   "source": [
    "# Answer no 4"
   ]
  },
  {
   "cell_type": "code",
   "execution_count": 75,
   "id": "6745c0ba",
   "metadata": {},
   "outputs": [],
   "source": [
    "link = 'https://www.flipkart.com/'\n",
    "driver.get(link)"
   ]
  },
  {
   "cell_type": "code",
   "execution_count": 76,
   "id": "c47f9d66",
   "metadata": {},
   "outputs": [
    {
     "data": {
      "text/plain": [
       "<selenium.webdriver.remote.webelement.WebElement (session=\"89498a22dc6730fd558aceb8436562c3\", element=\"6261d021-e025-48bb-b2eb-95e29a33dfb8\")>"
      ]
     },
     "execution_count": 76,
     "metadata": {},
     "output_type": "execute_result"
    }
   ],
   "source": [
    "search_Product = driver.find_element_by_xpath('/html/body/div[1]/div/div[1]/div[1]/div[2]/div[2]/form/div/div/input')\n",
    "search_Product"
   ]
  },
  {
   "cell_type": "code",
   "execution_count": 77,
   "id": "bdba101e",
   "metadata": {},
   "outputs": [],
   "source": [
    "search_Product.send_keys(\"Sunglasses\")"
   ]
  },
  {
   "cell_type": "code",
   "execution_count": 80,
   "id": "ef7ebbb3",
   "metadata": {},
   "outputs": [
    {
     "data": {
      "text/plain": [
       "40"
      ]
     },
     "execution_count": 80,
     "metadata": {},
     "output_type": "execute_result"
    }
   ],
   "source": [
    "# Extracting the relevant data for sunglasses.\n",
    "brn = driver.find_elements_by_xpath('//div[@class=\"_2WkVRV\"]')\n",
    "len(brn)"
   ]
  },
  {
   "cell_type": "code",
   "execution_count": 81,
   "id": "be56dc6f",
   "metadata": {},
   "outputs": [
    {
     "data": {
      "text/plain": [
       "40"
      ]
     },
     "execution_count": 81,
     "metadata": {},
     "output_type": "execute_result"
    }
   ],
   "source": [
    "brand = []\n",
    "\n",
    "for i in brn:\n",
    "    brand.append(i.text)\n",
    "    \n",
    "len(brand) "
   ]
  },
  {
   "cell_type": "code",
   "execution_count": 82,
   "id": "e8f2f353",
   "metadata": {},
   "outputs": [
    {
     "data": {
      "text/plain": [
       "['PIRASO',\n",
       " 'Singco India',\n",
       " 'PIRASO',\n",
       " 'Elligator',\n",
       " 'SRPM',\n",
       " 'Fastrack',\n",
       " 'SHAAH COLLECTIONS',\n",
       " 'PIRASO',\n",
       " 'kingsunglasses',\n",
       " 'PIRASO',\n",
       " 'New Specs',\n",
       " 'PIRASO',\n",
       " 'ROZZETTA CRAFT',\n",
       " 'ROZZETTA CRAFT',\n",
       " 'kingsunglasses',\n",
       " 'PIRASO',\n",
       " 'New Specs',\n",
       " 'SUNBEE',\n",
       " 'PHENOMENAL',\n",
       " 'VINCENT CHASE',\n",
       " 'PIRASO',\n",
       " 'SHAAH COLLECTIONS',\n",
       " 'Elligator',\n",
       " 'ROZZETTA CRAFT',\n",
       " 'Lee Topper',\n",
       " 'PHENOMENAL',\n",
       " 'SUNBEE',\n",
       " 'VINCENT CHASE',\n",
       " 'PHENOMENAL',\n",
       " 'hipe',\n",
       " 'Fastrack',\n",
       " 'ROZZETTA CRAFT',\n",
       " 'Fastrack',\n",
       " 'ROYAL SON',\n",
       " 'PIRASO',\n",
       " 'PIRASO',\n",
       " 'Singco India',\n",
       " 'PIRASO',\n",
       " 'New Specs',\n",
       " 'VINCENT CHASE']"
      ]
     },
     "execution_count": 82,
     "metadata": {},
     "output_type": "execute_result"
    }
   ],
   "source": [
    "brand"
   ]
  },
  {
   "cell_type": "code",
   "execution_count": 83,
   "id": "f744c6fb",
   "metadata": {},
   "outputs": [
    {
     "data": {
      "text/plain": [
       "40"
      ]
     },
     "execution_count": 83,
     "metadata": {},
     "output_type": "execute_result"
    }
   ],
   "source": [
    "desc = driver.find_elements_by_xpath('//a[@class=\"IRpwTa\"]')\n",
    "len(desc)"
   ]
  },
  {
   "cell_type": "code",
   "execution_count": 84,
   "id": "e5b4c555",
   "metadata": {},
   "outputs": [
    {
     "data": {
      "text/plain": [
       "40"
      ]
     },
     "execution_count": 84,
     "metadata": {},
     "output_type": "execute_result"
    }
   ],
   "source": [
    "description = []\n",
    "\n",
    "for i in desc:\n",
    "    description.append(i.text)\n",
    "    \n",
    "len(description) "
   ]
  },
  {
   "cell_type": "code",
   "execution_count": 85,
   "id": "ff119f74",
   "metadata": {},
   "outputs": [
    {
     "data": {
      "text/plain": [
       "['UV Protection Aviator Sunglasses (55)',\n",
       " 'Gradient, Toughened Glass Lens, UV Protection Retro Squ...',\n",
       " 'UV Protection Aviator Sunglasses (54)',\n",
       " 'UV Protection Round Sunglasses (54)',\n",
       " 'UV Protection Wayfarer Sunglasses (56)',\n",
       " 'UV Protection Wayfarer Sunglasses (Free Size)',\n",
       " 'UV Protection, Polarized, Mirrored Rectangular Sunglass...',\n",
       " 'UV Protection Aviator Sunglasses (Free Size)',\n",
       " 'UV Protection Round Sunglasses (54)',\n",
       " 'UV Protection Aviator Sunglasses (54)',\n",
       " 'UV Protection Rectangular Sunglasses (Free Size)',\n",
       " 'Mirrored Aviator Sunglasses (32)',\n",
       " 'UV Protection Retro Square Sunglasses (Free Size)',\n",
       " 'UV Protection, Gradient Rectangular Sunglasses (Free Si...',\n",
       " 'Mirrored, UV Protection Wayfarer Sunglasses (53)',\n",
       " 'UV Protection Rectangular, Over-sized Sunglasses (Free ...',\n",
       " 'Mirrored, UV Protection, Riding Glasses, Others Round S...',\n",
       " 'UV Protection, Polarized, Mirrored Round Sunglasses (Fr...',\n",
       " 'UV Protection Retro Square Sunglasses (Free Size)',\n",
       " 'by Lenskart Polarized, UV Protection Wayfarer Sunglasse...',\n",
       " 'UV Protection Wayfarer Sunglasses (32)',\n",
       " 'UV Protection, Polarized, Mirrored Rectangular Sunglass...',\n",
       " 'UV Protection Round Sunglasses (53)',\n",
       " 'UV Protection, Gradient Retro Square Sunglasses (Free S...',\n",
       " 'Riding Glasses, Night Vision Wrap-around Sunglasses (Fr...',\n",
       " 'UV Protection, Mirrored Retro Square Sunglasses (53)',\n",
       " 'UV Protection, Polarized Wayfarer Sunglasses (Free Size...',\n",
       " 'by Lenskart UV Protection Aviator Sunglasses (Free Size...',\n",
       " 'UV Protection, Mirrored Retro Square Sunglasses (53)',\n",
       " 'Mirrored, Gradient, UV Protection Aviator Sunglasses (5...',\n",
       " 'Gradient, UV Protection Wayfarer Sunglasses (Free Size)',\n",
       " 'UV Protection, Gradient Retro Square Sunglasses (Free S...',\n",
       " 'UV Protection Wayfarer Sunglasses (55)',\n",
       " 'Mirrored Aviator Sunglasses (55)',\n",
       " 'UV Protection Aviator Sunglasses (54)',\n",
       " 'UV Protection Aviator Sunglasses (54)',\n",
       " 'UV Protection, Riding Glasses, Others Aviator, Wayfarer...',\n",
       " 'UV Protection Aviator Sunglasses (58)',\n",
       " 'UV Protection Round Sunglasses (Free Size)',\n",
       " 'by Lenskart Polarized, UV Protection Aviator Sunglasses...']"
      ]
     },
     "execution_count": 85,
     "metadata": {},
     "output_type": "execute_result"
    }
   ],
   "source": [
    "description"
   ]
  },
  {
   "cell_type": "code",
   "execution_count": 86,
   "id": "4a4be81a",
   "metadata": {
    "scrolled": true
   },
   "outputs": [
    {
     "data": {
      "text/plain": [
       "40"
      ]
     },
     "execution_count": 86,
     "metadata": {},
     "output_type": "execute_result"
    }
   ],
   "source": [
    "price = driver.find_elements_by_xpath('//div[@class=\"_30jeq3\"]')\n",
    "len(price)"
   ]
  },
  {
   "cell_type": "code",
   "execution_count": 87,
   "id": "23ea01a0",
   "metadata": {},
   "outputs": [
    {
     "data": {
      "text/plain": [
       "40"
      ]
     },
     "execution_count": 87,
     "metadata": {},
     "output_type": "execute_result"
    }
   ],
   "source": [
    "Price = []\n",
    "\n",
    "for i in price:\n",
    "    Price.append(i.text)\n",
    "    \n",
    "len(Price) "
   ]
  },
  {
   "cell_type": "code",
   "execution_count": 88,
   "id": "96adb0cb",
   "metadata": {},
   "outputs": [
    {
     "data": {
      "text/plain": [
       "['₹225',\n",
       " '₹599',\n",
       " '₹200',\n",
       " '₹248',\n",
       " '₹198',\n",
       " '₹584',\n",
       " '₹165',\n",
       " '₹299',\n",
       " '₹188',\n",
       " '₹200',\n",
       " '₹259',\n",
       " '₹164',\n",
       " '₹474',\n",
       " '₹383',\n",
       " '₹273',\n",
       " '₹325',\n",
       " '₹262',\n",
       " '₹271',\n",
       " '₹309',\n",
       " '₹1,179',\n",
       " '₹190',\n",
       " '₹181',\n",
       " '₹189',\n",
       " '₹349',\n",
       " '₹276',\n",
       " '₹299',\n",
       " '₹243',\n",
       " '₹999',\n",
       " '₹299',\n",
       " '₹178',\n",
       " '₹499',\n",
       " '₹426',\n",
       " '₹549',\n",
       " '₹359',\n",
       " '₹200',\n",
       " '₹200',\n",
       " '₹203',\n",
       " '₹299',\n",
       " '₹233',\n",
       " '₹999']"
      ]
     },
     "execution_count": 88,
     "metadata": {},
     "output_type": "execute_result"
    }
   ],
   "source": [
    "Price"
   ]
  },
  {
   "cell_type": "code",
   "execution_count": 89,
   "id": "db9af410",
   "metadata": {},
   "outputs": [
    {
     "data": {
      "text/plain": [
       "<selenium.webdriver.remote.webelement.WebElement (session=\"89498a22dc6730fd558aceb8436562c3\", element=\"fc2ecef7-7c23-4eb6-877f-e37ccad7c858\")>"
      ]
     },
     "execution_count": 89,
     "metadata": {},
     "output_type": "execute_result"
    }
   ],
   "source": [
    "nxt_pg = driver.find_element_by_xpath('/html/body/div[1]/div/div[3]/div[1]/div[2]/div[12]/div/div/nav/a[11]/span')\n",
    "nxt_pg"
   ]
  },
  {
   "cell_type": "code",
   "execution_count": 90,
   "id": "01c58525",
   "metadata": {},
   "outputs": [],
   "source": [
    "nxt_pg.click()"
   ]
  },
  {
   "cell_type": "code",
   "execution_count": 91,
   "id": "a96ecc76",
   "metadata": {},
   "outputs": [
    {
     "data": {
      "text/plain": [
       "40"
      ]
     },
     "execution_count": 91,
     "metadata": {},
     "output_type": "execute_result"
    }
   ],
   "source": [
    "#Extracting the next page data\n",
    "brn = driver.find_elements_by_xpath('//div[@class=\"_2WkVRV\"]')\n",
    "len(brn)"
   ]
  },
  {
   "cell_type": "code",
   "execution_count": 92,
   "id": "d314d0ba",
   "metadata": {},
   "outputs": [
    {
     "data": {
      "text/plain": [
       "40"
      ]
     },
     "execution_count": 92,
     "metadata": {},
     "output_type": "execute_result"
    }
   ],
   "source": [
    "brand = []\n",
    "\n",
    "for i in brn:\n",
    "    brand.append(i.text)\n",
    "    \n",
    "len(brand) "
   ]
  },
  {
   "cell_type": "code",
   "execution_count": 93,
   "id": "3713face",
   "metadata": {},
   "outputs": [
    {
     "data": {
      "text/plain": [
       "['New Specs',\n",
       " 'Johaena',\n",
       " 'Singco India',\n",
       " 'ROZZETTA CRAFT',\n",
       " 'Rich Club',\n",
       " 'kingsunglasses',\n",
       " 'ROYAL SON',\n",
       " 'PIRASO',\n",
       " 'ROYAL SON',\n",
       " 'kingsunglasses',\n",
       " 'maxa',\n",
       " 'GANSTA',\n",
       " 'kingsunglasses',\n",
       " 'Elligator',\n",
       " 'Rich Club',\n",
       " 'ROZZETTA CRAFT',\n",
       " 'Fastrack',\n",
       " 'ROZZETTA CRAFT',\n",
       " 'Fastrack',\n",
       " 'NuVew',\n",
       " 'hipe',\n",
       " 'Silver Kartz',\n",
       " 'Fastrack',\n",
       " 'PIRASO',\n",
       " 'WROGN',\n",
       " 'ROYAL SON',\n",
       " 'hipe',\n",
       " 'VINCENT CHASE',\n",
       " 'Elligator',\n",
       " 'Lee Topper',\n",
       " 'kingsunglasses',\n",
       " 'PIRASO',\n",
       " 'ROZZETTA CRAFT',\n",
       " 'Fastrack',\n",
       " 'Fastrack',\n",
       " 'VINCENT CHASE',\n",
       " 'kingsunglasses',\n",
       " 'PIRASO',\n",
       " 'Rich Club',\n",
       " 'PIRASO']"
      ]
     },
     "execution_count": 93,
     "metadata": {},
     "output_type": "execute_result"
    }
   ],
   "source": [
    "brand"
   ]
  },
  {
   "cell_type": "code",
   "execution_count": 94,
   "id": "62b8db30",
   "metadata": {},
   "outputs": [
    {
     "data": {
      "text/plain": [
       "40"
      ]
     },
     "execution_count": 94,
     "metadata": {},
     "output_type": "execute_result"
    }
   ],
   "source": [
    "desc = driver.find_elements_by_xpath('//a[@class=\"IRpwTa\"]')\n",
    "len(desc)"
   ]
  },
  {
   "cell_type": "code",
   "execution_count": 95,
   "id": "eb8857b7",
   "metadata": {},
   "outputs": [
    {
     "data": {
      "text/plain": [
       "40"
      ]
     },
     "execution_count": 95,
     "metadata": {},
     "output_type": "execute_result"
    }
   ],
   "source": [
    "description = []\n",
    "\n",
    "for i in desc:\n",
    "    description.append(i.text)\n",
    "    \n",
    "len(description) "
   ]
  },
  {
   "cell_type": "code",
   "execution_count": 96,
   "id": "f35c3050",
   "metadata": {},
   "outputs": [
    {
     "data": {
      "text/plain": [
       "['UV Protection Round Sunglasses (Free Size)',\n",
       " 'Riding Glasses, UV Protection Oval Sunglasses (48)',\n",
       " 'Riding Glasses, UV Protection, Others Aviator Sunglasse...',\n",
       " 'Gradient, UV Protection Round Sunglasses (Free Size)',\n",
       " 'Polarized Round Sunglasses (48)',\n",
       " 'UV Protection Round Sunglasses (Free Size)',\n",
       " 'UV Protection Rectangular Sunglasses (58)',\n",
       " 'UV Protection Aviator Sunglasses (50)',\n",
       " 'Mirrored Aviator Sunglasses (55)',\n",
       " 'UV Protection, Riding Glasses, Mirrored Wayfarer Sungla...',\n",
       " 'UV Protection, Riding Glasses Rectangular, Wayfarer, Ov...',\n",
       " 'UV Protection, Mirrored Wayfarer Sunglasses (53)',\n",
       " 'Mirrored, UV Protection Wayfarer Sunglasses (Free Size)',\n",
       " 'UV Protection Retro Square, Round Sunglasses (54)',\n",
       " 'Polarized Round Sunglasses (48)',\n",
       " 'UV Protection, Riding Glasses Rectangular Sunglasses (F...',\n",
       " 'UV Protection Aviator Sunglasses (Free Size)',\n",
       " 'UV Protection, Gradient Rectangular Sunglasses (Free Si...',\n",
       " 'UV Protection Shield Sunglasses (Free Size)',\n",
       " 'UV Protection Aviator Sunglasses (57)',\n",
       " 'UV Protection, Mirrored, Riding Glasses, Night Vision, ...',\n",
       " 'UV Protection Wayfarer Sunglasses (Free Size)',\n",
       " 'Polarized Retro Square Sunglasses (Free Size)',\n",
       " 'UV Protection Aviator Sunglasses (50)',\n",
       " 'Polarized Rectangular Sunglasses (59)',\n",
       " 'Mirrored Aviator Sunglasses (Free Size)',\n",
       " 'UV Protection, Gradient, Mirrored, Riding Glasses, Nigh...',\n",
       " 'by Lenskart Polarized, UV Protection Wayfarer Sunglasse...',\n",
       " 'UV Protection Round Sunglasses (54)',\n",
       " 'UV Protection, Riding Glasses Retro Square, Spectacle ...',\n",
       " 'UV Protection Rectangular Sunglasses (Free Size)',\n",
       " 'UV Protection Aviator Sunglasses (58)',\n",
       " 'UV Protection, Gradient Round Sunglasses (Free Size)',\n",
       " 'UV Protection Aviator Sunglasses (58)',\n",
       " 'UV Protection Aviator Sunglasses (Free Size)',\n",
       " 'by Lenskart UV Protection Wayfarer Sunglasses (51)',\n",
       " 'UV Protection, Mirrored Aviator Sunglasses (Free Size)',\n",
       " 'UV Protection Butterfly Sunglasses (65)',\n",
       " 'UV Protection Round Sunglasses (50)',\n",
       " 'UV Protection Aviator Sunglasses (58)']"
      ]
     },
     "execution_count": 96,
     "metadata": {},
     "output_type": "execute_result"
    }
   ],
   "source": [
    "description"
   ]
  },
  {
   "cell_type": "code",
   "execution_count": 97,
   "id": "739a5758",
   "metadata": {},
   "outputs": [
    {
     "data": {
      "text/plain": [
       "40"
      ]
     },
     "execution_count": 97,
     "metadata": {},
     "output_type": "execute_result"
    }
   ],
   "source": [
    "price = driver.find_elements_by_xpath('//div[@class=\"_30jeq3\"]')\n",
    "len(price)"
   ]
  },
  {
   "cell_type": "code",
   "execution_count": 98,
   "id": "1fdebb25",
   "metadata": {},
   "outputs": [
    {
     "data": {
      "text/plain": [
       "40"
      ]
     },
     "execution_count": 98,
     "metadata": {},
     "output_type": "execute_result"
    }
   ],
   "source": [
    "Price = []\n",
    "\n",
    "for i in price:\n",
    "    Price.append(i.text)\n",
    "    \n",
    "len(Price) "
   ]
  },
  {
   "cell_type": "code",
   "execution_count": 99,
   "id": "2bba4b62",
   "metadata": {},
   "outputs": [
    {
     "data": {
      "text/plain": [
       "['₹233',\n",
       " '₹156',\n",
       " '₹201',\n",
       " '₹426',\n",
       " '₹165',\n",
       " '₹289',\n",
       " '₹449',\n",
       " '₹299',\n",
       " '₹359',\n",
       " '₹187',\n",
       " '₹144',\n",
       " '₹196',\n",
       " '₹256',\n",
       " '₹291',\n",
       " '₹163',\n",
       " '₹426',\n",
       " '₹639',\n",
       " '₹348',\n",
       " '₹789',\n",
       " '₹325',\n",
       " '₹179',\n",
       " '₹246',\n",
       " '₹639',\n",
       " '₹299',\n",
       " '₹349',\n",
       " '₹359',\n",
       " '₹189',\n",
       " '₹999',\n",
       " '₹265',\n",
       " '₹375',\n",
       " '₹192',\n",
       " '₹299',\n",
       " '₹360',\n",
       " '₹1,089',\n",
       " '₹575',\n",
       " '₹999',\n",
       " '₹235',\n",
       " '₹349',\n",
       " '₹355',\n",
       " '₹299']"
      ]
     },
     "execution_count": 99,
     "metadata": {},
     "output_type": "execute_result"
    }
   ],
   "source": [
    "Price"
   ]
  },
  {
   "cell_type": "code",
   "execution_count": 101,
   "id": "0f6824c3",
   "metadata": {},
   "outputs": [
    {
     "data": {
      "text/plain": [
       "<selenium.webdriver.remote.webelement.WebElement (session=\"89498a22dc6730fd558aceb8436562c3\", element=\"fc2ecef7-7c23-4eb6-877f-e37ccad7c858\")>"
      ]
     },
     "execution_count": 101,
     "metadata": {},
     "output_type": "execute_result"
    }
   ],
   "source": [
    "nxt_pg = driver.find_element_by_xpath('/html/body/div[1]/div/div[3]/div[1]/div[2]/div[12]/div/div/nav/a[12]/span')\n",
    "nxt_pg"
   ]
  },
  {
   "cell_type": "code",
   "execution_count": 102,
   "id": "df6c8b49",
   "metadata": {},
   "outputs": [],
   "source": [
    "nxt_pg.click()"
   ]
  },
  {
   "cell_type": "code",
   "execution_count": 103,
   "id": "473fcf52",
   "metadata": {},
   "outputs": [
    {
     "data": {
      "text/plain": [
       "40"
      ]
     },
     "execution_count": 103,
     "metadata": {},
     "output_type": "execute_result"
    }
   ],
   "source": [
    "brn = driver.find_elements_by_xpath('//div[@class=\"_2WkVRV\"]')\n",
    "len(brn)"
   ]
  },
  {
   "cell_type": "code",
   "execution_count": 105,
   "id": "e34bb04a",
   "metadata": {},
   "outputs": [
    {
     "data": {
      "text/plain": [
       "['ROZZETTA CRAFT',\n",
       " 'ROYAL SON',\n",
       " 'Elligator',\n",
       " 'PIRASO',\n",
       " 'DEIXELS',\n",
       " 'PHENOMENAL',\n",
       " 'Lee Topper',\n",
       " 'VINCENT CHASE',\n",
       " 'hipe',\n",
       " 'GANSTA',\n",
       " 'Fastrack',\n",
       " 'agera',\n",
       " 'ROYAL SON',\n",
       " 'Singco India',\n",
       " 'PIRASO',\n",
       " 'PIRASO',\n",
       " 'ROZZETTA CRAFT',\n",
       " 'Fastrack',\n",
       " 'ROYAL SON',\n",
       " 'GANSTA',\n",
       " 'PHENOMENAL',\n",
       " 'hipe',\n",
       " 'ROZZETTA CRAFT',\n",
       " 'ROZZETTA CRAFT',\n",
       " 'ROZZETTA CRAFT',\n",
       " 'HIPPON',\n",
       " 'New Specs',\n",
       " 'PIRASO',\n",
       " 'ROYAL SON',\n",
       " 'SUNBEE',\n",
       " 'kingsunglasses',\n",
       " 'VINCENT CHASE',\n",
       " 'ROYAL SON',\n",
       " 'SRPM',\n",
       " 'Urbanic',\n",
       " 'NuVew',\n",
       " 'kingsunglasses',\n",
       " 'kingsunglasses',\n",
       " 'Elligator',\n",
       " 'ROZZETTA CRAFT']"
      ]
     },
     "execution_count": 105,
     "metadata": {},
     "output_type": "execute_result"
    }
   ],
   "source": [
    "brand = []\n",
    "\n",
    "for i in brn:\n",
    "    brand.append(i.text)\n",
    "    \n",
    "len(brand) \n",
    "brand"
   ]
  },
  {
   "cell_type": "code",
   "execution_count": 106,
   "id": "b14418fd",
   "metadata": {},
   "outputs": [
    {
     "data": {
      "text/plain": [
       "40"
      ]
     },
     "execution_count": 106,
     "metadata": {},
     "output_type": "execute_result"
    }
   ],
   "source": [
    "desc = driver.find_elements_by_xpath('//a[@class=\"IRpwTa\"]')\n",
    "len(desc)"
   ]
  },
  {
   "cell_type": "code",
   "execution_count": 107,
   "id": "b4129a98",
   "metadata": {},
   "outputs": [
    {
     "data": {
      "text/plain": [
       "['Mirrored, UV Protection Round Sunglasses (Free Size)',\n",
       " 'Mirrored Aviator Sunglasses (55)',\n",
       " 'UV Protection Round Sunglasses (55)',\n",
       " 'UV Protection Aviator Sunglasses (54)',\n",
       " 'UV Protection Aviator, Wayfarer Sunglasses (Free Size)',\n",
       " 'UV Protection, Mirrored Clubmaster Sunglasses (Free Siz...',\n",
       " 'UV Protection Round Sunglasses (Free Size)',\n",
       " 'by Lenskart Polarized, UV Protection Aviator Sunglasses...',\n",
       " 'UV Protection, Gradient, Mirrored, Riding Glasses Aviat...',\n",
       " 'UV Protection, Riding Glasses Wayfarer Sunglasses (53)',\n",
       " 'UV Protection Wayfarer Sunglasses (Free Size)',\n",
       " 'Gradient Aviator Sunglasses (55)',\n",
       " 'UV Protection Retro Square Sunglasses (58)',\n",
       " 'Gradient, Toughened Glass Lens, UV Protection Retro Squ...',\n",
       " 'UV Protection Aviator Sunglasses (Free Size)',\n",
       " 'UV Protection Aviator Sunglasses (50)',\n",
       " 'UV Protection Round Sunglasses (Free Size)',\n",
       " 'Gradient, UV Protection Wayfarer Sunglasses (Free Size)',\n",
       " 'Mirrored Aviator Sunglasses (58)',\n",
       " 'UV Protection, Mirrored Wayfarer Sunglasses (53)',\n",
       " 'UV Protection Clubmaster Sunglasses (Free Size)',\n",
       " 'UV Protection Sports Sunglasses (Free Size)',\n",
       " 'UV Protection, Gradient Round Sunglasses (Free Size)',\n",
       " 'UV Protection, Riding Glasses Rectangular Sunglasses (F...',\n",
       " 'UV Protection, Gradient Retro Square Sunglasses (Free S...',\n",
       " 'UV Protection Wayfarer Sunglasses (55)',\n",
       " 'UV Protection Rectangular Sunglasses (Free Size)',\n",
       " 'UV Protection Aviator Sunglasses (50)',\n",
       " 'Polarized, UV Protection Aviator Sunglasses (58)',\n",
       " 'UV Protection, Polarized, Mirrored Wayfarer Sunglasses ...',\n",
       " 'UV Protection Rectangular Sunglasses (55)',\n",
       " 'by Lenskart Polarized, UV Protection Wayfarer Sunglasse...',\n",
       " 'UV Protection Retro Square Sunglasses (88)',\n",
       " 'UV Protection Wayfarer Sunglasses (53)',\n",
       " 'Others Retro Square Sunglasses (Free Size)',\n",
       " 'UV Protection Aviator Sunglasses (57)',\n",
       " 'UV Protection, Mirrored Round Sunglasses (54)',\n",
       " 'UV Protection, Night Vision Wayfarer Sunglasses (Free S...',\n",
       " 'UV Protection, Riding Glasses Rectangular, Retro Square...',\n",
       " 'UV Protection, Gradient Rectangular Sunglasses (Free Si...']"
      ]
     },
     "execution_count": 107,
     "metadata": {},
     "output_type": "execute_result"
    }
   ],
   "source": [
    "description = []\n",
    "\n",
    "for i in desc:\n",
    "    description.append(i.text)\n",
    "    \n",
    "len(description) \n",
    "description"
   ]
  },
  {
   "cell_type": "code",
   "execution_count": 110,
   "id": "9e469be7",
   "metadata": {},
   "outputs": [
    {
     "data": {
      "text/plain": [
       "40"
      ]
     },
     "execution_count": 110,
     "metadata": {},
     "output_type": "execute_result"
    }
   ],
   "source": [
    "price = driver.find_elements_by_xpath('//div[@class=\"_30jeq3\"]')\n",
    "len(price)"
   ]
  },
  {
   "cell_type": "code",
   "execution_count": 111,
   "id": "102542c8",
   "metadata": {},
   "outputs": [
    {
     "data": {
      "text/plain": [
       "['₹360',\n",
       " '₹359',\n",
       " '₹239',\n",
       " '₹200',\n",
       " '₹202',\n",
       " '₹287',\n",
       " '₹244',\n",
       " '₹999',\n",
       " '₹209',\n",
       " '₹209',\n",
       " '₹759',\n",
       " '₹196',\n",
       " '₹449',\n",
       " '₹599',\n",
       " '₹299',\n",
       " '₹299',\n",
       " '₹426',\n",
       " '₹619',\n",
       " '₹359',\n",
       " '₹196',\n",
       " '₹287',\n",
       " '₹287',\n",
       " '₹426',\n",
       " '₹426',\n",
       " '₹349',\n",
       " '₹218',\n",
       " '₹168',\n",
       " '₹299',\n",
       " '₹711',\n",
       " '₹276',\n",
       " '₹259',\n",
       " '₹999',\n",
       " '₹569',\n",
       " '₹207',\n",
       " '₹499',\n",
       " '₹325',\n",
       " '₹211',\n",
       " '₹273',\n",
       " '₹305',\n",
       " '₹348']"
      ]
     },
     "execution_count": 111,
     "metadata": {},
     "output_type": "execute_result"
    }
   ],
   "source": [
    "Price = []\n",
    "\n",
    "for i in price:\n",
    "    Price.append(i.text)\n",
    "    \n",
    "Price "
   ]
  },
  {
   "cell_type": "markdown",
   "id": "f0bcf569",
   "metadata": {},
   "source": [
    "# Answer No. 5"
   ]
  },
  {
   "cell_type": "code",
   "execution_count": 5,
   "id": "8829fee8",
   "metadata": {},
   "outputs": [],
   "source": [
    "url_ = 'https://www.flipkart.com/apple-iphone-11-black-64-gb-includes-%20earpods-power%02adapter/p/itm0f37c2240b217?pid=MOBFKCTSVZAXUHGR&lid=LSTMOBFKC%20TSVZAXUHGREPBFGI&marketplace.'\n",
    "driver.get(url_)"
   ]
  },
  {
   "cell_type": "code",
   "execution_count": 12,
   "id": "dce9aea7",
   "metadata": {},
   "outputs": [
    {
     "data": {
      "text/plain": [
       "<selenium.webdriver.remote.webelement.WebElement (session=\"c25f5e3d026a694be1af34d243cf62fa\", element=\"d59e60b3-681f-4c97-bd1c-463ef9863e98\")>"
      ]
     },
     "execution_count": 12,
     "metadata": {},
     "output_type": "execute_result"
    }
   ],
   "source": [
    "search_Product = driver.find_element_by_xpath('/html/body/div[1]/div/div[1]/div[1]/div[2]/div[2]/form/div/div/input')\n",
    "search_Product"
   ]
  },
  {
   "cell_type": "code",
   "execution_count": 187,
   "id": "c34e39c9",
   "metadata": {},
   "outputs": [],
   "source": [
    "url_ = 'https://www.flipkart.com/apple-iphone-11-black-64-gb-includes-%20earpods-power%02adapter/p/itm0f37c2240b217?pid=MOBFKCTSVZAXUHGR&lid=LSTMOBFKC%20TSVZAXUHGREPBFGI&marketplace.'\n",
    "driver.get(url_)"
   ]
  },
  {
   "cell_type": "code",
   "execution_count": 17,
   "id": "59444c30",
   "metadata": {},
   "outputs": [
    {
     "data": {
      "text/plain": [
       "10"
      ]
     },
     "execution_count": 17,
     "metadata": {},
     "output_type": "execute_result"
    }
   ],
   "source": [
    "rating_tag = driver.find_elements_by_xpath('//div[@class=\"_3LWZlK _1BLPMq\"]')\n",
    "len(rating_tag)"
   ]
  },
  {
   "cell_type": "code",
   "execution_count": 18,
   "id": "7776dd92",
   "metadata": {},
   "outputs": [
    {
     "data": {
      "text/plain": [
       "['5', '5', '5', '5', '5', '5', '5', '4', '5', '5']"
      ]
     },
     "execution_count": 18,
     "metadata": {},
     "output_type": "execute_result"
    }
   ],
   "source": [
    "rating_tags = []\n",
    "\n",
    "for i in rating_tag:\n",
    "    rating_tags.append(i.text)\n",
    "    \n",
    "rating_tags"
   ]
  },
  {
   "cell_type": "code",
   "execution_count": 19,
   "id": "6358a758",
   "metadata": {},
   "outputs": [
    {
     "data": {
      "text/plain": [
       "10"
      ]
     },
     "execution_count": 19,
     "metadata": {},
     "output_type": "execute_result"
    }
   ],
   "source": [
    "review_sum = driver.find_elements_by_xpath('//p[@class=\"_2-N8zT\"]')\n",
    "len(review_sum)"
   ]
  },
  {
   "cell_type": "code",
   "execution_count": 21,
   "id": "c97a8d04",
   "metadata": {},
   "outputs": [
    {
     "data": {
      "text/plain": [
       "['Brilliant',\n",
       " 'Simply awesome',\n",
       " 'Perfect product!',\n",
       " 'Best in the market!',\n",
       " 'Worth every penny',\n",
       " 'Fabulous!',\n",
       " 'Great product',\n",
       " 'Good choice',\n",
       " 'Highly recommended',\n",
       " 'Worth every penny']"
      ]
     },
     "execution_count": 21,
     "metadata": {},
     "output_type": "execute_result"
    }
   ],
   "source": [
    "Review = []\n",
    "\n",
    "for i in review_sum:\n",
    "    Review.append(i.text)\n",
    "    \n",
    "Review"
   ]
  },
  {
   "cell_type": "code",
   "execution_count": 22,
   "id": "7629ae38",
   "metadata": {},
   "outputs": [
    {
     "data": {
      "text/plain": [
       "10"
      ]
     },
     "execution_count": 22,
     "metadata": {},
     "output_type": "execute_result"
    }
   ],
   "source": [
    "review_full = driver.find_elements_by_xpath('//div[@class=\"\"]')\n",
    "len(review_full)"
   ]
  },
  {
   "cell_type": "code",
   "execution_count": 25,
   "id": "1f1d9bcc",
   "metadata": {},
   "outputs": [
    {
     "data": {
      "text/plain": [
       "['The Best Phone for the MoneyThe iPhone 11 offers superb cameras, a more durable design and excellent battery life for an affordable price.Compelling ultra-wide cameraNew Night mode is excellentLong battery life',\n",
       " 'Really satisfied with the Product I received... It’s totally genuine and the packaging was also really good so if ur planning to buy just go for it.',\n",
       " 'Amazing phone with great cameras and better battery which gives you the best performance. I just love the camera .',\n",
       " 'Great iPhone very snappy experience as apple kind. Upgraded from iPhone 7.Pros-Camera top class- Battery top performed-Chipset no need to say as apple kind-Security as you expect from apple- Display super bright industry leading colouraccuracy and super responsive-Build quality as expect from apple sturdypremium durable beautiful stylish.-Os most stable os in smartphone industryCons-No 5G-Display is not based on OLED technology-Charger headphones and 1 apple stic...',\n",
       " 'Previously I was using one plus 3t it was a great phoneAnd then I decided to upgrade I am stuck between Samsung s10 plus or iPhone 11I have seen the specs and everything were good except the display it’s somewhere between 720-1080 and it’s not even an amoled it’s an LCD displayBut I decided to go with iPhone because I have never used an IOS device I have Been an android user from the past 9 years I ordered IPhone 11 (128gb) product redMy experience after using 3 weeks1. The delivery ...',\n",
       " 'This is my first iOS phone. I am very happy with this product. Very much satisfied with this. I love this phone.',\n",
       " 'Amazing Powerful and Durable Gadget.I’m am very happy with the camera picture quality, Amazing face id unlocked in dark room, Strong battery with perfect screen size as you can carry easily in pocket. This is my third iPhone.I shifted from android Samsung Note series to iPhone because of the strong build quality and peace of mind for next 3-4 years.Don’t think to much just go for it and I suggest you to go for minimum 128gb variant or more 256gb.I’ve attached my puppy pics and no fi...',\n",
       " 'So far it’s been an AMAZING experience coming back to iOS after nearly a decade but it’s not as versatile as android though phone is sturdy dropped it accidentally a couple of times and nothing happened fortunately camera is awesome',\n",
       " 'What a camera .....just awesome ..you can feel this iPhone just awesome . Good for gaming also ...try pubg in hd it’s just wow',\n",
       " 'i11 is worthy to buy, too much happy with the product. Thank u flipkart I received the item on time..loved it..']"
      ]
     },
     "execution_count": 25,
     "metadata": {},
     "output_type": "execute_result"
    }
   ],
   "source": [
    "Full_Review = []\n",
    "\n",
    "for i in review_full:\n",
    "    Full_Review.append(i.text.replace('\\n',''))\n",
    "    \n",
    "Full_Review"
   ]
  },
  {
   "cell_type": "code",
   "execution_count": 26,
   "id": "709c11b9",
   "metadata": {},
   "outputs": [
    {
     "data": {
      "text/plain": [
       "<selenium.webdriver.remote.webelement.WebElement (session=\"c25f5e3d026a694be1af34d243cf62fa\", element=\"2282c088-87a5-411f-ac96-33a7ebe88a34\")>"
      ]
     },
     "execution_count": 26,
     "metadata": {},
     "output_type": "execute_result"
    }
   ],
   "source": [
    "nxt = driver.find_element_by_xpath('/html/body/div[1]/div/div[3]/div/div/div[2]/div[13]/div/div/nav/a[11]/span')\n",
    "nxt"
   ]
  },
  {
   "cell_type": "code",
   "execution_count": 27,
   "id": "7fbd68e6",
   "metadata": {},
   "outputs": [],
   "source": [
    "nxt.click()"
   ]
  },
  {
   "cell_type": "code",
   "execution_count": 28,
   "id": "e70e835e",
   "metadata": {},
   "outputs": [
    {
     "data": {
      "text/plain": [
       "10"
      ]
     },
     "execution_count": 28,
     "metadata": {},
     "output_type": "execute_result"
    }
   ],
   "source": [
    "rating_tag = driver.find_elements_by_xpath('//div[@class=\"_3LWZlK _1BLPMq\"]')\n",
    "len(rating_tag)"
   ]
  },
  {
   "cell_type": "code",
   "execution_count": 29,
   "id": "e1164caa",
   "metadata": {},
   "outputs": [
    {
     "data": {
      "text/plain": [
       "['5', '5', '5', '5', '5', '5', '5', '5', '5', '5']"
      ]
     },
     "execution_count": 29,
     "metadata": {},
     "output_type": "execute_result"
    }
   ],
   "source": [
    "rating_tags = []\n",
    "\n",
    "for i in rating_tag:\n",
    "    rating_tags.append(i.text)\n",
    "    \n",
    "rating_tags"
   ]
  },
  {
   "cell_type": "code",
   "execution_count": 30,
   "id": "7bcaeac2",
   "metadata": {},
   "outputs": [
    {
     "data": {
      "text/plain": [
       "10"
      ]
     },
     "execution_count": 30,
     "metadata": {},
     "output_type": "execute_result"
    }
   ],
   "source": [
    "review_sum = driver.find_elements_by_xpath('//p[@class=\"_2-N8zT\"]')\n",
    "len(review_sum)"
   ]
  },
  {
   "cell_type": "code",
   "execution_count": 31,
   "id": "b26a9ea4",
   "metadata": {},
   "outputs": [
    {
     "data": {
      "text/plain": [
       "['Highly recommended',\n",
       " 'Perfect product!',\n",
       " 'Perfect product!',\n",
       " 'Highly recommended',\n",
       " 'Perfect product!',\n",
       " 'Classy product',\n",
       " 'Worth every penny',\n",
       " 'Simply awesome',\n",
       " 'Worth every penny',\n",
       " 'Worth every penny']"
      ]
     },
     "execution_count": 31,
     "metadata": {},
     "output_type": "execute_result"
    }
   ],
   "source": [
    "Review = []\n",
    "\n",
    "for i in review_sum:\n",
    "    Review.append(i.text)\n",
    "    \n",
    "Review"
   ]
  },
  {
   "cell_type": "code",
   "execution_count": 32,
   "id": "c1787bbb",
   "metadata": {},
   "outputs": [
    {
     "data": {
      "text/plain": [
       "10"
      ]
     },
     "execution_count": 32,
     "metadata": {},
     "output_type": "execute_result"
    }
   ],
   "source": [
    "review_full = driver.find_elements_by_xpath('//div[@class=\"\"]')\n",
    "len(review_full)"
   ]
  },
  {
   "cell_type": "code",
   "execution_count": 33,
   "id": "454f83bc",
   "metadata": {},
   "outputs": [
    {
     "data": {
      "text/plain": [
       "['iphone 11 is a very good phone to buy only if you can compromise for the display. The display on this is device is pretty good but you can get other options with better displays in this price segment.If you can survive with an HD+ LCD panel with thicker bezels and a notch up top then this is a very good phone for you.Cameras are awesome, battery backup excellent, great performance and a decent premium look. Good job Apple !',\n",
       " 'It’s a must buy who is looking for an upgrade from previous generation of iPhones. If you are using XR then still you can hold on for sometime and upgrade to 2020 model else this phone is a must buy . Camera quality is amazing and wide angle is something to count upon. Performance wise it’s amazing and feels premium while holding in hand. So a big YES for this device. Go for 128 GB variant as the 4K videos will occupy lots of space and the storage can get over very quickly. Try to buy it with...',\n",
       " 'Value for money❤️❤️Its awesome mobile phone in the world ...Display was very good and bright ..Trust me freinds you r never regret after Buying..Just go for it....I love this phone and i switch to iphone x to 11',\n",
       " \"It's my first time to use iOS phone and I am loving my upgradation 😍😍 I love the color, I love the assebility of the phone....I need to learn more about its functionality, but as far as I have seen, it's quite easy and it has a lot of functions to work on, specially if you are a content writer or a blogger you get a lot of content creation platforms and they are really amazing.This phone not only for good quality photography but a lot of other task too.😍💯\",\n",
       " \"Iphone is just awesome.. battery backup is very very nice.. continuously for 10 hours we can use it.camera is just awesome.. display is just fab.i love it alot..i had to wait 15 days for it as i pre ordered it..overalll it's worth the price..these all images are clicked by my iPhone..and i love it.\",\n",
       " 'Totally in love with this ❤ the camera quality is amazing just love it 😘😘😘 itsss dammnnnnnn amazing... Must buy iPhone 11 this is my best experience ever ☀👌👌🧡🧡🧡🧡🧡 thanku apple ❤',\n",
       " 'Best budget Iphone till date ❤️ go for it guys without second thought. Let me explain you guys about Camera, Display, battery, and performance.Camera: at this price range there is no comparison of camera, you’ll love the picture quality as well as video quality. I am a Vlogger I wanted an iPhone with 4k video by front camera and I got this phone and I am more than happy 😃Battery: I use this phone roughly as I am active social media person and I have a youtube channel. so the battery ba...',\n",
       " 'Excellent camera, good performance, no lag. The lcd display is also good.. but difference come when we watch movie in prime and Netflix, the colours are not vibrant.. as we see in amoled display.. and the charger in box is of 5 watts.. takes more than 3 hours to charge from 0 to 100.. so guys be prepare to buy 18 watts charger . Finally I am an android user, it was my first Iapple phone, I promise u guys the iOS is so smooth.. overall the phone is damn good.... close eyes to buy it.. thanks t...',\n",
       " 'It’s been almost a month since I have been using this phone. I upgraded from an iPhone 8. The main issue with my 8 was battery and this phone is just awesome when it comes to battery. It lasts a day and a half for me with my regular use , internet connected always with 4gCan’t move forward without saying this. Battery of this phone is a life saver when I am traveling or at work when I don’t get the option to chargeCamera is superb. Front cam selfies and back cam photos are just awesome....',\n",
       " 'Smooth like butter, camera like fantabulous, sound is crystal clear & its red color is damn attractive, i am just loving it. Must buy if you love photography.Lucky to get it in sale, thank you Flipkart.']"
      ]
     },
     "execution_count": 33,
     "metadata": {},
     "output_type": "execute_result"
    }
   ],
   "source": [
    "Full_Review = []\n",
    "\n",
    "for i in review_full:\n",
    "    Full_Review.append(i.text.replace('\\n',''))\n",
    "    \n",
    "Full_Review"
   ]
  },
  {
   "cell_type": "markdown",
   "id": "3cd411ab",
   "metadata": {},
   "source": [
    "Scraped 20 data\n"
   ]
  },
  {
   "cell_type": "code",
   "execution_count": 36,
   "id": "b9238a15",
   "metadata": {},
   "outputs": [
    {
     "data": {
      "text/plain": [
       "<selenium.webdriver.remote.webelement.WebElement (session=\"c25f5e3d026a694be1af34d243cf62fa\", element=\"430b2681-12ac-420a-a7c1-ff35453d3048\")>"
      ]
     },
     "execution_count": 36,
     "metadata": {},
     "output_type": "execute_result"
    }
   ],
   "source": [
    "nxt = driver.find_element_by_xpath('/html/body/div[1]/div/div[3]/div/div/div[2]/div[13]/div/div/nav/a[12]/span')\n",
    "nxt"
   ]
  },
  {
   "cell_type": "code",
   "execution_count": 37,
   "id": "06e42f2f",
   "metadata": {},
   "outputs": [],
   "source": [
    "nxt.click()"
   ]
  },
  {
   "cell_type": "code",
   "execution_count": 38,
   "id": "b4e38832",
   "metadata": {},
   "outputs": [
    {
     "data": {
      "text/plain": [
       "10"
      ]
     },
     "execution_count": 38,
     "metadata": {},
     "output_type": "execute_result"
    }
   ],
   "source": [
    "rating_tag = driver.find_elements_by_xpath('//div[@class=\"_3LWZlK _1BLPMq\"]')\n",
    "len(rating_tag)"
   ]
  },
  {
   "cell_type": "code",
   "execution_count": 39,
   "id": "fde990fc",
   "metadata": {},
   "outputs": [
    {
     "data": {
      "text/plain": [
       "['5', '5', '4', '5', '5', '5', '4', '5', '5', '5']"
      ]
     },
     "execution_count": 39,
     "metadata": {},
     "output_type": "execute_result"
    }
   ],
   "source": [
    "rating_tags = []\n",
    "\n",
    "for i in rating_tag:\n",
    "    rating_tags.append(i.text)\n",
    "    \n",
    "rating_tags"
   ]
  },
  {
   "cell_type": "code",
   "execution_count": 40,
   "id": "9d18ac0b",
   "metadata": {},
   "outputs": [
    {
     "data": {
      "text/plain": [
       "10"
      ]
     },
     "execution_count": 40,
     "metadata": {},
     "output_type": "execute_result"
    }
   ],
   "source": [
    "review_sum = driver.find_elements_by_xpath('//p[@class=\"_2-N8zT\"]')\n",
    "len(review_sum)"
   ]
  },
  {
   "cell_type": "code",
   "execution_count": 41,
   "id": "8edbb6a9",
   "metadata": {},
   "outputs": [
    {
     "data": {
      "text/plain": [
       "['Wonderful',\n",
       " 'Terrific',\n",
       " 'Nice product',\n",
       " 'Perfect product!',\n",
       " 'Classy product',\n",
       " 'Brilliant',\n",
       " 'Good choice',\n",
       " 'Must buy!',\n",
       " 'Wonderful',\n",
       " 'Perfect product!']"
      ]
     },
     "execution_count": 41,
     "metadata": {},
     "output_type": "execute_result"
    }
   ],
   "source": [
    "Review = []\n",
    "\n",
    "for i in review_sum:\n",
    "    Review.append(i.text)\n",
    "    \n",
    "Review"
   ]
  },
  {
   "cell_type": "code",
   "execution_count": 42,
   "id": "10872a02",
   "metadata": {},
   "outputs": [
    {
     "data": {
      "text/plain": [
       "10"
      ]
     },
     "execution_count": 42,
     "metadata": {},
     "output_type": "execute_result"
    }
   ],
   "source": [
    "review_full = driver.find_elements_by_xpath('//div[@class=\"\"]')\n",
    "len(review_full)"
   ]
  },
  {
   "cell_type": "code",
   "execution_count": 43,
   "id": "d76f4bdf",
   "metadata": {},
   "outputs": [
    {
     "data": {
      "text/plain": [
       "['This is my first ever I phone. Before this I was using my google nexus 5. But moving from android to iOS is a great experience. It’s worth at this price. I will highly recommend it if you want to move to iOS. The best part of this phone is it’s camera and it’s battery life. This two things have won my heart. I loved it. Happy to have it in my hand. Still exploring its features. And can’t forget to mention Flipkart service. Very prompt service and fast delivery.',\n",
       " 'Really worth of money. i just love it. It is the best phone ever.',\n",
       " 'Awesome Phone. Slightly high price but worth. Better than iPhone XR.Camera is superb and wide angle camera is very clear.12MP selfie camera is also very good.A13 Chip gives a very good and smooth performance.',\n",
       " 'Battery backup is extraordinary, camera is decent & performance offered by A13 bionic is awsome. The display is good in practical usage like the visibility of display is very good in direct sun light compare to pro models. Iam extremely satisfied for the money I spent.',\n",
       " 'Superb Product !!!A big and worthy upgrade from mi 3S to iphone 11 .Totally loved it !',\n",
       " 'I have migrated from OP 7pro... and trust me, iPhone 11 is totally worth it.. following are the reasons:-1)there is ABSOLUTELY NO ISSUE WITH THE DISPLAY... its crisp, sharp and I found it to be much much better than OP7 pro. Netflix, Prime video all run crisply... you won’t miss a thing. True Tone works flawlessly...the display brightness is perfect. OP have not calibrated their screens properly.2) iPhone 11 series have really good cameras... others have spoken in depth about them.3) bat...',\n",
       " 'Looking so good 👍 😍 super 👌 stylish 😎 phoneClean box 📦 good 👍 delivery 👌 fast deliveryOriginal box Original iphone 📱 👌 😍😍😍',\n",
       " 'It’s an amazing product from apple and the camera is simply superb. Phone is faster.Night shot is simply superb and detailing and colour differentiation from camera is an added advantageThis review I have written from iPhone 11 only and I am glad to say outside.Cons wise if we see HD+ display only, no battery percentage indicator as in older iPhone 8.No assistive touch control button in itNo oleophobic coating on back panel glass and finger prints are visible but since I bought mint gr...',\n",
       " 'I just directly switch from iphone 6s to iphone 11 .The best premium smartphone I recommend to everyone. Excellent quality and colors the iphone have in 11 series.Camera quality is just awesome and the major feel when we hold in our hands. The sound quality and volume is also higher then the previous models.I will recommend to buy iphone 11 instead of pro models , there is nothing much difference as this model contains everything which fulfill our needs.Only one thing that I dislike abo...',\n",
       " 'After 1 month use I found camera quality best compared to my previous Samsung note 10+.Display not good as note 10 also charging too slow.Apple should add fast charger like 11 plus and pro.Best phone for daily use']"
      ]
     },
     "execution_count": 43,
     "metadata": {},
     "output_type": "execute_result"
    }
   ],
   "source": [
    "Full_Review = []\n",
    "\n",
    "for i in review_full:\n",
    "    Full_Review.append(i.text.replace('\\n',''))\n",
    "    \n",
    "Full_Review"
   ]
  },
  {
   "cell_type": "code",
   "execution_count": 44,
   "id": "f3a05e5a",
   "metadata": {},
   "outputs": [],
   "source": [
    "#Scraped 30 data"
   ]
  },
  {
   "cell_type": "code",
   "execution_count": 45,
   "id": "88d1e06c",
   "metadata": {},
   "outputs": [
    {
     "data": {
      "text/plain": [
       "<selenium.webdriver.remote.webelement.WebElement (session=\"c25f5e3d026a694be1af34d243cf62fa\", element=\"62cf6070-b883-4c5e-b6f7-2dac6fda15ef\")>"
      ]
     },
     "execution_count": 45,
     "metadata": {},
     "output_type": "execute_result"
    }
   ],
   "source": [
    "nxt = driver.find_element_by_xpath('/html/body/div[1]/div/div[3]/div/div/div[2]/div[13]/div/div/nav/a[12]/span')\n",
    "nxt"
   ]
  },
  {
   "cell_type": "code",
   "execution_count": 46,
   "id": "d1525f93",
   "metadata": {},
   "outputs": [],
   "source": [
    "nxt.click()"
   ]
  },
  {
   "cell_type": "code",
   "execution_count": 47,
   "id": "f87addfd",
   "metadata": {},
   "outputs": [
    {
     "data": {
      "text/plain": [
       "9"
      ]
     },
     "execution_count": 47,
     "metadata": {},
     "output_type": "execute_result"
    }
   ],
   "source": [
    "rating_tag = driver.find_elements_by_xpath('//div[@class=\"_3LWZlK _1BLPMq\"]')\n",
    "len(rating_tag)"
   ]
  },
  {
   "cell_type": "code",
   "execution_count": 48,
   "id": "16e7bb28",
   "metadata": {},
   "outputs": [
    {
     "data": {
      "text/plain": [
       "['5', '5', '5', '5', '5', '5', '5', '4', '5']"
      ]
     },
     "execution_count": 48,
     "metadata": {},
     "output_type": "execute_result"
    }
   ],
   "source": [
    "rating_tags = []\n",
    "\n",
    "for i in rating_tag:\n",
    "    rating_tags.append(i.text)\n",
    "    \n",
    "rating_tags"
   ]
  },
  {
   "cell_type": "code",
   "execution_count": 49,
   "id": "f3eba42c",
   "metadata": {},
   "outputs": [
    {
     "data": {
      "text/plain": [
       "10"
      ]
     },
     "execution_count": 49,
     "metadata": {},
     "output_type": "execute_result"
    }
   ],
   "source": [
    "review_sum = driver.find_elements_by_xpath('//p[@class=\"_2-N8zT\"]')\n",
    "len(review_sum)"
   ]
  },
  {
   "cell_type": "code",
   "execution_count": 50,
   "id": "eb7bc4bd",
   "metadata": {},
   "outputs": [
    {
     "data": {
      "text/plain": [
       "['Terrific purchase',\n",
       " 'Simply awesome',\n",
       " 'Great product',\n",
       " 'Terrific purchase',\n",
       " 'Mind-blowing purchase',\n",
       " 'Excellent',\n",
       " 'Simply awesome',\n",
       " 'Good quality product',\n",
       " 'Very poor',\n",
       " 'Classy product']"
      ]
     },
     "execution_count": 50,
     "metadata": {},
     "output_type": "execute_result"
    }
   ],
   "source": [
    "Review = []\n",
    "\n",
    "for i in review_sum:\n",
    "    Review.append(i.text)\n",
    "    \n",
    "Review"
   ]
  },
  {
   "cell_type": "code",
   "execution_count": 51,
   "id": "dab739fc",
   "metadata": {},
   "outputs": [
    {
     "data": {
      "text/plain": [
       "10"
      ]
     },
     "execution_count": 51,
     "metadata": {},
     "output_type": "execute_result"
    }
   ],
   "source": [
    "review_full = driver.find_elements_by_xpath('//div[@class=\"\"]')\n",
    "len(review_full)"
   ]
  },
  {
   "cell_type": "code",
   "execution_count": 52,
   "id": "342ece7d",
   "metadata": {},
   "outputs": [
    {
     "data": {
      "text/plain": [
       "['Upgraded from iphone 6 to 11 best phone for iphone users battery is much better than other iphones camera is awesome love to use it.camera is so clear in night.',\n",
       " \"It's very high performances devise i am like the service of flipkart delevary very fast and packing very nice perfect phone\",\n",
       " 'Well you all know the specifications . One of a kind. Best iPhone till date. Many enhancements to the camera app with many options. Love the glass body with matte finish in the lens area on the back. Lovely colours to choose from. Best battery in an iPhone till date, enough to last more than a day in normal usage. I tested my iPhone 11 battery and lasted for than 24 hours after full charge still with 30% battery charge left. Watched movies for some time. Normal usage on calls, browsing, musi...',\n",
       " 'The built quality is not very premium.The battery back is great .The LCD panel is not so sharp but the brightness level is very High .Camera is super duper awesome.The red colour which people think is bright is actually very soothing and excellent colour to choose from .The A13 Bionic chip is really a flagship processor and can beat any phone which even has 12 gb ram .Camera module is very great and looks very stylish.',\n",
       " 'This will help you more. See if you are planning to buy iPhone 11. I will say. Yes. But there are some plans I just want to disclose before you buy. 1) If you are an existing iPhone X/XS/XS Max/ XR user, better you guys do not think it to buy. You guys have more or less better gadget. 2) If you are an android user and planning to buy premium phone. I will suggest them to please buy iPhone instead of buying an Android. I bet you will never go back to android after using IOS. Now I want to shar...',\n",
       " 'Amazing camera and feel super machine I am not describe my feeling but this is amazing Phone I am so lucky I have this',\n",
       " 'Really good actually this is my first apple product am using its really awesome performance wise excellent. Am really happy with this iphone11',\n",
       " 'it is very good at performance. Camera is best like before and very smooth response even in water. Don’t buy 12 mini buy iPhone 11 , it is far better than 12 mini believe me ! Have a nice day \\uf8ff ☺️',\n",
       " 'Reviewing again after 5 months. At the beginning the battery and performance was good but it degraded soon. Also I was facing heating issues. The mobile will heat up like a stove sometimes. You cannot even play Pubg even in low settings properly, performance is not a problem but heating is. Also if you play that game for 10 mins the brightness will be automatically down due to over heating even when the auto brightness is set to off. This will not be solved even if u manually increase the bri...',\n",
       " 'We are on apple ecosystem for almost eight years now with couple of iPads and iPhones, including Xr.Bought iPhone 11 as a gift to my daughter who loves it. We chose for a purple coloured one. Believe me it is gorgeous and towards the lighter shade. Dazzling and brilliant!The phone is great and does excellent RAM management like any other Apple device.The screen, though a LCD and lesser ppi as compared to other flagship phones of competitor brands, is a delight to watch with perfect re...']"
      ]
     },
     "execution_count": 52,
     "metadata": {},
     "output_type": "execute_result"
    }
   ],
   "source": [
    "Full_Review = []\n",
    "\n",
    "for i in review_full:\n",
    "    Full_Review.append(i.text.replace('\\n',''))\n",
    "    \n",
    "Full_Review"
   ]
  },
  {
   "cell_type": "code",
   "execution_count": null,
   "id": "08daa066",
   "metadata": {},
   "outputs": [],
   "source": [
    "#Scraped 40 data"
   ]
  },
  {
   "cell_type": "code",
   "execution_count": 53,
   "id": "e85901fe",
   "metadata": {},
   "outputs": [
    {
     "data": {
      "text/plain": [
       "<selenium.webdriver.remote.webelement.WebElement (session=\"c25f5e3d026a694be1af34d243cf62fa\", element=\"4ae38ca2-a89f-4261-bb30-68c51d4018ce\")>"
      ]
     },
     "execution_count": 53,
     "metadata": {},
     "output_type": "execute_result"
    }
   ],
   "source": [
    "nxt = driver.find_element_by_xpath('/html/body/div[1]/div/div[3]/div/div/div[2]/div[13]/div/div/nav/a[12]/span')\n",
    "nxt"
   ]
  },
  {
   "cell_type": "code",
   "execution_count": 54,
   "id": "5fd14b5a",
   "metadata": {},
   "outputs": [],
   "source": [
    "nxt.click()"
   ]
  },
  {
   "cell_type": "code",
   "execution_count": 55,
   "id": "21a76602",
   "metadata": {},
   "outputs": [
    {
     "data": {
      "text/plain": [
       "10"
      ]
     },
     "execution_count": 55,
     "metadata": {},
     "output_type": "execute_result"
    }
   ],
   "source": [
    "rating_tag = driver.find_elements_by_xpath('//div[@class=\"_3LWZlK _1BLPMq\"]')\n",
    "len(rating_tag)"
   ]
  },
  {
   "cell_type": "code",
   "execution_count": 56,
   "id": "9aa1c575",
   "metadata": {},
   "outputs": [
    {
     "data": {
      "text/plain": [
       "['5', '5', '5', '5', '5', '5', '5', '5', '4', '5']"
      ]
     },
     "execution_count": 56,
     "metadata": {},
     "output_type": "execute_result"
    }
   ],
   "source": [
    "rating_tags = []\n",
    "\n",
    "for i in rating_tag:\n",
    "    rating_tags.append(i.text)\n",
    "    \n",
    "rating_tags"
   ]
  },
  {
   "cell_type": "code",
   "execution_count": 57,
   "id": "f9d1b969",
   "metadata": {},
   "outputs": [
    {
     "data": {
      "text/plain": [
       "10"
      ]
     },
     "execution_count": 57,
     "metadata": {},
     "output_type": "execute_result"
    }
   ],
   "source": [
    "review_sum = driver.find_elements_by_xpath('//p[@class=\"_2-N8zT\"]')\n",
    "len(review_sum)"
   ]
  },
  {
   "cell_type": "code",
   "execution_count": 58,
   "id": "82c3090e",
   "metadata": {},
   "outputs": [
    {
     "data": {
      "text/plain": [
       "['Perfect product!',\n",
       " 'Must buy!',\n",
       " 'Fabulous!',\n",
       " 'Mind-blowing purchase',\n",
       " 'Mind-blowing purchase',\n",
       " 'Wonderful',\n",
       " 'Must buy!',\n",
       " 'Great product',\n",
       " 'Very Good',\n",
       " 'Classy product']"
      ]
     },
     "execution_count": 58,
     "metadata": {},
     "output_type": "execute_result"
    }
   ],
   "source": [
    "Review = []\n",
    "\n",
    "for i in review_sum:\n",
    "    Review.append(i.text)\n",
    "    \n",
    "Review"
   ]
  },
  {
   "cell_type": "code",
   "execution_count": 59,
   "id": "25843e0e",
   "metadata": {},
   "outputs": [
    {
     "data": {
      "text/plain": [
       "10"
      ]
     },
     "execution_count": 59,
     "metadata": {},
     "output_type": "execute_result"
    }
   ],
   "source": [
    "review_full = driver.find_elements_by_xpath('//div[@class=\"\"]')\n",
    "len(review_full)"
   ]
  },
  {
   "cell_type": "code",
   "execution_count": 60,
   "id": "7f7849b8",
   "metadata": {},
   "outputs": [
    {
     "data": {
      "text/plain": [
       "['It is just awesome mobile for this price from Apple,After 10 days reviewBattery enough for 1 day even 24*7 Internet will be on and mostly internet usageCamera is just awesome cool , android 64 MP is equal to this just 12 MPA13 Bionic chip will give more high performance without hangingAudio stereo speakers will give Dolby atoms sound with crystal clearVideo recording is like cinematic shots of every sec can be a 4K 60fps. Just awesome this phoneiPhone 11 loved one',\n",
       " 'Best Apple iPhone that i have bought at a very reasonable price, camera quality is next level just awesome n of superior quality android phones not even close(RIP) to that and also battery is really good but packaging by Flipkart of iPhone was very poor of such a expensive product, firstly im bit worried about the quality of product if i purchased it through online how was the product but i think now this was mine best decision to bought it through Flipkart online because i got genuine Apple...',\n",
       " \"I can say I'm damn impressed with iPhone 11. As they says iPhone 11 have the toughest glass ever in the smartphone which you'll find on the front and back and it's totally smooth. The fit and finish is full apple quality - there's no sense that any cheaping out has happened in the construction. Without saying it's camera features this review won't complete. The iPhone 11 has a dual camera system, consisting of a wide angle len's that's pretty much same as found on the iPhone XR last year, but...\",\n",
       " 'Best Quality Product OF iPhone Series , Sound Quality & Camera quality is very awesome, Battery Life is very Sufficient for 24 hr Backup With Full Internet Access , I love this this Product too much , It is very fast & making me Very fast in all my daily RoutineHighlights;1.Camera: 5 STAR2.Video Recording: 5 star3.Night mODE sHOOTING & Camera:4 star4. Audio Quality: Awesome5. Battery : 5 Star6. Touch:5 Star7. Processor: Very FastThe M...',\n",
       " 'First thanks to Flipkart for this amazing deal and phone is outstanding. I upgraded from iPhone 7 and this is like very big upgrade. But the packaging was very basic I expected a good packaging as they only wrapped one layer of bubble wrap which I don’t think is enough to protect this expensive phone. And I recommend this phone and seller as well.And I’m posting this review after using it for 4 days.',\n",
       " 'Superfast delivery by Flipkart. Thanks.1. iPhone 11 is a pretty solid phone for the money you are paying.2. All the bad reviews about the display is confusing. It’s not that bad.3. I switched from a Oneplus 7t. I have no complaints about the display quality of iPhone. Yes, it’s not OLED, so, we are missing on the deep blacks. But that’s it. It is a very colour accurate display. Gets adequately bright and I could not find any pixelation.4. Performance is one of the best, if not best, in ...',\n",
       " 'I rate this product 5* as it has got amazing user experience with the best performing A13 bionic processor. The screen responds and graphics rendering is top notch. With casual gaming and internet browsing, the battery lasts for approx. 1 day. Camera is very good. You will fall in love with the portrait mode. You can call me a loyal Apple customer or whatever but I won’t stop praising the products and overall experience. That user experience matters and is worth every penny you pay.Below ar...',\n",
       " \"Again back to apple iphone after a gap of 2-3 years. It's pleasure to use iOS and the quality product by Apple. Iphone 11 still works like a beast in 2021 also. It really capable of doing day to day usage as well as hard core gaming. Battery is awesome. I'm really too much satisfied with it. Apart fto the very gorgious IPS LCD (AMOLED will be better) everything is mind boggling. Iphone💕.\",\n",
       " 'impressive super phone and best in class camera ,sound and face unlock is super fast just see and phone is unlock and fast in daily apps use',\n",
       " 'Well while switching from android to iOS the first thing you need to be careful about is that you will loose all your whatsapp chat backups as both are different operating systems. Camera clarity is awesome and though being an lcd screen clarity and resolution is good. Battery backup is also good unlike previous gen iPhone. So far the experience is good will Padre after a few months of usage.P.S the black is more of a dark grey shade and not jet black']"
      ]
     },
     "execution_count": 60,
     "metadata": {},
     "output_type": "execute_result"
    }
   ],
   "source": [
    "Full_Review = []\n",
    "\n",
    "for i in review_full:\n",
    "    Full_Review.append(i.text.replace('\\n',''))\n",
    "    \n",
    "Full_Review"
   ]
  },
  {
   "cell_type": "code",
   "execution_count": 61,
   "id": "b35b5edb",
   "metadata": {},
   "outputs": [],
   "source": [
    "#Scraped 50 data"
   ]
  },
  {
   "cell_type": "code",
   "execution_count": 62,
   "id": "3c55520b",
   "metadata": {},
   "outputs": [
    {
     "data": {
      "text/plain": [
       "<selenium.webdriver.remote.webelement.WebElement (session=\"c25f5e3d026a694be1af34d243cf62fa\", element=\"e57e0eaa-a275-44b0-8757-d45dc0bb0265\")>"
      ]
     },
     "execution_count": 62,
     "metadata": {},
     "output_type": "execute_result"
    }
   ],
   "source": [
    "nxt = driver.find_element_by_xpath('/html/body/div[1]/div/div[3]/div/div/div[2]/div[13]/div/div/nav/a[12]/span')\n",
    "nxt"
   ]
  },
  {
   "cell_type": "code",
   "execution_count": 63,
   "id": "c195cd93",
   "metadata": {},
   "outputs": [],
   "source": [
    "nxt.click()"
   ]
  },
  {
   "cell_type": "code",
   "execution_count": 64,
   "id": "75898209",
   "metadata": {},
   "outputs": [
    {
     "data": {
      "text/plain": [
       "10"
      ]
     },
     "execution_count": 64,
     "metadata": {},
     "output_type": "execute_result"
    }
   ],
   "source": [
    "rating_tag = driver.find_elements_by_xpath('//div[@class=\"_3LWZlK _1BLPMq\"]')\n",
    "len(rating_tag)"
   ]
  },
  {
   "cell_type": "code",
   "execution_count": 65,
   "id": "97c7fc9c",
   "metadata": {},
   "outputs": [
    {
     "data": {
      "text/plain": [
       "['5', '5', '5', '4', '5', '5', '5', '5', '5', '5']"
      ]
     },
     "execution_count": 65,
     "metadata": {},
     "output_type": "execute_result"
    }
   ],
   "source": [
    "rating_tags = []\n",
    "\n",
    "for i in rating_tag:\n",
    "    rating_tags.append(i.text)\n",
    "    \n",
    "rating_tags"
   ]
  },
  {
   "cell_type": "code",
   "execution_count": 66,
   "id": "6276fefd",
   "metadata": {},
   "outputs": [
    {
     "data": {
      "text/plain": [
       "10"
      ]
     },
     "execution_count": 66,
     "metadata": {},
     "output_type": "execute_result"
    }
   ],
   "source": [
    "review_sum = driver.find_elements_by_xpath('//p[@class=\"_2-N8zT\"]')\n",
    "len(review_sum)"
   ]
  },
  {
   "cell_type": "code",
   "execution_count": 67,
   "id": "72d8c240",
   "metadata": {},
   "outputs": [
    {
     "data": {
      "text/plain": [
       "['Perfect product!',\n",
       " 'Just wow!',\n",
       " 'Awesome',\n",
       " 'Pretty good',\n",
       " 'Terrific purchase',\n",
       " 'Awesome',\n",
       " 'Classy product',\n",
       " 'Brilliant',\n",
       " 'Terrific',\n",
       " 'Perfect product!']"
      ]
     },
     "execution_count": 67,
     "metadata": {},
     "output_type": "execute_result"
    }
   ],
   "source": [
    "Review = []\n",
    "\n",
    "for i in review_sum:\n",
    "    Review.append(i.text)\n",
    "    \n",
    "Review"
   ]
  },
  {
   "cell_type": "code",
   "execution_count": 68,
   "id": "0ad1638b",
   "metadata": {},
   "outputs": [
    {
     "data": {
      "text/plain": [
       "10"
      ]
     },
     "execution_count": 68,
     "metadata": {},
     "output_type": "execute_result"
    }
   ],
   "source": [
    "review_full = driver.find_elements_by_xpath('//div[@class=\"\"]')\n",
    "len(review_full)"
   ]
  },
  {
   "cell_type": "code",
   "execution_count": 69,
   "id": "353d9798",
   "metadata": {},
   "outputs": [
    {
     "data": {
      "text/plain": [
       "['In love with this iphone great performance,camera ,battery everything. Go for it have a uncompareble battery backup, no doubts in iPhone camera here You can see the picture which is shot on my iPhone In love with this iphone great performance,camera ,battery everything. Go for it have a uncompareble battery backup, no doubts in iPhone camera here You can see the picture which is shot on my iPhone In love with this iphone great performance,camera ,battery everything. Go for it have a uncompare...',\n",
       " 'Best in class. Battery backup is good especially when you play games like Pubg COD. But it is sort of heavy when you hold in hands. Portrait mode is best to click pictures. Stage light effect is awesome. Try to click photos outside in nature because photos inside home or room will not give you the quality in any phone even in DSLR.',\n",
       " 'Very excited to have this phone. This phone has the real power unlike the android phones having SD 855 . The battery life is very good and the camera quality is excellent as comapred to redmi and other phones except google pixel. I M enjoying every single bit of it. Would recommed only if you have the budget.',\n",
       " 'I was using Iphone 6s and also Oneplus 6t. Both mobiles were perfectly alright in Photos, gaming, and smooth interface . My 6s mobile getting battery issue. thought upgrade to 11. Really like this mobile of its Internal storage (compare to 6s) , camera and its touch feeling. Its a worth buying mobile for me.',\n",
       " 'Its Very awesome product working and good camera quality and all about best product and also flipkart is very great deal and offer nice price',\n",
       " 'I am using this phone for 5 days and its one of the best camera out there ❤️ the screen is not oled and i am coming from iphone xs so its little bit not up to the mark i would sayBut overall value for money💕😍the battery back up is far better than my iphone xs and its worth in my apple ecosystem💫❤️if u are an apple User and have the eco system then go for it❤️though i will be getting the new iphone but its pretty good💫',\n",
       " 'Best and amazing product.....phone looks so premium.... battary is also good as expected .... Wide angle camera is so addictive ...if you are a IOS lover....then this phone will be the best choice for you all!!💯🔥',\n",
       " 'Excellent camera and display touching very nice and smooth very improvement against iPhone XR and new processor is very fast',\n",
       " \"I got this beast today. And I must say the picture quality of its camera is awesome. Both the cameras works fine.As for as the processing is concerned, it runs without any lag. You can play and do whatever you want without a glitch.The battery runs for a day with medium and high workload.The display is good and the speakers are working fine.The earphones doesn't have any base and you can use it for calling mostly.The charging time is approximately for 90 minutes for full charging...\",\n",
       " 'Awesome purchase. Amazing phone with good battery backup. It’s a top notch device. White colour looks amazing. Phone has a few extra feature than iPhone XR. Overall, this is value for money']"
      ]
     },
     "execution_count": 69,
     "metadata": {},
     "output_type": "execute_result"
    }
   ],
   "source": [
    "Full_Review = []\n",
    "\n",
    "for i in review_full:\n",
    "    Full_Review.append(i.text.replace('\\n',''))\n",
    "    \n",
    "Full_Review"
   ]
  },
  {
   "cell_type": "code",
   "execution_count": 70,
   "id": "0d261da7",
   "metadata": {},
   "outputs": [],
   "source": [
    "#Scraped 60 data\n"
   ]
  },
  {
   "cell_type": "code",
   "execution_count": 71,
   "id": "95be52e7",
   "metadata": {},
   "outputs": [
    {
     "data": {
      "text/plain": [
       "<selenium.webdriver.remote.webelement.WebElement (session=\"c25f5e3d026a694be1af34d243cf62fa\", element=\"eeac8998-9cdf-4c78-b893-348eede580fe\")>"
      ]
     },
     "execution_count": 71,
     "metadata": {},
     "output_type": "execute_result"
    }
   ],
   "source": [
    "nxt = driver.find_element_by_xpath('/html/body/div[1]/div/div[3]/div/div/div[2]/div[13]/div/div/nav/a[12]/span')\n",
    "nxt"
   ]
  },
  {
   "cell_type": "code",
   "execution_count": 72,
   "id": "b6e5ba03",
   "metadata": {},
   "outputs": [],
   "source": [
    "nxt.click()"
   ]
  },
  {
   "cell_type": "code",
   "execution_count": 73,
   "id": "0214e0a3",
   "metadata": {},
   "outputs": [
    {
     "data": {
      "text/plain": [
       "9"
      ]
     },
     "execution_count": 73,
     "metadata": {},
     "output_type": "execute_result"
    }
   ],
   "source": [
    "rating_tag = driver.find_elements_by_xpath('//div[@class=\"_3LWZlK _1BLPMq\"]')\n",
    "len(rating_tag)"
   ]
  },
  {
   "cell_type": "code",
   "execution_count": 74,
   "id": "c6e031f8",
   "metadata": {},
   "outputs": [
    {
     "data": {
      "text/plain": [
       "['5', '5', '5', '5', '5', '4', '5', '5', '5']"
      ]
     },
     "execution_count": 74,
     "metadata": {},
     "output_type": "execute_result"
    }
   ],
   "source": [
    "rating_tags = []\n",
    "\n",
    "for i in rating_tag:\n",
    "    rating_tags.append(i.text)\n",
    "    \n",
    "rating_tags"
   ]
  },
  {
   "cell_type": "code",
   "execution_count": 75,
   "id": "00c87f66",
   "metadata": {},
   "outputs": [
    {
     "data": {
      "text/plain": [
       "10"
      ]
     },
     "execution_count": 75,
     "metadata": {},
     "output_type": "execute_result"
    }
   ],
   "source": [
    "review_sum = driver.find_elements_by_xpath('//p[@class=\"_2-N8zT\"]')\n",
    "len(review_sum)"
   ]
  },
  {
   "cell_type": "code",
   "execution_count": 76,
   "id": "e2d43017",
   "metadata": {},
   "outputs": [
    {
     "data": {
      "text/plain": [
       "['Awesome',\n",
       " 'Perfect product!',\n",
       " 'Very poor',\n",
       " 'Fabulous!',\n",
       " 'Excellent',\n",
       " 'Must buy!',\n",
       " 'Value-for-money',\n",
       " 'Best in the market!',\n",
       " 'Brilliant',\n",
       " 'Terrific purchase']"
      ]
     },
     "execution_count": 76,
     "metadata": {},
     "output_type": "execute_result"
    }
   ],
   "source": [
    "Review = []\n",
    "\n",
    "for i in review_sum:\n",
    "    Review.append(i.text)\n",
    "    \n",
    "Review"
   ]
  },
  {
   "cell_type": "code",
   "execution_count": 77,
   "id": "32c9d12f",
   "metadata": {},
   "outputs": [
    {
     "data": {
      "text/plain": [
       "10"
      ]
     },
     "execution_count": 77,
     "metadata": {},
     "output_type": "execute_result"
    }
   ],
   "source": [
    "review_full = driver.find_elements_by_xpath('//div[@class=\"\"]')\n",
    "len(review_full)\n"
   ]
  },
  {
   "cell_type": "code",
   "execution_count": 78,
   "id": "224f256e",
   "metadata": {},
   "outputs": [
    {
     "data": {
      "text/plain": [
       "['Always love the apple products, upgraded from old iPhone 6S plus to this after having my first baby. I just love to click baby’s photos with it. Overall I just love this phone. Battery back up is okay, sound quality is good. Haven’t tested yet waterproof yet. Only one thing I hate is apple could have given charger & headphones in box.',\n",
       " 'Value for money5 star ratingExcellent cameraBattery backup full day in single charge.Tougher and water resistant design, glossy back.The screen has excellent brightness and contrast.Apple A13 Bionic is the fastest smartphone chip on the planet.Excellent battery life, fast charging support.Stereo speakers with great quality.',\n",
       " 'Please DONT buy from here,I purchased Apple iPhone 11. with an exchange of IPhone 7, the exchange did not go well, iPhone 7 had a small scratch out side screen which i could never identify till date, but the FLIPKART person could, so he reduced 50% from exchange rate. I decided not to trade in, but paid money.iPhone 11 Detail Below---------------------------------------------It came with no charging, then i have put for charging, it took lot of time for charging, the phone also showe...',\n",
       " 'awesome phone to have. it has got many smart features apart from mind blowing looks, camera, display, battery and sound. have fallen in love with this phone. must buy phone if you have got enough money. thanks to flipkart and apple of course..',\n",
       " 'Its a fabulous mobile look awesome performance unbeaten camera like dslr battery good i think this is a beast of mobile',\n",
       " 'Dear friends... I want to share my experience with you about this amazing I phone 11....this is my first iPhone and special things about this mobile is it has great camera, battery backup and awesome display.... I mean everything is perfect.loved it 👍👍👍',\n",
       " \"Just got this iphone 11And it is most powerful mobile phone I have used everSo,go for it if you want a phone with best specification like camera,battery backup,display, A13 bionic chipThat's my review about this phone but yours can be differ from me....\",\n",
       " \"The best all rounder iphone. Flipkart is doing a great job. They're delivery services are blazing fast. I got delivery on the same day. Genuine Apple Product. Working great. Talking about review There's no need of review for iphones. They're simply the best.\",\n",
       " 'Amazing phone and on great deal I received with super fast delivery by Flipkart...',\n",
       " 'finally an iPhone with very nice battery backup. update from iPhone 7 and happy to have it. camera is not up to the mark in low light but overall a recommended phone if your budget allows 😀']"
      ]
     },
     "execution_count": 78,
     "metadata": {},
     "output_type": "execute_result"
    }
   ],
   "source": [
    "Full_Review = []\n",
    "\n",
    "for i in review_full:\n",
    "    Full_Review.append(i.text.replace('\\n',''))\n",
    "    \n",
    "Full_Review"
   ]
  },
  {
   "cell_type": "code",
   "execution_count": 79,
   "id": "1317a12e",
   "metadata": {},
   "outputs": [],
   "source": [
    "# SCRAPED 70 DATA\n"
   ]
  },
  {
   "cell_type": "code",
   "execution_count": 80,
   "id": "f34840f9",
   "metadata": {},
   "outputs": [
    {
     "data": {
      "text/plain": [
       "<selenium.webdriver.remote.webelement.WebElement (session=\"c25f5e3d026a694be1af34d243cf62fa\", element=\"7cad909c-090e-4bb1-8ed1-4a72f0f7dd10\")>"
      ]
     },
     "execution_count": 80,
     "metadata": {},
     "output_type": "execute_result"
    }
   ],
   "source": [
    "nxt = driver.find_element_by_xpath('/html/body/div[1]/div/div[3]/div/div/div[2]/div[13]/div/div/nav/a[12]/span')\n",
    "nxt"
   ]
  },
  {
   "cell_type": "code",
   "execution_count": 81,
   "id": "7823eed5",
   "metadata": {},
   "outputs": [],
   "source": [
    "nxt.click()"
   ]
  },
  {
   "cell_type": "code",
   "execution_count": 82,
   "id": "74ed13d6",
   "metadata": {},
   "outputs": [
    {
     "data": {
      "text/plain": [
       "9"
      ]
     },
     "execution_count": 82,
     "metadata": {},
     "output_type": "execute_result"
    }
   ],
   "source": [
    "rating_tag = driver.find_elements_by_xpath('//div[@class=\"_3LWZlK _1BLPMq\"]')\n",
    "len(rating_tag)"
   ]
  },
  {
   "cell_type": "code",
   "execution_count": 83,
   "id": "ff271284",
   "metadata": {},
   "outputs": [
    {
     "data": {
      "text/plain": [
       "['4', '5', '5', '5', '5', '4', '5', '5', '5']"
      ]
     },
     "execution_count": 83,
     "metadata": {},
     "output_type": "execute_result"
    }
   ],
   "source": [
    "rating_tags = []\n",
    "\n",
    "for i in rating_tag:\n",
    "    rating_tags.append(i.text)\n",
    "    \n",
    "rating_tags"
   ]
  },
  {
   "cell_type": "code",
   "execution_count": 84,
   "id": "237ae5a0",
   "metadata": {},
   "outputs": [
    {
     "data": {
      "text/plain": [
       "10"
      ]
     },
     "execution_count": 84,
     "metadata": {},
     "output_type": "execute_result"
    }
   ],
   "source": [
    "review_sum = driver.find_elements_by_xpath('//p[@class=\"_2-N8zT\"]')\n",
    "len(review_sum)"
   ]
  },
  {
   "cell_type": "code",
   "execution_count": 85,
   "id": "a666dd89",
   "metadata": {},
   "outputs": [
    {
     "data": {
      "text/plain": [
       "['Good quality product',\n",
       " 'Terrific',\n",
       " 'Best in the market!',\n",
       " 'Perfect product!',\n",
       " 'Awesome',\n",
       " 'Value-for-money',\n",
       " 'Just wow!',\n",
       " 'Worthless',\n",
       " 'Super!',\n",
       " 'Excellent']"
      ]
     },
     "execution_count": 85,
     "metadata": {},
     "output_type": "execute_result"
    }
   ],
   "source": [
    "Review = []\n",
    "\n",
    "for i in review_sum:\n",
    "    Review.append(i.text)\n",
    "    \n",
    "Review"
   ]
  },
  {
   "cell_type": "code",
   "execution_count": 86,
   "id": "0f84333d",
   "metadata": {},
   "outputs": [
    {
     "data": {
      "text/plain": [
       "10"
      ]
     },
     "execution_count": 86,
     "metadata": {},
     "output_type": "execute_result"
    }
   ],
   "source": [
    "review_full = driver.find_elements_by_xpath('//div[@class=\"\"]')\n",
    "len(review_full)\n"
   ]
  },
  {
   "cell_type": "code",
   "execution_count": 87,
   "id": "8b525ab4",
   "metadata": {},
   "outputs": [
    {
     "data": {
      "text/plain": [
       "[\"I'm switching this phone to oppo reno 10x zoomIt's really impressiveRarely I'm missing smooth display touch response like oppo reno butI really loved it.Camera really impressive\",\n",
       " 'Simply AwesomeI have upgraded from iPhone 7 to iPhone 11.3110 mah Battery is good. I am not a heavy gamer. For official purpose, this is better than 12 mini.Totally impressed with battery performance.',\n",
       " 'Damn this phone is a blast . Upgraded from android to ios and is a duperb experience. Battery backup is top notch and display also pretty good',\n",
       " 'Worth the money’ starting first from its performance it beats out all phones , second the smoothness of camera is awesome, contrast ratio is much than expected. Price will not matter if u r a quality person, if not other phones are available with better discount',\n",
       " 'I dreamt about this day from a long time.... Getting an iPhone with my own money.... Super happy and worth spending every penny',\n",
       " \"I'm Really happy with the productDelivery was fast as well..it was a gift for my sister and she loved it so much.\",\n",
       " 'Great iphone.I am writing this review after 2 months of usage.Camera is excellent, especially the nightmodeDisplay perfectBattery backup awesomeSound quality very goodOverall Apple gives you a perfect iphone in this range.Really in love with iPhone 11',\n",
       " \"Phone is awesome no doubt. But Camera & Display is not great. Performance is mind blowing.But the phone is heating too much when charging or when you regularly used. It's experience after using 1 week. It's heating extrem when I play PUBG for 30 minutes.Go for iPhone 11 pro or 12. Otherwise go for Android phone you will get much better phone in less price.\",\n",
       " 'Did an upgrade from 6s plus to iphone 11.Ao far the experience is well and good. Felt smoother than 6s plus. The camera quality is superb. Battery backup is descent. Not a heavy user, and gets power more than a day. Go for it if you need an alrounder iphone in a competitve price.',\n",
       " \"It was amazing experience for me. Honestly i am using iPhone first time so I don't have that much past experience about that. But after using 7 days this mobile i want to give some honest feedback.1- Display 9 out of 102- Camera 9.5 out of 103- Battery 7 out of 104- Performance 9.5 out of 105- Features & Functions 10 out of 106- Outer looks and colour 10 out of 10Rest i think i will understand after using this for few months.I will highly recommend you guys if you have budget then you...\"]"
      ]
     },
     "execution_count": 87,
     "metadata": {},
     "output_type": "execute_result"
    }
   ],
   "source": [
    "Full_Review = []\n",
    "\n",
    "for i in review_full:\n",
    "    Full_Review.append(i.text.replace('\\n',''))\n",
    "    \n",
    "Full_Review"
   ]
  },
  {
   "cell_type": "code",
   "execution_count": 88,
   "id": "e4e7c776",
   "metadata": {},
   "outputs": [],
   "source": [
    "# Scraped 80 data"
   ]
  },
  {
   "cell_type": "code",
   "execution_count": 89,
   "id": "9335a4f8",
   "metadata": {},
   "outputs": [
    {
     "data": {
      "text/plain": [
       "<selenium.webdriver.remote.webelement.WebElement (session=\"c25f5e3d026a694be1af34d243cf62fa\", element=\"92c80e3e-5425-4d57-8519-ee2687a80077\")>"
      ]
     },
     "execution_count": 89,
     "metadata": {},
     "output_type": "execute_result"
    }
   ],
   "source": [
    "nxt = driver.find_element_by_xpath('/html/body/div[1]/div/div[3]/div/div/div[2]/div[13]/div/div/nav/a[12]/span')\n",
    "nxt"
   ]
  },
  {
   "cell_type": "code",
   "execution_count": 90,
   "id": "748ebcfa",
   "metadata": {},
   "outputs": [],
   "source": [
    "nxt.click()"
   ]
  },
  {
   "cell_type": "code",
   "execution_count": 91,
   "id": "3687961c",
   "metadata": {},
   "outputs": [
    {
     "data": {
      "text/plain": [
       "10"
      ]
     },
     "execution_count": 91,
     "metadata": {},
     "output_type": "execute_result"
    }
   ],
   "source": [
    "rating_tag = driver.find_elements_by_xpath('//div[@class=\"_3LWZlK _1BLPMq\"]')\n",
    "len(rating_tag)"
   ]
  },
  {
   "cell_type": "code",
   "execution_count": 92,
   "id": "8fac57ac",
   "metadata": {},
   "outputs": [
    {
     "data": {
      "text/plain": [
       "['5', '4', '5', '5', '5', '5', '5', '5', '4', '5']"
      ]
     },
     "execution_count": 92,
     "metadata": {},
     "output_type": "execute_result"
    }
   ],
   "source": [
    "rating_tags = []\n",
    "\n",
    "for i in rating_tag:\n",
    "    rating_tags.append(i.text)\n",
    "    \n",
    "rating_tags"
   ]
  },
  {
   "cell_type": "code",
   "execution_count": 93,
   "id": "8e5b5076",
   "metadata": {},
   "outputs": [
    {
     "data": {
      "text/plain": [
       "10"
      ]
     },
     "execution_count": 93,
     "metadata": {},
     "output_type": "execute_result"
    }
   ],
   "source": [
    "review_sum = driver.find_elements_by_xpath('//p[@class=\"_2-N8zT\"]')\n",
    "len(review_sum)"
   ]
  },
  {
   "cell_type": "code",
   "execution_count": 94,
   "id": "026746a9",
   "metadata": {},
   "outputs": [
    {
     "data": {
      "text/plain": [
       "['Wonderful',\n",
       " 'Nice product',\n",
       " 'Mind-blowing purchase',\n",
       " 'Classy product',\n",
       " 'Terrific',\n",
       " 'Worth every penny',\n",
       " 'Excellent',\n",
       " 'Fabulous!',\n",
       " 'Pretty good',\n",
       " 'Highly recommended']"
      ]
     },
     "execution_count": 94,
     "metadata": {},
     "output_type": "execute_result"
    }
   ],
   "source": [
    "Review = []\n",
    "\n",
    "for i in review_sum:\n",
    "    Review.append(i.text)\n",
    "    \n",
    "Review"
   ]
  },
  {
   "cell_type": "code",
   "execution_count": 95,
   "id": "2e3481ec",
   "metadata": {},
   "outputs": [
    {
     "data": {
      "text/plain": [
       "10"
      ]
     },
     "execution_count": 95,
     "metadata": {},
     "output_type": "execute_result"
    }
   ],
   "source": [
    "review_full = driver.find_elements_by_xpath('//div[@class=\"\"]')\n",
    "len(review_full)\n"
   ]
  },
  {
   "cell_type": "code",
   "execution_count": 96,
   "id": "033af167",
   "metadata": {},
   "outputs": [
    {
     "data": {
      "text/plain": [
       "['Super and marvellous phone look very cute and nice sound. I love this phone i think white is good colur.Excellent camer 5*😍😘♥️♥️',\n",
       " \"If you are looking for a premium phone under 55k, this is the one for you.Got the iPhone 11 during the Republic day sale. Performance is top notch in this price range. Camera's do a perfect job in taking good quality photos and videos. Battery backup too is satisfactory. Writing this review after using for a week. Any further observations would be updated.\",\n",
       " 'awesome Phone Smooth Touch Too good Sexyy looks one word Awesome',\n",
       " 'Gifted my man on his 30th birthday 🎂 He loves it.. Him happy so i am more than happy 😍😘❤️🥰',\n",
       " 'I bought iPhone 11 On March 2021, And I am Writing this review after using the phone for 4 Months. I would Say Everything is fine, Top Performance, Nice Camera as Anyone would Expect from any series of iPhone but when the Question comes to Battery it is complicated. The Battery is fully optimised and it comes 3110 mAh capacity but the problem is with the charger. Honestly Apple Removed charger from in Box items in the name of Environment and they are also forcing us to buy any 20W PD 3rd part...',\n",
       " 'Here is the thingThe only reason why you should buy this phone is for the camera, iOS, and if you have headaches looking at AMOLED display.I’m not an avid gamer but watch a lot of movies on smartphone. However, my migraine attacks increased considerably after using AMOLED Smartphone. That’s why I made a calculated decision to buy iPhone 11. It has the best LCD display and the blacks, though not as natural as an AMOLED, is better than some of the other smartphones.Adding to this the ste...',\n",
       " \"Just go for it.This phone is really amazing. I ordered it for my wife and we click photos on this thing which are better than dslr. I own OnePlus 6t but it's camera sucks. iPhone is really amazing when it comes to camera. It's worth spending 50k on this. Cons- only display is lcd. While using u don't feel it but if u compare with other phone then u can see difference quite easily.Changing from Android to iphone is bit difficult coz most of things u don't know but I liked it. Some of the a...\",\n",
       " 'Everything is perfect pictures come out so clearly and at first I wasn’t sure when I got it then when I started to use it and get the hang of it it was amazing!! I can’t wait to see what the next future phones will be like. The screen display on this bad boy are unbelievable they are so clear and never fail me. The performance is super cool there is a lot of cool features as well I like this phone because I feel that it is easy to use and one of my favorite things about this phone is the Face...',\n",
       " \"I've used this phone for over a month now and here are my takeaways.I would like to first talk about the best things about this phone and then the cons of it.Pros:This phone is a performance beast. It handles large games and applications effortlessly and you won't find any stutters or lags while playing graphic intensive games like pubg, cod , mortal kombat and asphalt.This phone has only 4gb ram and yet the ram management is amazing, it can keep 3 heavy games in memory without reload...\",\n",
       " 'Thanks Flipkart For this amazing deal! I had a dream of owning a iphone since i had known about.Im very happy with my purchase & it is totally worth it.Amazing experience all over !!Anyone who’s thinking of buying it in 2021, i would simply say go for it without any second thoughts ❤️']"
      ]
     },
     "execution_count": 96,
     "metadata": {},
     "output_type": "execute_result"
    }
   ],
   "source": [
    "Full_Review = []\n",
    "\n",
    "for i in review_full:\n",
    "    Full_Review.append(i.text.replace('\\n',''))\n",
    "    \n",
    "Full_Review"
   ]
  },
  {
   "cell_type": "code",
   "execution_count": 97,
   "id": "9ddc719d",
   "metadata": {},
   "outputs": [],
   "source": [
    "# Scraped 90 data"
   ]
  },
  {
   "cell_type": "code",
   "execution_count": 98,
   "id": "24ba2f46",
   "metadata": {},
   "outputs": [
    {
     "data": {
      "text/plain": [
       "<selenium.webdriver.remote.webelement.WebElement (session=\"c25f5e3d026a694be1af34d243cf62fa\", element=\"54c972b6-dd9e-4eae-832d-cac657fe861e\")>"
      ]
     },
     "execution_count": 98,
     "metadata": {},
     "output_type": "execute_result"
    }
   ],
   "source": [
    "nxt = driver.find_element_by_xpath('/html/body/div[1]/div/div[3]/div/div/div[2]/div[13]/div/div/nav/a[12]/span')\n",
    "nxt"
   ]
  },
  {
   "cell_type": "code",
   "execution_count": 99,
   "id": "c0c5f9da",
   "metadata": {},
   "outputs": [],
   "source": [
    "nxt.click()"
   ]
  },
  {
   "cell_type": "code",
   "execution_count": 100,
   "id": "aacf9cfc",
   "metadata": {},
   "outputs": [
    {
     "data": {
      "text/plain": [
       "10"
      ]
     },
     "execution_count": 100,
     "metadata": {},
     "output_type": "execute_result"
    }
   ],
   "source": [
    "rating_tag = driver.find_elements_by_xpath('//div[@class=\"_3LWZlK _1BLPMq\"]')\n",
    "len(rating_tag)"
   ]
  },
  {
   "cell_type": "code",
   "execution_count": 101,
   "id": "d9a9710e",
   "metadata": {},
   "outputs": [
    {
     "data": {
      "text/plain": [
       "['5', '5', '5', '5', '5', '5', '5', '5', '3', '5']"
      ]
     },
     "execution_count": 101,
     "metadata": {},
     "output_type": "execute_result"
    }
   ],
   "source": [
    "rating_tags = []\n",
    "\n",
    "for i in rating_tag:\n",
    "    rating_tags.append(i.text)\n",
    "    \n",
    "rating_tags"
   ]
  },
  {
   "cell_type": "code",
   "execution_count": 102,
   "id": "f32d4d3b",
   "metadata": {},
   "outputs": [
    {
     "data": {
      "text/plain": [
       "10"
      ]
     },
     "execution_count": 102,
     "metadata": {},
     "output_type": "execute_result"
    }
   ],
   "source": [
    "review_sum = driver.find_elements_by_xpath('//p[@class=\"_2-N8zT\"]')\n",
    "len(review_sum)"
   ]
  },
  {
   "cell_type": "code",
   "execution_count": 103,
   "id": "92433698",
   "metadata": {},
   "outputs": [
    {
     "data": {
      "text/plain": [
       "['Excellent',\n",
       " 'Worth every penny',\n",
       " 'Fabulous!',\n",
       " 'Brilliant',\n",
       " 'Mind-blowing purchase',\n",
       " 'Just wow!',\n",
       " 'Terrific purchase',\n",
       " 'Awesome',\n",
       " 'Decent product',\n",
       " 'Wonderful']"
      ]
     },
     "execution_count": 103,
     "metadata": {},
     "output_type": "execute_result"
    }
   ],
   "source": [
    "Review = []\n",
    "\n",
    "for i in review_sum:\n",
    "    Review.append(i.text)\n",
    "    \n",
    "Review"
   ]
  },
  {
   "cell_type": "code",
   "execution_count": 104,
   "id": "e34f6857",
   "metadata": {},
   "outputs": [
    {
     "data": {
      "text/plain": [
       "10"
      ]
     },
     "execution_count": 104,
     "metadata": {},
     "output_type": "execute_result"
    }
   ],
   "source": [
    "review_full = driver.find_elements_by_xpath('//div[@class=\"\"]')\n",
    "len(review_full)"
   ]
  },
  {
   "cell_type": "code",
   "execution_count": 105,
   "id": "f347e0ec",
   "metadata": {},
   "outputs": [
    {
     "data": {
      "text/plain": [
       "['A perfect phone and a good battery super camera and the sound is dynamic overall the phone is perfect for upgrading from lower iPhone model to iPhone 11',\n",
       " 'Undoubtedly Iphone 11 is the most successful model till now and its performance is extraordinary and the security features are very impressive, display is more vibrant sound quality Camera Quality 5*****, but Iphone should add accessories too and act like scrooge.',\n",
       " 'I purchased the iPhone 11 a month back. I must say Apple has impressed me yet again . I have been an Apple user for past 5 years . The phone is power packed with amazing features . What impressed me the most was the battery backup the phone offers . Battery can easily run upto 1.5 days in single charge with moderate toHeavy usage . If you’re looking for a value for money device , I don’t see any other phone in the price range which can match the iPhone 11 .One thing I didn’t like was that ...',\n",
       " 'A wort full value for money decision it’s . Simply go for it in 2021 its still a good decision . Awesome camera , Super smothered performance, Heck of build quality. And Most important it protects your privacy.',\n",
       " 'Excellent camera 📸 And Display touching very Nice And Smooth and very improvement againstI phone 11 and new processor is very fast',\n",
       " 'The ultimate performanceCamera is superbThe battery backup also very good i never saw iphone gives this much of battery backupIf any one wana buy iphone 11 definitely i will recommend this mobileIt has the better battery and powerfull processer peak performance glorious camera and the display also 100% high quality lcd display if u had money for for 12 if u dont wana invest much money on that then go for iphone 11 it has maximum same specs only main difference between the 12 and 11 is...',\n",
       " 'I use a Note10+ and have been using both iOS and Android devices.Camera has really good features and portraits are super good, better than Samsung flagship. Overall camera setup can still be enhanced and hopeful for better upgrades on software in next releaseOperating system is quite a breeze and user experience of daily usage is very high as compared to Android. I moved to iOS very swiftly in 2 days for all my office work from Note10+Battery holds up quite well with 4 hrs of call and ...',\n",
       " 'The phone is completely goodAs far as camera Apple is king of itAnd its a beast in performanceAnd the battery is pretty good too',\n",
       " 'Everything u ll like it when u use this iPhone. Simple changes only not many to lower models but it’s nice to use. Little heavy compared to previous models like 7,8',\n",
       " 'Nice value for money good and best price I phone mind blowing camera processor very fast other android mobile I am happy India top selling phone 2020']"
      ]
     },
     "execution_count": 105,
     "metadata": {},
     "output_type": "execute_result"
    }
   ],
   "source": [
    "Full_Review = []\n",
    "\n",
    "for i in review_full:\n",
    "    Full_Review.append(i.text.replace('\\n',''))\n",
    "    \n",
    "Full_Review"
   ]
  },
  {
   "cell_type": "markdown",
   "id": "75e7fa74",
   "metadata": {},
   "source": [
    "Here, we have Scraped 100 data for review,rating ,and full reviews."
   ]
  },
  {
   "cell_type": "markdown",
   "id": "1867b963",
   "metadata": {},
   "source": [
    "# Answer no . 6"
   ]
  },
  {
   "cell_type": "code",
   "execution_count": 28,
   "id": "cfc320c5",
   "metadata": {},
   "outputs": [],
   "source": [
    "url_ = 'https://www.flipkart.com/'\n",
    "driver.get(url_)"
   ]
  },
  {
   "cell_type": "code",
   "execution_count": 29,
   "id": "c1844ae4",
   "metadata": {},
   "outputs": [
    {
     "data": {
      "text/plain": [
       "<selenium.webdriver.remote.webelement.WebElement (session=\"69bbfbd5a78a162805ea247b11b347f1\", element=\"06609c18-5b78-4230-a00a-8a650fb7b17a\")>"
      ]
     },
     "execution_count": 29,
     "metadata": {},
     "output_type": "execute_result"
    }
   ],
   "source": [
    "search_Product = driver.find_element_by_xpath('/html/body/div[1]/div/div[1]/div[1]/div[2]/div[2]/form/div/div/input')\n",
    "search_Product"
   ]
  },
  {
   "cell_type": "code",
   "execution_count": 30,
   "id": "537c121b",
   "metadata": {},
   "outputs": [],
   "source": [
    "search_Product.send_keys('sneaker')"
   ]
  },
  {
   "cell_type": "code",
   "execution_count": 33,
   "id": "b09b982d",
   "metadata": {},
   "outputs": [],
   "source": [
    "search_Product.click()"
   ]
  },
  {
   "cell_type": "code",
   "execution_count": 34,
   "id": "79000972",
   "metadata": {},
   "outputs": [
    {
     "data": {
      "text/plain": [
       "[<selenium.webdriver.remote.webelement.WebElement (session=\"69bbfbd5a78a162805ea247b11b347f1\", element=\"f220c739-a151-4b5a-a8e1-99944613afbc\")>,\n",
       " <selenium.webdriver.remote.webelement.WebElement (session=\"69bbfbd5a78a162805ea247b11b347f1\", element=\"31e379e6-0689-4f73-8d9f-f6858536abe1\")>,\n",
       " <selenium.webdriver.remote.webelement.WebElement (session=\"69bbfbd5a78a162805ea247b11b347f1\", element=\"29fff38c-397c-4473-9e01-57000ef92e31\")>,\n",
       " <selenium.webdriver.remote.webelement.WebElement (session=\"69bbfbd5a78a162805ea247b11b347f1\", element=\"58cc8e6b-d21d-4cb7-9ae3-6603565e3b8a\")>,\n",
       " <selenium.webdriver.remote.webelement.WebElement (session=\"69bbfbd5a78a162805ea247b11b347f1\", element=\"caad37d0-8414-4cd4-aed2-c16170f1b2d4\")>,\n",
       " <selenium.webdriver.remote.webelement.WebElement (session=\"69bbfbd5a78a162805ea247b11b347f1\", element=\"e622ad8d-31e7-4134-9c15-4cdac316018b\")>,\n",
       " <selenium.webdriver.remote.webelement.WebElement (session=\"69bbfbd5a78a162805ea247b11b347f1\", element=\"12078dcf-f677-4900-a3a7-0264f537fe69\")>,\n",
       " <selenium.webdriver.remote.webelement.WebElement (session=\"69bbfbd5a78a162805ea247b11b347f1\", element=\"c0aa16bf-4114-4018-872d-bdb2be062242\")>,\n",
       " <selenium.webdriver.remote.webelement.WebElement (session=\"69bbfbd5a78a162805ea247b11b347f1\", element=\"67b45ed1-76b7-4f0b-a391-de649ecd0d63\")>,\n",
       " <selenium.webdriver.remote.webelement.WebElement (session=\"69bbfbd5a78a162805ea247b11b347f1\", element=\"720f263c-9ae2-47f7-ad93-446e42d4f929\")>,\n",
       " <selenium.webdriver.remote.webelement.WebElement (session=\"69bbfbd5a78a162805ea247b11b347f1\", element=\"fcc3a2ce-f234-466b-be56-4de266aa6a7a\")>,\n",
       " <selenium.webdriver.remote.webelement.WebElement (session=\"69bbfbd5a78a162805ea247b11b347f1\", element=\"38d2e3d0-13aa-477a-8e99-d07fec64516f\")>,\n",
       " <selenium.webdriver.remote.webelement.WebElement (session=\"69bbfbd5a78a162805ea247b11b347f1\", element=\"749a9032-9373-4da6-ad6c-9abd90285ff8\")>,\n",
       " <selenium.webdriver.remote.webelement.WebElement (session=\"69bbfbd5a78a162805ea247b11b347f1\", element=\"905c64c1-3093-46a5-b5a9-79332e13050c\")>,\n",
       " <selenium.webdriver.remote.webelement.WebElement (session=\"69bbfbd5a78a162805ea247b11b347f1\", element=\"034facdf-208d-4ac8-9818-15a17341c3aa\")>,\n",
       " <selenium.webdriver.remote.webelement.WebElement (session=\"69bbfbd5a78a162805ea247b11b347f1\", element=\"652876fe-f095-4386-89ab-56aa0a034f16\")>,\n",
       " <selenium.webdriver.remote.webelement.WebElement (session=\"69bbfbd5a78a162805ea247b11b347f1\", element=\"e34230b9-4994-4b77-b43b-52b01ad6c3b6\")>,\n",
       " <selenium.webdriver.remote.webelement.WebElement (session=\"69bbfbd5a78a162805ea247b11b347f1\", element=\"a3bd16b6-e14f-4834-8311-24811dab6065\")>,\n",
       " <selenium.webdriver.remote.webelement.WebElement (session=\"69bbfbd5a78a162805ea247b11b347f1\", element=\"74763f86-96a2-419a-8859-50ad18f495d2\")>,\n",
       " <selenium.webdriver.remote.webelement.WebElement (session=\"69bbfbd5a78a162805ea247b11b347f1\", element=\"9f28ff74-62cb-437c-8eaf-44493f25e7a3\")>,\n",
       " <selenium.webdriver.remote.webelement.WebElement (session=\"69bbfbd5a78a162805ea247b11b347f1\", element=\"e1e58fc2-cfe4-46fb-8f08-f0afce34db6c\")>,\n",
       " <selenium.webdriver.remote.webelement.WebElement (session=\"69bbfbd5a78a162805ea247b11b347f1\", element=\"656536cf-a1af-4605-9c78-e8783f6bb11d\")>,\n",
       " <selenium.webdriver.remote.webelement.WebElement (session=\"69bbfbd5a78a162805ea247b11b347f1\", element=\"f6995704-a099-4aa0-8143-41150e7af86d\")>,\n",
       " <selenium.webdriver.remote.webelement.WebElement (session=\"69bbfbd5a78a162805ea247b11b347f1\", element=\"aa932de0-34df-4fd0-9e84-c8b274f53175\")>,\n",
       " <selenium.webdriver.remote.webelement.WebElement (session=\"69bbfbd5a78a162805ea247b11b347f1\", element=\"4e99852f-c2f0-4210-b21b-223d4bb42f77\")>,\n",
       " <selenium.webdriver.remote.webelement.WebElement (session=\"69bbfbd5a78a162805ea247b11b347f1\", element=\"51eae07e-be01-4195-8ebd-6c0f6aafafbc\")>,\n",
       " <selenium.webdriver.remote.webelement.WebElement (session=\"69bbfbd5a78a162805ea247b11b347f1\", element=\"f04ba555-a051-48bc-98a6-0f0f228a4a0d\")>,\n",
       " <selenium.webdriver.remote.webelement.WebElement (session=\"69bbfbd5a78a162805ea247b11b347f1\", element=\"7b75efd6-5bf7-4c47-8ade-17055ca0f5e1\")>,\n",
       " <selenium.webdriver.remote.webelement.WebElement (session=\"69bbfbd5a78a162805ea247b11b347f1\", element=\"a8a18299-0e1e-46b6-885c-82f2ed25fa71\")>,\n",
       " <selenium.webdriver.remote.webelement.WebElement (session=\"69bbfbd5a78a162805ea247b11b347f1\", element=\"e5d332ba-6edc-42ec-9b2d-ac2de6f6d6b5\")>,\n",
       " <selenium.webdriver.remote.webelement.WebElement (session=\"69bbfbd5a78a162805ea247b11b347f1\", element=\"69c07698-3379-4125-93bb-f019228bc439\")>,\n",
       " <selenium.webdriver.remote.webelement.WebElement (session=\"69bbfbd5a78a162805ea247b11b347f1\", element=\"ece4626f-9868-4054-9556-577c0660517b\")>,\n",
       " <selenium.webdriver.remote.webelement.WebElement (session=\"69bbfbd5a78a162805ea247b11b347f1\", element=\"489dfe13-57fd-4d52-96cc-30277f564f1b\")>,\n",
       " <selenium.webdriver.remote.webelement.WebElement (session=\"69bbfbd5a78a162805ea247b11b347f1\", element=\"b39ec75c-9d7e-4da5-8859-07893c42c1e4\")>,\n",
       " <selenium.webdriver.remote.webelement.WebElement (session=\"69bbfbd5a78a162805ea247b11b347f1\", element=\"498fb761-523c-45c1-9072-de6ba694a604\")>,\n",
       " <selenium.webdriver.remote.webelement.WebElement (session=\"69bbfbd5a78a162805ea247b11b347f1\", element=\"02292eac-1d08-4ef1-945b-f757a082bc91\")>,\n",
       " <selenium.webdriver.remote.webelement.WebElement (session=\"69bbfbd5a78a162805ea247b11b347f1\", element=\"0ccec36e-c37f-4f0e-97b9-71f6f709ae4d\")>,\n",
       " <selenium.webdriver.remote.webelement.WebElement (session=\"69bbfbd5a78a162805ea247b11b347f1\", element=\"0a410b1f-a205-40d2-a9dd-87ef3b8e3f39\")>,\n",
       " <selenium.webdriver.remote.webelement.WebElement (session=\"69bbfbd5a78a162805ea247b11b347f1\", element=\"1802047f-4da7-4dd8-8626-e936d507246c\")>,\n",
       " <selenium.webdriver.remote.webelement.WebElement (session=\"69bbfbd5a78a162805ea247b11b347f1\", element=\"c150dc71-8116-47fc-9643-1daa5894cfda\")>]"
      ]
     },
     "execution_count": 34,
     "metadata": {},
     "output_type": "execute_result"
    }
   ],
   "source": [
    "brnd = driver.find_elements_by_xpath('//div[@class=\"_2WkVRV\"]')\n",
    "brnd"
   ]
  },
  {
   "cell_type": "code",
   "execution_count": 35,
   "id": "1982836a",
   "metadata": {},
   "outputs": [
    {
     "data": {
      "text/plain": [
       "['aadi',\n",
       " 'Echor',\n",
       " 'Magnolia',\n",
       " 'Labbin',\n",
       " 'luxury fashion',\n",
       " 'Stefano Rads',\n",
       " 'SCATCHITE',\n",
       " 'Echor',\n",
       " 'D-SNEAKERZ',\n",
       " 'Shoes Bank',\n",
       " 'ASTEROID',\n",
       " 'RapidBox',\n",
       " 'Numenzo',\n",
       " 'HOTSTYLE',\n",
       " 'Trendmode',\n",
       " 'DRESTA',\n",
       " 'Extoes',\n",
       " 'BIRDE',\n",
       " 'Rzisbo',\n",
       " 'ALICON',\n",
       " 'ganpati traders',\n",
       " 'Arohi',\n",
       " 'World Wear Footwear',\n",
       " 'Echor',\n",
       " 'RapidBox',\n",
       " 'ASTEROID',\n",
       " 'CLYMB',\n",
       " 'Deals4you',\n",
       " 'India hub',\n",
       " 'Echor',\n",
       " 'BRUTON',\n",
       " 'HRX by Hrithik Roshan',\n",
       " 'TR',\n",
       " 'Kraasa',\n",
       " 'ESSENCE',\n",
       " 'FOOTSTAIR',\n",
       " 'Robbie jones',\n",
       " 'Kraasa',\n",
       " 'Numenzo',\n",
       " 'JK PORT']"
      ]
     },
     "execution_count": 35,
     "metadata": {},
     "output_type": "execute_result"
    }
   ],
   "source": [
    "brand = []\n",
    "for i in brnd:\n",
    "    brand.append(i.text)\n",
    "brand"
   ]
  },
  {
   "cell_type": "code",
   "execution_count": 36,
   "id": "b59adcac",
   "metadata": {},
   "outputs": [
    {
     "data": {
      "text/plain": [
       "40"
      ]
     },
     "execution_count": 36,
     "metadata": {},
     "output_type": "execute_result"
    }
   ],
   "source": [
    "len(brand)"
   ]
  },
  {
   "cell_type": "code",
   "execution_count": 37,
   "id": "aa0de86e",
   "metadata": {},
   "outputs": [
    {
     "data": {
      "text/plain": [
       "32"
      ]
     },
     "execution_count": 37,
     "metadata": {},
     "output_type": "execute_result"
    }
   ],
   "source": [
    "#Scraping product description\n",
    "desc = driver.find_elements_by_xpath('//a[@class=\"IRpwTa\"]')\n",
    "len(desc)"
   ]
  },
  {
   "cell_type": "code",
   "execution_count": 38,
   "id": "5ba5a8d0",
   "metadata": {},
   "outputs": [
    {
     "data": {
      "text/plain": [
       "['Synthetic leather Sneakers For Men',\n",
       " \"Echor Men's Sneakers Fashion Lightweight Running Shoes ...\",\n",
       " 'Sneakers For Men',\n",
       " 'Sneakers For Men',\n",
       " 'Luxury Fashionable casual sneaker shoes Sneakers For Me...',\n",
       " 'Sneakers Sneakers For Men',\n",
       " \"Men's Sneakers Fashion Lightweight Running Shoes Tennis...\",\n",
       " \"Casual , Partywear Sneakers Shoes For Men's And Boys Wh...\",\n",
       " \"White Sneaker For Men's/Boy's Sneakers For Men\",\n",
       " \"Original Luxury Branded Fashionable Men's Casual Walkin...\",\n",
       " '411 Casual Sneakers For Men',\n",
       " 'Sneakers For Men',\n",
       " 'Sneakers For Men',\n",
       " \"Original Luxury Branded Fashionable Men's Casual Walkin...\",\n",
       " 'Modern Trendy Shoes Combo pack of 4 Sneakers For Men',\n",
       " 'Sports Running Shoes Sneakers For Men',\n",
       " 'Sneakers For Men',\n",
       " 'Latest Collection-1216 Stylish Casual Sports Sneakers F...',\n",
       " \"Men's Sneakers Fashion Lightweight Running Shoes Tennis...\",\n",
       " \"Original Luxury Branded Fashionable Men's Casual Walkin...\",\n",
       " 'Sneakers For Men',\n",
       " 'Sneakers For Men',\n",
       " \"Men's Sneakers Fashion Lightweight Running Shoes Tennis...\",\n",
       " 'Modern Trendy Shoes Sneakers For Men',\n",
       " 'Sneakers For Men',\n",
       " 'Sneakers For Men',\n",
       " 'Series 7 Sneakers For Men',\n",
       " 'Sneakers For Men',\n",
       " 'Sneakers For Men',\n",
       " 'Shark-41 Sneakers For Men',\n",
       " 'White Sneaker For Men Sneakers For Men',\n",
       " 'Fashionable Mens Grey Casual Shoes, Party Wear Shoe,For...']"
      ]
     },
     "execution_count": 38,
     "metadata": {},
     "output_type": "execute_result"
    }
   ],
   "source": [
    "description = []\n",
    "for i in desc:\n",
    "    description.append(i.text)\n",
    "description"
   ]
  },
  {
   "cell_type": "code",
   "execution_count": 41,
   "id": "4686d688",
   "metadata": {},
   "outputs": [
    {
     "data": {
      "text/plain": [
       "[<selenium.webdriver.remote.webelement.WebElement (session=\"69bbfbd5a78a162805ea247b11b347f1\", element=\"6f63995f-a1bc-4daf-bcfe-ae789579ba3d\")>,\n",
       " <selenium.webdriver.remote.webelement.WebElement (session=\"69bbfbd5a78a162805ea247b11b347f1\", element=\"dcfd4695-4596-47bb-a2af-28cdc5f1d813\")>,\n",
       " <selenium.webdriver.remote.webelement.WebElement (session=\"69bbfbd5a78a162805ea247b11b347f1\", element=\"b02dc9ff-820d-486a-a74b-40fec61ae3e6\")>,\n",
       " <selenium.webdriver.remote.webelement.WebElement (session=\"69bbfbd5a78a162805ea247b11b347f1\", element=\"96a582ad-3683-484e-a7fa-99ef22acb91a\")>,\n",
       " <selenium.webdriver.remote.webelement.WebElement (session=\"69bbfbd5a78a162805ea247b11b347f1\", element=\"0ec31f99-477d-498b-9a0d-db6587d01afb\")>,\n",
       " <selenium.webdriver.remote.webelement.WebElement (session=\"69bbfbd5a78a162805ea247b11b347f1\", element=\"0e069d2b-ed77-49dc-a91c-6e106fb6b3dc\")>,\n",
       " <selenium.webdriver.remote.webelement.WebElement (session=\"69bbfbd5a78a162805ea247b11b347f1\", element=\"4ebf9b58-e549-4216-be3e-c2ee11824bf6\")>,\n",
       " <selenium.webdriver.remote.webelement.WebElement (session=\"69bbfbd5a78a162805ea247b11b347f1\", element=\"b1e16609-6d40-47d6-b66e-210246e27af1\")>,\n",
       " <selenium.webdriver.remote.webelement.WebElement (session=\"69bbfbd5a78a162805ea247b11b347f1\", element=\"063e778f-92e4-4ad1-bd6c-0c484db1a51e\")>,\n",
       " <selenium.webdriver.remote.webelement.WebElement (session=\"69bbfbd5a78a162805ea247b11b347f1\", element=\"26180834-a141-4645-aa1a-75c409b86c74\")>,\n",
       " <selenium.webdriver.remote.webelement.WebElement (session=\"69bbfbd5a78a162805ea247b11b347f1\", element=\"5860880f-47b8-4d90-ab79-46769b80910a\")>,\n",
       " <selenium.webdriver.remote.webelement.WebElement (session=\"69bbfbd5a78a162805ea247b11b347f1\", element=\"f55cf051-4833-43aa-baac-0c8d3fa7f936\")>,\n",
       " <selenium.webdriver.remote.webelement.WebElement (session=\"69bbfbd5a78a162805ea247b11b347f1\", element=\"6126af7a-0ab5-480f-9775-e424ecb6b61b\")>,\n",
       " <selenium.webdriver.remote.webelement.WebElement (session=\"69bbfbd5a78a162805ea247b11b347f1\", element=\"de911f15-1506-45b7-ba2e-1b295b175d2c\")>,\n",
       " <selenium.webdriver.remote.webelement.WebElement (session=\"69bbfbd5a78a162805ea247b11b347f1\", element=\"8870df3b-ae69-4922-a22b-441bea461a41\")>,\n",
       " <selenium.webdriver.remote.webelement.WebElement (session=\"69bbfbd5a78a162805ea247b11b347f1\", element=\"777a9eba-2682-49a1-8145-96a76bef3bbf\")>,\n",
       " <selenium.webdriver.remote.webelement.WebElement (session=\"69bbfbd5a78a162805ea247b11b347f1\", element=\"c66dffd4-13be-404c-b8bd-fd0e55ab48f5\")>,\n",
       " <selenium.webdriver.remote.webelement.WebElement (session=\"69bbfbd5a78a162805ea247b11b347f1\", element=\"fc7233a4-2eaa-4561-ba6c-5c445be853b2\")>,\n",
       " <selenium.webdriver.remote.webelement.WebElement (session=\"69bbfbd5a78a162805ea247b11b347f1\", element=\"3ec9187d-76c4-4496-a668-06d5f8cccaa9\")>,\n",
       " <selenium.webdriver.remote.webelement.WebElement (session=\"69bbfbd5a78a162805ea247b11b347f1\", element=\"2afb8ae5-680f-4827-a823-d226a2ca44ea\")>,\n",
       " <selenium.webdriver.remote.webelement.WebElement (session=\"69bbfbd5a78a162805ea247b11b347f1\", element=\"44dc2040-9630-43f2-97a5-5b559319721d\")>,\n",
       " <selenium.webdriver.remote.webelement.WebElement (session=\"69bbfbd5a78a162805ea247b11b347f1\", element=\"b1ea62fe-ecc1-4b6f-aeb7-556a84700354\")>,\n",
       " <selenium.webdriver.remote.webelement.WebElement (session=\"69bbfbd5a78a162805ea247b11b347f1\", element=\"44003efb-7e6b-4803-bc56-00a21e233d18\")>,\n",
       " <selenium.webdriver.remote.webelement.WebElement (session=\"69bbfbd5a78a162805ea247b11b347f1\", element=\"ba199476-bd22-468e-bab3-69a6dce3f5fc\")>,\n",
       " <selenium.webdriver.remote.webelement.WebElement (session=\"69bbfbd5a78a162805ea247b11b347f1\", element=\"b2d8c7cf-cdb3-4846-995a-a066f8eaa100\")>,\n",
       " <selenium.webdriver.remote.webelement.WebElement (session=\"69bbfbd5a78a162805ea247b11b347f1\", element=\"33b174c2-0408-4bc1-af94-b1e874e18fc9\")>,\n",
       " <selenium.webdriver.remote.webelement.WebElement (session=\"69bbfbd5a78a162805ea247b11b347f1\", element=\"77daa890-945f-4586-a2cf-7dceff5eedd4\")>,\n",
       " <selenium.webdriver.remote.webelement.WebElement (session=\"69bbfbd5a78a162805ea247b11b347f1\", element=\"a42e3f54-6486-4ee8-9028-584f3751eb6c\")>,\n",
       " <selenium.webdriver.remote.webelement.WebElement (session=\"69bbfbd5a78a162805ea247b11b347f1\", element=\"86a430c1-6643-48a6-99f0-948eb3c6802c\")>,\n",
       " <selenium.webdriver.remote.webelement.WebElement (session=\"69bbfbd5a78a162805ea247b11b347f1\", element=\"84b95282-6740-49a9-9955-ece177cdf877\")>,\n",
       " <selenium.webdriver.remote.webelement.WebElement (session=\"69bbfbd5a78a162805ea247b11b347f1\", element=\"55b8c7e5-0928-4c60-872a-ab6f9bba2615\")>,\n",
       " <selenium.webdriver.remote.webelement.WebElement (session=\"69bbfbd5a78a162805ea247b11b347f1\", element=\"826e21bf-68b4-48ad-bfb0-0f65bb0cccd1\")>,\n",
       " <selenium.webdriver.remote.webelement.WebElement (session=\"69bbfbd5a78a162805ea247b11b347f1\", element=\"1f899ece-d9eb-45c4-9f5c-17f100783ff1\")>,\n",
       " <selenium.webdriver.remote.webelement.WebElement (session=\"69bbfbd5a78a162805ea247b11b347f1\", element=\"6f813c37-e9f3-451b-b03d-a1ada5c4c8b1\")>,\n",
       " <selenium.webdriver.remote.webelement.WebElement (session=\"69bbfbd5a78a162805ea247b11b347f1\", element=\"b8322c8b-93b5-4797-ab96-9cc14389dfa1\")>,\n",
       " <selenium.webdriver.remote.webelement.WebElement (session=\"69bbfbd5a78a162805ea247b11b347f1\", element=\"08a72c0d-e2a6-40fe-bf2a-98aea784d288\")>,\n",
       " <selenium.webdriver.remote.webelement.WebElement (session=\"69bbfbd5a78a162805ea247b11b347f1\", element=\"2ec955b7-7c58-4b0f-a098-4b058f02bac7\")>,\n",
       " <selenium.webdriver.remote.webelement.WebElement (session=\"69bbfbd5a78a162805ea247b11b347f1\", element=\"1cadd963-8f26-419e-bc23-b412df57aacb\")>,\n",
       " <selenium.webdriver.remote.webelement.WebElement (session=\"69bbfbd5a78a162805ea247b11b347f1\", element=\"2a63d85d-e453-42c7-911a-4af539a7bbca\")>,\n",
       " <selenium.webdriver.remote.webelement.WebElement (session=\"69bbfbd5a78a162805ea247b11b347f1\", element=\"6257b123-8afd-4e0e-a04d-509dffa9821d\")>]"
      ]
     },
     "execution_count": 41,
     "metadata": {},
     "output_type": "execute_result"
    }
   ],
   "source": [
    "#Scraping product price\n",
    "price_tag = driver.find_elements_by_xpath('//div[@class=\"_30jeq3\"]')\n",
    "price_tag"
   ]
  },
  {
   "cell_type": "code",
   "execution_count": 44,
   "id": "89f6f397",
   "metadata": {},
   "outputs": [
    {
     "data": {
      "text/plain": [
       "['₹499',\n",
       " '₹569',\n",
       " '₹398',\n",
       " '₹499',\n",
       " '₹449',\n",
       " '₹242',\n",
       " '₹449',\n",
       " '₹569',\n",
       " '₹348',\n",
       " '₹345',\n",
       " '₹499',\n",
       " '₹620',\n",
       " '₹499',\n",
       " '₹298',\n",
       " '₹359',\n",
       " '₹499',\n",
       " '₹948',\n",
       " '₹299',\n",
       " '₹549',\n",
       " '₹497',\n",
       " '₹189',\n",
       " '₹398',\n",
       " '₹199',\n",
       " '₹569',\n",
       " '₹640',\n",
       " '₹499',\n",
       " '₹649',\n",
       " '₹649',\n",
       " '₹449',\n",
       " '₹499',\n",
       " '₹379',\n",
       " '₹2,099',\n",
       " '₹599',\n",
       " '₹499',\n",
       " '₹599',\n",
       " '₹749',\n",
       " '₹499',\n",
       " '₹499',\n",
       " '₹429',\n",
       " '₹599']"
      ]
     },
     "execution_count": 44,
     "metadata": {},
     "output_type": "execute_result"
    }
   ],
   "source": [
    "price = []\n",
    "for i in price_tag:\n",
    "    price.append(i.text)\n",
    "len(price)\n",
    "price"
   ]
  },
  {
   "cell_type": "code",
   "execution_count": 45,
   "id": "c5336db9",
   "metadata": {},
   "outputs": [],
   "source": [
    "#Scraped 40 data\n"
   ]
  },
  {
   "cell_type": "code",
   "execution_count": 46,
   "id": "a2ce8e2e",
   "metadata": {},
   "outputs": [
    {
     "data": {
      "text/plain": [
       "<selenium.webdriver.remote.webelement.WebElement (session=\"69bbfbd5a78a162805ea247b11b347f1\", element=\"203baa1d-f887-4bfb-8e33-b89b0b21694b\")>"
      ]
     },
     "execution_count": 46,
     "metadata": {},
     "output_type": "execute_result"
    }
   ],
   "source": [
    "nxt = driver.find_element_by_xpath('/html/body/div[1]/div/div[3]/div[1]/div[2]/div[12]/div/div/nav/a[11]/span')\n",
    "nxt"
   ]
  },
  {
   "cell_type": "code",
   "execution_count": 47,
   "id": "2aaac86e",
   "metadata": {},
   "outputs": [],
   "source": [
    "nxt.click()"
   ]
  },
  {
   "cell_type": "code",
   "execution_count": 49,
   "id": "856d8847",
   "metadata": {},
   "outputs": [
    {
     "data": {
      "text/plain": [
       "40"
      ]
     },
     "execution_count": 49,
     "metadata": {},
     "output_type": "execute_result"
    }
   ],
   "source": [
    "brnd = driver.find_elements_by_xpath('//div[@class=\"_2WkVRV\"]')\n",
    "len(brnd)"
   ]
  },
  {
   "cell_type": "code",
   "execution_count": 50,
   "id": "0ce77b1a",
   "metadata": {},
   "outputs": [
    {
     "data": {
      "text/plain": [
       "['BRUTON',\n",
       " 'SPARX',\n",
       " 'India hub',\n",
       " 'Robbie jones',\n",
       " 'India hub',\n",
       " 'HRDK',\n",
       " 'believe',\n",
       " 'LIBRADO',\n",
       " 'SPARX',\n",
       " 'World Wear Footwear',\n",
       " 'SPARX',\n",
       " 'obot',\n",
       " '3SIX5',\n",
       " 'WHITE WALKERS',\n",
       " 'RapidBox',\n",
       " 'LIBRADO',\n",
       " 'LE GREEM',\n",
       " 'RapidBox',\n",
       " 'Echor',\n",
       " 'PUMA',\n",
       " 'Zorth',\n",
       " 'WHITE WALKERS',\n",
       " 'Dizzler',\n",
       " 'LIBRADO',\n",
       " 'DUNKASTON',\n",
       " 'PUMA',\n",
       " 'ESSENCE',\n",
       " 'LE GREEM',\n",
       " 'Robbie jones',\n",
       " 'BRUTON',\n",
       " 'K- FOOTLANCE',\n",
       " 'PUMA',\n",
       " 'BRUTON',\n",
       " 'Zorth',\n",
       " 'Vellinto',\n",
       " 'Azeraa',\n",
       " 'Vellinto',\n",
       " 'Xtoon',\n",
       " 'BRUTON',\n",
       " 'PUMA']"
      ]
     },
     "execution_count": 50,
     "metadata": {},
     "output_type": "execute_result"
    }
   ],
   "source": [
    "brand = []\n",
    "for i in brnd:\n",
    "    brand.append(i.text)\n",
    "brand"
   ]
  },
  {
   "cell_type": "code",
   "execution_count": 51,
   "id": "d5289483",
   "metadata": {},
   "outputs": [
    {
     "data": {
      "text/plain": [
       "30"
      ]
     },
     "execution_count": 51,
     "metadata": {},
     "output_type": "execute_result"
    }
   ],
   "source": [
    "#Scraping product description\n",
    "desc = driver.find_elements_by_xpath('//a[@class=\"IRpwTa\"]')\n",
    "len(desc)"
   ]
  },
  {
   "cell_type": "code",
   "execution_count": 52,
   "id": "99eb54ec",
   "metadata": {},
   "outputs": [
    {
     "data": {
      "text/plain": [
       "['Combo Pack of 5 Casual Sneakers With Sneakers For Men',\n",
       " 'Luxury Fashionable casual sneaker shoes Sneakers For Me...',\n",
       " 'Casual Sneakers Shoes For Men And Boys Sneakers For Men',\n",
       " 'Luxury Fashionable casual sneaker shoes Sneakers For Me...',\n",
       " 'Sneakers For Men',\n",
       " 'Sneakers for men(black_6) Sneakers For Men',\n",
       " 'Combo Pack of 4 Latest Collection Stylish Casual Loafer...',\n",
       " 'casual shoes for men sneakers for boys party wear outdo...',\n",
       " '1154 Sneakers For Men',\n",
       " 'Stylish & Trending Outdoor Walking Comfortable Sneakers...',\n",
       " 'Comfortable & Ultra Light Weight Sneaker Sneakers For M...',\n",
       " \"Echor Men's Sneakers Fashion Lightweight Running Shoes ...\",\n",
       " 'RS-X Mix Sneakers For Men',\n",
       " 'Sneakers For Men',\n",
       " 'Sneakers For Men',\n",
       " 'Sneakers For Men',\n",
       " 'Glory Sneakers For Men',\n",
       " 'Sneakers For Men',\n",
       " 'Comfortable & Ultra Light Weight Sneaker Sneakers For M...',\n",
       " 'Casual Sneakers White Shoes For Men Sneakers For Men',\n",
       " 'Modern & Trendy Collection Combo Pack of 02 Shoes for M...',\n",
       " 'Sneakers For Men',\n",
       " 'X-Ray Sneakers For Men',\n",
       " 'Lattest Sneakers Shoe Sneakers For Men',\n",
       " 'Sneakers For Men',\n",
       " 'Sneakers For Men',\n",
       " 'Casual Sneakrs For Men Sneakers For Men',\n",
       " \"white Casual shoes,Sneakers for men's Sneakers For Men\",\n",
       " 'Lightweight Pack Of 1 Trendy Sneakers Sneakers Sneakers...',\n",
       " 'x KL Denver Sneakers For Men']"
      ]
     },
     "execution_count": 52,
     "metadata": {},
     "output_type": "execute_result"
    }
   ],
   "source": [
    "description = []\n",
    "for i in desc:\n",
    "    description.append(i.text)\n",
    "description"
   ]
  },
  {
   "cell_type": "code",
   "execution_count": 54,
   "id": "ffad09b5",
   "metadata": {},
   "outputs": [
    {
     "data": {
      "text/plain": [
       "40"
      ]
     },
     "execution_count": 54,
     "metadata": {},
     "output_type": "execute_result"
    }
   ],
   "source": [
    "#Scraping product price\n",
    "price_tag = driver.find_elements_by_xpath('//div[@class=\"_30jeq3\"]')\n",
    "len(price_tag)"
   ]
  },
  {
   "cell_type": "code",
   "execution_count": 55,
   "id": "947379e3",
   "metadata": {},
   "outputs": [
    {
     "data": {
      "text/plain": [
       "['₹799',\n",
       " '₹799',\n",
       " '₹499',\n",
       " '₹499',\n",
       " '₹429',\n",
       " '₹367',\n",
       " '₹599',\n",
       " '₹359',\n",
       " '₹944',\n",
       " '₹599',\n",
       " '₹699',\n",
       " '₹499',\n",
       " '₹259',\n",
       " '₹599',\n",
       " '₹630',\n",
       " '₹359',\n",
       " '₹449',\n",
       " '₹680',\n",
       " '₹499',\n",
       " '₹5,399',\n",
       " '₹499',\n",
       " '₹599',\n",
       " '₹495',\n",
       " '₹359',\n",
       " '₹449',\n",
       " '₹2,999',\n",
       " '₹599',\n",
       " '₹449',\n",
       " '₹474',\n",
       " '₹499',\n",
       " '₹440',\n",
       " '₹3,499',\n",
       " '₹341',\n",
       " '₹498',\n",
       " '₹749',\n",
       " '₹499',\n",
       " '₹749',\n",
       " '₹499',\n",
       " '₹199',\n",
       " '₹2,791']"
      ]
     },
     "execution_count": 55,
     "metadata": {},
     "output_type": "execute_result"
    }
   ],
   "source": [
    "price = []\n",
    "for i in price_tag:\n",
    "    price.append(i.text)\n",
    "len(price)\n",
    "price"
   ]
  },
  {
   "cell_type": "raw",
   "id": "113dd843",
   "metadata": {},
   "source": [
    "Here we have Scraped 80 data."
   ]
  },
  {
   "cell_type": "code",
   "execution_count": 57,
   "id": "d02dfd7a",
   "metadata": {},
   "outputs": [
    {
     "data": {
      "text/plain": [
       "<selenium.webdriver.remote.webelement.WebElement (session=\"69bbfbd5a78a162805ea247b11b347f1\", element=\"203baa1d-f887-4bfb-8e33-b89b0b21694b\")>"
      ]
     },
     "execution_count": 57,
     "metadata": {},
     "output_type": "execute_result"
    }
   ],
   "source": [
    "nxt = driver.find_element_by_xpath('/html/body/div[1]/div/div[3]/div[1]/div[2]/div[12]/div/div/nav/a[12]/span')\n",
    "nxt"
   ]
  },
  {
   "cell_type": "code",
   "execution_count": 58,
   "id": "5c3d836b",
   "metadata": {},
   "outputs": [],
   "source": [
    "nxt.click()"
   ]
  },
  {
   "cell_type": "code",
   "execution_count": 60,
   "id": "83c5e721",
   "metadata": {},
   "outputs": [
    {
     "data": {
      "text/plain": [
       "40"
      ]
     },
     "execution_count": 60,
     "metadata": {},
     "output_type": "execute_result"
    }
   ],
   "source": [
    "brnd = driver.find_elements_by_xpath('//div[@class=\"_2WkVRV\"]')\n",
    "len(brnd)"
   ]
  },
  {
   "cell_type": "code",
   "execution_count": 64,
   "id": "2ef3a435",
   "metadata": {},
   "outputs": [
    {
     "data": {
      "text/plain": [
       "['D-SNEAKERZ',\n",
       " 'KNIGHT WALKERS',\n",
       " 'BRUTON',\n",
       " 'India hub',\n",
       " 'bacca bucci',\n",
       " 'Echor',\n",
       " 'ASIAN',\n",
       " 'India hub',\n",
       " 'STRANGER BROTHERS',\n",
       " 'BRUTON',\n",
       " 'BIRDE',\n",
       " 'luxury fashion',\n",
       " 'SPADE CLUB',\n",
       " 'Fzzirok',\n",
       " 'SPARX',\n",
       " 'DRESTA',\n",
       " 'Starlinc',\n",
       " 'PUMA',\n",
       " 'Robbie jones',\n",
       " 'Echor',\n",
       " 'Layasa',\n",
       " 'SCATCHITE',\n",
       " 'BRUTON',\n",
       " 'Echor',\n",
       " 'Rocky Footwear',\n",
       " 'SPARX',\n",
       " 'Ktiz',\n",
       " 'Robbie jones',\n",
       " 'RODDICK SHOES',\n",
       " 'aadi',\n",
       " 'SPARX',\n",
       " 'aadi',\n",
       " 'ASIAN',\n",
       " 'ASIAN',\n",
       " 'Zsyto',\n",
       " 'T-ROCK',\n",
       " 'Bantox',\n",
       " 'Zorth',\n",
       " 'RODDICK SHOES',\n",
       " 'CLYMB']"
      ]
     },
     "execution_count": 64,
     "metadata": {},
     "output_type": "execute_result"
    }
   ],
   "source": [
    "brand = []\n",
    "for i in brnd:\n",
    "    brand.append(i.text)\n",
    "brand"
   ]
  },
  {
   "cell_type": "code",
   "execution_count": 65,
   "id": "49a2359a",
   "metadata": {},
   "outputs": [],
   "source": [
    "Brand = brand[0:20]"
   ]
  },
  {
   "cell_type": "code",
   "execution_count": 66,
   "id": "2c675c29",
   "metadata": {},
   "outputs": [
    {
     "data": {
      "text/plain": [
       "['D-SNEAKERZ',\n",
       " 'KNIGHT WALKERS',\n",
       " 'BRUTON',\n",
       " 'India hub',\n",
       " 'bacca bucci',\n",
       " 'Echor',\n",
       " 'ASIAN',\n",
       " 'India hub',\n",
       " 'STRANGER BROTHERS',\n",
       " 'BRUTON',\n",
       " 'BIRDE',\n",
       " 'luxury fashion',\n",
       " 'SPADE CLUB',\n",
       " 'Fzzirok',\n",
       " 'SPARX',\n",
       " 'DRESTA',\n",
       " 'Starlinc',\n",
       " 'PUMA',\n",
       " 'Robbie jones',\n",
       " 'Echor']"
      ]
     },
     "execution_count": 66,
     "metadata": {},
     "output_type": "execute_result"
    }
   ],
   "source": [
    "Brand"
   ]
  },
  {
   "cell_type": "code",
   "execution_count": 67,
   "id": "d47952e8",
   "metadata": {},
   "outputs": [
    {
     "data": {
      "text/plain": [
       "32"
      ]
     },
     "execution_count": 67,
     "metadata": {},
     "output_type": "execute_result"
    }
   ],
   "source": [
    "#Scraping product description\n",
    "desc = driver.find_elements_by_xpath('//a[@class=\"IRpwTa\"]')\n",
    "len(desc)"
   ]
  },
  {
   "cell_type": "code",
   "execution_count": 68,
   "id": "c1dfb4a8",
   "metadata": {},
   "outputs": [
    {
     "data": {
      "text/plain": [
       "[\"Casual , Partywear Sneakers Shoes For Men's And Boys Wh...\",\n",
       " 'Combo Pack Of 2 Latest Stylish Casual Shoes for Men Lac...',\n",
       " 'Luxury Fashionable casual sneaker shoes Sneakers For Me...',\n",
       " \"Men's Ultraforce Mid-top Athletic-Inspired Retro Fashio...\",\n",
       " \"Men's Canvas Low Top Sneakers Lace-up Classic Casual Sn...\",\n",
       " 'Skypy-31 Walking Shoes,Training Shoes,Sneakers,Loafers,...',\n",
       " 'luxury fashionable casual sneaker shoes Sneakers For Me...',\n",
       " 'Sneakers For Men',\n",
       " 'CUBIC_1 Sneakers For Men',\n",
       " 'Casual Sneakers Sneakers For Men',\n",
       " \"Original Luxury Branded Fashionable Men's Casual Walkin...\",\n",
       " 'MAPF1 X-Ray Lite Pro Sneakers For Men',\n",
       " 'Sneakers For Men',\n",
       " \"Men's Sneakers Fashion Lightweight Running Shoes Tennis...\",\n",
       " 'Walking shoes,Casual Sneakers For Men',\n",
       " 'Sneakers For Men',\n",
       " 'Modern & Trendy Collection Combo Pack of 02 Shoes for M...',\n",
       " \"Men's Sneakers Fashion Lightweight Running Shoes Tennis...\",\n",
       " 'Stylish Premium Casual Sneakers for Men (Red) Sneakers ...',\n",
       " 'SM-162 Sneakers For Men',\n",
       " 'Sneakers For Men',\n",
       " 'Sneakers For Men',\n",
       " 'Fashion Outdoor Canvas Casual Light Weight Lace-up Even...',\n",
       " 'Sneakers For Men',\n",
       " 'SM-322 Sneakers For Men',\n",
       " 'Synthetic leather Sneakers For Men',\n",
       " 'Sneakers For Men',\n",
       " 'Multicolor Running Shoes,Gym Shoes,Walking Shoes Sneake...',\n",
       " 'Synthetic Leather Casual Partywear Wedding Sneakers Sho...',\n",
       " 'New Fashion Outdoor Trendy Lightweight Casual,Canvas St...',\n",
       " 'Fashion Outdoor Canvas Casual Light Weight Lace-up Even...',\n",
       " 'Walking/Outdoor/Running Sneakers For Men']"
      ]
     },
     "execution_count": 68,
     "metadata": {},
     "output_type": "execute_result"
    }
   ],
   "source": [
    "description = []\n",
    "for i in desc:\n",
    "    description.append(i.text)\n",
    "description"
   ]
  },
  {
   "cell_type": "code",
   "execution_count": 71,
   "id": "25584027",
   "metadata": {},
   "outputs": [
    {
     "data": {
      "text/plain": [
       "[\"Casual , Partywear Sneakers Shoes For Men's And Boys Wh...\",\n",
       " 'Combo Pack Of 2 Latest Stylish Casual Shoes for Men Lac...',\n",
       " 'Luxury Fashionable casual sneaker shoes Sneakers For Me...',\n",
       " \"Men's Ultraforce Mid-top Athletic-Inspired Retro Fashio...\",\n",
       " \"Men's Canvas Low Top Sneakers Lace-up Classic Casual Sn...\",\n",
       " 'Skypy-31 Walking Shoes,Training Shoes,Sneakers,Loafers,...',\n",
       " 'luxury fashionable casual sneaker shoes Sneakers For Me...',\n",
       " 'Sneakers For Men',\n",
       " 'CUBIC_1 Sneakers For Men',\n",
       " 'Casual Sneakers Sneakers For Men',\n",
       " \"Original Luxury Branded Fashionable Men's Casual Walkin...\",\n",
       " 'MAPF1 X-Ray Lite Pro Sneakers For Men',\n",
       " 'Sneakers For Men',\n",
       " \"Men's Sneakers Fashion Lightweight Running Shoes Tennis...\",\n",
       " 'Walking shoes,Casual Sneakers For Men',\n",
       " 'Sneakers For Men',\n",
       " 'Modern & Trendy Collection Combo Pack of 02 Shoes for M...',\n",
       " \"Men's Sneakers Fashion Lightweight Running Shoes Tennis...\",\n",
       " 'Stylish Premium Casual Sneakers for Men (Red) Sneakers ...',\n",
       " 'SM-162 Sneakers For Men']"
      ]
     },
     "execution_count": 71,
     "metadata": {},
     "output_type": "execute_result"
    }
   ],
   "source": [
    "Description = description[0:20]\n",
    "Description"
   ]
  },
  {
   "cell_type": "code",
   "execution_count": 69,
   "id": "786daf42",
   "metadata": {},
   "outputs": [
    {
     "data": {
      "text/plain": [
       "40"
      ]
     },
     "execution_count": 69,
     "metadata": {},
     "output_type": "execute_result"
    }
   ],
   "source": [
    "#Scraping product price\n",
    "price_tag = driver.find_elements_by_xpath('//div[@class=\"_30jeq3\"]')\n",
    "len(price_tag)"
   ]
  },
  {
   "cell_type": "code",
   "execution_count": 73,
   "id": "e2259bdd",
   "metadata": {},
   "outputs": [
    {
     "data": {
      "text/plain": [
       "['₹384',\n",
       " '₹649',\n",
       " '₹592',\n",
       " '₹499',\n",
       " '₹1,199',\n",
       " '₹386',\n",
       " '₹499',\n",
       " '₹499',\n",
       " '₹449',\n",
       " '₹312',\n",
       " '₹499',\n",
       " '₹499',\n",
       " '₹665',\n",
       " '₹429',\n",
       " '₹1,092',\n",
       " '₹499',\n",
       " '₹237',\n",
       " '₹3,599',\n",
       " '₹499',\n",
       " '₹569',\n",
       " '₹399',\n",
       " '₹419',\n",
       " '₹527',\n",
       " '₹569',\n",
       " '₹422',\n",
       " '₹839',\n",
       " '₹499',\n",
       " '₹499',\n",
       " '₹499',\n",
       " '₹549',\n",
       " '₹840',\n",
       " '₹499',\n",
       " '₹649',\n",
       " '₹719',\n",
       " '₹428',\n",
       " '₹449',\n",
       " '₹449',\n",
       " '₹435',\n",
       " '₹499',\n",
       " '₹649']"
      ]
     },
     "execution_count": 73,
     "metadata": {},
     "output_type": "execute_result"
    }
   ],
   "source": [
    "price = []\n",
    "for i in price_tag:\n",
    "    price.append(i.text)\n",
    "len(price)\n",
    "price"
   ]
  },
  {
   "cell_type": "code",
   "execution_count": 74,
   "id": "c139a410",
   "metadata": {},
   "outputs": [
    {
     "data": {
      "text/plain": [
       "['₹384',\n",
       " '₹649',\n",
       " '₹592',\n",
       " '₹499',\n",
       " '₹1,199',\n",
       " '₹386',\n",
       " '₹499',\n",
       " '₹499',\n",
       " '₹449',\n",
       " '₹312',\n",
       " '₹499',\n",
       " '₹499',\n",
       " '₹665',\n",
       " '₹429',\n",
       " '₹1,092',\n",
       " '₹499',\n",
       " '₹237',\n",
       " '₹3,599',\n",
       " '₹499',\n",
       " '₹569']"
      ]
     },
     "execution_count": 74,
     "metadata": {},
     "output_type": "execute_result"
    }
   ],
   "source": [
    "Price = price[0:20]\n",
    "Price"
   ]
  },
  {
   "cell_type": "markdown",
   "id": "436bf8d5",
   "metadata": {},
   "source": [
    "Here we have successfully scraped 100 products Brand,Products price and Product Discriptions."
   ]
  },
  {
   "cell_type": "markdown",
   "id": "211f0931",
   "metadata": {},
   "source": [
    "# Answer no. 7"
   ]
  },
  {
   "cell_type": "code",
   "execution_count": 82,
   "id": "676aa053",
   "metadata": {},
   "outputs": [],
   "source": [
    "driver =webdriver.Chrome(r'C:\\Users\\abhic\\Downloads\\chromedriver_win32\\chromedriver.exe')"
   ]
  },
  {
   "cell_type": "code",
   "execution_count": 88,
   "id": "b11c26e2",
   "metadata": {},
   "outputs": [],
   "source": [
    "link = 'https://www.myntra.com/shoes'\n",
    "driver.get(link)"
   ]
  },
  {
   "cell_type": "code",
   "execution_count": 89,
   "id": "f94c5f3a",
   "metadata": {},
   "outputs": [],
   "source": [
    "price_filter = driver.find_element_by_xpath('/html/body/div[2]/div/div[1]/main/div[3]/div[1]/section/div/div[5]/ul/li[2]/label')\n",
    "price_filter\n",
    "price_filter.click()"
   ]
  },
  {
   "cell_type": "code",
   "execution_count": 90,
   "id": "eadd0f6e",
   "metadata": {},
   "outputs": [],
   "source": [
    "color_flt = driver.find_element_by_xpath('/html/body/div[2]/div/div[1]/main/div[3]/div[1]/section/div/div[6]/ul/li[1]/label')\n",
    "color_flt\n",
    "color_flt.click()"
   ]
  },
  {
   "cell_type": "code",
   "execution_count": 94,
   "id": "7ade4e37",
   "metadata": {},
   "outputs": [
    {
     "data": {
      "text/plain": [
       "50"
      ]
     },
     "execution_count": 94,
     "metadata": {},
     "output_type": "execute_result"
    }
   ],
   "source": [
    "#Scraping Brand for shoes\n",
    "brnd = driver.find_elements_by_xpath('//h3[@class=\"product-brand\"]')\n",
    "len(brnd)"
   ]
  },
  {
   "cell_type": "code",
   "execution_count": 95,
   "id": "750911bd",
   "metadata": {},
   "outputs": [
    {
     "data": {
      "text/plain": [
       "['Puma',\n",
       " 'Puma',\n",
       " 'Puma',\n",
       " 'Saint G',\n",
       " 'Bugatti',\n",
       " 'ROSSO BRUNELLO',\n",
       " 'Cole Haan',\n",
       " 'DAVINCHI',\n",
       " 'ASICS',\n",
       " 'Saint G',\n",
       " 'Bugatti',\n",
       " 'RARE RABBIT',\n",
       " 'Geox',\n",
       " 'J.FONTINI',\n",
       " 'J.FONTINI',\n",
       " 'RARE RABBIT',\n",
       " 'DAVINCHI',\n",
       " 'Saint G',\n",
       " 'Saint G',\n",
       " 'Saint G',\n",
       " 'Saint G',\n",
       " 'Saint G',\n",
       " 'Geox',\n",
       " 'Saint G',\n",
       " 'Columbia',\n",
       " 'Bugatti',\n",
       " 'Heel & Buckle London',\n",
       " 'Xtep',\n",
       " 'J.FONTINI',\n",
       " 'DAVINCHI',\n",
       " 'DAVINCHI',\n",
       " 'Geox',\n",
       " 'Geox',\n",
       " 'Geox',\n",
       " 'DAVINCHI',\n",
       " 'Saint G',\n",
       " 'Pavers England',\n",
       " 'Cole Haan',\n",
       " 'Geox',\n",
       " 'Cole Haan',\n",
       " 'Pavers England',\n",
       " 'DAVINCHI',\n",
       " 'Pavers England',\n",
       " 'Pavers England',\n",
       " 'Pavers England',\n",
       " 'Saint G',\n",
       " 'Geox',\n",
       " 'Heel & Buckle London',\n",
       " 'Saint G',\n",
       " 'Saint G']"
      ]
     },
     "execution_count": 95,
     "metadata": {},
     "output_type": "execute_result"
    }
   ],
   "source": [
    "Brand = []\n",
    "for i in brnd:\n",
    "    Brand.append(i.text)\n",
    "Brand"
   ]
  },
  {
   "cell_type": "code",
   "execution_count": 97,
   "id": "ab17ebc5",
   "metadata": {},
   "outputs": [
    {
     "data": {
      "text/plain": [
       "50"
      ]
     },
     "execution_count": 97,
     "metadata": {},
     "output_type": "execute_result"
    }
   ],
   "source": [
    "#Scraping shoes description\n",
    "desc = driver.find_elements_by_xpath('//h4[@class=\"product-product\"]')\n",
    "len(desc)"
   ]
  },
  {
   "cell_type": "code",
   "execution_count": 100,
   "id": "f5689654",
   "metadata": {},
   "outputs": [
    {
     "data": {
      "text/plain": [
       "['Men Running Shoes',\n",
       " 'Men Magnify Nitro Running',\n",
       " 'Women Magnify Nitro Shoes',\n",
       " 'Men Mid-Top Chelsea Boots',\n",
       " 'Men Running Shoes',\n",
       " 'Men Textured Formal Loafers',\n",
       " 'Men GENERATION ZEROGRAND STITCHLITE',\n",
       " 'Men Textured Formal Leather Loafers',\n",
       " 'Men Colourblocked PU Sneakers',\n",
       " 'Men Leather Chelsea Boots',\n",
       " 'Men Textured Leather High-Top Flat Boots',\n",
       " 'Men Leather Flat Boots',\n",
       " 'Men Leather Flat Boots',\n",
       " 'Men Textured Leather Loafers',\n",
       " 'Men Textured Leather Loafers',\n",
       " 'Men Textured Leather Loafers',\n",
       " 'Men Solid Leather Formal Derbys',\n",
       " 'Leather Knee High Slouch Boots',\n",
       " 'Leather Wedge Heeled Boots with Buckles',\n",
       " 'Women Leather Heeled Boots',\n",
       " 'Embellished Leather Block Heeled Boots',\n",
       " 'Suede Party High-Top Block Heeled Boots',\n",
       " 'Women Leather Pumps',\n",
       " 'Women Leather Loafers',\n",
       " 'PEAKFREAK OUTDRY Trekking Shoe',\n",
       " 'Men Black Walking Shoes',\n",
       " 'Men Formal Leather Derby',\n",
       " 'Men Running Shoes',\n",
       " 'Men Black Leather Loafers',\n",
       " 'Ustraa black',\n",
       " 'Men Formal Leather Slip-Ons',\n",
       " 'Men Leather Loafers',\n",
       " 'Women Solid Leather Pumps',\n",
       " 'Women Solid Leather Pumps',\n",
       " 'Men Textured Formal Leather Loafers',\n",
       " 'Women Leather Heeled Boots',\n",
       " 'Men Leather Driving Shoes',\n",
       " 'Women Open Toe Flats',\n",
       " 'Women Solid Leather Ballerinas',\n",
       " 'Women Solid Leather Ballerinas',\n",
       " 'Men Textured Leather Formal Derbys',\n",
       " 'Men Textured Leather Formal Slip-Ons',\n",
       " 'Men Solid Leather Formal Loafers',\n",
       " 'Men Textured Leather Formal Slip-On Shoes',\n",
       " 'Men Solid Leather Formal Derbys',\n",
       " 'Leather Kitten Heeled Boots',\n",
       " 'Women Chunky Sneakers',\n",
       " 'Men Solid Leather Formal Loafers',\n",
       " 'Leather Block Heeled Boots with Bows',\n",
       " 'Leather Platform Heeled Boots']"
      ]
     },
     "execution_count": 100,
     "metadata": {},
     "output_type": "execute_result"
    }
   ],
   "source": [
    "description = []\n",
    "for i in desc:\n",
    "    description.append(i.text)\n",
    "len(description)\n",
    "description"
   ]
  },
  {
   "cell_type": "code",
   "execution_count": 101,
   "id": "4dff3f4f",
   "metadata": {},
   "outputs": [
    {
     "data": {
      "text/plain": [
       "50"
      ]
     },
     "execution_count": 101,
     "metadata": {},
     "output_type": "execute_result"
    }
   ],
   "source": [
    "#Scraping product price\n",
    "price_tag = driver.find_elements_by_xpath('//div[@class=\"product-price\"]')\n",
    "len(price_tag)"
   ]
  },
  {
   "cell_type": "code",
   "execution_count": 102,
   "id": "2a902d3a",
   "metadata": {},
   "outputs": [
    {
     "data": {
      "text/plain": [
       "['Rs. 7149Rs. 12999(45% OFF)',\n",
       " 'Rs. 7799Rs. 12999(40% OFF)',\n",
       " 'Rs. 7149Rs. 12999(45% OFF)',\n",
       " 'Rs. 9265Rs. 10900(15% OFF)',\n",
       " 'Rs. 7999Rs. 9999(20% OFF)',\n",
       " 'Rs. 10999',\n",
       " 'Rs. 11999',\n",
       " 'Rs. 8990',\n",
       " 'Rs. 9999',\n",
       " 'Rs. 10115Rs. 11900(15% OFF)',\n",
       " 'Rs. 8399Rs. 11999(30% OFF)',\n",
       " 'Rs. 7999Rs. 9999(20% OFF)',\n",
       " 'Rs. 8399Rs. 11999(30% OFF)',\n",
       " 'Rs. 7990',\n",
       " 'Rs. 7990',\n",
       " 'Rs. 7149Rs. 10999(35% OFF)',\n",
       " 'Rs. 8990',\n",
       " 'Rs. 13175Rs. 15500(15% OFF)',\n",
       " 'Rs. 12665Rs. 14900(15% OFF)',\n",
       " 'Rs. 12665Rs. 14900(15% OFF)',\n",
       " 'Rs. 9546Rs. 12900(26% OFF)',\n",
       " 'Rs. 8925Rs. 10500(15% OFF)',\n",
       " 'Rs. 8999',\n",
       " 'Rs. 7500Rs. 9500(Rs. 2000 OFF)',\n",
       " 'Rs. 9999',\n",
       " 'Rs. 7199Rs. 8999(20% OFF)',\n",
       " 'Rs. 7990',\n",
       " 'Rs. 7699',\n",
       " 'Rs. 8490',\n",
       " 'Rs. 8990',\n",
       " 'Rs. 8990',\n",
       " 'Rs. 9999',\n",
       " 'Rs. 7999',\n",
       " 'Rs. 10990',\n",
       " 'Rs. 8990',\n",
       " 'Rs. 10115Rs. 11900(15% OFF)',\n",
       " 'Rs. 7499',\n",
       " 'Rs. 11999',\n",
       " 'Rs. 8999',\n",
       " 'Rs. 13999',\n",
       " 'Rs. 8999',\n",
       " 'Rs. 8990',\n",
       " 'Rs. 7999',\n",
       " 'Rs. 9999',\n",
       " 'Rs. 8999',\n",
       " 'Rs. 8910Rs. 9900(Rs. 990 OFF)',\n",
       " 'Rs. 9999',\n",
       " 'Rs. 11990',\n",
       " 'Rs. 11815Rs. 13900(15% OFF)',\n",
       " 'Rs. 9265Rs. 10900(15% OFF)']"
      ]
     },
     "execution_count": 102,
     "metadata": {},
     "output_type": "execute_result"
    }
   ],
   "source": [
    "price = []\n",
    "for i in price_tag:\n",
    "    price.append(i.text)\n",
    "len(price)\n",
    "price"
   ]
  },
  {
   "cell_type": "code",
   "execution_count": 103,
   "id": "19e88334",
   "metadata": {},
   "outputs": [
    {
     "data": {
      "text/plain": [
       "<selenium.webdriver.remote.webelement.WebElement (session=\"21106be105004e811aead9684880d19c\", element=\"1d75bbf5-a22b-4e6e-9fa1-33f787b07aef\")>"
      ]
     },
     "execution_count": 103,
     "metadata": {},
     "output_type": "execute_result"
    }
   ],
   "source": [
    "nxt = driver.find_element_by_xpath('/html/body/div[2]/div/div/main/div[3]/div[2]/div/div[2]/section/div[2]/ul/li[12]')\n",
    "nxt"
   ]
  },
  {
   "cell_type": "code",
   "execution_count": 104,
   "id": "5d1b7afa",
   "metadata": {},
   "outputs": [],
   "source": [
    "nxt.click()"
   ]
  },
  {
   "cell_type": "code",
   "execution_count": 105,
   "id": "100c9d93",
   "metadata": {},
   "outputs": [
    {
     "data": {
      "text/plain": [
       "50"
      ]
     },
     "execution_count": 105,
     "metadata": {},
     "output_type": "execute_result"
    }
   ],
   "source": [
    "brnd = driver.find_elements_by_xpath('//h3[@class=\"product-brand\"]')\n",
    "len(brnd)"
   ]
  },
  {
   "cell_type": "code",
   "execution_count": 106,
   "id": "ce510e3f",
   "metadata": {},
   "outputs": [
    {
     "data": {
      "text/plain": [
       "['Saint G',\n",
       " 'Delize',\n",
       " 'Pavers England',\n",
       " 'Skechers',\n",
       " 'Skechers',\n",
       " 'RARE RABBIT',\n",
       " 'Pavers England',\n",
       " 'Cole Haan',\n",
       " 'Geox',\n",
       " 'Cole Haan',\n",
       " 'Delize',\n",
       " 'DAVINCHI',\n",
       " 'Pavers England',\n",
       " 'Pavers England',\n",
       " 'Delize',\n",
       " 'Delize',\n",
       " 'Geox',\n",
       " 'Pavers England',\n",
       " 'Saint G',\n",
       " 'Delize',\n",
       " 'Heel & Buckle London',\n",
       " 'ROSSO BRUNELLO',\n",
       " 'Saint G',\n",
       " 'Saint G',\n",
       " 'Saint G',\n",
       " 'Saint G',\n",
       " 'Saint G',\n",
       " 'Saint G',\n",
       " 'Saint G',\n",
       " 'Saint G',\n",
       " 'Saint G',\n",
       " 'Saint G',\n",
       " 'Geox',\n",
       " 'MANGO',\n",
       " 'fitflop',\n",
       " 'Delize',\n",
       " 'Saint G',\n",
       " 'Delize',\n",
       " 'Cole Haan',\n",
       " 'Columbia',\n",
       " 'Hush Puppies',\n",
       " 'Nike',\n",
       " 'Hush Puppies',\n",
       " 'Hush Puppies',\n",
       " 'Nike',\n",
       " 'Nike',\n",
       " 'ROSSO BRUNELLO',\n",
       " 'Hush Puppies',\n",
       " 'Hush Puppies',\n",
       " 'ROSSO BRUNELLO']"
      ]
     },
     "execution_count": 106,
     "metadata": {},
     "output_type": "execute_result"
    }
   ],
   "source": [
    "Brand = []\n",
    "for i in brnd:\n",
    "    Brand.append(i.text)\n",
    "Brand"
   ]
  },
  {
   "cell_type": "code",
   "execution_count": 107,
   "id": "b91848d9",
   "metadata": {},
   "outputs": [
    {
     "data": {
      "text/plain": [
       "50"
      ]
     },
     "execution_count": 107,
     "metadata": {},
     "output_type": "execute_result"
    }
   ],
   "source": [
    "#Scraping shoes description\n",
    "desc = driver.find_elements_by_xpath('//h4[@class=\"product-product\"]')\n",
    "len(desc)"
   ]
  },
  {
   "cell_type": "code",
   "execution_count": 108,
   "id": "60583ebe",
   "metadata": {},
   "outputs": [
    {
     "data": {
      "text/plain": [
       "['Women Leather Heeled Boots',\n",
       " 'Men Colourblocked Sneakers',\n",
       " 'Men Leather Driving Shoes',\n",
       " 'Men STAMINA AIRY Sneakers',\n",
       " 'Men UNO 2 Sneakers',\n",
       " 'Men Leather Slip-On Sneakers',\n",
       " 'Men Printed PU Slip-On Sneakers',\n",
       " 'Women Open Toe Flats',\n",
       " 'Women Solid Leather Ballerinas',\n",
       " 'Women Solid Leather Ballerinas',\n",
       " 'Leather Block Heeled Boots with Buckles',\n",
       " 'Men Textured Leather Formal Slip-Ons',\n",
       " 'Men Solid Leather Formal Loafers',\n",
       " 'Men Textured Leather Formal Slip-On Shoes',\n",
       " 'Block Heeled Boots with Buckles',\n",
       " 'Leather Platform Heeled Boots',\n",
       " 'Women Chunky Sneakers',\n",
       " 'Men Solid Leather Formal Derbys',\n",
       " 'Leather Kitten Heeled Boots',\n",
       " 'Party Block Heeled Boots with Buckles',\n",
       " 'Men Solid Leather Formal Loafers',\n",
       " 'Men Textured Leather Formal Loafers',\n",
       " 'Suede High-Top Flatform Heeled Boots',\n",
       " 'Leather Platform Heeled Boots',\n",
       " 'Textured Leather Party Kitten Heeled Boots',\n",
       " 'Leather Block Heeled Boots with Bows',\n",
       " 'Leather Boots with Buckles',\n",
       " 'Woman Black Leather Boots',\n",
       " 'Women High-Top Heeled Boots',\n",
       " 'Leather Block Heeled Boots with Buckles',\n",
       " 'Embellished Flatform Boots',\n",
       " 'Leather Block Heeled Boots',\n",
       " 'Women Leather High-Top Flat Boots',\n",
       " 'Women Leather Penny Loafers',\n",
       " 'Women Textured Slip-On Sneakers',\n",
       " 'Women Platform Heeled Boots',\n",
       " 'Leather Block Heeled Boots',\n",
       " 'Woman Black Heeled Boots',\n",
       " 'Women Leather Sneakers',\n",
       " 'Women REDMOND V2 TrekkingShoe',\n",
       " 'Men Solid Leather Formal Slip-Ons',\n",
       " \"Men BlazerLow '77 Sneakers\",\n",
       " 'Men Formal Derbys',\n",
       " 'Men Solid Leather Formal Derbys',\n",
       " 'Men AIR ZOOM PEGASUS 38',\n",
       " 'Men Zoom Span 4 Running Shoes',\n",
       " 'Men Leather Loafers',\n",
       " 'Men Leather Derbys',\n",
       " 'Men Solid Leather Formal Slip-Ons',\n",
       " 'Men Solid Boat Shoes']"
      ]
     },
     "execution_count": 108,
     "metadata": {},
     "output_type": "execute_result"
    }
   ],
   "source": [
    "description = []\n",
    "for i in desc:\n",
    "    description.append(i.text)\n",
    "len(description)\n",
    "description"
   ]
  },
  {
   "cell_type": "code",
   "execution_count": 110,
   "id": "2143f35d",
   "metadata": {},
   "outputs": [
    {
     "data": {
      "text/plain": [
       "50"
      ]
     },
     "execution_count": 110,
     "metadata": {},
     "output_type": "execute_result"
    }
   ],
   "source": [
    "#Scraping product price\n",
    "price_tag = driver.find_elements_by_xpath('//div[@class=\"product-price\"]')\n",
    "len(price_tag)"
   ]
  },
  {
   "cell_type": "code",
   "execution_count": 111,
   "id": "8a956508",
   "metadata": {},
   "outputs": [
    {
     "data": {
      "text/plain": [
       "['Rs. 10115Rs. 11900(15% OFF)',\n",
       " 'Rs. 7599',\n",
       " 'Rs. 7499',\n",
       " 'Rs. 7999',\n",
       " 'Rs. 7499',\n",
       " 'Rs. 7999',\n",
       " 'Rs. 11999',\n",
       " 'Rs. 11999',\n",
       " 'Rs. 8999',\n",
       " 'Rs. 13999',\n",
       " 'Rs. 8099',\n",
       " 'Rs. 8990',\n",
       " 'Rs. 7999',\n",
       " 'Rs. 9999',\n",
       " 'Rs. 8099',\n",
       " 'Rs. 8099',\n",
       " 'Rs. 9999',\n",
       " 'Rs. 8999',\n",
       " 'Rs. 8910Rs. 9900(Rs. 990 OFF)',\n",
       " 'Rs. 8099',\n",
       " 'Rs. 11990',\n",
       " 'Rs. 11999',\n",
       " 'Rs. 11475Rs. 13500(15% OFF)',\n",
       " 'Rs. 9265Rs. 10900(15% OFF)',\n",
       " 'Rs. 11954Rs. 13900(14% OFF)',\n",
       " 'Rs. 11815Rs. 13900(15% OFF)',\n",
       " 'Rs. 8505Rs. 10500(19% OFF)',\n",
       " 'Rs. 10625Rs. 12500(15% OFF)',\n",
       " 'Rs. 9869Rs. 13900(29% OFF)',\n",
       " 'Rs. 9265Rs. 10900(15% OFF)',\n",
       " 'Rs. 8505Rs. 10500(19% OFF)',\n",
       " 'Rs. 9810Rs. 10900(Rs. 1090 OFF)',\n",
       " 'Rs. 10499Rs. 14999(30% OFF)',\n",
       " 'Rs. 7191Rs. 7990(10% OFF)',\n",
       " 'Rs. 7999',\n",
       " 'Rs. 9999',\n",
       " 'Rs. 14025Rs. 16500(15% OFF)',\n",
       " 'Rs. 9999',\n",
       " 'Rs. 10999',\n",
       " 'Rs. 7999',\n",
       " 'Rs. 8099Rs. 8999(10% OFF)',\n",
       " 'Rs. 7195',\n",
       " 'Rs. 8999Rs. 9999(10% OFF)',\n",
       " 'Rs. 8999Rs. 9999(10% OFF)',\n",
       " 'Rs. 8046Rs. 11495(30% OFF)',\n",
       " 'Rs. 7195',\n",
       " 'Rs. 7599Rs. 9499(20% OFF)',\n",
       " 'Rs. 7199Rs. 7999(10% OFF)',\n",
       " 'Rs. 8999Rs. 9999(10% OFF)',\n",
       " 'Rs. 7199Rs. 8999(20% OFF)']"
      ]
     },
     "execution_count": 111,
     "metadata": {},
     "output_type": "execute_result"
    }
   ],
   "source": [
    "price = []\n",
    "for i in price_tag:\n",
    "    price.append(i.text)\n",
    "len(price)\n",
    "price"
   ]
  },
  {
   "cell_type": "markdown",
   "id": "31075f99",
   "metadata": {},
   "source": [
    "Here we have Scraped 100 shoes, price , Brand and Description"
   ]
  },
  {
   "cell_type": "markdown",
   "id": "0cd2fe97",
   "metadata": {},
   "source": [
    "# Answer no 8"
   ]
  },
  {
   "cell_type": "code",
   "execution_count": 121,
   "id": "4b2a1e9a",
   "metadata": {},
   "outputs": [],
   "source": [
    "link = 'https://www.amazon.in/'\n",
    "driver.get(link)"
   ]
  },
  {
   "cell_type": "code",
   "execution_count": 122,
   "id": "6ad85e32",
   "metadata": {},
   "outputs": [
    {
     "data": {
      "text/plain": [
       "<selenium.webdriver.remote.webelement.WebElement (session=\"325469dda717b9055258cca44267064c\", element=\"440ef061-8890-4198-9edc-3ae216cd3e79\")>"
      ]
     },
     "execution_count": 122,
     "metadata": {},
     "output_type": "execute_result"
    }
   ],
   "source": [
    "search_Product = driver.find_element_by_xpath('/html/body/div[1]/header/div/div[1]/div[2]/div/form/div[2]/div[1]/input')\n",
    "search_Product"
   ]
  },
  {
   "cell_type": "code",
   "execution_count": 123,
   "id": "651a2c94",
   "metadata": {},
   "outputs": [],
   "source": [
    "search_Product.send_keys(\"Laptop\")"
   ]
  },
  {
   "cell_type": "code",
   "execution_count": 124,
   "id": "69d84273",
   "metadata": {},
   "outputs": [
    {
     "data": {
      "text/plain": [
       "<selenium.webdriver.remote.webelement.WebElement (session=\"325469dda717b9055258cca44267064c\", element=\"e4e78b2c-e920-41d5-bc66-a21c387504e2\")>"
      ]
     },
     "execution_count": 124,
     "metadata": {},
     "output_type": "execute_result"
    }
   ],
   "source": [
    "search_btn = driver.find_element_by_xpath('/html/body/div[1]/header/div/div[1]/div[2]/div/form/div[3]/div/span/input')\n",
    "search_btn"
   ]
  },
  {
   "cell_type": "code",
   "execution_count": 125,
   "id": "1ae42c59",
   "metadata": {},
   "outputs": [],
   "source": [
    "search_btn.click()"
   ]
  },
  {
   "cell_type": "code",
   "execution_count": 127,
   "id": "0fadee9f",
   "metadata": {},
   "outputs": [],
   "source": [
    "corei7 = driver.find_element_by_xpath('/html/body/div[1]/div[2]/div[1]/div[2]/div/div[3]/span/div[1]/span/div/div/div[6]/ul[1]/li[13]/span/a/span')\n",
    "corei7.click()"
   ]
  },
  {
   "cell_type": "code",
   "execution_count": 129,
   "id": "e7580788",
   "metadata": {},
   "outputs": [
    {
     "data": {
      "text/plain": [
       "30"
      ]
     },
     "execution_count": 129,
     "metadata": {},
     "output_type": "execute_result"
    }
   ],
   "source": [
    "#Scraping Laptops title \n",
    "title_tag = driver.find_elements_by_xpath('//span[@class=\"a-size-medium a-color-base a-text-normal\"]')\n",
    "len(title_tag)"
   ]
  },
  {
   "cell_type": "code",
   "execution_count": 130,
   "id": "d9f305a8",
   "metadata": {},
   "outputs": [
    {
     "data": {
      "text/plain": [
       "['LG Gram 17-inches Ultra-Light Intel Evo 11th Gen Core i7,16 GB RAM, 512 GB SSD, New Win-11 Preload, Iris Xe Graphics, USC -C x 2 (with Power), 1.35 kg, 3 Yr Warranty (17Z90P-G.AH85A2, Black)',\n",
       " 'LG Gram 16-inches Ultra-Light Intel Evo 11th Gen Core i7,16 GB RAM, 512 GB SSD, New Win-11 Preload, Iris Xe Graphics, USC -C x 2 (with Power), 1.19 kg, 3 Yr Warranty (16Z90P-G.AH85A2, Black)',\n",
       " 'Mi Notebook Horizon Edition 14 Intel Core i7-10510U 10th Gen Thin and Light Laptop(8GB/512GB SSD/Windows 10/Nvidia MX350 2GB Graphics/Grey/1.35Kg)(Without Webcam) XMA1904-AF',\n",
       " 'Lenovo ThinkBook 13s Intel 11th Gen Core i7 13.3\"(33.78 cm) WQXGA IPS 300 nits 100% sRGB Dolby Vision Thin and Light Laptop (16GB/512GB SSD/Windows 10/MS Office/FPR/Mineral Grey/1.26 Kg), 20V9A05FIH',\n",
       " 'LG Gram 17-inches Ultra-Light Intel Evo 11th Gen Core i7,16 GB RAM, 512 GB SSD, New Win-11 Preload, Iris Xe Graphics, USC -C x 2 (with Power), 1.35 kg, 3 Yr Warranty (17Z90P-G.AH85A2, Black)',\n",
       " 'Dell 14 (2021) i7-1195G7 2in1 Touch Screen Laptop, 16GB, 512Gb SSD, Win 11 + MSO\\'21, 14\" (35.56 cms) FHD, Platinum Silver Color, FPR + Backlit KB & Active Pen (Inspiron 5410, D560629WIN9S)',\n",
       " 'ASUS TUF Dash F15 (2021) 15.6-inch (39.62 cms) FHD 144Hz, Intel Core i7-11370H 11th Gen, RTX 3050 Ti 4GB Graphics, Gaming Laptop (16GB/1TB SSD/Office 2019/Windows 10/Gray/2 Kg), FX516PEZ-HN105TS',\n",
       " 'Fujitsu UH-X 11th Gen Intel Core i7 13.3 inches FHD IPS 400Nits 2-in1 Touch Convertible Business Laptop (16GB/1TB SSD/Windows 11/MS Office 2021/Iris Xe Graphics/Backlit Kb/Black/0.997 kg, 4ZR1F38027)',\n",
       " 'Fujitsu UH-X 11th Gen Intel i7 Core 13.3” (33.78cm) FHD IPS 400Nits Thin & Light Laptop (16GB/512GB SSD/Windows 11/Office 2021/Iris Xe Graphics/Backlit Kb/ Fingerprint Reader/Black/878gms), 4ZR1F38024',\n",
       " 'ASUS TUF Dash F15 (2021), 15.6\" (39.62 cms) FHD 144Hz, Intel Core i7-11370H 11th Gen, RTX 3050 Ti 4GB Graphics, Gaming Laptop (16GB/1TB SSD/Office 2019/Windows 10/Eclipse Gray/2 kg), FX516PE-HN088TS',\n",
       " 'ASUS VivoBook 14 (2021), 14-inch (35.56 cms) FHD, Intel Core i7-1065G7 10th Gen, Thin and Light Laptop (16GB/512GB SSD/Integrated Graphics/Office 2021/Windows 11/Silver/1.6 Kg), X415JA-EK701WS',\n",
       " 'Acer Nitro 5 AN515-57 Gaming Laptop | Intel Core i7-11800H |NVIDIA GeForce RTX 3050 Ti Laptop Graphics |15.6\" FHD 144Hz IPS Display |16GB DDR4 |256GB SSD+1TB HDD |Killer Wi-Fi 6 |RGB Backlit Keyboard',\n",
       " 'MSI GF75 Thin Gaming, Intel i7-10750H, 17.3\" (43.9 cm) FHD IPS-Level 144Hz Panel Laptop (8GB/512GB NVMe SSD/Windows 10 Home/Nvidia GTX1650 4GB GDDR6/Black/2.2Kg), 10SCXR-654IN',\n",
       " 'Lenovo IdeaPad Flex 5 11th Gen Intel Core i7 14\" FHD 2-in-1 Convertible Laptop (16 GB/512GB SDD/Windows 11/MS Office 2021/Backlit Keyboard /Graphite Grey/1.5Kg), 82HS00W4IN',\n",
       " 'Mi Notebook Horizon Edition 14 Intel Core i7-10510U 10th Gen Thin and Light Laptop(8GB/512GB SSD/Windows 10/Nvidia MX350 2GB Graphics/Grey/1.35Kg)(Without Webcam) XMA1904-AF',\n",
       " 'HP Pavilion 13, 11th Gen Intel Core i7, 13.3-inch(33.8 cm) FHD,IPS, Micro-Edge Laptop (16GB RAM/ 1TB SSD/ Win 10/ FPR/Audio B&O/Alexa Built-in/MS Office/ Ceramic White/ 1.24 Kg) -13-bb0078TU',\n",
       " 'HP Envy x360 11th Gen Intel Core i7 13.3-inch(33.8 cm) OLED Touchscreen Convertible Laptop (16GB/512GB SSD/Windows 11 Home/MS Office 2019/Fingerprint Reader/Natural Silver/1.32kg), 13-bd0515TU',\n",
       " 'ASUS VivoBook K15 OLED (2021), 15.6-inch (39.62 cms) FHD OLED, Intel Core i7-1165G7 11th Gen, Thin and Light Laptop (16GB/512GB SSD/Iris Xe Graphics/Office 2021/Windows 11/Silver/1.8 Kg) K513EA-L712WS',\n",
       " 'ASUS TUF Dash F15 (2021) 15.6-inch (39.62 cms) FHD 144Hz, Intel Core i7-11370H 11th Gen, RTX 3060 6GB Graphics, Gaming Laptop (16GB/512GB SSD/Office 2019/Windows 10/Gray/2 Kg), FX516PM-HN175TS',\n",
       " 'ASUS TUF Dash F15 (2021), 15.6-inch (39.62 cms) FHD 144Hz, Intel Core i7-11370H 11th Gen, RTX 3050 4GB Graphics Gaming Laptop (16GB RAM/512GB SSD/Windows 10/White/2 kg), FX516PC-HN062T',\n",
       " 'HP Pavilion 13, 11th Gen Intel Core i7, 13.3-inch(33.8 cm) FHD,IPS, Micro-Edge Laptop (16GB RAM/ 1TB SSD/ Win 10/ FPR/Audio B&O/Alexa Built-in/MS Office/ Ceramic White/ 1.24 Kg) -13-bb0078TU',\n",
       " 'HP Envy 11th Gen Intel Core i7 14-inch(35.6 cm) WUXGA Thin & Light Laptop (16GB RAM/1TB SSD/4GB Graphics/Windows 10/MS Office/Finger Print Reader/Natural Silver/1.59 Kg), 14-eb0021TX',\n",
       " 'Lenovo Yoga 7 11th Gen Intel Core i7 14\"(35.56cm) FHD IPS 2-in-1 Touchscreen Convertible Laptop(16GB/512GB SSD/Windows 11/Office 2021/Lenovo Digital Pen/Slate Grey/Aluminium Surface/1.43Kg),82BH00HWIN',\n",
       " 'HP Pavilion 14, Intel 11th Gen Core i7 16GB RAM/1TB SSD 14-inch Laptop, FHD Micro-Edge Anti-Glare Display/Iris Xᵉ Graphics/Backlit KB/B&O Audio/Fingerprint Reader/ Win 11 Ready/1.41kg, 14-dv0058TU',\n",
       " 'ASUS TUF Dash F15 (2021), 15.6-inch (39.62 cms) FHD 144Hz, Intel Core i7-11370H 11th Gen, RTX 3050 4GB Graphics Gaming Laptop (16GB RAM/512GB SSD/Windows 10/Gray/2 kg), FX516PC-HN063T',\n",
       " '(Renewed) Dell Latitude E6430 14.1 Inch Business Laptop computer, Intel Dual Core i7-3520M 2.9Ghz Processor, 16GB RAM, 240GB SSD, DVD, Rj-45, HDMI, Windows 10 Professional',\n",
       " 'Dell 14 (2021) i7-1195G7 2in1 Touch Screen Laptop, 16GB, 512GB SSD, Win 10 + MS Office, 14.0\" (35.56 cms) FHD Display, Backlit KB, FPR + Active Pen, Platinum Silver (Inspiron 5410, D560596WIN9S)',\n",
       " 'Dell 15 (2021) i7-11800H Gaming Laptop, 16GB, 1TB SSD, Win 10 + MSO, NVIDIA RTX 3060 6GB, 15.6\" (39.62 cms) FHD 300 nits 360Hz, Backlit KB + Alien FX, Lunar Light (Alienware x15 R1, D569927WIN9)',\n",
       " 'Acer Nitro 5 11th Gen Intel Core i5-11400H 15.6\" (39.62cms) FHD 144Hz Gaming Laptop (8 GB/512GB SSD/Win 10/4 GB Graphics/NVIDIA GeForce GTX 1650/Shale Black, 2.2 kg/RGB Backlit Keyboard) AN515-57',\n",
       " 'Dell 14 (2021) Inspiron 5410 Intel i7-1165G7 14 inches 16Gb RAM, 512Gb SSD, FHD Display, Windows 10 + MSO, Backlit KB + FPR + Active Pen, 2in1 Touch Screen Laptop - Silver Metal, 1.5 kg, D560469WIN9S']"
      ]
     },
     "execution_count": 130,
     "metadata": {},
     "output_type": "execute_result"
    }
   ],
   "source": [
    "Title = []\n",
    "for i in title_tag:\n",
    "    Title.append(i.text)\n",
    "Title"
   ]
  },
  {
   "cell_type": "code",
   "execution_count": 131,
   "id": "b4e1bf88",
   "metadata": {},
   "outputs": [
    {
     "data": {
      "text/plain": [
       "['LG Gram 17-inches Ultra-Light Intel Evo 11th Gen Core i7,16 GB RAM, 512 GB SSD, New Win-11 Preload, Iris Xe Graphics, USC -C x 2 (with Power), 1.35 kg, 3 Yr Warranty (17Z90P-G.AH85A2, Black)',\n",
       " 'LG Gram 16-inches Ultra-Light Intel Evo 11th Gen Core i7,16 GB RAM, 512 GB SSD, New Win-11 Preload, Iris Xe Graphics, USC -C x 2 (with Power), 1.19 kg, 3 Yr Warranty (16Z90P-G.AH85A2, Black)',\n",
       " 'Mi Notebook Horizon Edition 14 Intel Core i7-10510U 10th Gen Thin and Light Laptop(8GB/512GB SSD/Windows 10/Nvidia MX350 2GB Graphics/Grey/1.35Kg)(Without Webcam) XMA1904-AF',\n",
       " 'Lenovo ThinkBook 13s Intel 11th Gen Core i7 13.3\"(33.78 cm) WQXGA IPS 300 nits 100% sRGB Dolby Vision Thin and Light Laptop (16GB/512GB SSD/Windows 10/MS Office/FPR/Mineral Grey/1.26 Kg), 20V9A05FIH',\n",
       " 'LG Gram 17-inches Ultra-Light Intel Evo 11th Gen Core i7,16 GB RAM, 512 GB SSD, New Win-11 Preload, Iris Xe Graphics, USC -C x 2 (with Power), 1.35 kg, 3 Yr Warranty (17Z90P-G.AH85A2, Black)',\n",
       " 'Dell 14 (2021) i7-1195G7 2in1 Touch Screen Laptop, 16GB, 512Gb SSD, Win 11 + MSO\\'21, 14\" (35.56 cms) FHD, Platinum Silver Color, FPR + Backlit KB & Active Pen (Inspiron 5410, D560629WIN9S)',\n",
       " 'ASUS TUF Dash F15 (2021) 15.6-inch (39.62 cms) FHD 144Hz, Intel Core i7-11370H 11th Gen, RTX 3050 Ti 4GB Graphics, Gaming Laptop (16GB/1TB SSD/Office 2019/Windows 10/Gray/2 Kg), FX516PEZ-HN105TS',\n",
       " 'Fujitsu UH-X 11th Gen Intel Core i7 13.3 inches FHD IPS 400Nits 2-in1 Touch Convertible Business Laptop (16GB/1TB SSD/Windows 11/MS Office 2021/Iris Xe Graphics/Backlit Kb/Black/0.997 kg, 4ZR1F38027)',\n",
       " 'Fujitsu UH-X 11th Gen Intel i7 Core 13.3” (33.78cm) FHD IPS 400Nits Thin & Light Laptop (16GB/512GB SSD/Windows 11/Office 2021/Iris Xe Graphics/Backlit Kb/ Fingerprint Reader/Black/878gms), 4ZR1F38024',\n",
       " 'ASUS TUF Dash F15 (2021), 15.6\" (39.62 cms) FHD 144Hz, Intel Core i7-11370H 11th Gen, RTX 3050 Ti 4GB Graphics, Gaming Laptop (16GB/1TB SSD/Office 2019/Windows 10/Eclipse Gray/2 kg), FX516PE-HN088TS']"
      ]
     },
     "execution_count": 131,
     "metadata": {},
     "output_type": "execute_result"
    }
   ],
   "source": [
    "Titles = Title[0:10]\n",
    "Titles"
   ]
  },
  {
   "cell_type": "code",
   "execution_count": 132,
   "id": "8c949da4",
   "metadata": {},
   "outputs": [
    {
     "data": {
      "text/plain": [
       "29"
      ]
     },
     "execution_count": 132,
     "metadata": {},
     "output_type": "execute_result"
    }
   ],
   "source": [
    "#Scraping Laptops Price \n",
    "price_tag = driver.find_elements_by_xpath('//span[@class=\"a-price-whole\"]')\n",
    "len(price_tag)"
   ]
  },
  {
   "cell_type": "code",
   "execution_count": 133,
   "id": "53e55418",
   "metadata": {},
   "outputs": [
    {
     "data": {
      "text/plain": [
       "['94,999',\n",
       " '90,999',\n",
       " '49,990',\n",
       " '79,990',\n",
       " '94,999',\n",
       " '88,890',\n",
       " '90,990',\n",
       " '1,02,490',\n",
       " '87,490',\n",
       " '90,990',\n",
       " '59,990',\n",
       " '89,490',\n",
       " '69,990',\n",
       " '86,990',\n",
       " '49,990',\n",
       " '87,990',\n",
       " '99,999',\n",
       " '90,859',\n",
       " '1,09,990',\n",
       " '84,990',\n",
       " '87,990',\n",
       " '1,22,860',\n",
       " '99,990',\n",
       " '97,000',\n",
       " '82,990',\n",
       " '36,898',\n",
       " '2,40,990',\n",
       " '69,990',\n",
       " '93,990']"
      ]
     },
     "execution_count": 133,
     "metadata": {},
     "output_type": "execute_result"
    }
   ],
   "source": [
    "price = []\n",
    "for i in price_tag:\n",
    "    price.append(i.text)\n",
    "price"
   ]
  },
  {
   "cell_type": "code",
   "execution_count": 134,
   "id": "91855445",
   "metadata": {},
   "outputs": [
    {
     "data": {
      "text/plain": [
       "['94,999',\n",
       " '90,999',\n",
       " '49,990',\n",
       " '79,990',\n",
       " '94,999',\n",
       " '88,890',\n",
       " '90,990',\n",
       " '1,02,490',\n",
       " '87,490',\n",
       " '90,990']"
      ]
     },
     "execution_count": 134,
     "metadata": {},
     "output_type": "execute_result"
    }
   ],
   "source": [
    "Price= price[0:10]\n",
    "Price"
   ]
  },
  {
   "cell_type": "code",
   "execution_count": 149,
   "id": "5ee8556f",
   "metadata": {},
   "outputs": [
    {
     "data": {
      "text/plain": [
       "32"
      ]
     },
     "execution_count": 149,
     "metadata": {},
     "output_type": "execute_result"
    }
   ],
   "source": [
    "#Scraping Laptops Rating \n",
    "rating_tag = driver.find_elements_by_xpath('//span[@class=\"a-icon-alt\"]')\n",
    "len(rating_tag)"
   ]
  },
  {
   "cell_type": "code",
   "execution_count": 150,
   "id": "80cd5b2e",
   "metadata": {},
   "outputs": [
    {
     "data": {
      "text/plain": [
       "['',\n",
       " '',\n",
       " '',\n",
       " '',\n",
       " '',\n",
       " '',\n",
       " '',\n",
       " '',\n",
       " '',\n",
       " '',\n",
       " '',\n",
       " '',\n",
       " '',\n",
       " '',\n",
       " '',\n",
       " '',\n",
       " '',\n",
       " '',\n",
       " '',\n",
       " '',\n",
       " '',\n",
       " '',\n",
       " '',\n",
       " '',\n",
       " '',\n",
       " '',\n",
       " '',\n",
       " '',\n",
       " '',\n",
       " '',\n",
       " '',\n",
       " '']"
      ]
     },
     "execution_count": 150,
     "metadata": {},
     "output_type": "execute_result"
    }
   ],
   "source": [
    "rating = []\n",
    "for i in rating_tag:\n",
    "    rating.append(i.text)\n",
    "rating"
   ]
  },
  {
   "cell_type": "code",
   "execution_count": null,
   "id": "b96680f9",
   "metadata": {},
   "outputs": [],
   "source": []
  },
  {
   "cell_type": "markdown",
   "id": "689afe80",
   "metadata": {},
   "source": [
    "# Answer no. 9"
   ]
  },
  {
   "cell_type": "code",
   "execution_count": 152,
   "id": "5e422635",
   "metadata": {},
   "outputs": [],
   "source": [
    "driver =webdriver.Chrome(r'C:\\Users\\abhic\\Downloads\\chromedriver_win32\\chromedriver.exe')"
   ]
  },
  {
   "cell_type": "code",
   "execution_count": 6,
   "id": "92876f24",
   "metadata": {},
   "outputs": [],
   "source": [
    "link = 'https://www.ambitionbox.com'\n",
    "driver.get(link)"
   ]
  },
  {
   "cell_type": "code",
   "execution_count": 7,
   "id": "598fdcce",
   "metadata": {},
   "outputs": [
    {
     "data": {
      "text/plain": [
       "<selenium.webdriver.remote.webelement.WebElement (session=\"3a0ef74860d17ef2ebd98057b2b21f0e\", element=\"1d3fe467-44bf-4a28-a22e-fdc1bef2f24b\")>"
      ]
     },
     "execution_count": 7,
     "metadata": {},
     "output_type": "execute_result"
    }
   ],
   "source": [
    "jobs = driver.find_element_by_xpath('/html/body/div[1]/nav/nav/a[6]')\n",
    "jobs"
   ]
  },
  {
   "cell_type": "code",
   "execution_count": 8,
   "id": "2af22e53",
   "metadata": {},
   "outputs": [],
   "source": [
    "jobs.click()"
   ]
  },
  {
   "cell_type": "code",
   "execution_count": 9,
   "id": "9f58b7eb",
   "metadata": {},
   "outputs": [
    {
     "data": {
      "text/plain": [
       "<selenium.webdriver.remote.webelement.WebElement (session=\"3a0ef74860d17ef2ebd98057b2b21f0e\", element=\"ee87d1b7-4ad7-4b25-8311-ef0248d669c1\")>"
      ]
     },
     "execution_count": 9,
     "metadata": {},
     "output_type": "execute_result"
    }
   ],
   "source": [
    "search_Product = driver.find_element_by_xpath('/html/body/div/div/div/div[2]/div[1]/div/div/div/div/span/input')\n",
    "search_Product"
   ]
  },
  {
   "cell_type": "code",
   "execution_count": 10,
   "id": "822ce165",
   "metadata": {},
   "outputs": [],
   "source": [
    "search_Product.send_keys(\"Data Scientist\")"
   ]
  },
  {
   "cell_type": "code",
   "execution_count": 11,
   "id": "c67aaa54",
   "metadata": {},
   "outputs": [
    {
     "data": {
      "text/plain": [
       "<selenium.webdriver.remote.webelement.WebElement (session=\"3a0ef74860d17ef2ebd98057b2b21f0e\", element=\"1d1e5cef-5bd6-4450-951f-d0b89e050343\")>"
      ]
     },
     "execution_count": 11,
     "metadata": {},
     "output_type": "execute_result"
    }
   ],
   "source": [
    "search = driver.find_element_by_xpath('/html/body/div/div/div/div[2]/div[1]/div/div/div/button/span')\n",
    "search"
   ]
  },
  {
   "cell_type": "code",
   "execution_count": 14,
   "id": "f009a83e",
   "metadata": {},
   "outputs": [],
   "source": [
    "search.click()"
   ]
  },
  {
   "cell_type": "code",
   "execution_count": 22,
   "id": "578c7f68",
   "metadata": {},
   "outputs": [
    {
     "data": {
      "text/plain": [
       "<selenium.webdriver.remote.webelement.WebElement (session=\"3a0ef74860d17ef2ebd98057b2b21f0e\", element=\"e47ade58-7c67-4e64-9aeb-d607d4ef4111\")>"
      ]
     },
     "execution_count": 22,
     "metadata": {},
     "output_type": "execute_result"
    }
   ],
   "source": [
    "#entering location \n",
    "loc = driver.find_element_by_xpath('/html/body/div/div/div/div[2]/div[2]/div[1]/div/div/div/div[2]/div[2]/div/div[2]/input')\n",
    "loc"
   ]
  },
  {
   "cell_type": "code",
   "execution_count": 23,
   "id": "542d72ab",
   "metadata": {},
   "outputs": [],
   "source": [
    "loc.send_keys(\"Noida\")"
   ]
  },
  {
   "cell_type": "code",
   "execution_count": 24,
   "id": "d05a71d0",
   "metadata": {},
   "outputs": [],
   "source": [
    "loc.click()"
   ]
  },
  {
   "cell_type": "code",
   "execution_count": 39,
   "id": "98be317e",
   "metadata": {},
   "outputs": [
    {
     "data": {
      "text/plain": [
       "10"
      ]
     },
     "execution_count": 39,
     "metadata": {},
     "output_type": "execute_result"
    }
   ],
   "source": [
    "#Extracting the company name \n",
    "com = driver.find_elements_by_xpath('//p[@class=\"company body-medium\"]')\n",
    "len(com)"
   ]
  },
  {
   "cell_type": "code",
   "execution_count": 40,
   "id": "fdf47414",
   "metadata": {},
   "outputs": [
    {
     "data": {
      "text/plain": [
       "10"
      ]
     },
     "execution_count": 40,
     "metadata": {},
     "output_type": "execute_result"
    }
   ],
   "source": [
    "Com_name = []\n",
    "\n",
    "for i in com:\n",
    "    Com_name.append(i.text)\n",
    "    \n",
    "len(Com_name)"
   ]
  },
  {
   "cell_type": "code",
   "execution_count": 41,
   "id": "7197105e",
   "metadata": {},
   "outputs": [
    {
     "data": {
      "text/plain": [
       "['Ameriprise Financial',\n",
       " 'Paytm',\n",
       " 'Jubilant Foodworks Limited',\n",
       " 'CHT Sapiense',\n",
       " 'CHT Sapiense',\n",
       " 'GI Group',\n",
       " 'GI Group',\n",
       " 'GI Group',\n",
       " 'RMS Risk Management Solutions',\n",
       " 'Paytm']"
      ]
     },
     "execution_count": 41,
     "metadata": {},
     "output_type": "execute_result"
    }
   ],
   "source": [
    "Com_name"
   ]
  },
  {
   "cell_type": "code",
   "execution_count": 31,
   "id": "7a7b92aa",
   "metadata": {},
   "outputs": [
    {
     "data": {
      "text/plain": [
       "20"
      ]
     },
     "execution_count": 31,
     "metadata": {},
     "output_type": "execute_result"
    }
   ],
   "source": [
    "#Extracting the days before job posted\n",
    "posted = driver.find_elements_by_xpath('//span[@class=\"body-small-l\"]')\n",
    "len(posted)"
   ]
  },
  {
   "cell_type": "code",
   "execution_count": 32,
   "id": "8cc0e8d0",
   "metadata": {},
   "outputs": [
    {
     "data": {
      "text/plain": [
       "20"
      ]
     },
     "execution_count": 32,
     "metadata": {},
     "output_type": "execute_result"
    }
   ],
   "source": [
    "days = []\n",
    "\n",
    "for i in posted:\n",
    "    days.append(i.text)\n",
    "    \n",
    "len(days)"
   ]
  },
  {
   "cell_type": "code",
   "execution_count": 33,
   "id": "b8fcc93d",
   "metadata": {},
   "outputs": [
    {
     "data": {
      "text/plain": [
       "['2d ago',\n",
       " '8d ago',\n",
       " '25d ago',\n",
       " '9d ago',\n",
       " '10d ago',\n",
       " '21d ago',\n",
       " '21d ago',\n",
       " '21d ago',\n",
       " '3d ago',\n",
       " '29d ago']"
      ]
     },
     "execution_count": 33,
     "metadata": {},
     "output_type": "execute_result"
    }
   ],
   "source": [
    "Posted_days = days[0:20:2]\n",
    "Posted_days"
   ]
  },
  {
   "cell_type": "code",
   "execution_count": 34,
   "id": "3a37f601",
   "metadata": {},
   "outputs": [
    {
     "data": {
      "text/plain": [
       "10"
      ]
     },
     "execution_count": 34,
     "metadata": {},
     "output_type": "execute_result"
    }
   ],
   "source": [
    "#extrecting the rating \n",
    "rate = driver.find_elements_by_xpath('//span[@class=\"body-small\"]')\n",
    "len(rate)"
   ]
  },
  {
   "cell_type": "code",
   "execution_count": 35,
   "id": "0cd4f8e4",
   "metadata": {},
   "outputs": [
    {
     "data": {
      "text/plain": [
       "10"
      ]
     },
     "execution_count": 35,
     "metadata": {},
     "output_type": "execute_result"
    }
   ],
   "source": [
    "rating = []\n",
    "\n",
    "for i in rate:\n",
    "    rating.append(i.text)\n",
    "    \n",
    "len(rating)"
   ]
  },
  {
   "cell_type": "code",
   "execution_count": 36,
   "id": "1e1f2e00",
   "metadata": {},
   "outputs": [
    {
     "data": {
      "text/plain": [
       "['4.0', '3.7', '3.9', '3.7', '3.7', '4.1', '4.1', '4.1', '3.5', '3.7']"
      ]
     },
     "execution_count": 36,
     "metadata": {},
     "output_type": "execute_result"
    }
   ],
   "source": [
    "rating"
   ]
  },
  {
   "cell_type": "code",
   "execution_count": 42,
   "id": "013d3df7",
   "metadata": {},
   "outputs": [
    {
     "data": {
      "text/html": [
       "<div>\n",
       "<style scoped>\n",
       "    .dataframe tbody tr th:only-of-type {\n",
       "        vertical-align: middle;\n",
       "    }\n",
       "\n",
       "    .dataframe tbody tr th {\n",
       "        vertical-align: top;\n",
       "    }\n",
       "\n",
       "    .dataframe thead th {\n",
       "        text-align: right;\n",
       "    }\n",
       "</style>\n",
       "<table border=\"1\" class=\"dataframe\">\n",
       "  <thead>\n",
       "    <tr style=\"text-align: right;\">\n",
       "      <th></th>\n",
       "      <th>COMPANY</th>\n",
       "      <th>Days</th>\n",
       "      <th>Rating</th>\n",
       "    </tr>\n",
       "  </thead>\n",
       "  <tbody>\n",
       "    <tr>\n",
       "      <th>0</th>\n",
       "      <td>Ameriprise Financial</td>\n",
       "      <td>2d ago</td>\n",
       "      <td>4.0</td>\n",
       "    </tr>\n",
       "    <tr>\n",
       "      <th>1</th>\n",
       "      <td>Paytm</td>\n",
       "      <td>8d ago</td>\n",
       "      <td>3.7</td>\n",
       "    </tr>\n",
       "    <tr>\n",
       "      <th>2</th>\n",
       "      <td>Jubilant Foodworks Limited</td>\n",
       "      <td>25d ago</td>\n",
       "      <td>3.9</td>\n",
       "    </tr>\n",
       "    <tr>\n",
       "      <th>3</th>\n",
       "      <td>CHT Sapiense</td>\n",
       "      <td>9d ago</td>\n",
       "      <td>3.7</td>\n",
       "    </tr>\n",
       "    <tr>\n",
       "      <th>4</th>\n",
       "      <td>CHT Sapiense</td>\n",
       "      <td>10d ago</td>\n",
       "      <td>3.7</td>\n",
       "    </tr>\n",
       "    <tr>\n",
       "      <th>5</th>\n",
       "      <td>GI Group</td>\n",
       "      <td>21d ago</td>\n",
       "      <td>4.1</td>\n",
       "    </tr>\n",
       "    <tr>\n",
       "      <th>6</th>\n",
       "      <td>GI Group</td>\n",
       "      <td>21d ago</td>\n",
       "      <td>4.1</td>\n",
       "    </tr>\n",
       "    <tr>\n",
       "      <th>7</th>\n",
       "      <td>GI Group</td>\n",
       "      <td>21d ago</td>\n",
       "      <td>4.1</td>\n",
       "    </tr>\n",
       "    <tr>\n",
       "      <th>8</th>\n",
       "      <td>RMS Risk Management Solutions</td>\n",
       "      <td>3d ago</td>\n",
       "      <td>3.5</td>\n",
       "    </tr>\n",
       "    <tr>\n",
       "      <th>9</th>\n",
       "      <td>Paytm</td>\n",
       "      <td>29d ago</td>\n",
       "      <td>3.7</td>\n",
       "    </tr>\n",
       "  </tbody>\n",
       "</table>\n",
       "</div>"
      ],
      "text/plain": [
       "                         COMPANY     Days Rating\n",
       "0           Ameriprise Financial   2d ago    4.0\n",
       "1                          Paytm   8d ago    3.7\n",
       "2     Jubilant Foodworks Limited  25d ago    3.9\n",
       "3                   CHT Sapiense   9d ago    3.7\n",
       "4                   CHT Sapiense  10d ago    3.7\n",
       "5                       GI Group  21d ago    4.1\n",
       "6                       GI Group  21d ago    4.1\n",
       "7                       GI Group  21d ago    4.1\n",
       "8  RMS Risk Management Solutions   3d ago    3.5\n",
       "9                          Paytm  29d ago    3.7"
      ]
     },
     "execution_count": 42,
     "metadata": {},
     "output_type": "execute_result"
    }
   ],
   "source": [
    "Dataframe = pd.DataFrame()\n",
    "\n",
    "Dataframe['COMPANY'] = Com_name\n",
    "Dataframe['Days'] = Posted_days\n",
    "Dataframe['Rating'] = rating\n",
    "\n",
    "Dataframe"
   ]
  },
  {
   "cell_type": "markdown",
   "id": "ff22a585",
   "metadata": {},
   "source": [
    "#  Answer no 10"
   ]
  },
  {
   "cell_type": "code",
   "execution_count": 154,
   "id": "b8038c46",
   "metadata": {},
   "outputs": [],
   "source": [
    "link = 'https://www.ambitionbox.com'\n",
    "driver.get(link)"
   ]
  },
  {
   "cell_type": "code",
   "execution_count": 155,
   "id": "aa542ddb",
   "metadata": {},
   "outputs": [
    {
     "data": {
      "text/plain": [
       "<selenium.webdriver.remote.webelement.WebElement (session=\"65ac6d5106e57de2ceaadec76ea58a16\", element=\"913f9a96-b052-42ad-b1ce-cfaddedb37da\")>"
      ]
     },
     "execution_count": 155,
     "metadata": {},
     "output_type": "execute_result"
    }
   ],
   "source": [
    "salary = driver.find_element_by_xpath('/html/body/div[1]/nav/nav/a[4]')\n",
    "salary"
   ]
  },
  {
   "cell_type": "code",
   "execution_count": 156,
   "id": "8deb1d0d",
   "metadata": {},
   "outputs": [],
   "source": [
    "salary.click()"
   ]
  },
  {
   "cell_type": "code",
   "execution_count": 157,
   "id": "cf3c5263",
   "metadata": {},
   "outputs": [
    {
     "data": {
      "text/plain": [
       "<selenium.webdriver.remote.webelement.WebElement (session=\"65ac6d5106e57de2ceaadec76ea58a16\", element=\"ebc91333-4084-4ddf-96a9-8664073c594a\")>"
      ]
     },
     "execution_count": 157,
     "metadata": {},
     "output_type": "execute_result"
    }
   ],
   "source": [
    "# Entering Data Scientist in search bar.\n",
    "search_Product = driver.find_element_by_xpath('/html/body/div/div/div/main/section[1]/div[2]/div[1]/span/input')\n",
    "search_Product"
   ]
  },
  {
   "cell_type": "code",
   "execution_count": 158,
   "id": "c46ff70f",
   "metadata": {},
   "outputs": [],
   "source": [
    "search_Product.send_keys(\"Data Scientist\")"
   ]
  },
  {
   "cell_type": "code",
   "execution_count": 159,
   "id": "0892e822",
   "metadata": {},
   "outputs": [],
   "source": [
    "search_Product.click()"
   ]
  },
  {
   "cell_type": "code",
   "execution_count": 160,
   "id": "a4c81662",
   "metadata": {},
   "outputs": [
    {
     "data": {
      "text/plain": [
       "10"
      ]
     },
     "execution_count": 160,
     "metadata": {},
     "output_type": "execute_result"
    }
   ],
   "source": [
    "#Extracting company names\n",
    "com = driver.find_elements_by_xpath('//div[@class=\"name\"]')\n",
    "len(com)"
   ]
  },
  {
   "cell_type": "code",
   "execution_count": 161,
   "id": "b615f229",
   "metadata": {},
   "outputs": [
    {
     "data": {
      "text/plain": [
       "10"
      ]
     },
     "execution_count": 161,
     "metadata": {},
     "output_type": "execute_result"
    }
   ],
   "source": [
    "Comp = []\n",
    "\n",
    "for i in com:\n",
    "    Comp.append(i.text)\n",
    "    \n",
    "len(Comp)"
   ]
  },
  {
   "cell_type": "code",
   "execution_count": 162,
   "id": "b619f2fe",
   "metadata": {},
   "outputs": [
    {
     "data": {
      "text/plain": [
       "['Tekion\\nbased on 10 salaries',\n",
       " 'Microsoft Corporation\\nbased on 224 salaries',\n",
       " 'Goldman Sachs\\nbased on 11 salaries',\n",
       " 'Flipkart\\nbased on 54 salaries',\n",
       " 'Amazon\\nbased on 85 salaries',\n",
       " 'Arcesium\\nbased on 37 salaries',\n",
       " 'PayPal\\nbased on 12 salaries',\n",
       " 'Servicenow Software Development India\\nbased on 27 salaries',\n",
       " 'Walmart\\nbased on 79 salaries',\n",
       " 'ServiceNow\\nbased on 16 salaries']"
      ]
     },
     "execution_count": 162,
     "metadata": {},
     "output_type": "execute_result"
    }
   ],
   "source": [
    "Comp"
   ]
  },
  {
   "cell_type": "code",
   "execution_count": 163,
   "id": "81788a3c",
   "metadata": {},
   "outputs": [
    {
     "data": {
      "text/plain": [
       "20"
      ]
     },
     "execution_count": 163,
     "metadata": {},
     "output_type": "execute_result"
    }
   ],
   "source": [
    "# Salary\n",
    "avg_slr = driver.find_elements_by_xpath('//div[@class=\"value body-medium\"]')\n",
    "len(avg_slr)"
   ]
  },
  {
   "cell_type": "code",
   "execution_count": 164,
   "id": "af04db47",
   "metadata": {},
   "outputs": [
    {
     "data": {
      "text/plain": [
       "['₹ 14.0L',\n",
       " '₹ 32.0L',\n",
       " '₹ 12.0L',\n",
       " '₹ 45.0L',\n",
       " '₹ 16.0L',\n",
       " '₹ 30.0L',\n",
       " '₹ 7.0L',\n",
       " '₹ 30.0L',\n",
       " '₹ 8.0L',\n",
       " '₹ 41.5L',\n",
       " '₹ 12.0L',\n",
       " '₹ 30.0L',\n",
       " '₹ 12.0L',\n",
       " '₹ 25.0L',\n",
       " '₹ 12.0L',\n",
       " '₹ 25.0L',\n",
       " '₹ 10.0L',\n",
       " '₹ 32.0L',\n",
       " '₹ 11.2L',\n",
       " '₹ 23.0L']"
      ]
     },
     "execution_count": 164,
     "metadata": {},
     "output_type": "execute_result"
    }
   ],
   "source": [
    "salary = []\n",
    "\n",
    "for i in avg_slr:\n",
    "    salary.append(i.text)\n",
    "    \n",
    "len(salary)\n",
    "salary"
   ]
  },
  {
   "cell_type": "code",
   "execution_count": 165,
   "id": "c7f42984",
   "metadata": {},
   "outputs": [
    {
     "data": {
      "text/plain": [
       "['₹ 14.0L',\n",
       " '₹ 12.0L',\n",
       " '₹ 16.0L',\n",
       " '₹ 7.0L',\n",
       " '₹ 8.0L',\n",
       " '₹ 12.0L',\n",
       " '₹ 12.0L',\n",
       " '₹ 12.0L',\n",
       " '₹ 10.0L',\n",
       " '₹ 11.2L']"
      ]
     },
     "execution_count": 165,
     "metadata": {},
     "output_type": "execute_result"
    }
   ],
   "source": [
    "min_salary = salary[0:20:2]\n",
    "min_salary"
   ]
  },
  {
   "cell_type": "code",
   "execution_count": 166,
   "id": "eeb815b4",
   "metadata": {},
   "outputs": [
    {
     "data": {
      "text/plain": [
       "['₹ 32.0L',\n",
       " '₹ 45.0L',\n",
       " '₹ 30.0L',\n",
       " '₹ 30.0L',\n",
       " '₹ 41.5L',\n",
       " '₹ 30.0L',\n",
       " '₹ 25.0L',\n",
       " '₹ 25.0L',\n",
       " '₹ 32.0L',\n",
       " '₹ 23.0L']"
      ]
     },
     "execution_count": 166,
     "metadata": {},
     "output_type": "execute_result"
    }
   ],
   "source": [
    "max_salary = salary[1:20:2]\n",
    "max_salary"
   ]
  },
  {
   "cell_type": "code",
   "execution_count": 167,
   "id": "8d246c77",
   "metadata": {},
   "outputs": [
    {
     "data": {
      "text/plain": [
       "10"
      ]
     },
     "execution_count": 167,
     "metadata": {},
     "output_type": "execute_result"
    }
   ],
   "source": [
    "avg_salary = driver.find_elements_by_xpath('//div[@class=\"average-indicator-wrapper\"]')\n",
    "len(avg_salary)"
   ]
  },
  {
   "cell_type": "code",
   "execution_count": 168,
   "id": "76dd4026",
   "metadata": {},
   "outputs": [
    {
     "data": {
      "text/plain": [
       "['₹ 23.3L',\n",
       " '₹ 22.4L',\n",
       " '₹ 21.9L',\n",
       " '₹ 20.6L',\n",
       " '₹ 19.4L',\n",
       " '₹ 18.5L',\n",
       " '₹ 18.4L',\n",
       " '₹ 18.3L',\n",
       " '₹ 17.9L',\n",
       " '₹ 17.8L']"
      ]
     },
     "execution_count": 168,
     "metadata": {},
     "output_type": "execute_result"
    }
   ],
   "source": [
    "avgsalary = []\n",
    "\n",
    "for i in avg_salary:\n",
    "    avgsalary.append(i.text)\n",
    "    \n",
    "len(avgsalary)\n",
    "avgsalary"
   ]
  },
  {
   "cell_type": "code",
   "execution_count": 170,
   "id": "d06ffc21",
   "metadata": {},
   "outputs": [
    {
     "data": {
      "text/plain": [
       "10"
      ]
     },
     "execution_count": 170,
     "metadata": {},
     "output_type": "execute_result"
    }
   ],
   "source": [
    "salary_record = driver.find_elements_by_xpath('//div[@class=\"salaries sbold-list-header\"]')\n",
    "len(salary_record)"
   ]
  },
  {
   "cell_type": "code",
   "execution_count": 172,
   "id": "a77fa7b0",
   "metadata": {},
   "outputs": [
    {
     "data": {
      "text/plain": [
       "['Data Scientist . 3 yrs exp',\n",
       " 'Data Scientist . 3-4 yrs exp',\n",
       " 'Data Scientist . 2 yrs exp',\n",
       " 'Data Scientist . 2-4 yrs exp',\n",
       " 'Data Scientist . 3-4 yrs exp',\n",
       " 'Data Scientist . 2-4 yrs exp',\n",
       " 'Data Scientist . 3-4 yrs exp',\n",
       " 'Data Scientist . 4 yrs exp',\n",
       " 'Data Scientist . 4 yrs exp',\n",
       " 'Data Scientist . 3-4 yrs exp']"
      ]
     },
     "execution_count": 172,
     "metadata": {},
     "output_type": "execute_result"
    }
   ],
   "source": [
    "Salary_record = []\n",
    "\n",
    "for i in salary_record:\n",
    "    Salary_record.append(i.text.replace('\\n',\"\"))\n",
    "    \n",
    "len(Salary_record)\n",
    "Salary_record"
   ]
  },
  {
   "cell_type": "code",
   "execution_count": 176,
   "id": "c2393178",
   "metadata": {},
   "outputs": [
    {
     "data": {
      "text/html": [
       "<div>\n",
       "<style scoped>\n",
       "    .dataframe tbody tr th:only-of-type {\n",
       "        vertical-align: middle;\n",
       "    }\n",
       "\n",
       "    .dataframe tbody tr th {\n",
       "        vertical-align: top;\n",
       "    }\n",
       "\n",
       "    .dataframe thead th {\n",
       "        text-align: right;\n",
       "    }\n",
       "</style>\n",
       "<table border=\"1\" class=\"dataframe\">\n",
       "  <thead>\n",
       "    <tr style=\"text-align: right;\">\n",
       "      <th></th>\n",
       "      <th>COMPANY</th>\n",
       "      <th>Min. Salary</th>\n",
       "      <th>Max. Salary</th>\n",
       "      <th>Avg. Salary</th>\n",
       "      <th>Records</th>\n",
       "    </tr>\n",
       "  </thead>\n",
       "  <tbody>\n",
       "    <tr>\n",
       "      <th>0</th>\n",
       "      <td>Tekion\\nbased on 10 salaries</td>\n",
       "      <td>₹ 14.0L</td>\n",
       "      <td>₹ 32.0L</td>\n",
       "      <td>₹ 23.3L</td>\n",
       "      <td>Data Scientist . 3 yrs exp</td>\n",
       "    </tr>\n",
       "    <tr>\n",
       "      <th>1</th>\n",
       "      <td>Microsoft Corporation\\nbased on 224 salaries</td>\n",
       "      <td>₹ 12.0L</td>\n",
       "      <td>₹ 45.0L</td>\n",
       "      <td>₹ 22.4L</td>\n",
       "      <td>Data Scientist . 3-4 yrs exp</td>\n",
       "    </tr>\n",
       "    <tr>\n",
       "      <th>2</th>\n",
       "      <td>Goldman Sachs\\nbased on 11 salaries</td>\n",
       "      <td>₹ 16.0L</td>\n",
       "      <td>₹ 30.0L</td>\n",
       "      <td>₹ 21.9L</td>\n",
       "      <td>Data Scientist . 2 yrs exp</td>\n",
       "    </tr>\n",
       "    <tr>\n",
       "      <th>3</th>\n",
       "      <td>Flipkart\\nbased on 54 salaries</td>\n",
       "      <td>₹ 7.0L</td>\n",
       "      <td>₹ 30.0L</td>\n",
       "      <td>₹ 20.6L</td>\n",
       "      <td>Data Scientist . 2-4 yrs exp</td>\n",
       "    </tr>\n",
       "    <tr>\n",
       "      <th>4</th>\n",
       "      <td>Amazon\\nbased on 85 salaries</td>\n",
       "      <td>₹ 8.0L</td>\n",
       "      <td>₹ 41.5L</td>\n",
       "      <td>₹ 19.4L</td>\n",
       "      <td>Data Scientist . 3-4 yrs exp</td>\n",
       "    </tr>\n",
       "    <tr>\n",
       "      <th>5</th>\n",
       "      <td>Arcesium\\nbased on 37 salaries</td>\n",
       "      <td>₹ 12.0L</td>\n",
       "      <td>₹ 30.0L</td>\n",
       "      <td>₹ 18.5L</td>\n",
       "      <td>Data Scientist . 2-4 yrs exp</td>\n",
       "    </tr>\n",
       "    <tr>\n",
       "      <th>6</th>\n",
       "      <td>PayPal\\nbased on 12 salaries</td>\n",
       "      <td>₹ 12.0L</td>\n",
       "      <td>₹ 25.0L</td>\n",
       "      <td>₹ 18.4L</td>\n",
       "      <td>Data Scientist . 3-4 yrs exp</td>\n",
       "    </tr>\n",
       "    <tr>\n",
       "      <th>7</th>\n",
       "      <td>Servicenow Software Development India\\nbased o...</td>\n",
       "      <td>₹ 12.0L</td>\n",
       "      <td>₹ 25.0L</td>\n",
       "      <td>₹ 18.3L</td>\n",
       "      <td>Data Scientist . 4 yrs exp</td>\n",
       "    </tr>\n",
       "    <tr>\n",
       "      <th>8</th>\n",
       "      <td>Walmart\\nbased on 79 salaries</td>\n",
       "      <td>₹ 10.0L</td>\n",
       "      <td>₹ 32.0L</td>\n",
       "      <td>₹ 17.9L</td>\n",
       "      <td>Data Scientist . 4 yrs exp</td>\n",
       "    </tr>\n",
       "    <tr>\n",
       "      <th>9</th>\n",
       "      <td>ServiceNow\\nbased on 16 salaries</td>\n",
       "      <td>₹ 11.2L</td>\n",
       "      <td>₹ 23.0L</td>\n",
       "      <td>₹ 17.8L</td>\n",
       "      <td>Data Scientist . 3-4 yrs exp</td>\n",
       "    </tr>\n",
       "  </tbody>\n",
       "</table>\n",
       "</div>"
      ],
      "text/plain": [
       "                                             COMPANY Min. Salary Max. Salary  \\\n",
       "0                       Tekion\\nbased on 10 salaries     ₹ 14.0L     ₹ 32.0L   \n",
       "1       Microsoft Corporation\\nbased on 224 salaries     ₹ 12.0L     ₹ 45.0L   \n",
       "2                Goldman Sachs\\nbased on 11 salaries     ₹ 16.0L     ₹ 30.0L   \n",
       "3                     Flipkart\\nbased on 54 salaries      ₹ 7.0L     ₹ 30.0L   \n",
       "4                       Amazon\\nbased on 85 salaries      ₹ 8.0L     ₹ 41.5L   \n",
       "5                     Arcesium\\nbased on 37 salaries     ₹ 12.0L     ₹ 30.0L   \n",
       "6                       PayPal\\nbased on 12 salaries     ₹ 12.0L     ₹ 25.0L   \n",
       "7  Servicenow Software Development India\\nbased o...     ₹ 12.0L     ₹ 25.0L   \n",
       "8                      Walmart\\nbased on 79 salaries     ₹ 10.0L     ₹ 32.0L   \n",
       "9                   ServiceNow\\nbased on 16 salaries     ₹ 11.2L     ₹ 23.0L   \n",
       "\n",
       "  Avg. Salary                       Records  \n",
       "0     ₹ 23.3L    Data Scientist . 3 yrs exp  \n",
       "1     ₹ 22.4L  Data Scientist . 3-4 yrs exp  \n",
       "2     ₹ 21.9L    Data Scientist . 2 yrs exp  \n",
       "3     ₹ 20.6L  Data Scientist . 2-4 yrs exp  \n",
       "4     ₹ 19.4L  Data Scientist . 3-4 yrs exp  \n",
       "5     ₹ 18.5L  Data Scientist . 2-4 yrs exp  \n",
       "6     ₹ 18.4L  Data Scientist . 3-4 yrs exp  \n",
       "7     ₹ 18.3L    Data Scientist . 4 yrs exp  \n",
       "8     ₹ 17.9L    Data Scientist . 4 yrs exp  \n",
       "9     ₹ 17.8L  Data Scientist . 3-4 yrs exp  "
      ]
     },
     "execution_count": 176,
     "metadata": {},
     "output_type": "execute_result"
    }
   ],
   "source": [
    "df = pd.DataFrame()\n",
    "\n",
    "df['COMPANY'] = Comp\n",
    "df['Min. Salary'] = min_salary\n",
    "df['Max. Salary'] = max_salary\n",
    "df['Avg. Salary'] = avgsalary\n",
    "df['Records'] = Salary_record\n",
    "df"
   ]
  },
  {
   "cell_type": "code",
   "execution_count": null,
   "id": "f264a170",
   "metadata": {},
   "outputs": [],
   "source": []
  },
  {
   "cell_type": "code",
   "execution_count": null,
   "id": "87be153b",
   "metadata": {},
   "outputs": [],
   "source": []
  },
  {
   "cell_type": "code",
   "execution_count": null,
   "id": "0ef49d14",
   "metadata": {},
   "outputs": [],
   "source": []
  },
  {
   "cell_type": "code",
   "execution_count": null,
   "id": "89330e58",
   "metadata": {},
   "outputs": [],
   "source": []
  },
  {
   "cell_type": "code",
   "execution_count": null,
   "id": "47efb49c",
   "metadata": {},
   "outputs": [],
   "source": []
  }
 ],
 "metadata": {
  "kernelspec": {
   "display_name": "Python 3",
   "language": "python",
   "name": "python3"
  },
  "language_info": {
   "codemirror_mode": {
    "name": "ipython",
    "version": 3
   },
   "file_extension": ".py",
   "mimetype": "text/x-python",
   "name": "python",
   "nbconvert_exporter": "python",
   "pygments_lexer": "ipython3",
   "version": "3.8.8"
  }
 },
 "nbformat": 4,
 "nbformat_minor": 5
}
